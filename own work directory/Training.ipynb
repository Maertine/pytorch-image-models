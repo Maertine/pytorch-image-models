{
 "cells": [
  {
   "cell_type": "code",
   "id": "initial_id",
   "metadata": {
    "collapsed": true,
    "ExecuteTime": {
     "end_time": "2024-11-05T13:21:25.288515Z",
     "start_time": "2024-11-05T13:21:17.849304Z"
    }
   },
   "source": [
    "# Imports\n",
    "import torch\n",
    "import torch.nn as nn\n",
    "import torch.optim as optim\n",
    "import torch.nn.functional as F\n",
    "from torchvision import datasets, transforms\n",
    "from torch.utils.data import DataLoader\n",
    "import wandb\n",
    "from utils import *"
   ],
   "outputs": [],
   "execution_count": 1
  },
  {
   "metadata": {
    "ExecuteTime": {
     "end_time": "2024-11-05T13:21:29.363094Z",
     "start_time": "2024-11-05T13:21:29.279365Z"
    }
   },
   "cell_type": "code",
   "source": [
    "# Define transforms for the training and test sets\n",
    "transform = transforms.Compose([\n",
    "    transforms.ToTensor(),\n",
    "    transforms.Normalize((0.5,), (0.5,))\n",
    "])\n",
    "\n",
    "# Load the datasets\n",
    "train_dataset = datasets.MNIST(root='./data', train=True, download=True, transform=transform)\n",
    "test_dataset = datasets.MNIST(root='./data', train=False, download=True, transform=transform)\n",
    "\n",
    "train_dataset, val_dataset = torch.utils.data.random_split(train_dataset, [0.95,0.05], generator=torch.Generator().manual_seed(872))\n",
    "\n",
    "# Create DataLoader for batching\n",
    "train_loader = DataLoader(train_dataset, batch_size=64, shuffle=True, generator=torch.Generator().manual_seed(872))\n",
    "val_loader = DataLoader(val_dataset, batch_size=64, shuffle=True, generator=torch.Generator().manual_seed(872))\n",
    "test_loader = DataLoader(test_dataset, batch_size=1000, shuffle=False)"
   ],
   "id": "869c0524d97f1cc9",
   "outputs": [],
   "execution_count": 2
  },
  {
   "metadata": {
    "ExecuteTime": {
     "end_time": "2024-11-05T13:21:31.157387Z",
     "start_time": "2024-11-05T13:21:31.153468Z"
    }
   },
   "cell_type": "code",
   "source": [
    "class TeacherNetwork(nn.Module):\n",
    "    def __init__(self):\n",
    "        super(TeacherNetwork, self).__init__()\n",
    "        self.fc1 = nn.Linear(28 * 28, 1200)\n",
    "        self.fc2 = nn.Linear(1200, 1200)\n",
    "        self.fc3 = nn.Linear(1200, 10)\n",
    "        self.dropout_input = 0.2\n",
    "        self.dropout_hidden = 0.5\n",
    "        self.is_training = True\n",
    "\n",
    "    def forward(self, x):\n",
    "        x = x.view(-1, 28 * 28)\n",
    "        x = F.dropout(x, p=self.dropout_input, training=self.is_training)\n",
    "        x = F.dropout(F.relu(self.fc1(x)), p=self.dropout_hidden, training=self.is_training)\n",
    "        x = F.dropout(F.relu(self.fc2(x)), p=self.dropout_hidden, training=self.is_training)\n",
    "        x = self.fc3(x)\n",
    "        return x"
   ],
   "id": "dd8f9dd99f4b7804",
   "outputs": [],
   "execution_count": 3
  },
  {
   "metadata": {
    "ExecuteTime": {
     "end_time": "2024-11-05T13:21:57.780542Z",
     "start_time": "2024-11-05T13:21:39.442809Z"
    }
   },
   "cell_type": "code",
   "source": [
    "device = torch.device(\"cuda\" if torch.cuda.is_available() else \"cpu\")\n",
    "teacher_model = TeacherNetwork().to(device)\n",
    "optimizer = optim.SGD(teacher_model.parameters(), lr=1e-2, momentum=0.9, weight_decay=1e-5)\n",
    "num_epochs = 20\n",
    "\n",
    "wandb.init(\n",
    "    project=\"Renyi_Divergence_MNIST\",\n",
    "    name = \"Teacher Model\",\n",
    "    config={}\n",
    ")\n",
    "\n",
    "print(\"Starting training...\")\n",
    "\n",
    "for epoch in range(num_epochs):\n",
    "    print(f'---Epoch {epoch+1}---')\n",
    "    \n",
    "    train_loss, train_accuracy, size = 0, 0, 0\n",
    "    for i, (data, targets) in enumerate(train_loader):\n",
    "        data, targets = data.to(device), targets.to(device)\n",
    "        optimizer.zero_grad()\n",
    "        outputs = teacher_model(data)\n",
    "        loss = nn.CrossEntropyLoss()(outputs, targets)\n",
    "        loss.backward()\n",
    "        optimizer.step()\n",
    "        train_loss += loss.item() * targets.size(0)\n",
    "        train_accuracy += torch.sum(torch.argmax(outputs, dim=1) == targets).item()\n",
    "        size += targets.size(0)\n",
    "        \n",
    "    train_loss = train_loss/size\n",
    "    train_accuracy = train_accuracy/size\n",
    "    \n",
    "    print(f'Average Train Loss: {train_loss:.4f} \\t \\t Train Accuracy: {100*train_accuracy:.2f}%')\n",
    "    \n",
    "    teacher_model.is_training = False\n",
    "    \n",
    "    val_loss, val_accuracy, size = 0, 0, 0\n",
    "    for i, (data, targets) in enumerate(val_loader):\n",
    "        data, targets = data.to(device), targets.to(device)\n",
    "        with torch.no_grad():\n",
    "            pred = teacher_model(data)\n",
    "            val_loss += nn.CrossEntropyLoss()(pred, targets) * targets.shape[0]\n",
    "            val_accuracy += torch.sum(torch.argmax(pred, dim=1) == targets).item()\n",
    "        size += targets.shape[0]\n",
    "    \n",
    "    val_loss, val_accuracy = val_loss / size, val_accuracy / size\n",
    "    \n",
    "    print(f'Average Validation Loss: {val_loss:.4f} \\t Validation Accuracy: {100*val_accuracy:.2f}%')\n",
    "    \n",
    "    wandb.log({\"train_ce_loss\": train_loss,\n",
    "               \"val_ce_loss\": val_loss,\n",
    "               \"train_accuracy\": 100*train_accuracy,\n",
    "               \"val_accuracy\": 100*val_accuracy,\n",
    "               \"epoch\": epoch\n",
    "               }\n",
    "    )\n",
    "    \n",
    "    teacher_model.is_training = True\n",
    "\n",
    "teacher_model.is_training = False\n",
    "test_loss, test_accuracy, size = 0, 0, 0\n",
    "\n",
    "for i, (data, targets) in enumerate(test_loader):\n",
    "        data, targets = data.to(device), targets.to(device)\n",
    "        with torch.no_grad():\n",
    "            pred = teacher_model(data)\n",
    "            test_loss += nn.CrossEntropyLoss()(pred, targets) * targets.shape[0]\n",
    "            test_accuracy += torch.sum(torch.argmax(pred, dim=1) == targets).item()\n",
    "        size += targets.shape[0]\n",
    "\n",
    "test_loss, test_accuracy = test_loss / size, test_accuracy / size\n",
    "\n",
    "print(f'Training finished.')\n",
    "print(f'Average Validation Loss: {test_loss:.4f}\\t Validation Accuracy: {100*test_accuracy:.2f}%')\n",
    "\n",
    "wandb.finish()"
   ],
   "id": "c270df094d7c4223",
   "outputs": [
    {
     "name": "stderr",
     "output_type": "stream",
     "text": [
      "wandb: Using wandb-core as the SDK backend. Please refer to https://wandb.me/wandb-core for more information.\n",
      "wandb: Currently logged in as: martingratzer (martingratzer-organization). Use `wandb login --relogin` to force relogin\n"
     ]
    },
    {
     "data": {
      "text/plain": [
       "<IPython.core.display.HTML object>"
      ],
      "text/html": [
       "Tracking run with wandb version 0.18.3"
      ]
     },
     "metadata": {},
     "output_type": "display_data"
    },
    {
     "data": {
      "text/plain": [
       "<IPython.core.display.HTML object>"
      ],
      "text/html": [
       "Run data is saved locally in <code>C:\\Users\\Martin\\Documents\\School\\Thesis\\Git Repository\\pytorch-image-models\\own work directory\\wandb\\run-20241105_142141-ag9jclhv</code>"
      ]
     },
     "metadata": {},
     "output_type": "display_data"
    },
    {
     "data": {
      "text/plain": [
       "<IPython.core.display.HTML object>"
      ],
      "text/html": [
       "Syncing run <strong><a href='https://wandb.ai/martingratzer-organization/Renyi_Divergence_MNIST/runs/ag9jclhv' target=\"_blank\">Teacher Model</a></strong> to <a href='https://wandb.ai/martingratzer-organization/Renyi_Divergence_MNIST' target=\"_blank\">Weights & Biases</a> (<a href='https://wandb.me/run' target=\"_blank\">docs</a>)<br/>"
      ]
     },
     "metadata": {},
     "output_type": "display_data"
    },
    {
     "data": {
      "text/plain": [
       "<IPython.core.display.HTML object>"
      ],
      "text/html": [
       " View project at <a href='https://wandb.ai/martingratzer-organization/Renyi_Divergence_MNIST' target=\"_blank\">https://wandb.ai/martingratzer-organization/Renyi_Divergence_MNIST</a>"
      ]
     },
     "metadata": {},
     "output_type": "display_data"
    },
    {
     "data": {
      "text/plain": [
       "<IPython.core.display.HTML object>"
      ],
      "text/html": [
       " View run at <a href='https://wandb.ai/martingratzer-organization/Renyi_Divergence_MNIST/runs/ag9jclhv' target=\"_blank\">https://wandb.ai/martingratzer-organization/Renyi_Divergence_MNIST/runs/ag9jclhv</a>"
      ]
     },
     "metadata": {},
     "output_type": "display_data"
    },
    {
     "name": "stdout",
     "output_type": "stream",
     "text": [
      "Starting training...\n",
      "---Epoch 1---\n",
      "Average Train Loss: 0.5391 \t \t Train Accuracy: 82.59%\n",
      "Average Validation Loss: 0.2056 \t Validation Accuracy: 93.70%\n",
      "---Epoch 2---\n"
     ]
    },
    {
     "ename": "KeyboardInterrupt",
     "evalue": "",
     "output_type": "error",
     "traceback": [
      "\u001B[1;31m---------------------------------------------------------------------------\u001B[0m",
      "\u001B[1;31mKeyboardInterrupt\u001B[0m                         Traceback (most recent call last)",
      "Cell \u001B[1;32mIn[4], line 25\u001B[0m\n\u001B[0;32m     23\u001B[0m loss\u001B[38;5;241m.\u001B[39mbackward()\n\u001B[0;32m     24\u001B[0m optimizer\u001B[38;5;241m.\u001B[39mstep()\n\u001B[1;32m---> 25\u001B[0m train_loss \u001B[38;5;241m+\u001B[39m\u001B[38;5;241m=\u001B[39m \u001B[43mloss\u001B[49m\u001B[38;5;241;43m.\u001B[39;49m\u001B[43mitem\u001B[49m\u001B[43m(\u001B[49m\u001B[43m)\u001B[49m \u001B[38;5;241m*\u001B[39m targets\u001B[38;5;241m.\u001B[39msize(\u001B[38;5;241m0\u001B[39m)\n\u001B[0;32m     26\u001B[0m train_accuracy \u001B[38;5;241m+\u001B[39m\u001B[38;5;241m=\u001B[39m torch\u001B[38;5;241m.\u001B[39msum(torch\u001B[38;5;241m.\u001B[39margmax(outputs, dim\u001B[38;5;241m=\u001B[39m\u001B[38;5;241m1\u001B[39m) \u001B[38;5;241m==\u001B[39m targets)\u001B[38;5;241m.\u001B[39mitem()\n\u001B[0;32m     27\u001B[0m size \u001B[38;5;241m+\u001B[39m\u001B[38;5;241m=\u001B[39m targets\u001B[38;5;241m.\u001B[39msize(\u001B[38;5;241m0\u001B[39m)\n",
      "\u001B[1;31mKeyboardInterrupt\u001B[0m: "
     ]
    }
   ],
   "execution_count": 4
  },
  {
   "metadata": {
    "ExecuteTime": {
     "end_time": "2024-11-05T13:22:10.785986Z",
     "start_time": "2024-11-05T13:22:10.771974Z"
    }
   },
   "cell_type": "code",
   "source": [
    "class StudentNetwork(nn.Module):\n",
    "    def __init__(self):\n",
    "        super(StudentNetwork, self).__init__()\n",
    "        self.fc1 = nn.Linear(28 * 28, 250)\n",
    "        self.fc2 = nn.Linear(250, 10)\n",
    "        self.dropout_input = 0.1\n",
    "        self.dropout_hidden = 0.2\n",
    "        self.is_training = True\n",
    "\n",
    "    def forward(self, x):\n",
    "        x = x.view(-1, 28 * 28)  # Flatten the image\n",
    "        x = F.dropout(x, p=self.dropout_input, training=self.is_training)\n",
    "        x = F.dropout(F.relu(self.fc1(x)), p=self.dropout_hidden, training=self.is_training)\n",
    "        x = self.fc2(x)\n",
    "        return x\n"
   ],
   "id": "b0e5f423b4fe374c",
   "outputs": [],
   "execution_count": 5
  },
  {
   "metadata": {},
   "cell_type": "code",
   "outputs": [],
   "execution_count": null,
   "source": [
    "device = torch.device(\"cuda\" if torch.cuda.is_available() else \"cpu\")\n",
    "vanilla_model = StudentNetwork().to(device)\n",
    "optimizer = optim.SGD(vanilla_model.parameters(), lr=0.02, momentum=0.7, weight_decay=1e-4)\n",
    "num_epochs = 10\n",
    "\n",
    "wandb.init(\n",
    "    project=\"Renyi_Divergence_MNIST\",\n",
    "    name = \"Vanilla Model\",\n",
    "    config={}\n",
    ")\n",
    "\n",
    "print(\"Starting training...\")\n",
    "\n",
    "for epoch in range(num_epochs):\n",
    "    print(f'---Epoch {epoch+1}---')\n",
    "    \n",
    "    train_loss, train_accuracy, size = 0, 0, 0\n",
    "    for i, (data, targets) in enumerate(train_loader):\n",
    "        data, targets = data.to(device), targets.to(device)\n",
    "        optimizer.zero_grad()\n",
    "        outputs = vanilla_model(data)\n",
    "        loss = nn.CrossEntropyLoss()(outputs, targets)\n",
    "        loss.backward()\n",
    "        optimizer.step()\n",
    "        train_loss += loss.item() * targets.size(0)\n",
    "        train_accuracy += torch.sum(torch.argmax(outputs, dim=1) == targets).item()\n",
    "        size += targets.size(0)\n",
    "        \n",
    "    train_loss = train_loss/size\n",
    "    train_accuracy = train_accuracy/size\n",
    "    \n",
    "    print(f'Average Train Loss: {train_loss:.4f} \\t \\t Train Accuracy: {100*train_accuracy:.2f}%')\n",
    "    \n",
    "    vanilla_model.is_training = False\n",
    "    \n",
    "    val_loss, val_accuracy, size = 0, 0, 0\n",
    "    for i, (data, targets) in enumerate(val_loader):\n",
    "        data, targets = data.to(device), targets.to(device)\n",
    "        with torch.no_grad():\n",
    "            pred = vanilla_model(data)\n",
    "            val_loss += nn.CrossEntropyLoss()(pred, targets) * targets.shape[0]\n",
    "            val_accuracy += torch.sum(torch.argmax(pred, dim=1) == targets).item()\n",
    "        size += targets.shape[0]\n",
    "    \n",
    "    val_loss, val_accuracy = val_loss / size, val_accuracy / size\n",
    "    \n",
    "    print(f'Average Validation Loss: {val_loss:.4f} \\t Validation Accuracy: {100*val_accuracy:.2f}%')\n",
    "    \n",
    "    wandb.log({\"train_ce_loss\": train_loss,\n",
    "               \"val_ce_loss\": val_loss,\n",
    "               \"train_accuracy\": 100*train_accuracy,\n",
    "               \"val_accuracy\": 100*val_accuracy,\n",
    "               \"epoch\": epoch\n",
    "               }\n",
    "    )\n",
    "    \n",
    "    vanilla_model.is_training = True\n",
    "\n",
    "vanilla_model.is_training = False\n",
    "test_loss, test_accuracy, size = 0, 0, 0\n",
    "\n",
    "for i, (data, targets) in enumerate(test_loader):\n",
    "        data, targets = data.to(device), targets.to(device)\n",
    "        with torch.no_grad():\n",
    "            pred = vanilla_model(data)\n",
    "            test_loss += nn.CrossEntropyLoss()(pred, targets) * targets.shape[0]\n",
    "            test_accuracy += torch.sum(torch.argmax(pred, dim=1) == targets).item()\n",
    "        size += targets.shape[0]\n",
    "\n",
    "test_loss, test_accuracy = test_loss / size, test_accuracy / size\n",
    "\n",
    "print(f'Training finished.')\n",
    "print(f'Average Validation Loss: {test_loss:.4f}\\t Validation Accuracy: {100*test_accuracy:.2f}%')\n",
    "\n",
    "wandb.finish()"
   ],
   "id": "99558709dbf14b01"
  },
  {
   "metadata": {
    "ExecuteTime": {
     "end_time": "2024-11-05T13:22:50.524902Z",
     "start_time": "2024-11-05T13:22:16.910918Z"
    }
   },
   "cell_type": "code",
   "source": [
    "device = torch.device(\"cuda\" if torch.cuda.is_available() else \"cpu\")\n",
    "student_model = StudentNetwork().to(device)\n",
    "optimizer = optim.SGD(student_model.parameters(), lr=0.045, momentum=0.65, weight_decay=1e-4)\n",
    "num_epochs = 10\n",
    "temperature = 2.2\n",
    "beta = 0.55\n",
    "alpha = 1\n",
    "\n",
    "wandb.init(\n",
    "    project=\"Renyi_Divergence_MNIST\",\n",
    "    name = \"Student Model\",\n",
    "    config={\n",
    "        \"beta\": beta,\n",
    "        \"temperature\": temperature,\n",
    "        \"alpha\": alpha\n",
    "    }\n",
    ")\n",
    "\n",
    "print(\"Starting training...\")\n",
    "\n",
    "for epoch in range(num_epochs):\n",
    "    print(f'---Epoch {epoch+1}---')\n",
    "    \n",
    "    train_loss, train_accuracy, size, train_CE_loss = 0, 0, 0, 0\n",
    "    for i, (data, targets) in enumerate(train_loader):\n",
    "        data, targets = data.to(device), targets.to(device)\n",
    "        optimizer.zero_grad()\n",
    "        outputs = student_model(data)\n",
    "        with torch.no_grad():\n",
    "            teacher_outputs = teacher_model(data)\n",
    "        loss = (1-beta) * nn.CrossEntropyLoss()(outputs, targets) + beta * RenyiDivergence(alpha=alpha)(outputs/temperature, teacher_outputs/temperature) * (temperature**2) / alpha\n",
    "        CE_loss = nn.CrossEntropyLoss()(outputs, targets)     \n",
    "        loss.backward()\n",
    "        \n",
    "        optimizer.step()\n",
    "        train_loss += loss.item() * targets.size(0)\n",
    "        train_CE_loss += CE_loss.item() * targets.size(0)\n",
    "        train_accuracy += torch.sum(torch.argmax(outputs, dim=1) == targets).item()\n",
    "        size += targets.size(0)\n",
    "        \n",
    "    train_loss = train_loss/size\n",
    "    train_CE_loss = train_CE_loss/size\n",
    "    train_accuracy = train_accuracy/size\n",
    "    \n",
    "    print(f'Average Train Loss: {train_loss:.4f} \\t \\t Average Train CE Loss: {train_CE_loss:.4f} \\t \\t Train Accuracy: {100*train_accuracy:.2f}%')\n",
    "    \n",
    "    student_model.is_training = False\n",
    "    \n",
    "    val_loss, val_accuracy, size, val_CE_loss = 0, 0, 0, 0\n",
    "    for i, (data, targets) in enumerate(val_loader):\n",
    "        data, targets = data.to(device), targets.to(device)\n",
    "        with torch.no_grad():\n",
    "            pred = student_model(data)\n",
    "            teacher_pred = teacher_model(data)\n",
    "            val_loss += ((1-beta) * nn.CrossEntropyLoss()(pred, targets) + beta * RenyiDivergence(alpha=alpha)(pred/temperature, teacher_pred/temperature) * (temperature**2) / alpha) * targets.shape[0]\n",
    "            val_CE_loss += nn.CrossEntropyLoss()(pred, targets) * targets.shape[0]\n",
    "            val_accuracy += torch.sum(torch.argmax(pred, dim=1) == targets).item()\n",
    "        size += targets.shape[0]\n",
    "    \n",
    "    val_loss, val_accuracy, val_CE_loss = val_loss / size, val_accuracy / size, val_CE_loss/size\n",
    "    \n",
    "    print(f'Average Validation Loss: {val_loss:.4f} \\t Average Validation CE Loss: {val_CE_loss:.4f} \\t Validation Accuracy: {100*val_accuracy:.2f}%')\n",
    "    \n",
    "    wandb.log({\"train_loss\": train_loss,\n",
    "               \"train_ce_loss\": train_CE_loss,\n",
    "               \"val_loss\": val_loss,\n",
    "               \"val_ce_loss\": val_CE_loss,\n",
    "               \"train_accuracy\": 100*train_accuracy,\n",
    "               \"val_accuracy\": 100*val_accuracy,\n",
    "               \"epoch\": epoch\n",
    "               }\n",
    "    )\n",
    "    \n",
    "    student_model.is_training = True\n",
    "\n",
    "student_model.is_training = False\n",
    "test_loss, test_accuracy, size = 0, 0, 0\n",
    "\n",
    "for i, (data, targets) in enumerate(test_loader):\n",
    "        data, targets = data.to(device), targets.to(device)\n",
    "        with torch.no_grad():\n",
    "            pred = student_model(data)\n",
    "            test_loss += nn.CrossEntropyLoss()(pred, targets) * targets.shape[0]\n",
    "            test_accuracy += torch.sum(torch.argmax(pred, dim=1) == targets).item()\n",
    "        size += targets.shape[0]\n",
    "\n",
    "test_loss, test_accuracy = test_loss / size, test_accuracy / size\n",
    "\n",
    "print(f'Training finished.')\n",
    "print(f'Average Validation Loss: {test_loss:.4f}\\t Validation Accuracy: {100*test_accuracy:.2f}%')\n",
    "\n",
    "wandb.finish()"
   ],
   "id": "a969b4c78c42f9ec",
   "outputs": [
    {
     "data": {
      "text/plain": [
       "<IPython.core.display.HTML object>"
      ],
      "text/html": [
       "Finishing last run (ID:ag9jclhv) before initializing another..."
      ]
     },
     "metadata": {},
     "output_type": "display_data"
    },
    {
     "data": {
      "text/plain": [
       "<IPython.core.display.HTML object>"
      ],
      "text/html": [
       "<style>\n",
       "    table.wandb td:nth-child(1) { padding: 0 10px; text-align: left ; width: auto;} td:nth-child(2) {text-align: left ; width: 100%}\n",
       "    .wandb-row { display: flex; flex-direction: row; flex-wrap: wrap; justify-content: flex-start; width: 100% }\n",
       "    .wandb-col { display: flex; flex-direction: column; flex-basis: 100%; flex: 1; padding: 10px; }\n",
       "    </style>\n",
       "<div class=\"wandb-row\"><div class=\"wandb-col\"><h3>Run history:</h3><br/><table class=\"wandb\"><tr><td>epoch</td><td>▁</td></tr><tr><td>train_accuracy</td><td>▁</td></tr><tr><td>train_ce_loss</td><td>▁</td></tr><tr><td>val_accuracy</td><td>▁</td></tr><tr><td>val_ce_loss</td><td>▁</td></tr></table><br/></div><div class=\"wandb-col\"><h3>Run summary:</h3><br/><table class=\"wandb\"><tr><td>epoch</td><td>0</td></tr><tr><td>train_accuracy</td><td>82.58947</td></tr><tr><td>train_ce_loss</td><td>0.53911</td></tr><tr><td>val_accuracy</td><td>93.7</td></tr><tr><td>val_ce_loss</td><td>0.20564</td></tr></table><br/></div></div>"
      ]
     },
     "metadata": {},
     "output_type": "display_data"
    },
    {
     "data": {
      "text/plain": [
       "<IPython.core.display.HTML object>"
      ],
      "text/html": [
       " View run <strong style=\"color:#cdcd00\">Teacher Model</strong> at: <a href='https://wandb.ai/martingratzer-organization/Renyi_Divergence_MNIST/runs/ag9jclhv' target=\"_blank\">https://wandb.ai/martingratzer-organization/Renyi_Divergence_MNIST/runs/ag9jclhv</a><br/> View project at: <a href='https://wandb.ai/martingratzer-organization/Renyi_Divergence_MNIST' target=\"_blank\">https://wandb.ai/martingratzer-organization/Renyi_Divergence_MNIST</a><br/>Synced 4 W&B file(s), 0 media file(s), 3 artifact file(s) and 0 other file(s)"
      ]
     },
     "metadata": {},
     "output_type": "display_data"
    },
    {
     "data": {
      "text/plain": [
       "<IPython.core.display.HTML object>"
      ],
      "text/html": [
       "Find logs at: <code>.\\wandb\\run-20241105_142141-ag9jclhv\\logs</code>"
      ]
     },
     "metadata": {},
     "output_type": "display_data"
    },
    {
     "data": {
      "text/plain": [
       "<IPython.core.display.HTML object>"
      ],
      "text/html": [
       "Successfully finished last run (ID:ag9jclhv). Initializing new run:<br/>"
      ]
     },
     "metadata": {},
     "output_type": "display_data"
    },
    {
     "data": {
      "text/plain": [
       "<IPython.core.display.HTML object>"
      ],
      "text/html": [
       "Tracking run with wandb version 0.18.3"
      ]
     },
     "metadata": {},
     "output_type": "display_data"
    },
    {
     "data": {
      "text/plain": [
       "<IPython.core.display.HTML object>"
      ],
      "text/html": [
       "Run data is saved locally in <code>C:\\Users\\Martin\\Documents\\School\\Thesis\\Git Repository\\pytorch-image-models\\own work directory\\wandb\\run-20241105_142216-dvmfwsiv</code>"
      ]
     },
     "metadata": {},
     "output_type": "display_data"
    },
    {
     "data": {
      "text/plain": [
       "<IPython.core.display.HTML object>"
      ],
      "text/html": [
       "Syncing run <strong><a href='https://wandb.ai/martingratzer-organization/Renyi_Divergence_MNIST/runs/dvmfwsiv' target=\"_blank\">Student Model</a></strong> to <a href='https://wandb.ai/martingratzer-organization/Renyi_Divergence_MNIST' target=\"_blank\">Weights & Biases</a> (<a href='https://wandb.me/run' target=\"_blank\">docs</a>)<br/>"
      ]
     },
     "metadata": {},
     "output_type": "display_data"
    },
    {
     "data": {
      "text/plain": [
       "<IPython.core.display.HTML object>"
      ],
      "text/html": [
       " View project at <a href='https://wandb.ai/martingratzer-organization/Renyi_Divergence_MNIST' target=\"_blank\">https://wandb.ai/martingratzer-organization/Renyi_Divergence_MNIST</a>"
      ]
     },
     "metadata": {},
     "output_type": "display_data"
    },
    {
     "data": {
      "text/plain": [
       "<IPython.core.display.HTML object>"
      ],
      "text/html": [
       " View run at <a href='https://wandb.ai/martingratzer-organization/Renyi_Divergence_MNIST/runs/dvmfwsiv' target=\"_blank\">https://wandb.ai/martingratzer-organization/Renyi_Divergence_MNIST/runs/dvmfwsiv</a>"
      ]
     },
     "metadata": {},
     "output_type": "display_data"
    },
    {
     "name": "stdout",
     "output_type": "stream",
     "text": [
      "Starting training...\n",
      "---Epoch 1---\n",
      "Average Train Loss: 0.5658 \t \t Average Train CE Loss: 0.3549 \t \t Train Accuracy: 89.16%\n",
      "Average Validation Loss: 0.3301 \t Average Validation CE Loss: 0.2183 \t Validation Accuracy: 94.23%\n",
      "---Epoch 2---\n"
     ]
    },
    {
     "ename": "KeyboardInterrupt",
     "evalue": "",
     "output_type": "error",
     "traceback": [
      "\u001B[1;31m---------------------------------------------------------------------------\u001B[0m",
      "\u001B[1;31mKeyboardInterrupt\u001B[0m                         Traceback (most recent call last)",
      "Cell \u001B[1;32mIn[6], line 25\u001B[0m\n\u001B[0;32m     22\u001B[0m \u001B[38;5;28mprint\u001B[39m(\u001B[38;5;124mf\u001B[39m\u001B[38;5;124m'\u001B[39m\u001B[38;5;124m---Epoch \u001B[39m\u001B[38;5;132;01m{\u001B[39;00mepoch\u001B[38;5;241m+\u001B[39m\u001B[38;5;241m1\u001B[39m\u001B[38;5;132;01m}\u001B[39;00m\u001B[38;5;124m---\u001B[39m\u001B[38;5;124m'\u001B[39m)\n\u001B[0;32m     24\u001B[0m train_loss, train_accuracy, size, train_CE_loss \u001B[38;5;241m=\u001B[39m \u001B[38;5;241m0\u001B[39m, \u001B[38;5;241m0\u001B[39m, \u001B[38;5;241m0\u001B[39m, \u001B[38;5;241m0\u001B[39m\n\u001B[1;32m---> 25\u001B[0m \u001B[38;5;28;01mfor\u001B[39;00m i, (data, targets) \u001B[38;5;129;01min\u001B[39;00m \u001B[38;5;28menumerate\u001B[39m(train_loader):\n\u001B[0;32m     26\u001B[0m     data, targets \u001B[38;5;241m=\u001B[39m data\u001B[38;5;241m.\u001B[39mto(device), targets\u001B[38;5;241m.\u001B[39mto(device)\n\u001B[0;32m     27\u001B[0m     optimizer\u001B[38;5;241m.\u001B[39mzero_grad()\n",
      "File \u001B[1;32m~\\Documents\\School\\Thesis\\Git Repository\\pytorch-image-models\\.venv\\lib\\site-packages\\torch\\utils\\data\\dataloader.py:630\u001B[0m, in \u001B[0;36m_BaseDataLoaderIter.__next__\u001B[1;34m(self)\u001B[0m\n\u001B[0;32m    627\u001B[0m \u001B[38;5;28;01mif\u001B[39;00m \u001B[38;5;28mself\u001B[39m\u001B[38;5;241m.\u001B[39m_sampler_iter \u001B[38;5;129;01mis\u001B[39;00m \u001B[38;5;28;01mNone\u001B[39;00m:\n\u001B[0;32m    628\u001B[0m     \u001B[38;5;66;03m# TODO(https://github.com/pytorch/pytorch/issues/76750)\u001B[39;00m\n\u001B[0;32m    629\u001B[0m     \u001B[38;5;28mself\u001B[39m\u001B[38;5;241m.\u001B[39m_reset()  \u001B[38;5;66;03m# type: ignore[call-arg]\u001B[39;00m\n\u001B[1;32m--> 630\u001B[0m data \u001B[38;5;241m=\u001B[39m \u001B[38;5;28;43mself\u001B[39;49m\u001B[38;5;241;43m.\u001B[39;49m\u001B[43m_next_data\u001B[49m\u001B[43m(\u001B[49m\u001B[43m)\u001B[49m\n\u001B[0;32m    631\u001B[0m \u001B[38;5;28mself\u001B[39m\u001B[38;5;241m.\u001B[39m_num_yielded \u001B[38;5;241m+\u001B[39m\u001B[38;5;241m=\u001B[39m \u001B[38;5;241m1\u001B[39m\n\u001B[0;32m    632\u001B[0m \u001B[38;5;28;01mif\u001B[39;00m \u001B[38;5;28mself\u001B[39m\u001B[38;5;241m.\u001B[39m_dataset_kind \u001B[38;5;241m==\u001B[39m _DatasetKind\u001B[38;5;241m.\u001B[39mIterable \u001B[38;5;129;01mand\u001B[39;00m \\\n\u001B[0;32m    633\u001B[0m         \u001B[38;5;28mself\u001B[39m\u001B[38;5;241m.\u001B[39m_IterableDataset_len_called \u001B[38;5;129;01mis\u001B[39;00m \u001B[38;5;129;01mnot\u001B[39;00m \u001B[38;5;28;01mNone\u001B[39;00m \u001B[38;5;129;01mand\u001B[39;00m \\\n\u001B[0;32m    634\u001B[0m         \u001B[38;5;28mself\u001B[39m\u001B[38;5;241m.\u001B[39m_num_yielded \u001B[38;5;241m>\u001B[39m \u001B[38;5;28mself\u001B[39m\u001B[38;5;241m.\u001B[39m_IterableDataset_len_called:\n",
      "File \u001B[1;32m~\\Documents\\School\\Thesis\\Git Repository\\pytorch-image-models\\.venv\\lib\\site-packages\\torch\\utils\\data\\dataloader.py:673\u001B[0m, in \u001B[0;36m_SingleProcessDataLoaderIter._next_data\u001B[1;34m(self)\u001B[0m\n\u001B[0;32m    671\u001B[0m \u001B[38;5;28;01mdef\u001B[39;00m \u001B[38;5;21m_next_data\u001B[39m(\u001B[38;5;28mself\u001B[39m):\n\u001B[0;32m    672\u001B[0m     index \u001B[38;5;241m=\u001B[39m \u001B[38;5;28mself\u001B[39m\u001B[38;5;241m.\u001B[39m_next_index()  \u001B[38;5;66;03m# may raise StopIteration\u001B[39;00m\n\u001B[1;32m--> 673\u001B[0m     data \u001B[38;5;241m=\u001B[39m \u001B[38;5;28;43mself\u001B[39;49m\u001B[38;5;241;43m.\u001B[39;49m\u001B[43m_dataset_fetcher\u001B[49m\u001B[38;5;241;43m.\u001B[39;49m\u001B[43mfetch\u001B[49m\u001B[43m(\u001B[49m\u001B[43mindex\u001B[49m\u001B[43m)\u001B[49m  \u001B[38;5;66;03m# may raise StopIteration\u001B[39;00m\n\u001B[0;32m    674\u001B[0m     \u001B[38;5;28;01mif\u001B[39;00m \u001B[38;5;28mself\u001B[39m\u001B[38;5;241m.\u001B[39m_pin_memory:\n\u001B[0;32m    675\u001B[0m         data \u001B[38;5;241m=\u001B[39m _utils\u001B[38;5;241m.\u001B[39mpin_memory\u001B[38;5;241m.\u001B[39mpin_memory(data, \u001B[38;5;28mself\u001B[39m\u001B[38;5;241m.\u001B[39m_pin_memory_device)\n",
      "File \u001B[1;32m~\\Documents\\School\\Thesis\\Git Repository\\pytorch-image-models\\.venv\\lib\\site-packages\\torch\\utils\\data\\_utils\\fetch.py:50\u001B[0m, in \u001B[0;36m_MapDatasetFetcher.fetch\u001B[1;34m(self, possibly_batched_index)\u001B[0m\n\u001B[0;32m     48\u001B[0m \u001B[38;5;28;01mif\u001B[39;00m \u001B[38;5;28mself\u001B[39m\u001B[38;5;241m.\u001B[39mauto_collation:\n\u001B[0;32m     49\u001B[0m     \u001B[38;5;28;01mif\u001B[39;00m \u001B[38;5;28mhasattr\u001B[39m(\u001B[38;5;28mself\u001B[39m\u001B[38;5;241m.\u001B[39mdataset, \u001B[38;5;124m\"\u001B[39m\u001B[38;5;124m__getitems__\u001B[39m\u001B[38;5;124m\"\u001B[39m) \u001B[38;5;129;01mand\u001B[39;00m \u001B[38;5;28mself\u001B[39m\u001B[38;5;241m.\u001B[39mdataset\u001B[38;5;241m.\u001B[39m__getitems__:\n\u001B[1;32m---> 50\u001B[0m         data \u001B[38;5;241m=\u001B[39m \u001B[38;5;28;43mself\u001B[39;49m\u001B[38;5;241;43m.\u001B[39;49m\u001B[43mdataset\u001B[49m\u001B[38;5;241;43m.\u001B[39;49m\u001B[43m__getitems__\u001B[49m\u001B[43m(\u001B[49m\u001B[43mpossibly_batched_index\u001B[49m\u001B[43m)\u001B[49m\n\u001B[0;32m     51\u001B[0m     \u001B[38;5;28;01melse\u001B[39;00m:\n\u001B[0;32m     52\u001B[0m         data \u001B[38;5;241m=\u001B[39m [\u001B[38;5;28mself\u001B[39m\u001B[38;5;241m.\u001B[39mdataset[idx] \u001B[38;5;28;01mfor\u001B[39;00m idx \u001B[38;5;129;01min\u001B[39;00m possibly_batched_index]\n",
      "File \u001B[1;32m~\\Documents\\School\\Thesis\\Git Repository\\pytorch-image-models\\.venv\\lib\\site-packages\\torch\\utils\\data\\dataset.py:420\u001B[0m, in \u001B[0;36mSubset.__getitems__\u001B[1;34m(self, indices)\u001B[0m\n\u001B[0;32m    418\u001B[0m     \u001B[38;5;28;01mreturn\u001B[39;00m \u001B[38;5;28mself\u001B[39m\u001B[38;5;241m.\u001B[39mdataset\u001B[38;5;241m.\u001B[39m__getitems__([\u001B[38;5;28mself\u001B[39m\u001B[38;5;241m.\u001B[39mindices[idx] \u001B[38;5;28;01mfor\u001B[39;00m idx \u001B[38;5;129;01min\u001B[39;00m indices])  \u001B[38;5;66;03m# type: ignore[attr-defined]\u001B[39;00m\n\u001B[0;32m    419\u001B[0m \u001B[38;5;28;01melse\u001B[39;00m:\n\u001B[1;32m--> 420\u001B[0m     \u001B[38;5;28;01mreturn\u001B[39;00m [\u001B[38;5;28mself\u001B[39m\u001B[38;5;241m.\u001B[39mdataset[\u001B[38;5;28mself\u001B[39m\u001B[38;5;241m.\u001B[39mindices[idx]] \u001B[38;5;28;01mfor\u001B[39;00m idx \u001B[38;5;129;01min\u001B[39;00m indices]\n",
      "File \u001B[1;32m~\\Documents\\School\\Thesis\\Git Repository\\pytorch-image-models\\.venv\\lib\\site-packages\\torch\\utils\\data\\dataset.py:420\u001B[0m, in \u001B[0;36m<listcomp>\u001B[1;34m(.0)\u001B[0m\n\u001B[0;32m    418\u001B[0m     \u001B[38;5;28;01mreturn\u001B[39;00m \u001B[38;5;28mself\u001B[39m\u001B[38;5;241m.\u001B[39mdataset\u001B[38;5;241m.\u001B[39m__getitems__([\u001B[38;5;28mself\u001B[39m\u001B[38;5;241m.\u001B[39mindices[idx] \u001B[38;5;28;01mfor\u001B[39;00m idx \u001B[38;5;129;01min\u001B[39;00m indices])  \u001B[38;5;66;03m# type: ignore[attr-defined]\u001B[39;00m\n\u001B[0;32m    419\u001B[0m \u001B[38;5;28;01melse\u001B[39;00m:\n\u001B[1;32m--> 420\u001B[0m     \u001B[38;5;28;01mreturn\u001B[39;00m [\u001B[38;5;28;43mself\u001B[39;49m\u001B[38;5;241;43m.\u001B[39;49m\u001B[43mdataset\u001B[49m\u001B[43m[\u001B[49m\u001B[38;5;28;43mself\u001B[39;49m\u001B[38;5;241;43m.\u001B[39;49m\u001B[43mindices\u001B[49m\u001B[43m[\u001B[49m\u001B[43midx\u001B[49m\u001B[43m]\u001B[49m\u001B[43m]\u001B[49m \u001B[38;5;28;01mfor\u001B[39;00m idx \u001B[38;5;129;01min\u001B[39;00m indices]\n",
      "File \u001B[1;32m~\\Documents\\School\\Thesis\\Git Repository\\pytorch-image-models\\.venv\\lib\\site-packages\\torchvision\\datasets\\mnist.py:146\u001B[0m, in \u001B[0;36mMNIST.__getitem__\u001B[1;34m(self, index)\u001B[0m\n\u001B[0;32m    143\u001B[0m img \u001B[38;5;241m=\u001B[39m Image\u001B[38;5;241m.\u001B[39mfromarray(img\u001B[38;5;241m.\u001B[39mnumpy(), mode\u001B[38;5;241m=\u001B[39m\u001B[38;5;124m\"\u001B[39m\u001B[38;5;124mL\u001B[39m\u001B[38;5;124m\"\u001B[39m)\n\u001B[0;32m    145\u001B[0m \u001B[38;5;28;01mif\u001B[39;00m \u001B[38;5;28mself\u001B[39m\u001B[38;5;241m.\u001B[39mtransform \u001B[38;5;129;01mis\u001B[39;00m \u001B[38;5;129;01mnot\u001B[39;00m \u001B[38;5;28;01mNone\u001B[39;00m:\n\u001B[1;32m--> 146\u001B[0m     img \u001B[38;5;241m=\u001B[39m \u001B[38;5;28;43mself\u001B[39;49m\u001B[38;5;241;43m.\u001B[39;49m\u001B[43mtransform\u001B[49m\u001B[43m(\u001B[49m\u001B[43mimg\u001B[49m\u001B[43m)\u001B[49m\n\u001B[0;32m    148\u001B[0m \u001B[38;5;28;01mif\u001B[39;00m \u001B[38;5;28mself\u001B[39m\u001B[38;5;241m.\u001B[39mtarget_transform \u001B[38;5;129;01mis\u001B[39;00m \u001B[38;5;129;01mnot\u001B[39;00m \u001B[38;5;28;01mNone\u001B[39;00m:\n\u001B[0;32m    149\u001B[0m     target \u001B[38;5;241m=\u001B[39m \u001B[38;5;28mself\u001B[39m\u001B[38;5;241m.\u001B[39mtarget_transform(target)\n",
      "File \u001B[1;32m~\\Documents\\School\\Thesis\\Git Repository\\pytorch-image-models\\.venv\\lib\\site-packages\\torchvision\\transforms\\transforms.py:95\u001B[0m, in \u001B[0;36mCompose.__call__\u001B[1;34m(self, img)\u001B[0m\n\u001B[0;32m     93\u001B[0m \u001B[38;5;28;01mdef\u001B[39;00m \u001B[38;5;21m__call__\u001B[39m(\u001B[38;5;28mself\u001B[39m, img):\n\u001B[0;32m     94\u001B[0m     \u001B[38;5;28;01mfor\u001B[39;00m t \u001B[38;5;129;01min\u001B[39;00m \u001B[38;5;28mself\u001B[39m\u001B[38;5;241m.\u001B[39mtransforms:\n\u001B[1;32m---> 95\u001B[0m         img \u001B[38;5;241m=\u001B[39m \u001B[43mt\u001B[49m\u001B[43m(\u001B[49m\u001B[43mimg\u001B[49m\u001B[43m)\u001B[49m\n\u001B[0;32m     96\u001B[0m     \u001B[38;5;28;01mreturn\u001B[39;00m img\n",
      "File \u001B[1;32m~\\Documents\\School\\Thesis\\Git Repository\\pytorch-image-models\\.venv\\lib\\site-packages\\torchvision\\transforms\\transforms.py:137\u001B[0m, in \u001B[0;36mToTensor.__call__\u001B[1;34m(self, pic)\u001B[0m\n\u001B[0;32m    129\u001B[0m \u001B[38;5;28;01mdef\u001B[39;00m \u001B[38;5;21m__call__\u001B[39m(\u001B[38;5;28mself\u001B[39m, pic):\n\u001B[0;32m    130\u001B[0m \u001B[38;5;250m    \u001B[39m\u001B[38;5;124;03m\"\"\"\u001B[39;00m\n\u001B[0;32m    131\u001B[0m \u001B[38;5;124;03m    Args:\u001B[39;00m\n\u001B[0;32m    132\u001B[0m \u001B[38;5;124;03m        pic (PIL Image or numpy.ndarray): Image to be converted to tensor.\u001B[39;00m\n\u001B[1;32m   (...)\u001B[0m\n\u001B[0;32m    135\u001B[0m \u001B[38;5;124;03m        Tensor: Converted image.\u001B[39;00m\n\u001B[0;32m    136\u001B[0m \u001B[38;5;124;03m    \"\"\"\u001B[39;00m\n\u001B[1;32m--> 137\u001B[0m     \u001B[38;5;28;01mreturn\u001B[39;00m \u001B[43mF\u001B[49m\u001B[38;5;241;43m.\u001B[39;49m\u001B[43mto_tensor\u001B[49m\u001B[43m(\u001B[49m\u001B[43mpic\u001B[49m\u001B[43m)\u001B[49m\n",
      "File \u001B[1;32m~\\Documents\\School\\Thesis\\Git Repository\\pytorch-image-models\\.venv\\lib\\site-packages\\torchvision\\transforms\\functional.py:176\u001B[0m, in \u001B[0;36mto_tensor\u001B[1;34m(pic)\u001B[0m\n\u001B[0;32m    174\u001B[0m img \u001B[38;5;241m=\u001B[39m img\u001B[38;5;241m.\u001B[39mpermute((\u001B[38;5;241m2\u001B[39m, \u001B[38;5;241m0\u001B[39m, \u001B[38;5;241m1\u001B[39m))\u001B[38;5;241m.\u001B[39mcontiguous()\n\u001B[0;32m    175\u001B[0m \u001B[38;5;28;01mif\u001B[39;00m \u001B[38;5;28misinstance\u001B[39m(img, torch\u001B[38;5;241m.\u001B[39mByteTensor):\n\u001B[1;32m--> 176\u001B[0m     \u001B[38;5;28;01mreturn\u001B[39;00m \u001B[43mimg\u001B[49m\u001B[38;5;241;43m.\u001B[39;49m\u001B[43mto\u001B[49m\u001B[43m(\u001B[49m\u001B[43mdtype\u001B[49m\u001B[38;5;241;43m=\u001B[39;49m\u001B[43mdefault_float_dtype\u001B[49m\u001B[43m)\u001B[49m\u001B[38;5;241m.\u001B[39mdiv(\u001B[38;5;241m255\u001B[39m)\n\u001B[0;32m    177\u001B[0m \u001B[38;5;28;01melse\u001B[39;00m:\n\u001B[0;32m    178\u001B[0m     \u001B[38;5;28;01mreturn\u001B[39;00m img\n",
      "\u001B[1;31mKeyboardInterrupt\u001B[0m: "
     ]
    }
   ],
   "execution_count": 6
  },
  {
   "metadata": {},
   "cell_type": "code",
   "outputs": [],
   "execution_count": null,
   "source": [
    "def train(config=None,lr=None,momentum=None,weight_decay=None,temperature=None,beta=None,alpha=None,destilation=False,teacher_model=None):\n",
    "    with wandb.init(config=config):\n",
    "        config = wandb.config\n",
    "        device = torch.device(\"cuda\" if torch.cuda.is_available() else \"cpu\")\n",
    "        #network = TeacherNetwork().to(device)\n",
    "        network = StudentNetwork().to(device)\n",
    "        epochs = 20\n",
    "        \n",
    "        train_loader, val_loader, test_loader = build_dataset()\n",
    "        \n",
    "        if lr is not None:\n",
    "            config.lr = lr\n",
    "        if momentum is not None:\n",
    "            config.momentum = momentum\n",
    "        if weight_decay is not None:\n",
    "            config.weight_decay = weight_decay\n",
    "        if temperature is not None:\n",
    "            config.temperature = temperature\n",
    "        if beta is not None:\n",
    "            config.beta = beta\n",
    "        if alpha is not None:\n",
    "            config.alpha = alpha\n",
    "        \n",
    "        optimizer = optim.SGD(network.parameters(), lr=config.lr, momentum=config.momentum, weight_decay=config.weight_decay)\n",
    "        \n",
    "        for epoch in range(epochs):\n",
    "            train_epoch(epoch, network, train_loader, val_loader, optimizer, device, destilation, teacher_model, config)"
   ],
   "id": "d4cb39d4bbbde8ee"
  },
  {
   "metadata": {},
   "cell_type": "code",
   "outputs": [],
   "execution_count": null,
   "source": [
    "def build_dataset():\n",
    "    transform = transforms.Compose([\n",
    "        transforms.ToTensor(),\n",
    "        transforms.Normalize((0.5,), (0.5,))])\n",
    "    train_dataset = datasets.MNIST(root='./data', train=True, download=True, transform=transform)\n",
    "    test_dataset = datasets.MNIST(root='./data', train=False, download=True, transform=transform)\n",
    "    train_dataset, val_dataset = torch.utils.data.random_split(train_dataset, [0.95,0.05], generator=torch.Generator().manual_seed(872))\n",
    "\n",
    "    train_loader = DataLoader(train_dataset, batch_size=64, shuffle=True, generator=torch.Generator().manual_seed(872))\n",
    "    val_loader = DataLoader(val_dataset, batch_size=64, shuffle=True, generator=torch.Generator().manual_seed(872))\n",
    "    test_loader = DataLoader(test_dataset, batch_size=1000, shuffle=False)\n",
    "\n",
    "    return train_loader, val_loader, test_loader\n",
    "    \n",
    "def train_epoch(epoch, network, train_loader, val_loader, optimizer, device, destilation, teacher_model, config):\n",
    "    train_loss, train_accuracy, size, train_CE_loss = 0, 0, 0, 0\n",
    "    for i, (data, targets) in enumerate(train_loader):\n",
    "        data, targets = data.to(device), targets.to(device)\n",
    "        optimizer.zero_grad()\n",
    "        outputs = network(data)\n",
    "        if destilation:\n",
    "            with torch.no_grad():\n",
    "                teacher_outputs = teacher_model(data)\n",
    "            loss = (1-config.beta) * nn.CrossEntropyLoss()(outputs, targets) + config.beta * RenyiDivergence(alpha=config.alpha)(outputs/config.temperature, teacher_outputs/config.temperature) * (config.temperature**2) / config.alpha\n",
    "        else:\n",
    "            loss = nn.CrossEntropyLoss()(outputs, targets)\n",
    "        CE_loss = nn.CrossEntropyLoss()(outputs, targets)\n",
    "        loss.backward()\n",
    "        optimizer.step()\n",
    "        train_loss += loss.item() * targets.size(0)\n",
    "        train_CE_loss += CE_loss.item() * targets.size(0)\n",
    "        train_accuracy += torch.sum(torch.argmax(outputs, dim=1) == targets).item()\n",
    "        size += targets.size(0)\n",
    "        \n",
    "    if destilation:\n",
    "        train_loss,train_CE_loss,train_accuracy = train_loss/size, train_CE_loss/size, train_accuracy/size\n",
    "        print(f'Average Train Loss: {train_loss:.4f} \\t \\t Average Train CE Loss: {train_CE_loss:.4f} \\t \\t Train Accuracy: {100*train_accuracy:.2f}%')\n",
    "    else:\n",
    "        train_CE_loss,train_accuracy = train_CE_loss/size, train_accuracy/size\n",
    "        print(f'Average Train CE Loss: {train_CE_loss:.4f} \\t \\t Train Accuracy: {100*train_accuracy:.2f}%')\n",
    "    \n",
    "    network.is_training = False\n",
    "    \n",
    "    val_loss, val_accuracy, size, val_CE_loss = 0, 0, 0, 0\n",
    "    for i, (data, targets) in enumerate(val_loader):\n",
    "        data, targets = data.to(device), targets.to(device)\n",
    "        with torch.no_grad():\n",
    "            pred = network(data)\n",
    "            if destilation:\n",
    "                teacher_pred = teacher_model(data)\n",
    "            if destilation:\n",
    "                teacher_pred = teacher_model(data)\n",
    "                val_loss += ((1-config.beta) * nn.CrossEntropyLoss()(pred, targets) + config.beta * RenyiDivergence(alpha=config.alpha)(pred/config.temperature, teacher_pred/config.temperature) * (config.temperature**2) / config.alpha) * targets.shape[0]\n",
    "            val_CE_loss += nn.CrossEntropyLoss()(pred, targets) * targets.shape[0]\n",
    "            val_accuracy += torch.sum(torch.argmax(pred, dim=1) == targets).item()\n",
    "        size += targets.shape[0]\n",
    "    \n",
    "    if destilation:\n",
    "        val_loss, val_accuracy, val_CE_loss = val_loss / size, val_accuracy / size, val_CE_loss/size\n",
    "        print(f'Average Validation Loss: {val_loss:.4f} \\t Average Validation CE Loss: {val_CE_loss:.4f} \\t Validation Accuracy: {100*val_accuracy:.2f}%')\n",
    "    else:\n",
    "        val_accuracy, val_CE_loss = val_accuracy / size, val_CE_loss/size\n",
    "        print(f'Average Validation CE Loss: {val_CE_loss:.4f} \\t Validation Accuracy: {100*val_accuracy:.2f}%')\n",
    "    \n",
    "    if destilation:\n",
    "        wandb.log({\"train_loss\": train_loss,\n",
    "                   \"train_ce_loss\": train_CE_loss,\n",
    "                   \"val_loss\": val_loss,\n",
    "                   \"val_ce_loss\": val_CE_loss,\n",
    "                   \"train_accuracy\": 100*train_accuracy,\n",
    "                   \"val_accuracy\": 100*val_accuracy,\n",
    "                   \"epoch\": epoch\n",
    "                   }\n",
    "        )\n",
    "    else:\n",
    "        wandb.log({\"train_ce_loss\": train_CE_loss,\n",
    "                   \"val_ce_loss\": val_CE_loss,\n",
    "                   \"train_accuracy\": 100*train_accuracy,\n",
    "                   \"val_accuracy\": 100*val_accuracy,\n",
    "                   \"epoch\": epoch\n",
    "                   }\n",
    "        )\n",
    "    \n",
    "    network.is_training = True"
   ],
   "id": "8b47ad2737845e5f"
  },
  {
   "metadata": {},
   "cell_type": "code",
   "outputs": [],
   "execution_count": null,
   "source": [
    "sweep_config = {\n",
    "    'method': 'bayes',\n",
    "    'metric': {'name': 'val_accuracy', 'goal': 'maximize'},\n",
    "    'parameters': {\n",
    "        'beta': {'distribution': 'uniform', 'min': 0.5, 'max': 1},\n",
    "        'temperature': {'distribution': 'uniform', 'min': 2, 'max': 6},\n",
    "        'lr': {'distribution': 'uniform', 'min': 0.01, 'max': 0.05},\n",
    "        'momentum': {'distribution': 'uniform', 'min': 0.6, 'max': 0.9},\n",
    "        'weight_decay': {'distribution': 'uniform', 'min': 1e-4, 'max': 1e-3},\n",
    "    }\n",
    "}"
   ],
   "id": "b0ad9fbc3932586e"
  },
  {
   "metadata": {},
   "cell_type": "code",
   "outputs": [],
   "execution_count": null,
   "source": "sweep_id = wandb.sweep(sweep_config, project=\"Renyi_Divergence_Sweep_Student\")",
   "id": "40a11b61903c15ef"
  },
  {
   "metadata": {},
   "cell_type": "code",
   "outputs": [],
   "execution_count": null,
   "source": "wandb.agent(sweep_id, function=lambda: train(alpha=1,destilation=True,teacher_model=teacher_model), count=30)",
   "id": "b4c5b2e792d33258"
  }
 ],
 "metadata": {
  "kernelspec": {
   "display_name": "Python 3",
   "language": "python",
   "name": "python3"
  },
  "language_info": {
   "codemirror_mode": {
    "name": "ipython",
    "version": 2
   },
   "file_extension": ".py",
   "mimetype": "text/x-python",
   "name": "python",
   "nbconvert_exporter": "python",
   "pygments_lexer": "ipython2",
   "version": "2.7.6"
  }
 },
 "nbformat": 4,
 "nbformat_minor": 5
}
