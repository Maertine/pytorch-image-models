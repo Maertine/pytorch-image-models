{
 "cells": [
  {
   "cell_type": "code",
   "id": "initial_id",
   "metadata": {
    "collapsed": true,
    "ExecuteTime": {
     "end_time": "2024-10-19T16:31:54.955507Z",
     "start_time": "2024-10-19T16:31:54.949500Z"
    }
   },
   "source": [
    "# Imports\n",
    "import torch\n",
    "import torch.nn as nn\n",
    "import torch.optim as optim\n",
    "import torch.nn.functional as F\n",
    "from torchvision import datasets, transforms\n",
    "from torch.utils.data import DataLoader\n",
    "import wandb"
   ],
   "outputs": [],
   "execution_count": 24
  },
  {
   "metadata": {
    "ExecuteTime": {
     "end_time": "2024-10-19T16:31:55.610133Z",
     "start_time": "2024-10-19T16:31:55.600125Z"
    }
   },
   "cell_type": "code",
   "source": [
    "# Example values for the probabilities\n",
    "x = torch.tensor([[9/25,12/25,4/25],[2.,1/4,1/5]],requires_grad=True)\n",
    "y = torch.tensor([[1/3,1/3,1/3],[2.,5/4,1/5]])\n",
    "print(x)\n",
    "print(y)"
   ],
   "id": "5f572b6e4ab33904",
   "outputs": [
    {
     "name": "stdout",
     "output_type": "stream",
     "text": [
      "tensor([[0.3600, 0.4800, 0.1600],\n",
      "        [2.0000, 0.2500, 0.2000]], requires_grad=True)\n",
      "tensor([[0.3333, 0.3333, 0.3333],\n",
      "        [2.0000, 1.2500, 0.2000]])\n"
     ]
    }
   ],
   "execution_count": 25
  },
  {
   "metadata": {
    "ExecuteTime": {
     "end_time": "2024-10-19T16:31:56.722917Z",
     "start_time": "2024-10-19T16:31:56.707789Z"
    }
   },
   "cell_type": "code",
   "source": [
    "# Example of divergence being infinity\n",
    "#x = torch.tensor([[-0.7753, -0.7236, -0.6072, -0.8284, -0.8085, -0.8923, -0.6853, -0.8315,-0.8302, -0.7934]])\n",
    "#y = torch.tensor([[-9.7151e+00, -7.6585e+00, -7.3228e+00, -7.9473e-08, -1.0569e+01,-6.7095e+00, -1.1969e+01, -7.1102e+00, -5.1660e+00, -6.2902e+00]])\n",
    "#print(x)\n",
    "#print(y)"
   ],
   "id": "aff0480a2c3b2339",
   "outputs": [],
   "execution_count": 26
  },
  {
   "metadata": {
    "ExecuteTime": {
     "end_time": "2024-10-19T16:31:57.643399Z",
     "start_time": "2024-10-19T16:31:57.634416Z"
    }
   },
   "cell_type": "code",
   "source": [
    "# Definition of Renyi Divergence with logits as input\n",
    "class RenyiDivergence(nn.Module):\n",
    "    def __init__(self, alpha=0.5):\n",
    "        super(RenyiDivergence, self).__init__()\n",
    "        self.alpha = alpha\n",
    "\n",
    "    def forward(self, logits_p, logits_q):\n",
    "        if self.alpha == 1.0: # KL Divergence\n",
    "            log_sums = torch.logsumexp(logits_q, dim=1)-torch.logsumexp(logits_p, dim=1)\n",
    "            \n",
    "            exp_logits_p = torch.exp(logits_p)\n",
    "            sum_exp_p = exp_logits_p.sum(dim=1, keepdim=True)\n",
    "            \n",
    "            loss = torch.sum((exp_logits_p / sum_exp_p) * (logits_p - logits_q + log_sums.unsqueeze(1)), dim=1)\n",
    "            \n",
    "            return loss.mean()\n",
    "        \n",
    "        exp_p = torch.exp(logits_p)\n",
    "        exp_q = torch.exp(logits_q)\n",
    "        \n",
    "        power_p = exp_p.pow(self.alpha)\n",
    "        power_q = exp_q.pow(1-self.alpha)\n",
    "        \n",
    "        sum_exp_p = torch.sum(exp_p,dim=1)\n",
    "        sum_exp_q = torch.sum(exp_q,dim=1)\n",
    "        \n",
    "        loss = 1/(self.alpha-1) * (torch.log(torch.sum(power_p*power_q,dim=1)) - self.alpha*torch.log(sum_exp_p) + (self.alpha-1)*torch.log(sum_exp_q))\n",
    "        \n",
    "        return loss.mean()"
   ],
   "id": "4130e895be638180",
   "outputs": [],
   "execution_count": 27
  },
  {
   "metadata": {
    "ExecuteTime": {
     "end_time": "2024-10-19T16:31:59.547495Z",
     "start_time": "2024-10-19T16:31:59.540487Z"
    }
   },
   "cell_type": "code",
   "source": [
    "# Test\n",
    "output = RenyiDivergence(alpha=10)(x,y)\n",
    "print(output)\n",
    "output.backward()"
   ],
   "id": "f5085ca5437ce909",
   "outputs": [
    {
     "name": "stdout",
     "output_type": "stream",
     "text": [
      "tensor(0.1249, grad_fn=<MeanBackward0>)\n"
     ]
    }
   ],
   "execution_count": 28
  },
  {
   "metadata": {
    "ExecuteTime": {
     "end_time": "2024-10-19T16:32:00.677605Z",
     "start_time": "2024-10-19T16:32:00.520141Z"
    }
   },
   "cell_type": "code",
   "source": [
    "## Preparation for plot creation\n",
    "Q = torch.tensor([[1/3,2/3]])\n",
    "Q = torch.log(Q)\n",
    "lists = []\n",
    "for alpha in [0.5,1,2,10]:\n",
    "    list = []\n",
    "    for p in range(501):\n",
    "        P = torch.tensor([[p/500,1-p/500]])\n",
    "        P = torch.log(P)\n",
    "        divergence = RenyiDivergence(alpha=alpha)(P,Q)\n",
    "        list.append(divergence)\n",
    "    lists.append(list)\n",
    "    \n",
    "for p in range(501):\n",
    "    list = []\n",
    "    P = torch.tensor([[p/500,1-p/500]])"
   ],
   "id": "f52a2eccdcf7ad68",
   "outputs": [],
   "execution_count": 29
  },
  {
   "metadata": {
    "ExecuteTime": {
     "end_time": "2024-10-19T16:32:02.143602Z",
     "start_time": "2024-10-19T16:32:02.004018Z"
    }
   },
   "cell_type": "code",
   "source": [
    "## Ploting\n",
    "import matplotlib.pyplot as plt\n",
    "import numpy as np\n",
    "\n",
    "fig, ax = plt.subplots()\n",
    "\n",
    "\n",
    "ax.plot(np.array(range(501)) / 500, np.transpose(np.array(lists[0])), color='blue', linestyle='-', label=r'$\\alpha = 1/2$')\n",
    "ax.plot(np.array(range(501)) / 500, np.transpose(np.array(lists[1])), color='red', linestyle='--', label=r'$\\alpha = 1$')\n",
    "ax.plot(np.array(range(501)) / 500, np.transpose(np.array(lists[2])), color='orange', linestyle=':', label=r'$\\alpha = 2$')\n",
    "ax.plot(np.array(range(501)) / 500, np.transpose(np.array(lists[3])), color='green', linestyle='-.', label=r'$\\alpha = 10$')\n",
    "\n",
    "ax.spines['top'].set_visible(False)\n",
    "ax.spines['right'].set_visible(False)\n",
    "\n",
    "ax.annotate(r'$p$', xy=(1.05, 0), xytext=(10, -20), \n",
    "            textcoords='offset points', ha='center', va='center', fontsize=12)\n",
    "\n",
    "ax.annotate(r'$D_\\alpha(P \\| Q)$', xy=(0, 1.05), xytext=(-40, 10), \n",
    "            textcoords='offset points', ha='center', va='center', fontsize=12)\n",
    "\n",
    "ax.xaxis.set_ticks_position('bottom')\n",
    "ax.yaxis.set_ticks_position('left')\n",
    "\n",
    "\n",
    "ax.legend()\n",
    "\n",
    "fig.savefig('Renyi_Divergence.png')\n",
    "\n",
    "plt.show()"
   ],
   "id": "43d0d92a4b387087",
   "outputs": [
    {
     "data": {
      "text/plain": [
       "<Figure size 640x480 with 1 Axes>"
      ],
      "image/png": "[encoded data removed]"
     },
     "metadata": {},
     "output_type": "display_data"
    }
   ],
   "execution_count": 30
  },
  {
   "metadata": {
    "ExecuteTime": {
     "end_time": "2024-10-20T17:36:22.664897Z",
     "start_time": "2024-10-20T17:36:22.618814Z"
    }
   },
   "cell_type": "code",
   "source": [
    "# Define transforms for the training and test sets\n",
    "transform = transforms.Compose([\n",
    "    transforms.Resize((14, 14)),\n",
    "    transforms.ToTensor(),\n",
    "    transforms.Normalize((0.5,), (0.5,))\n",
    "])\n",
    "\n",
    "# Load the datasets\n",
    "train_dataset = datasets.MNIST(root='./data', train=True, download=True, transform=transform)\n",
    "test_dataset = datasets.MNIST(root='./data', train=False, download=True, transform=transform)\n",
    "\n",
    "train_dataset, val_dataset = torch.utils.data.random_split(train_dataset, [0.95,0.05], generator=torch.Generator().manual_seed(872))\n",
    "\n",
    "# Create DataLoader for batching\n",
    "train_loader = DataLoader(train_dataset, batch_size=64, shuffle=True, generator=torch.Generator().manual_seed(872))\n",
    "val_loader = DataLoader(val_dataset, batch_size=64, shuffle=True, generator=torch.Generator().manual_seed(872))\n",
    "test_loader = DataLoader(test_dataset, batch_size=1000, shuffle=False)"
   ],
   "id": "16d43d390489c715",
   "outputs": [],
   "execution_count": 86
  },
  {
   "metadata": {
    "ExecuteTime": {
     "end_time": "2024-10-20T18:29:46.512768Z",
     "start_time": "2024-10-20T18:29:46.497348Z"
    }
   },
   "cell_type": "code",
   "source": [
    "class TeacherNetwork(nn.Module):\n",
    "    def __init__(self):\n",
    "        super(TeacherNetwork, self).__init__()\n",
    "        self.fc1 = nn.Linear(14*14, 128) \n",
    "        self.fc2 = nn.Linear(128, 64)\n",
    "        self.fc3 = nn.Linear(64, 10)\n",
    "        self.dropout_input = 0.1\n",
    "        self.dropout_hidden = 0.3\n",
    "        self.is_training = True\n",
    "\n",
    "    def forward(self, x):\n",
    "        x = x.view(-1, 14*14)  # Flatten the image\n",
    "        x = F.dropout(x, p=self.dropout_input, training=self.is_training)\n",
    "        x = F.dropout(F.relu(self.fc1(x)), p=self.dropout_hidden, training=self.is_training)\n",
    "        x = F.dropout(F.relu(self.fc2(x)), p=self.dropout_hidden, training=self.is_training)\n",
    "        x = self.fc3(x)\n",
    "        return x"
   ],
   "id": "a3332e4361c31eda",
   "outputs": [],
   "execution_count": 101
  },
  {
   "metadata": {
    "ExecuteTime": {
     "end_time": "2024-10-20T20:42:46.804231Z",
     "start_time": "2024-10-20T20:40:29.042901Z"
    }
   },
   "cell_type": "code",
   "source": [
    "device = torch.device(\"cuda\" if torch.cuda.is_available() else \"cpu\")\n",
    "teacher_model = TeacherNetwork().to(device)\n",
    "optimizer = optim.SGD(teacher_model.parameters(), lr=0.01, momentum=0.9, weight_decay=5e-4)\n",
    "num_epochs = 10\n",
    "\n",
    "wandb.init(\n",
    "    project=\"Renyi_Divergence_MNIST\",\n",
    "    name = \"Teacher Model\",\n",
    "    config={}\n",
    ")\n",
    "\n",
    "print(\"Starting training...\")\n",
    "\n",
    "for epoch in range(num_epochs):\n",
    "    print(f'---Epoch {epoch+1}---')\n",
    "    \n",
    "    train_loss, train_accuracy, size = 0, 0, 0\n",
    "    for i, (data, targets) in enumerate(train_loader):\n",
    "        data, targets = data.to(device), targets.to(device)\n",
    "        optimizer.zero_grad()\n",
    "        outputs = teacher_model(data)\n",
    "        loss = nn.CrossEntropyLoss()(outputs, targets)\n",
    "        loss.backward()\n",
    "        optimizer.step()\n",
    "        train_loss += loss.item() * targets.size(0)\n",
    "        train_accuracy += torch.sum(torch.argmax(outputs, dim=1) == targets).item()\n",
    "        size += targets.size(0)\n",
    "        \n",
    "    train_loss = train_loss/size\n",
    "    train_accuracy = train_accuracy/size\n",
    "    \n",
    "    print(f'Average Train Loss: {train_loss:.4f} \\t \\t Train Accuracy: {100*train_accuracy:.2f}%')\n",
    "    \n",
    "    teacher_model.is_training = False\n",
    "    \n",
    "    val_loss, val_accuracy, size = 0, 0, 0\n",
    "    for i, (data, targets) in enumerate(val_loader):\n",
    "        data, targets = data.to(device), targets.to(device)\n",
    "        with torch.no_grad():\n",
    "            pred = teacher_model(data)\n",
    "            val_loss += nn.CrossEntropyLoss()(pred, targets) * targets.shape[0]\n",
    "            val_accuracy += torch.sum(torch.argmax(pred, dim=1) == targets).item()\n",
    "        size += targets.shape[0]\n",
    "    \n",
    "    val_loss, val_accuracy = val_loss / size, val_accuracy / size\n",
    "    \n",
    "    print(f'Average Validation Loss: {val_loss:.4f} \\t Validation Accuracy: {100*val_accuracy:.2f}%')\n",
    "    \n",
    "    wandb.log({\"train_loss\": train_loss,\n",
    "               \"val_loss\": val_loss,\n",
    "               \"train_accuracy\": 100*train_accuracy,\n",
    "               \"val_accuracy\": 100*val_accuracy,\n",
    "               \"epoch\": epoch\n",
    "               }\n",
    "    )\n",
    "    \n",
    "    teacher_model.is_training = True\n",
    "\n",
    "teacher_model.is_training = False\n",
    "test_loss, test_accuracy, size = 0, 0, 0\n",
    "\n",
    "for i, (data, targets) in enumerate(test_loader):\n",
    "        data, targets = data.to(device), targets.to(device)\n",
    "        with torch.no_grad():\n",
    "            pred = teacher_model(data)\n",
    "            test_loss += nn.CrossEntropyLoss()(pred, targets) * targets.shape[0]\n",
    "            test_accuracy += torch.sum(torch.argmax(pred, dim=1) == targets).item()\n",
    "        size += targets.shape[0]\n",
    "\n",
    "test_loss, test_accuracy = test_loss / size, test_accuracy / size\n",
    "\n",
    "print(f'Training finished.')\n",
    "print(f'Average Validation Loss: {test_loss:.4f}\\t Validation Accuracy: {100*test_accuracy:.2f}%')\n",
    "\n",
    "wandb.finish()"
   ],
   "id": "8b8930e3139148e7",
   "outputs": [
    {
     "data": {
      "text/plain": [
       "<IPython.core.display.HTML object>"
      ],
      "text/html": [
       "Finishing last run (ID:wmjc1uyk) before initializing another..."
      ]
     },
     "metadata": {},
     "output_type": "display_data"
    },
    {
     "data": {
      "text/plain": [
       "<IPython.core.display.HTML object>"
      ],
      "text/html": [
       " View run <strong style=\"color:#cdcd00\">Teacher Model</strong> at: <a href='https://wandb.ai/martingratzer-organization/Renyi_Divergence_MNIST/runs/wmjc1uyk' target=\"_blank\">https://wandb.ai/martingratzer-organization/Renyi_Divergence_MNIST/runs/wmjc1uyk</a><br/> View project at: <a href='https://wandb.ai/martingratzer-organization/Renyi_Divergence_MNIST' target=\"_blank\">https://wandb.ai/martingratzer-organization/Renyi_Divergence_MNIST</a><br/>Synced 4 W&B file(s), 0 media file(s), 3 artifact file(s) and 0 other file(s)"
      ]
     },
     "metadata": {},
     "output_type": "display_data"
    },
    {
     "data": {
      "text/plain": [
       "<IPython.core.display.HTML object>"
      ],
      "text/html": [
       "Find logs at: <code>.\\wandb\\run-20241020_223926-wmjc1uyk\\logs</code>"
      ]
     },
     "metadata": {},
     "output_type": "display_data"
    },
    {
     "data": {
      "text/plain": [
       "<IPython.core.display.HTML object>"
      ],
      "text/html": [
       "Successfully finished last run (ID:wmjc1uyk). Initializing new run:<br/>"
      ]
     },
     "metadata": {},
     "output_type": "display_data"
    },
    {
     "data": {
      "text/plain": [
       "<IPython.core.display.HTML object>"
      ],
      "text/html": [
       "Tracking run with wandb version 0.18.3"
      ]
     },
     "metadata": {},
     "output_type": "display_data"
    },
    {
     "data": {
      "text/plain": [
       "<IPython.core.display.HTML object>"
      ],
      "text/html": [
       "Run data is saved locally in <code>C:\\Users\\Martin\\Documents\\School\\Thesis\\Git Repository\\pytorch-image-models\\Jupyter Notebooks\\wandb\\run-20241020_224029-ybwekudh</code>"
      ]
     },
     "metadata": {},
     "output_type": "display_data"
    },
    {
     "data": {
      "text/plain": [
       "<IPython.core.display.HTML object>"
      ],
      "text/html": [
       "Syncing run <strong><a href='https://wandb.ai/martingratzer-organization/Renyi_Divergence_MNIST/runs/ybwekudh' target=\"_blank\">Teacher Model</a></strong> to <a href='https://wandb.ai/martingratzer-organization/Renyi_Divergence_MNIST' target=\"_blank\">Weights & Biases</a> (<a href='https://wandb.me/run' target=\"_blank\">docs</a>)<br/>"
      ]
     },
     "metadata": {},
     "output_type": "display_data"
    },
    {
     "data": {
      "text/plain": [
       "<IPython.core.display.HTML object>"
      ],
      "text/html": [
       " View project at <a href='https://wandb.ai/martingratzer-organization/Renyi_Divergence_MNIST' target=\"_blank\">https://wandb.ai/martingratzer-organization/Renyi_Divergence_MNIST</a>"
      ]
     },
     "metadata": {},
     "output_type": "display_data"
    },
    {
     "data": {
      "text/plain": [
       "<IPython.core.display.HTML object>"
      ],
      "text/html": [
       " View run at <a href='https://wandb.ai/martingratzer-organization/Renyi_Divergence_MNIST/runs/ybwekudh' target=\"_blank\">https://wandb.ai/martingratzer-organization/Renyi_Divergence_MNIST/runs/ybwekudh</a>"
      ]
     },
     "metadata": {},
     "output_type": "display_data"
    },
    {
     "name": "stdout",
     "output_type": "stream",
     "text": [
      "Starting training...\n",
      "---Epoch 1---\n",
      "Average Train Loss: 0.8255 \t \t Train Accuracy: 72.87%\n",
      "Average Validation Loss: 0.3041 \t Validation Accuracy: 90.23%\n",
      "---Epoch 2---\n",
      "Average Train Loss: 0.4372 \t \t Train Accuracy: 86.59%\n",
      "Average Validation Loss: 0.2307 \t Validation Accuracy: 93.20%\n",
      "---Epoch 3---\n",
      "Average Train Loss: 0.3666 \t \t Train Accuracy: 88.79%\n",
      "Average Validation Loss: 0.1856 \t Validation Accuracy: 94.30%\n",
      "---Epoch 4---\n",
      "Average Train Loss: 0.3283 \t \t Train Accuracy: 89.93%\n",
      "Average Validation Loss: 0.1665 \t Validation Accuracy: 95.40%\n",
      "---Epoch 5---\n",
      "Average Train Loss: 0.3040 \t \t Train Accuracy: 90.77%\n",
      "Average Validation Loss: 0.1465 \t Validation Accuracy: 95.50%\n",
      "---Epoch 6---\n",
      "Average Train Loss: 0.2812 \t \t Train Accuracy: 91.45%\n",
      "Average Validation Loss: 0.1578 \t Validation Accuracy: 95.37%\n",
      "---Epoch 7---\n",
      "Average Train Loss: 0.2735 \t \t Train Accuracy: 91.66%\n",
      "Average Validation Loss: 0.1470 \t Validation Accuracy: 95.73%\n",
      "---Epoch 8---\n",
      "Average Train Loss: 0.2621 \t \t Train Accuracy: 92.06%\n",
      "Average Validation Loss: 0.1319 \t Validation Accuracy: 96.03%\n",
      "---Epoch 9---\n",
      "Average Train Loss: 0.2586 \t \t Train Accuracy: 92.03%\n",
      "Average Validation Loss: 0.1386 \t Validation Accuracy: 95.63%\n",
      "---Epoch 10---\n",
      "Average Train Loss: 0.2489 \t \t Train Accuracy: 92.50%\n",
      "Average Validation Loss: 0.1283 \t Validation Accuracy: 96.00%\n",
      "Training finished.\n",
      "Average Validation Loss: 0.1217\t Validation Accuracy: 96.25%\n"
     ]
    },
    {
     "data": {
      "text/plain": [
       "<IPython.core.display.HTML object>"
      ],
      "text/html": [
       "<style>\n",
       "    table.wandb td:nth-child(1) { padding: 0 10px; text-align: left ; width: auto;} td:nth-child(2) {text-align: left ; width: 100%}\n",
       "    .wandb-row { display: flex; flex-direction: row; flex-wrap: wrap; justify-content: flex-start; width: 100% }\n",
       "    .wandb-col { display: flex; flex-direction: column; flex-basis: 100%; flex: 1; padding: 10px; }\n",
       "    </style>\n",
       "<div class=\"wandb-row\"><div class=\"wandb-col\"><h3>Run history:</h3><br/><table class=\"wandb\"><tr><td>epoch</td><td>▁▂▃▃▄▅▆▆▇█</td></tr><tr><td>train_accuracy</td><td>▁▆▇▇▇█████</td></tr><tr><td>train_loss</td><td>█▃▂▂▂▁▁▁▁▁</td></tr><tr><td>val_accuracy</td><td>▁▅▆▇▇▇████</td></tr><tr><td>val_loss</td><td>█▅▃▃▂▂▂▁▁▁</td></tr></table><br/></div><div class=\"wandb-col\"><h3>Run summary:</h3><br/><table class=\"wandb\"><tr><td>epoch</td><td>9</td></tr><tr><td>train_accuracy</td><td>92.5</td></tr><tr><td>train_loss</td><td>0.24892</td></tr><tr><td>val_accuracy</td><td>96</td></tr><tr><td>val_loss</td><td>0.1283</td></tr></table><br/></div></div>"
      ]
     },
     "metadata": {},
     "output_type": "display_data"
    },
    {
     "data": {
      "text/plain": [
       "<IPython.core.display.HTML object>"
      ],
      "text/html": [
       " View run <strong style=\"color:#cdcd00\">Teacher Model</strong> at: <a href='https://wandb.ai/martingratzer-organization/Renyi_Divergence_MNIST/runs/ybwekudh' target=\"_blank\">https://wandb.ai/martingratzer-organization/Renyi_Divergence_MNIST/runs/ybwekudh</a><br/> View project at: <a href='https://wandb.ai/martingratzer-organization/Renyi_Divergence_MNIST' target=\"_blank\">https://wandb.ai/martingratzer-organization/Renyi_Divergence_MNIST</a><br/>Synced 5 W&B file(s), 0 media file(s), 2 artifact file(s) and 0 other file(s)"
      ]
     },
     "metadata": {},
     "output_type": "display_data"
    },
    {
     "data": {
      "text/plain": [
       "<IPython.core.display.HTML object>"
      ],
      "text/html": [
       "Find logs at: <code>.\\wandb\\run-20241020_224029-ybwekudh\\logs</code>"
      ]
     },
     "metadata": {},
     "output_type": "display_data"
    }
   ],
   "execution_count": 117
  },
  {
   "metadata": {
    "ExecuteTime": {
     "end_time": "2024-10-20T19:45:32.071147Z",
     "start_time": "2024-10-20T19:45:32.064988Z"
    }
   },
   "cell_type": "code",
   "source": [
    "class StudentNetwork(nn.Module):\n",
    "    def __init__(self):\n",
    "        super(StudentNetwork, self).__init__()\n",
    "        self.fc1 = nn.Linear(14 * 14, 32)\n",
    "        self.fc2 = nn.Linear(32, 16)\n",
    "        self.fc3 = nn.Linear(16, 10)\n",
    "        self.dropout_input = 0.1\n",
    "        self.dropout_hidden = 0.3\n",
    "        self.is_training = True\n",
    "\n",
    "    def forward(self, x):\n",
    "        x = x.view(-1, 14 * 14)  # Flatten the image\n",
    "        x = F.dropout(x, p=self.dropout_input, training=self.is_training)\n",
    "        x = F.dropout(F.relu(self.fc1(x)), p=self.dropout_hidden, training=self.is_training)\n",
    "        x = F.dropout(F.relu(self.fc2(x)), p=self.dropout_hidden, training=self.is_training)\n",
    "        x = self.fc3(x)\n",
    "        return x\n"
   ],
   "id": "6729eee0dfb975d2",
   "outputs": [],
   "execution_count": 109
  },
  {
   "metadata": {
    "ExecuteTime": {
     "end_time": "2024-10-20T20:45:14.386536Z",
     "start_time": "2024-10-20T20:43:40.552531Z"
    }
   },
   "cell_type": "code",
   "source": [
    "device = torch.device(\"cuda\" if torch.cuda.is_available() else \"cpu\")\n",
    "vanilla_model = StudentNetwork().to(device)\n",
    "optimizer = optim.SGD(vanilla_model.parameters(), lr=0.01, momentum=0.9, weight_decay=5e-4)\n",
    "num_epochs = 10\n",
    "\n",
    "wandb.init(\n",
    "    project=\"Renyi_Divergence_MNIST\",\n",
    "    name = \"Vanilla Model\",\n",
    "    config={}\n",
    ")\n",
    "\n",
    "print(\"Starting training...\")\n",
    "\n",
    "for epoch in range(num_epochs):\n",
    "    print(f'---Epoch {epoch+1}---')\n",
    "    \n",
    "    train_loss, train_accuracy, size = 0, 0, 0\n",
    "    for i, (data, targets) in enumerate(train_loader):\n",
    "        data, targets = data.to(device), targets.to(device)\n",
    "        optimizer.zero_grad()\n",
    "        outputs = vanilla_model(data)\n",
    "        loss = nn.CrossEntropyLoss()(outputs, targets)\n",
    "        loss.backward()\n",
    "        optimizer.step()\n",
    "        train_loss += loss.item() * targets.size(0)\n",
    "        train_accuracy += torch.sum(torch.argmax(outputs, dim=1) == targets).item()\n",
    "        size += targets.size(0)\n",
    "        \n",
    "    train_loss = train_loss/size\n",
    "    train_accuracy = train_accuracy/size\n",
    "    \n",
    "    print(f'Average Train Loss: {train_loss:.4f} \\t \\t Train Accuracy: {100*train_accuracy:.2f}%')\n",
    "    \n",
    "    vanilla_model.is_training = False\n",
    "    \n",
    "    val_loss, val_accuracy, size = 0, 0, 0\n",
    "    for i, (data, targets) in enumerate(val_loader):\n",
    "        data, targets = data.to(device), targets.to(device)\n",
    "        with torch.no_grad():\n",
    "            pred = vanilla_model(data)\n",
    "            val_loss += nn.CrossEntropyLoss()(pred, targets) * targets.shape[0]\n",
    "            val_accuracy += torch.sum(torch.argmax(pred, dim=1) == targets).item()\n",
    "        size += targets.shape[0]\n",
    "    \n",
    "    val_loss, val_accuracy = val_loss / size, val_accuracy / size\n",
    "    \n",
    "    print(f'Average Validation Loss: {val_loss:.4f} \\t Validation Accuracy: {100*val_accuracy:.2f}%')\n",
    "    \n",
    "    wandb.log({\"train_loss\": train_loss,\n",
    "               \"val_loss\": val_loss,\n",
    "               \"train_accuracy\": 100*train_accuracy,\n",
    "               \"val_accuracy\": 100*val_accuracy,\n",
    "               \"epoch\": epoch\n",
    "               }\n",
    "    )\n",
    "    \n",
    "    vanilla_model.is_training = True\n",
    "\n",
    "vanilla_model.is_training = False\n",
    "test_loss, test_accuracy, size = 0, 0, 0\n",
    "\n",
    "for i, (data, targets) in enumerate(test_loader):\n",
    "        data, targets = data.to(device), targets.to(device)\n",
    "        with torch.no_grad():\n",
    "            pred = vanilla_model(data)\n",
    "            test_loss += nn.CrossEntropyLoss()(pred, targets) * targets.shape[0]\n",
    "            test_accuracy += torch.sum(torch.argmax(pred, dim=1) == targets).item()\n",
    "        size += targets.shape[0]\n",
    "\n",
    "test_loss, test_accuracy = test_loss / size, test_accuracy / size\n",
    "\n",
    "print(f'Training finished.')\n",
    "print(f'Average Validation Loss: {test_loss:.4f}\\t Validation Accuracy: {100*test_accuracy:.2f}%')\n",
    "\n",
    "wandb.finish()"
   ],
   "id": "3e08b44480c71b08",
   "outputs": [
    {
     "data": {
      "text/plain": [
       "<IPython.core.display.HTML object>"
      ],
      "text/html": [
       "Tracking run with wandb version 0.18.3"
      ]
     },
     "metadata": {},
     "output_type": "display_data"
    },
    {
     "data": {
      "text/plain": [
       "<IPython.core.display.HTML object>"
      ],
      "text/html": [
       "Run data is saved locally in <code>C:\\Users\\Martin\\Documents\\School\\Thesis\\Git Repository\\pytorch-image-models\\Jupyter Notebooks\\wandb\\run-20241020_224340-5q9co1k3</code>"
      ]
     },
     "metadata": {},
     "output_type": "display_data"
    },
    {
     "data": {
      "text/plain": [
       "<IPython.core.display.HTML object>"
      ],
      "text/html": [
       "Syncing run <strong><a href='https://wandb.ai/martingratzer-organization/Renyi_Divergence_MNIST/runs/5q9co1k3' target=\"_blank\">Vanilla Model</a></strong> to <a href='https://wandb.ai/martingratzer-organization/Renyi_Divergence_MNIST' target=\"_blank\">Weights & Biases</a> (<a href='https://wandb.me/run' target=\"_blank\">docs</a>)<br/>"
      ]
     },
     "metadata": {},
     "output_type": "display_data"
    },
    {
     "data": {
      "text/plain": [
       "<IPython.core.display.HTML object>"
      ],
      "text/html": [
       " View project at <a href='https://wandb.ai/martingratzer-organization/Renyi_Divergence_MNIST' target=\"_blank\">https://wandb.ai/martingratzer-organization/Renyi_Divergence_MNIST</a>"
      ]
     },
     "metadata": {},
     "output_type": "display_data"
    },
    {
     "data": {
      "text/plain": [
       "<IPython.core.display.HTML object>"
      ],
      "text/html": [
       " View run at <a href='https://wandb.ai/martingratzer-organization/Renyi_Divergence_MNIST/runs/5q9co1k3' target=\"_blank\">https://wandb.ai/martingratzer-organization/Renyi_Divergence_MNIST/runs/5q9co1k3</a>"
      ]
     },
     "metadata": {},
     "output_type": "display_data"
    },
    {
     "name": "stdout",
     "output_type": "stream",
     "text": [
      "Starting training...\n",
      "---Epoch 1---\n",
      "Average Train Loss: 1.2428 \t \t Train Accuracy: 57.08%\n",
      "Average Validation Loss: 0.4659 \t Validation Accuracy: 87.13%\n",
      "---Epoch 2---\n",
      "Average Train Loss: 0.7951 \t \t Train Accuracy: 74.62%\n",
      "Average Validation Loss: 0.3660 \t Validation Accuracy: 90.10%\n",
      "---Epoch 3---\n",
      "Average Train Loss: 0.7304 \t \t Train Accuracy: 76.75%\n",
      "Average Validation Loss: 0.3417 \t Validation Accuracy: 90.10%\n",
      "---Epoch 4---\n",
      "Average Train Loss: 0.6868 \t \t Train Accuracy: 78.25%\n",
      "Average Validation Loss: 0.3381 \t Validation Accuracy: 90.57%\n",
      "---Epoch 5---\n",
      "Average Train Loss: 0.6746 \t \t Train Accuracy: 78.95%\n",
      "Average Validation Loss: 0.3309 \t Validation Accuracy: 90.90%\n",
      "---Epoch 6---\n",
      "Average Train Loss: 0.6565 \t \t Train Accuracy: 79.66%\n",
      "Average Validation Loss: 0.2813 \t Validation Accuracy: 91.83%\n",
      "---Epoch 7---\n",
      "Average Train Loss: 0.6406 \t \t Train Accuracy: 80.07%\n",
      "Average Validation Loss: 0.2857 \t Validation Accuracy: 91.97%\n",
      "---Epoch 8---\n",
      "Average Train Loss: 0.6278 \t \t Train Accuracy: 80.46%\n",
      "Average Validation Loss: 0.3040 \t Validation Accuracy: 91.87%\n",
      "---Epoch 9---\n",
      "Average Train Loss: 0.6235 \t \t Train Accuracy: 80.92%\n",
      "Average Validation Loss: 0.2673 \t Validation Accuracy: 91.87%\n",
      "---Epoch 10---\n",
      "Average Train Loss: 0.6170 \t \t Train Accuracy: 81.01%\n",
      "Average Validation Loss: 0.2782 \t Validation Accuracy: 92.17%\n",
      "Training finished.\n",
      "Average Validation Loss: 0.2792\t Validation Accuracy: 92.22%\n"
     ]
    },
    {
     "data": {
      "text/plain": [
       "<IPython.core.display.HTML object>"
      ],
      "text/html": [
       "<style>\n",
       "    table.wandb td:nth-child(1) { padding: 0 10px; text-align: left ; width: auto;} td:nth-child(2) {text-align: left ; width: 100%}\n",
       "    .wandb-row { display: flex; flex-direction: row; flex-wrap: wrap; justify-content: flex-start; width: 100% }\n",
       "    .wandb-col { display: flex; flex-direction: column; flex-basis: 100%; flex: 1; padding: 10px; }\n",
       "    </style>\n",
       "<div class=\"wandb-row\"><div class=\"wandb-col\"><h3>Run history:</h3><br/><table class=\"wandb\"><tr><td>epoch</td><td>▁▂▃▃▄▅▆▆▇█</td></tr><tr><td>train_accuracy</td><td>▁▆▇▇▇█████</td></tr><tr><td>train_loss</td><td>█▃▂▂▂▁▁▁▁▁</td></tr><tr><td>val_accuracy</td><td>▁▅▅▆▆█████</td></tr><tr><td>val_loss</td><td>█▄▄▃▃▁▂▂▁▁</td></tr></table><br/></div><div class=\"wandb-col\"><h3>Run summary:</h3><br/><table class=\"wandb\"><tr><td>epoch</td><td>9</td></tr><tr><td>train_accuracy</td><td>81.00526</td></tr><tr><td>train_loss</td><td>0.61698</td></tr><tr><td>val_accuracy</td><td>92.16667</td></tr><tr><td>val_loss</td><td>0.27819</td></tr></table><br/></div></div>"
      ]
     },
     "metadata": {},
     "output_type": "display_data"
    },
    {
     "data": {
      "text/plain": [
       "<IPython.core.display.HTML object>"
      ],
      "text/html": [
       " View run <strong style=\"color:#cdcd00\">Vanilla Model</strong> at: <a href='https://wandb.ai/martingratzer-organization/Renyi_Divergence_MNIST/runs/5q9co1k3' target=\"_blank\">https://wandb.ai/martingratzer-organization/Renyi_Divergence_MNIST/runs/5q9co1k3</a><br/> View project at: <a href='https://wandb.ai/martingratzer-organization/Renyi_Divergence_MNIST' target=\"_blank\">https://wandb.ai/martingratzer-organization/Renyi_Divergence_MNIST</a><br/>Synced 5 W&B file(s), 0 media file(s), 0 artifact file(s) and 0 other file(s)"
      ]
     },
     "metadata": {},
     "output_type": "display_data"
    },
    {
     "data": {
      "text/plain": [
       "<IPython.core.display.HTML object>"
      ],
      "text/html": [
       "Find logs at: <code>.\\wandb\\run-20241020_224340-5q9co1k3\\logs</code>"
      ]
     },
     "metadata": {},
     "output_type": "display_data"
    }
   ],
   "execution_count": 118
  },
  {
   "metadata": {
    "ExecuteTime": {
     "end_time": "2024-10-20T20:55:42.122021Z",
     "start_time": "2024-10-20T20:51:37.219797Z"
    }
   },
   "cell_type": "code",
   "source": [
    "device = torch.device(\"cuda\" if torch.cuda.is_available() else \"cpu\")\n",
    "student_model = StudentNetwork().to(device)\n",
    "optimizer = optim.SGD(student_model.parameters(), lr=0.01, momentum=0.9, weight_decay=5e-4)\n",
    "num_epochs = 10\n",
    "temperature = 10\n",
    "beta = 10\n",
    "alpha = 0.5\n",
    "\n",
    "wandb.init(\n",
    "    project=\"Renyi_Divergence_MNIST\",\n",
    "    name = \"Student Model\",\n",
    "    config={\n",
    "        \"beta\": beta,\n",
    "        \"temperature\": temperature,\n",
    "        \"alpha\": alpha\n",
    "    }\n",
    ")\n",
    "\n",
    "print(\"Starting training...\")\n",
    "\n",
    "for epoch in range(num_epochs):\n",
    "    print(f'---Epoch {epoch+1}---')\n",
    "    \n",
    "    train_loss, train_accuracy, size = 0, 0, 0\n",
    "    for i, (data, targets) in enumerate(train_loader):\n",
    "        data, targets = data.to(device), targets.to(device)\n",
    "        optimizer.zero_grad()\n",
    "        outputs = student_model(data)\n",
    "        with torch.no_grad():\n",
    "            teacher_outputs = teacher_model(data)\n",
    "        loss = nn.CrossEntropyLoss()(outputs, targets) + beta * RenyiDivergence(alpha=alpha)(outputs/temperature, teacher_outputs/temperature)\n",
    "        loss.backward()\n",
    "        optimizer.step()\n",
    "        train_loss += loss.item() * targets.size(0)\n",
    "        train_accuracy += torch.sum(torch.argmax(outputs, dim=1) == targets).item()\n",
    "        size += targets.size(0)\n",
    "        \n",
    "    train_loss = train_loss/size\n",
    "    train_accuracy = train_accuracy/size\n",
    "    \n",
    "    print(f'Average Train Loss: {train_loss:.4f} \\t \\t Train Accuracy: {100*train_accuracy:.2f}%')\n",
    "    \n",
    "    student_model.is_training = False\n",
    "    \n",
    "    val_loss, val_accuracy, size = 0, 0, 0\n",
    "    for i, (data, targets) in enumerate(val_loader):\n",
    "        data, targets = data.to(device), targets.to(device)\n",
    "        with torch.no_grad():\n",
    "            pred = student_model(data)\n",
    "            val_loss += nn.CrossEntropyLoss()(pred, targets) * targets.shape[0]\n",
    "            val_accuracy += torch.sum(torch.argmax(pred, dim=1) == targets).item()\n",
    "        size += targets.shape[0]\n",
    "    \n",
    "    val_loss, val_accuracy = val_loss / size, val_accuracy / size\n",
    "    \n",
    "    print(f'Average Validation Loss: {val_loss:.4f} \\t Validation Accuracy: {100*val_accuracy:.2f}%')\n",
    "    \n",
    "    wandb.log({\"train_loss\": train_loss,\n",
    "               \"val_loss\": val_loss,\n",
    "               \"train_accuracy\": 100*train_accuracy,\n",
    "               \"val_accuracy\": 100*val_accuracy,\n",
    "               \"epoch\": epoch\n",
    "               }\n",
    "    )\n",
    "    \n",
    "    student_model.is_training = True\n",
    "\n",
    "student_model.is_training = False\n",
    "test_loss, test_accuracy, size = 0, 0, 0\n",
    "\n",
    "for i, (data, targets) in enumerate(test_loader):\n",
    "        data, targets = data.to(device), targets.to(device)\n",
    "        with torch.no_grad():\n",
    "            pred = student_model(data)\n",
    "            test_loss += nn.CrossEntropyLoss()(pred, targets) * targets.shape[0]\n",
    "            test_accuracy += torch.sum(torch.argmax(pred, dim=1) == targets).item()\n",
    "        size += targets.shape[0]\n",
    "\n",
    "test_loss, test_accuracy = test_loss / size, test_accuracy / size\n",
    "\n",
    "print(f'Training finished.')\n",
    "print(f'Average Validation Loss: {test_loss:.4f}\\t Validation Accuracy: {100*test_accuracy:.2f}%')\n",
    "\n",
    "wandb.finish()"
   ],
   "id": "aebbdc1fe0b07860",
   "outputs": [
    {
     "data": {
      "text/plain": [
       "<IPython.core.display.HTML object>"
      ],
      "text/html": [
       "Tracking run with wandb version 0.18.3"
      ]
     },
     "metadata": {},
     "output_type": "display_data"
    },
    {
     "data": {
      "text/plain": [
       "<IPython.core.display.HTML object>"
      ],
      "text/html": [
       "Run data is saved locally in <code>C:\\Users\\Martin\\Documents\\School\\Thesis\\Git Repository\\pytorch-image-models\\Jupyter Notebooks\\wandb\\run-20241020_225137-qh02zdjr</code>"
      ]
     },
     "metadata": {},
     "output_type": "display_data"
    },
    {
     "data": {
      "text/plain": [
       "<IPython.core.display.HTML object>"
      ],
      "text/html": [
       "Syncing run <strong><a href='https://wandb.ai/martingratzer-organization/Renyi_Divergence_MNIST/runs/qh02zdjr' target=\"_blank\">Student Model</a></strong> to <a href='https://wandb.ai/martingratzer-organization/Renyi_Divergence_MNIST' target=\"_blank\">Weights & Biases</a> (<a href='https://wandb.me/run' target=\"_blank\">docs</a>)<br/>"
      ]
     },
     "metadata": {},
     "output_type": "display_data"
    },
    {
     "data": {
      "text/plain": [
       "<IPython.core.display.HTML object>"
      ],
      "text/html": [
       " View project at <a href='https://wandb.ai/martingratzer-organization/Renyi_Divergence_MNIST' target=\"_blank\">https://wandb.ai/martingratzer-organization/Renyi_Divergence_MNIST</a>"
      ]
     },
     "metadata": {},
     "output_type": "display_data"
    },
    {
     "data": {
      "text/plain": [
       "<IPython.core.display.HTML object>"
      ],
      "text/html": [
       " View run at <a href='https://wandb.ai/martingratzer-organization/Renyi_Divergence_MNIST/runs/qh02zdjr' target=\"_blank\">https://wandb.ai/martingratzer-organization/Renyi_Divergence_MNIST/runs/qh02zdjr</a>"
      ]
     },
     "metadata": {},
     "output_type": "display_data"
    },
    {
     "name": "stdout",
     "output_type": "stream",
     "text": [
      "Starting training...\n",
      "---Epoch 1---\n",
      "Average Train Loss: 1.4920 \t \t Train Accuracy: 59.17%\n",
      "Average Validation Loss: 0.4138 \t Validation Accuracy: 88.40%\n",
      "---Epoch 2---\n",
      "Average Train Loss: 0.9656 \t \t Train Accuracy: 76.63%\n",
      "Average Validation Loss: 0.3574 \t Validation Accuracy: 90.43%\n",
      "---Epoch 3---\n",
      "Average Train Loss: 0.9023 \t \t Train Accuracy: 78.28%\n",
      "Average Validation Loss: 0.3273 \t Validation Accuracy: 90.63%\n",
      "---Epoch 4---\n",
      "Average Train Loss: 0.8640 \t \t Train Accuracy: 79.59%\n",
      "Average Validation Loss: 0.3128 \t Validation Accuracy: 90.77%\n",
      "---Epoch 5---\n",
      "Average Train Loss: 0.8534 \t \t Train Accuracy: 79.82%\n",
      "Average Validation Loss: 0.3089 \t Validation Accuracy: 90.90%\n",
      "---Epoch 6---\n",
      "Average Train Loss: 0.8253 \t \t Train Accuracy: 80.60%\n",
      "Average Validation Loss: 0.3056 \t Validation Accuracy: 91.23%\n",
      "---Epoch 7---\n",
      "Average Train Loss: 0.8236 \t \t Train Accuracy: 80.65%\n",
      "Average Validation Loss: 0.2812 \t Validation Accuracy: 91.70%\n",
      "---Epoch 8---\n",
      "Average Train Loss: 0.8121 \t \t Train Accuracy: 81.03%\n",
      "Average Validation Loss: 0.2811 \t Validation Accuracy: 92.50%\n",
      "---Epoch 9---\n",
      "Average Train Loss: 0.8181 \t \t Train Accuracy: 80.75%\n",
      "Average Validation Loss: 0.2724 \t Validation Accuracy: 92.13%\n",
      "---Epoch 10---\n",
      "Average Train Loss: 0.8027 \t \t Train Accuracy: 81.29%\n",
      "Average Validation Loss: 0.2741 \t Validation Accuracy: 91.87%\n",
      "Training finished.\n",
      "Average Validation Loss: 0.2669\t Validation Accuracy: 92.17%\n"
     ]
    },
    {
     "data": {
      "text/plain": [
       "<IPython.core.display.HTML object>"
      ],
      "text/html": [
       "<style>\n",
       "    table.wandb td:nth-child(1) { padding: 0 10px; text-align: left ; width: auto;} td:nth-child(2) {text-align: left ; width: 100%}\n",
       "    .wandb-row { display: flex; flex-direction: row; flex-wrap: wrap; justify-content: flex-start; width: 100% }\n",
       "    .wandb-col { display: flex; flex-direction: column; flex-basis: 100%; flex: 1; padding: 10px; }\n",
       "    </style>\n",
       "<div class=\"wandb-row\"><div class=\"wandb-col\"><h3>Run history:</h3><br/><table class=\"wandb\"><tr><td>epoch</td><td>▁▂▃▃▄▅▆▆▇█</td></tr><tr><td>train_accuracy</td><td>▁▇▇▇██████</td></tr><tr><td>train_loss</td><td>█▃▂▂▂▁▁▁▁▁</td></tr><tr><td>val_accuracy</td><td>▁▄▅▅▅▆▇█▇▇</td></tr><tr><td>val_loss</td><td>█▅▄▃▃▃▁▁▁▁</td></tr></table><br/></div><div class=\"wandb-col\"><h3>Run summary:</h3><br/><table class=\"wandb\"><tr><td>epoch</td><td>9</td></tr><tr><td>train_accuracy</td><td>81.28596</td></tr><tr><td>train_loss</td><td>0.80274</td></tr><tr><td>val_accuracy</td><td>91.86667</td></tr><tr><td>val_loss</td><td>0.2741</td></tr></table><br/></div></div>"
      ]
     },
     "metadata": {},
     "output_type": "display_data"
    },
    {
     "data": {
      "text/plain": [
       "<IPython.core.display.HTML object>"
      ],
      "text/html": [
       " View run <strong style=\"color:#cdcd00\">Student Model</strong> at: <a href='https://wandb.ai/martingratzer-organization/Renyi_Divergence_MNIST/runs/qh02zdjr' target=\"_blank\">https://wandb.ai/martingratzer-organization/Renyi_Divergence_MNIST/runs/qh02zdjr</a><br/> View project at: <a href='https://wandb.ai/martingratzer-organization/Renyi_Divergence_MNIST' target=\"_blank\">https://wandb.ai/martingratzer-organization/Renyi_Divergence_MNIST</a><br/>Synced 5 W&B file(s), 0 media file(s), 0 artifact file(s) and 0 other file(s)"
      ]
     },
     "metadata": {},
     "output_type": "display_data"
    },
    {
     "data": {
      "text/plain": [
       "<IPython.core.display.HTML object>"
      ],
      "text/html": [
       "Find logs at: <code>.\\wandb\\run-20241020_225137-qh02zdjr\\logs</code>"
      ]
     },
     "metadata": {},
     "output_type": "display_data"
    }
   ],
   "execution_count": 121
  },
  {
   "metadata": {
    "ExecuteTime": {
     "end_time": "2024-10-21T16:09:50.026743Z",
     "start_time": "2024-10-21T16:09:50.010062Z"
    }
   },
   "cell_type": "code",
   "source": [
    "def train(config=None):\n",
    "    with wandb.init(config=config):\n",
    "        config = wandb.config\n",
    "        device = torch.device(\"cuda\" if torch.cuda.is_available() else \"cpu\")\n",
    "        network = TeacherNetwork().to(device)\n",
    "        destilation, teacher_model = False, None\n",
    "        epochs = 10\n",
    "        \n",
    "        train_loader, val_loader, test_loader = build_dataset()\n",
    "        \n",
    "        optimizer = optim.SGD(network.parameters(), lr=config.learning_rate, momentum=config.momentum, weight_decay=config.weight_decay)\n",
    "        \n",
    "        for epoch in range(epochs):\n",
    "            train_epoch(epoch, network, train_loader, val_loader, optimizer, device, destilation, teacher_model, config)\n",
    "            "
   ],
   "id": "1bb9b032406949cb",
   "outputs": [],
   "execution_count": 165
  },
  {
   "metadata": {
    "ExecuteTime": {
     "end_time": "2024-10-21T16:09:51.452632Z",
     "start_time": "2024-10-21T16:09:51.433624Z"
    }
   },
   "cell_type": "code",
   "source": [
    "def build_dataset():\n",
    "    transform = transforms.Compose([\n",
    "        transforms.Resize((14, 14)),\n",
    "        transforms.ToTensor(),\n",
    "        transforms.Normalize((0.5,), (0.5,))])\n",
    "    train_dataset = datasets.MNIST(root='./data', train=True, download=True, transform=transform)\n",
    "    test_dataset = datasets.MNIST(root='./data', train=False, download=True, transform=transform)\n",
    "    train_dataset, val_dataset = torch.utils.data.random_split(train_dataset, [0.95,0.05], generator=torch.Generator().manual_seed(872))\n",
    "\n",
    "    train_loader = DataLoader(train_dataset, batch_size=64, shuffle=True, generator=torch.Generator().manual_seed(872))\n",
    "    val_loader = DataLoader(val_dataset, batch_size=64, shuffle=True, generator=torch.Generator().manual_seed(872))\n",
    "    test_loader = DataLoader(test_dataset, batch_size=1000, shuffle=False)\n",
    "\n",
    "    return train_loader, val_loader, test_loader\n",
    "    \n",
    "def train_epoch(epoch, network, train_loader, val_loader, optimizer, device, destilation, teacher_model, config):\n",
    "    train_loss, train_accuracy, size = 0, 0, 0\n",
    "    for i, (data, targets) in enumerate(train_loader):\n",
    "        data, targets = data.to(device), targets.to(device)\n",
    "        optimizer.zero_grad()\n",
    "        outputs = network(data)\n",
    "        if destilation:\n",
    "            with torch.no_grad():\n",
    "                teacher_outputs = teacher_model(data)\n",
    "            loss = nn.CrossEntropyLoss()(outputs, targets) + config.beta * RenyiDivergence(alpha=config.alpha)(outputs/config.temperature, teacher_outputs/config.temperature)\n",
    "        else:\n",
    "            loss = nn.CrossEntropyLoss()(outputs, targets)\n",
    "        loss.backward()\n",
    "        optimizer.step()\n",
    "        train_loss += loss.item() * targets.size(0)\n",
    "        train_accuracy += torch.sum(torch.argmax(outputs, dim=1) == targets).item()\n",
    "        size += targets.size(0)\n",
    "        \n",
    "    train_loss = train_loss/size\n",
    "    train_accuracy = train_accuracy/size\n",
    "    \n",
    "    print(f'Average Train Loss: {train_loss:.4f} \\t \\t Train Accuracy: {100*train_accuracy:.2f}%')\n",
    "    \n",
    "    network.is_training = False\n",
    "    \n",
    "    val_loss, val_accuracy, size = 0, 0, 0\n",
    "    for i, (data, targets) in enumerate(val_loader):\n",
    "        data, targets = data.to(device), targets.to(device)\n",
    "        with torch.no_grad():\n",
    "            pred = network(data)\n",
    "            val_loss += nn.CrossEntropyLoss()(pred, targets) * targets.shape[0]\n",
    "            val_accuracy += torch.sum(torch.argmax(pred, dim=1) == targets).item()\n",
    "        size += targets.shape[0]\n",
    "    \n",
    "    val_loss, val_accuracy = val_loss / size, val_accuracy / size\n",
    "    \n",
    "    print(f'Average Validation Loss: {val_loss:.4f} \\t Validation Accuracy: {100*val_accuracy:.2f}%')\n",
    "    \n",
    "    wandb.log({\"train_loss\": train_loss,\n",
    "               \"val_loss\": val_loss,\n",
    "               \"train_accuracy\": 100*train_accuracy,\n",
    "               \"val_accuracy\": 100*val_accuracy,\n",
    "               \"epoch\": epoch\n",
    "               }\n",
    "    )\n",
    "    \n",
    "    network.is_training = True"
   ],
   "id": "198b85b4ff848c35",
   "outputs": [],
   "execution_count": 166
  },
  {
   "metadata": {
    "ExecuteTime": {
     "end_time": "2024-10-21T16:09:53.409931Z",
     "start_time": "2024-10-21T16:09:53.405933Z"
    }
   },
   "cell_type": "code",
   "source": [
    "sweep_config = {\n",
    "    'method': 'random',\n",
    "    'metric': {'name': 'val_accuracy', 'goal': 'maximize'},\n",
    "    'parameters': {\n",
    "        'learning_rate': {'distribution': 'uniform', 'min': 0.005, 'max': 0.05},\n",
    "        'momentum': {'distribution': 'uniform', 'min': 0.5, 'max': 0.99},\n",
    "        'weight_decay': {'distribution': 'uniform', 'min': 5e-5, 'max': 5e-4},\n",
    "        # 'beta': {'distribution': 'int_uniform', 'min': 2, 'max': 25},\n",
    "        # 'alpha': {'distribution': 'uniform', 'min': 0.5, 'max': 2},\n",
    "        # 'temperature': {'distribution': 'int_uniform', 'min': 2, 'max': 25}\n",
    "    }\n",
    "}"
   ],
   "id": "ad9d14df25d6da2e",
   "outputs": [],
   "execution_count": 167
  },
  {
   "metadata": {
    "ExecuteTime": {
     "end_time": "2024-10-21T16:40:30.647341Z",
     "start_time": "2024-10-21T16:40:30.162509Z"
    }
   },
   "cell_type": "code",
   "source": "sweep_id = wandb.sweep(sweep_config, project=\"Renyi_Divergence_Sweep_Teacher\")",
   "id": "74f25816be43ff75",
   "outputs": [
    {
     "name": "stdout",
     "output_type": "stream",
     "text": [
      "Create sweep with ID: cneq5azj\n",
      "Sweep URL: https://wandb.ai/martingratzer-organization/Renyi_Divergence_Sweep_Teacher/sweeps/cneq5azj\n"
     ]
    }
   ],
   "execution_count": 169
  },
  {
   "metadata": {
    "ExecuteTime": {
     "end_time": "2024-10-21T17:37:07.994474Z",
     "start_time": "2024-10-21T16:40:33.120958Z"
    }
   },
   "cell_type": "code",
   "source": "wandb.agent(sweep_id, train, count=20)",
   "id": "9888b96a923b23a2",
   "outputs": [
    {
     "name": "stderr",
     "output_type": "stream",
     "text": [
      "wandb: Agent Starting Run: xqxkl2op with config:\n",
      "wandb: \tlearning_rate: 0.04834383805646818\n",
      "wandb: \tmomentum: 0.8039200462626437\n",
      "wandb: \tweight_decay: 0.0002704463131996436\n"
     ]
    },
    {
     "data": {
      "text/plain": [
       "<IPython.core.display.HTML object>"
      ],
      "text/html": [
       "Tracking run with wandb version 0.18.3"
      ]
     },
     "metadata": {},
     "output_type": "display_data"
    },
    {
     "data": {
      "text/plain": [
       "<IPython.core.display.HTML object>"
      ],
      "text/html": [
       "Run data is saved locally in <code>C:\\Users\\Martin\\Documents\\School\\Thesis\\Git Repository\\pytorch-image-models\\Jupyter Notebooks\\wandb\\run-20241021_184034-xqxkl2op</code>"
      ]
     },
     "metadata": {},
     "output_type": "display_data"
    },
    {
     "data": {
      "text/plain": [
       "<IPython.core.display.HTML object>"
      ],
      "text/html": [
       "Syncing run <strong><a href='https://wandb.ai/martingratzer-organization/Renyi_Divergence_Sweep_Teacher/runs/xqxkl2op' target=\"_blank\">clean-sweep-1</a></strong> to <a href='https://wandb.ai/martingratzer-organization/Renyi_Divergence_Sweep_Teacher' target=\"_blank\">Weights & Biases</a> (<a href='https://wandb.me/run' target=\"_blank\">docs</a>)<br/>Sweep page: <a href='https://wandb.ai/martingratzer-organization/Renyi_Divergence_Sweep_Teacher/sweeps/cneq5azj' target=\"_blank\">https://wandb.ai/martingratzer-organization/Renyi_Divergence_Sweep_Teacher/sweeps/cneq5azj</a>"
      ]
     },
     "metadata": {},
     "output_type": "display_data"
    },
    {
     "data": {
      "text/plain": [
       "<IPython.core.display.HTML object>"
      ],
      "text/html": [
       " View project at <a href='https://wandb.ai/martingratzer-organization/Renyi_Divergence_Sweep_Teacher' target=\"_blank\">https://wandb.ai/martingratzer-organization/Renyi_Divergence_Sweep_Teacher</a>"
      ]
     },
     "metadata": {},
     "output_type": "display_data"
    },
    {
     "data": {
      "text/plain": [
       "<IPython.core.display.HTML object>"
      ],
      "text/html": [
       " View sweep at <a href='https://wandb.ai/martingratzer-organization/Renyi_Divergence_Sweep_Teacher/sweeps/cneq5azj' target=\"_blank\">https://wandb.ai/martingratzer-organization/Renyi_Divergence_Sweep_Teacher/sweeps/cneq5azj</a>"
      ]
     },
     "metadata": {},
     "output_type": "display_data"
    },
    {
     "data": {
      "text/plain": [
       "<IPython.core.display.HTML object>"
      ],
      "text/html": [
       " View run at <a href='https://wandb.ai/martingratzer-organization/Renyi_Divergence_Sweep_Teacher/runs/xqxkl2op' target=\"_blank\">https://wandb.ai/martingratzer-organization/Renyi_Divergence_Sweep_Teacher/runs/xqxkl2op</a>"
      ]
     },
     "metadata": {},
     "output_type": "display_data"
    },
    {
     "name": "stdout",
     "output_type": "stream",
     "text": [
      "Average Train Loss: 0.6806 \t \t Train Accuracy: 77.98%\n",
      "Average Validation Loss: 0.2685 \t Validation Accuracy: 91.63%\n",
      "Average Train Loss: 0.4163 \t \t Train Accuracy: 87.19%\n",
      "Average Validation Loss: 0.1947 \t Validation Accuracy: 93.83%\n",
      "Average Train Loss: 0.3560 \t \t Train Accuracy: 89.20%\n",
      "Average Validation Loss: 0.1800 \t Validation Accuracy: 94.37%\n",
      "Average Train Loss: 0.3283 \t \t Train Accuracy: 89.93%\n",
      "Average Validation Loss: 0.1572 \t Validation Accuracy: 95.30%\n",
      "Average Train Loss: 0.3174 \t \t Train Accuracy: 90.24%\n",
      "Average Validation Loss: 0.1814 \t Validation Accuracy: 94.43%\n",
      "Average Train Loss: 0.2957 \t \t Train Accuracy: 90.94%\n",
      "Average Validation Loss: 0.1497 \t Validation Accuracy: 95.17%\n",
      "Average Train Loss: 0.2866 \t \t Train Accuracy: 91.39%\n",
      "Average Validation Loss: 0.1415 \t Validation Accuracy: 95.97%\n",
      "Average Train Loss: 0.2860 \t \t Train Accuracy: 91.26%\n",
      "Average Validation Loss: 0.1671 \t Validation Accuracy: 95.07%\n",
      "Average Train Loss: 0.2703 \t \t Train Accuracy: 91.64%\n",
      "Average Validation Loss: 0.1346 \t Validation Accuracy: 95.60%\n",
      "Average Train Loss: 0.2659 \t \t Train Accuracy: 91.95%\n",
      "Average Validation Loss: 0.1332 \t Validation Accuracy: 95.67%\n"
     ]
    },
    {
     "data": {
      "text/plain": [
       "<IPython.core.display.HTML object>"
      ],
      "text/html": [
       "<style>\n",
       "    table.wandb td:nth-child(1) { padding: 0 10px; text-align: left ; width: auto;} td:nth-child(2) {text-align: left ; width: 100%}\n",
       "    .wandb-row { display: flex; flex-direction: row; flex-wrap: wrap; justify-content: flex-start; width: 100% }\n",
       "    .wandb-col { display: flex; flex-direction: column; flex-basis: 100%; flex: 1; padding: 10px; }\n",
       "    </style>\n",
       "<div class=\"wandb-row\"><div class=\"wandb-col\"><h3>Run history:</h3><br/><table class=\"wandb\"><tr><td>epoch</td><td>▁▂▃▃▄▅▆▆▇█</td></tr><tr><td>train_accuracy</td><td>▁▆▇▇▇▇████</td></tr><tr><td>train_loss</td><td>█▄▃▂▂▂▁▁▁▁</td></tr><tr><td>val_accuracy</td><td>▁▅▅▇▆▇█▇▇█</td></tr><tr><td>val_loss</td><td>█▄▃▂▃▂▁▃▁▁</td></tr></table><br/></div><div class=\"wandb-col\"><h3>Run summary:</h3><br/><table class=\"wandb\"><tr><td>epoch</td><td>9</td></tr><tr><td>train_accuracy</td><td>91.94912</td></tr><tr><td>train_loss</td><td>0.2659</td></tr><tr><td>val_accuracy</td><td>95.66667</td></tr><tr><td>val_loss</td><td>0.13319</td></tr></table><br/></div></div>"
      ]
     },
     "metadata": {},
     "output_type": "display_data"
    },
    {
     "data": {
      "text/plain": [
       "<IPython.core.display.HTML object>"
      ],
      "text/html": [
       " View run <strong style=\"color:#cdcd00\">clean-sweep-1</strong> at: <a href='https://wandb.ai/martingratzer-organization/Renyi_Divergence_Sweep_Teacher/runs/xqxkl2op' target=\"_blank\">https://wandb.ai/martingratzer-organization/Renyi_Divergence_Sweep_Teacher/runs/xqxkl2op</a><br/> View project at: <a href='https://wandb.ai/martingratzer-organization/Renyi_Divergence_Sweep_Teacher' target=\"_blank\">https://wandb.ai/martingratzer-organization/Renyi_Divergence_Sweep_Teacher</a><br/>Synced 5 W&B file(s), 0 media file(s), 0 artifact file(s) and 0 other file(s)"
      ]
     },
     "metadata": {},
     "output_type": "display_data"
    },
    {
     "data": {
      "text/plain": [
       "<IPython.core.display.HTML object>"
      ],
      "text/html": [
       "Find logs at: <code>.\\wandb\\run-20241021_184034-xqxkl2op\\logs</code>"
      ]
     },
     "metadata": {},
     "output_type": "display_data"
    },
    {
     "name": "stderr",
     "output_type": "stream",
     "text": [
      "wandb: Agent Starting Run: dlzdhqe6 with config:\n",
      "wandb: \tlearning_rate: 0.04344498204357572\n",
      "wandb: \tmomentum: 0.7655968516460427\n",
      "wandb: \tweight_decay: 9.71515163619218e-05\n"
     ]
    },
    {
     "data": {
      "text/plain": [
       "<IPython.core.display.HTML object>"
      ],
      "text/html": [
       "Tracking run with wandb version 0.18.3"
      ]
     },
     "metadata": {},
     "output_type": "display_data"
    },
    {
     "data": {
      "text/plain": [
       "<IPython.core.display.HTML object>"
      ],
      "text/html": [
       "Run data is saved locally in <code>C:\\Users\\Martin\\Documents\\School\\Thesis\\Git Repository\\pytorch-image-models\\Jupyter Notebooks\\wandb\\run-20241021_184324-dlzdhqe6</code>"
      ]
     },
     "metadata": {},
     "output_type": "display_data"
    },
    {
     "data": {
      "text/plain": [
       "<IPython.core.display.HTML object>"
      ],
      "text/html": [
       "Syncing run <strong><a href='https://wandb.ai/martingratzer-organization/Renyi_Divergence_Sweep_Teacher/runs/dlzdhqe6' target=\"_blank\">comic-sweep-2</a></strong> to <a href='https://wandb.ai/martingratzer-organization/Renyi_Divergence_Sweep_Teacher' target=\"_blank\">Weights & Biases</a> (<a href='https://wandb.me/run' target=\"_blank\">docs</a>)<br/>Sweep page: <a href='https://wandb.ai/martingratzer-organization/Renyi_Divergence_Sweep_Teacher/sweeps/cneq5azj' target=\"_blank\">https://wandb.ai/martingratzer-organization/Renyi_Divergence_Sweep_Teacher/sweeps/cneq5azj</a>"
      ]
     },
     "metadata": {},
     "output_type": "display_data"
    },
    {
     "data": {
      "text/plain": [
       "<IPython.core.display.HTML object>"
      ],
      "text/html": [
       " View project at <a href='https://wandb.ai/martingratzer-organization/Renyi_Divergence_Sweep_Teacher' target=\"_blank\">https://wandb.ai/martingratzer-organization/Renyi_Divergence_Sweep_Teacher</a>"
      ]
     },
     "metadata": {},
     "output_type": "display_data"
    },
    {
     "data": {
      "text/plain": [
       "<IPython.core.display.HTML object>"
      ],
      "text/html": [
       " View sweep at <a href='https://wandb.ai/martingratzer-organization/Renyi_Divergence_Sweep_Teacher/sweeps/cneq5azj' target=\"_blank\">https://wandb.ai/martingratzer-organization/Renyi_Divergence_Sweep_Teacher/sweeps/cneq5azj</a>"
      ]
     },
     "metadata": {},
     "output_type": "display_data"
    },
    {
     "data": {
      "text/plain": [
       "<IPython.core.display.HTML object>"
      ],
      "text/html": [
       " View run at <a href='https://wandb.ai/martingratzer-organization/Renyi_Divergence_Sweep_Teacher/runs/dlzdhqe6' target=\"_blank\">https://wandb.ai/martingratzer-organization/Renyi_Divergence_Sweep_Teacher/runs/dlzdhqe6</a>"
      ]
     },
     "metadata": {},
     "output_type": "display_data"
    },
    {
     "name": "stdout",
     "output_type": "stream",
     "text": [
      "Average Train Loss: 0.7078 \t \t Train Accuracy: 77.17%\n",
      "Average Validation Loss: 0.2577 \t Validation Accuracy: 92.40%\n",
      "Average Train Loss: 0.3972 \t \t Train Accuracy: 87.91%\n",
      "Average Validation Loss: 0.1959 \t Validation Accuracy: 93.60%\n",
      "Average Train Loss: 0.3443 \t \t Train Accuracy: 89.49%\n",
      "Average Validation Loss: 0.1658 \t Validation Accuracy: 95.20%\n",
      "Average Train Loss: 0.3091 \t \t Train Accuracy: 90.58%\n",
      "Average Validation Loss: 0.1601 \t Validation Accuracy: 95.27%\n",
      "Average Train Loss: 0.2933 \t \t Train Accuracy: 91.25%\n",
      "Average Validation Loss: 0.1422 \t Validation Accuracy: 95.93%\n",
      "Average Train Loss: 0.2793 \t \t Train Accuracy: 91.50%\n",
      "Average Validation Loss: 0.1462 \t Validation Accuracy: 95.47%\n",
      "Average Train Loss: 0.2721 \t \t Train Accuracy: 91.69%\n",
      "Average Validation Loss: 0.1262 \t Validation Accuracy: 96.33%\n",
      "Average Train Loss: 0.2563 \t \t Train Accuracy: 92.11%\n",
      "Average Validation Loss: 0.1251 \t Validation Accuracy: 96.00%\n",
      "Average Train Loss: 0.2548 \t \t Train Accuracy: 92.26%\n",
      "Average Validation Loss: 0.1268 \t Validation Accuracy: 96.13%\n",
      "Average Train Loss: 0.2548 \t \t Train Accuracy: 92.17%\n",
      "Average Validation Loss: 0.1220 \t Validation Accuracy: 96.67%\n"
     ]
    },
    {
     "data": {
      "text/plain": [
       "<IPython.core.display.HTML object>"
      ],
      "text/html": [
       "<style>\n",
       "    table.wandb td:nth-child(1) { padding: 0 10px; text-align: left ; width: auto;} td:nth-child(2) {text-align: left ; width: 100%}\n",
       "    .wandb-row { display: flex; flex-direction: row; flex-wrap: wrap; justify-content: flex-start; width: 100% }\n",
       "    .wandb-col { display: flex; flex-direction: column; flex-basis: 100%; flex: 1; padding: 10px; }\n",
       "    </style>\n",
       "<div class=\"wandb-row\"><div class=\"wandb-col\"><h3>Run history:</h3><br/><table class=\"wandb\"><tr><td>epoch</td><td>▁▂▃▃▄▅▆▆▇█</td></tr><tr><td>train_accuracy</td><td>▁▆▇▇██████</td></tr><tr><td>train_loss</td><td>█▃▂▂▂▁▁▁▁▁</td></tr><tr><td>val_accuracy</td><td>▁▃▆▆▇▆▇▇▇█</td></tr><tr><td>val_loss</td><td>█▅▃▃▂▂▁▁▁▁</td></tr></table><br/></div><div class=\"wandb-col\"><h3>Run summary:</h3><br/><table class=\"wandb\"><tr><td>epoch</td><td>9</td></tr><tr><td>train_accuracy</td><td>92.16667</td></tr><tr><td>train_loss</td><td>0.25481</td></tr><tr><td>val_accuracy</td><td>96.66667</td></tr><tr><td>val_loss</td><td>0.12195</td></tr></table><br/></div></div>"
      ]
     },
     "metadata": {},
     "output_type": "display_data"
    },
    {
     "data": {
      "text/plain": [
       "<IPython.core.display.HTML object>"
      ],
      "text/html": [
       " View run <strong style=\"color:#cdcd00\">comic-sweep-2</strong> at: <a href='https://wandb.ai/martingratzer-organization/Renyi_Divergence_Sweep_Teacher/runs/dlzdhqe6' target=\"_blank\">https://wandb.ai/martingratzer-organization/Renyi_Divergence_Sweep_Teacher/runs/dlzdhqe6</a><br/> View project at: <a href='https://wandb.ai/martingratzer-organization/Renyi_Divergence_Sweep_Teacher' target=\"_blank\">https://wandb.ai/martingratzer-organization/Renyi_Divergence_Sweep_Teacher</a><br/>Synced 5 W&B file(s), 0 media file(s), 0 artifact file(s) and 0 other file(s)"
      ]
     },
     "metadata": {},
     "output_type": "display_data"
    },
    {
     "data": {
      "text/plain": [
       "<IPython.core.display.HTML object>"
      ],
      "text/html": [
       "Find logs at: <code>.\\wandb\\run-20241021_184324-dlzdhqe6\\logs</code>"
      ]
     },
     "metadata": {},
     "output_type": "display_data"
    },
    {
     "name": "stderr",
     "output_type": "stream",
     "text": [
      "wandb: Agent Starting Run: nubmb580 with config:\n",
      "wandb: \tlearning_rate: 0.02107311871446101\n",
      "wandb: \tmomentum: 0.9634223770187776\n",
      "wandb: \tweight_decay: 9.177328297799775e-05\n"
     ]
    },
    {
     "data": {
      "text/plain": [
       "<IPython.core.display.HTML object>"
      ],
      "text/html": [
       "Tracking run with wandb version 0.18.3"
      ]
     },
     "metadata": {},
     "output_type": "display_data"
    },
    {
     "data": {
      "text/plain": [
       "<IPython.core.display.HTML object>"
      ],
      "text/html": [
       "Run data is saved locally in <code>C:\\Users\\Martin\\Documents\\School\\Thesis\\Git Repository\\pytorch-image-models\\Jupyter Notebooks\\wandb\\run-20241021_184614-nubmb580</code>"
      ]
     },
     "metadata": {},
     "output_type": "display_data"
    },
    {
     "data": {
      "text/plain": [
       "<IPython.core.display.HTML object>"
      ],
      "text/html": [
       "Syncing run <strong><a href='https://wandb.ai/martingratzer-organization/Renyi_Divergence_Sweep_Teacher/runs/nubmb580' target=\"_blank\">pleasant-sweep-3</a></strong> to <a href='https://wandb.ai/martingratzer-organization/Renyi_Divergence_Sweep_Teacher' target=\"_blank\">Weights & Biases</a> (<a href='https://wandb.me/run' target=\"_blank\">docs</a>)<br/>Sweep page: <a href='https://wandb.ai/martingratzer-organization/Renyi_Divergence_Sweep_Teacher/sweeps/cneq5azj' target=\"_blank\">https://wandb.ai/martingratzer-organization/Renyi_Divergence_Sweep_Teacher/sweeps/cneq5azj</a>"
      ]
     },
     "metadata": {},
     "output_type": "display_data"
    },
    {
     "data": {
      "text/plain": [
       "<IPython.core.display.HTML object>"
      ],
      "text/html": [
       " View project at <a href='https://wandb.ai/martingratzer-organization/Renyi_Divergence_Sweep_Teacher' target=\"_blank\">https://wandb.ai/martingratzer-organization/Renyi_Divergence_Sweep_Teacher</a>"
      ]
     },
     "metadata": {},
     "output_type": "display_data"
    },
    {
     "data": {
      "text/plain": [
       "<IPython.core.display.HTML object>"
      ],
      "text/html": [
       " View sweep at <a href='https://wandb.ai/martingratzer-organization/Renyi_Divergence_Sweep_Teacher/sweeps/cneq5azj' target=\"_blank\">https://wandb.ai/martingratzer-organization/Renyi_Divergence_Sweep_Teacher/sweeps/cneq5azj</a>"
      ]
     },
     "metadata": {},
     "output_type": "display_data"
    },
    {
     "data": {
      "text/plain": [
       "<IPython.core.display.HTML object>"
      ],
      "text/html": [
       " View run at <a href='https://wandb.ai/martingratzer-organization/Renyi_Divergence_Sweep_Teacher/runs/nubmb580' target=\"_blank\">https://wandb.ai/martingratzer-organization/Renyi_Divergence_Sweep_Teacher/runs/nubmb580</a>"
      ]
     },
     "metadata": {},
     "output_type": "display_data"
    },
    {
     "name": "stdout",
     "output_type": "stream",
     "text": [
      "Average Train Loss: 0.8626 \t \t Train Accuracy: 71.57%\n",
      "Average Validation Loss: 0.3551 \t Validation Accuracy: 89.97%\n",
      "Average Train Loss: 0.7222 \t \t Train Accuracy: 77.29%\n",
      "Average Validation Loss: 0.3878 \t Validation Accuracy: 88.43%\n",
      "Average Train Loss: 0.6994 \t \t Train Accuracy: 78.32%\n",
      "Average Validation Loss: 0.3751 \t Validation Accuracy: 88.70%\n",
      "Average Train Loss: 0.6699 \t \t Train Accuracy: 79.33%\n",
      "Average Validation Loss: 0.3665 \t Validation Accuracy: 90.07%\n",
      "Average Train Loss: 0.6709 \t \t Train Accuracy: 79.59%\n",
      "Average Validation Loss: 0.3496 \t Validation Accuracy: 90.10%\n",
      "Average Train Loss: 0.6672 \t \t Train Accuracy: 79.88%\n",
      "Average Validation Loss: 0.3805 \t Validation Accuracy: 87.73%\n",
      "Average Train Loss: 0.6489 \t \t Train Accuracy: 80.65%\n",
      "Average Validation Loss: 0.3246 \t Validation Accuracy: 90.43%\n",
      "Average Train Loss: 0.6199 \t \t Train Accuracy: 81.38%\n",
      "Average Validation Loss: 0.3351 \t Validation Accuracy: 90.87%\n",
      "Average Train Loss: 0.6133 \t \t Train Accuracy: 81.99%\n",
      "Average Validation Loss: 0.3207 \t Validation Accuracy: 91.37%\n",
      "Average Train Loss: 0.6188 \t \t Train Accuracy: 81.61%\n",
      "Average Validation Loss: 0.2724 \t Validation Accuracy: 91.73%\n"
     ]
    },
    {
     "data": {
      "text/plain": [
       "<IPython.core.display.HTML object>"
      ],
      "text/html": [
       "<style>\n",
       "    table.wandb td:nth-child(1) { padding: 0 10px; text-align: left ; width: auto;} td:nth-child(2) {text-align: left ; width: 100%}\n",
       "    .wandb-row { display: flex; flex-direction: row; flex-wrap: wrap; justify-content: flex-start; width: 100% }\n",
       "    .wandb-col { display: flex; flex-direction: column; flex-basis: 100%; flex: 1; padding: 10px; }\n",
       "    </style>\n",
       "<div class=\"wandb-row\"><div class=\"wandb-col\"><h3>Run history:</h3><br/><table class=\"wandb\"><tr><td>epoch</td><td>▁▂▃▃▄▅▆▆▇█</td></tr><tr><td>train_accuracy</td><td>▁▅▆▆▆▇▇███</td></tr><tr><td>train_loss</td><td>█▄▃▃▃▃▂▁▁▁</td></tr><tr><td>val_accuracy</td><td>▅▂▃▅▅▁▆▆▇█</td></tr><tr><td>val_loss</td><td>▆█▇▇▆█▄▅▄▁</td></tr></table><br/></div><div class=\"wandb-col\"><h3>Run summary:</h3><br/><table class=\"wandb\"><tr><td>epoch</td><td>9</td></tr><tr><td>train_accuracy</td><td>81.60877</td></tr><tr><td>train_loss</td><td>0.61877</td></tr><tr><td>val_accuracy</td><td>91.73333</td></tr><tr><td>val_loss</td><td>0.27243</td></tr></table><br/></div></div>"
      ]
     },
     "metadata": {},
     "output_type": "display_data"
    },
    {
     "data": {
      "text/plain": [
       "<IPython.core.display.HTML object>"
      ],
      "text/html": [
       " View run <strong style=\"color:#cdcd00\">pleasant-sweep-3</strong> at: <a href='https://wandb.ai/martingratzer-organization/Renyi_Divergence_Sweep_Teacher/runs/nubmb580' target=\"_blank\">https://wandb.ai/martingratzer-organization/Renyi_Divergence_Sweep_Teacher/runs/nubmb580</a><br/> View project at: <a href='https://wandb.ai/martingratzer-organization/Renyi_Divergence_Sweep_Teacher' target=\"_blank\">https://wandb.ai/martingratzer-organization/Renyi_Divergence_Sweep_Teacher</a><br/>Synced 5 W&B file(s), 0 media file(s), 0 artifact file(s) and 0 other file(s)"
      ]
     },
     "metadata": {},
     "output_type": "display_data"
    },
    {
     "data": {
      "text/plain": [
       "<IPython.core.display.HTML object>"
      ],
      "text/html": [
       "Find logs at: <code>.\\wandb\\run-20241021_184614-nubmb580\\logs</code>"
      ]
     },
     "metadata": {},
     "output_type": "display_data"
    },
    {
     "name": "stderr",
     "output_type": "stream",
     "text": [
      "wandb: Agent Starting Run: 7hm60p1s with config:\n",
      "wandb: \tlearning_rate: 0.008030493091145317\n",
      "wandb: \tmomentum: 0.8562943228809453\n",
      "wandb: \tweight_decay: 5.10197658140607e-05\n"
     ]
    },
    {
     "data": {
      "text/plain": [
       "<IPython.core.display.HTML object>"
      ],
      "text/html": [
       "Tracking run with wandb version 0.18.3"
      ]
     },
     "metadata": {},
     "output_type": "display_data"
    },
    {
     "data": {
      "text/plain": [
       "<IPython.core.display.HTML object>"
      ],
      "text/html": [
       "Run data is saved locally in <code>C:\\Users\\Martin\\Documents\\School\\Thesis\\Git Repository\\pytorch-image-models\\Jupyter Notebooks\\wandb\\run-20241021_184900-7hm60p1s</code>"
      ]
     },
     "metadata": {},
     "output_type": "display_data"
    },
    {
     "data": {
      "text/plain": [
       "<IPython.core.display.HTML object>"
      ],
      "text/html": [
       "Syncing run <strong><a href='https://wandb.ai/martingratzer-organization/Renyi_Divergence_Sweep_Teacher/runs/7hm60p1s' target=\"_blank\">still-sweep-4</a></strong> to <a href='https://wandb.ai/martingratzer-organization/Renyi_Divergence_Sweep_Teacher' target=\"_blank\">Weights & Biases</a> (<a href='https://wandb.me/run' target=\"_blank\">docs</a>)<br/>Sweep page: <a href='https://wandb.ai/martingratzer-organization/Renyi_Divergence_Sweep_Teacher/sweeps/cneq5azj' target=\"_blank\">https://wandb.ai/martingratzer-organization/Renyi_Divergence_Sweep_Teacher/sweeps/cneq5azj</a>"
      ]
     },
     "metadata": {},
     "output_type": "display_data"
    },
    {
     "data": {
      "text/plain": [
       "<IPython.core.display.HTML object>"
      ],
      "text/html": [
       " View project at <a href='https://wandb.ai/martingratzer-organization/Renyi_Divergence_Sweep_Teacher' target=\"_blank\">https://wandb.ai/martingratzer-organization/Renyi_Divergence_Sweep_Teacher</a>"
      ]
     },
     "metadata": {},
     "output_type": "display_data"
    },
    {
     "data": {
      "text/plain": [
       "<IPython.core.display.HTML object>"
      ],
      "text/html": [
       " View sweep at <a href='https://wandb.ai/martingratzer-organization/Renyi_Divergence_Sweep_Teacher/sweeps/cneq5azj' target=\"_blank\">https://wandb.ai/martingratzer-organization/Renyi_Divergence_Sweep_Teacher/sweeps/cneq5azj</a>"
      ]
     },
     "metadata": {},
     "output_type": "display_data"
    },
    {
     "data": {
      "text/plain": [
       "<IPython.core.display.HTML object>"
      ],
      "text/html": [
       " View run at <a href='https://wandb.ai/martingratzer-organization/Renyi_Divergence_Sweep_Teacher/runs/7hm60p1s' target=\"_blank\">https://wandb.ai/martingratzer-organization/Renyi_Divergence_Sweep_Teacher/runs/7hm60p1s</a>"
      ]
     },
     "metadata": {},
     "output_type": "display_data"
    },
    {
     "name": "stdout",
     "output_type": "stream",
     "text": [
      "Average Train Loss: 0.9873 \t \t Train Accuracy: 67.84%\n",
      "Average Validation Loss: 0.3836 \t Validation Accuracy: 88.70%\n",
      "Average Train Loss: 0.5037 \t \t Train Accuracy: 84.58%\n",
      "Average Validation Loss: 0.2755 \t Validation Accuracy: 91.37%\n",
      "Average Train Loss: 0.4186 \t \t Train Accuracy: 87.17%\n",
      "Average Validation Loss: 0.2244 \t Validation Accuracy: 93.03%\n",
      "Average Train Loss: 0.3682 \t \t Train Accuracy: 88.70%\n",
      "Average Validation Loss: 0.2039 \t Validation Accuracy: 93.70%\n",
      "Average Train Loss: 0.3424 \t \t Train Accuracy: 89.66%\n",
      "Average Validation Loss: 0.1909 \t Validation Accuracy: 93.97%\n",
      "Average Train Loss: 0.3149 \t \t Train Accuracy: 90.42%\n",
      "Average Validation Loss: 0.1636 \t Validation Accuracy: 95.20%\n",
      "Average Train Loss: 0.2978 \t \t Train Accuracy: 91.13%\n",
      "Average Validation Loss: 0.1506 \t Validation Accuracy: 95.43%\n",
      "Average Train Loss: 0.2835 \t \t Train Accuracy: 91.32%\n",
      "Average Validation Loss: 0.1445 \t Validation Accuracy: 95.60%\n",
      "Average Train Loss: 0.2778 \t \t Train Accuracy: 91.71%\n",
      "Average Validation Loss: 0.1413 \t Validation Accuracy: 95.80%\n",
      "Average Train Loss: 0.2606 \t \t Train Accuracy: 92.07%\n",
      "Average Validation Loss: 0.1343 \t Validation Accuracy: 95.93%\n"
     ]
    },
    {
     "data": {
      "text/plain": [
       "<IPython.core.display.HTML object>"
      ],
      "text/html": [
       "<style>\n",
       "    table.wandb td:nth-child(1) { padding: 0 10px; text-align: left ; width: auto;} td:nth-child(2) {text-align: left ; width: 100%}\n",
       "    .wandb-row { display: flex; flex-direction: row; flex-wrap: wrap; justify-content: flex-start; width: 100% }\n",
       "    .wandb-col { display: flex; flex-direction: column; flex-basis: 100%; flex: 1; padding: 10px; }\n",
       "    </style>\n",
       "<div class=\"wandb-row\"><div class=\"wandb-col\"><h3>Run history:</h3><br/><table class=\"wandb\"><tr><td>epoch</td><td>▁▂▃▃▄▅▆▆▇█</td></tr><tr><td>train_accuracy</td><td>▁▆▇▇▇█████</td></tr><tr><td>train_loss</td><td>█▃▃▂▂▂▁▁▁▁</td></tr><tr><td>val_accuracy</td><td>▁▄▅▆▆▇████</td></tr><tr><td>val_loss</td><td>█▅▄▃▃▂▁▁▁▁</td></tr></table><br/></div><div class=\"wandb-col\"><h3>Run summary:</h3><br/><table class=\"wandb\"><tr><td>epoch</td><td>9</td></tr><tr><td>train_accuracy</td><td>92.07368</td></tr><tr><td>train_loss</td><td>0.26058</td></tr><tr><td>val_accuracy</td><td>95.93333</td></tr><tr><td>val_loss</td><td>0.13426</td></tr></table><br/></div></div>"
      ]
     },
     "metadata": {},
     "output_type": "display_data"
    },
    {
     "data": {
      "text/plain": [
       "<IPython.core.display.HTML object>"
      ],
      "text/html": [
       " View run <strong style=\"color:#cdcd00\">still-sweep-4</strong> at: <a href='https://wandb.ai/martingratzer-organization/Renyi_Divergence_Sweep_Teacher/runs/7hm60p1s' target=\"_blank\">https://wandb.ai/martingratzer-organization/Renyi_Divergence_Sweep_Teacher/runs/7hm60p1s</a><br/> View project at: <a href='https://wandb.ai/martingratzer-organization/Renyi_Divergence_Sweep_Teacher' target=\"_blank\">https://wandb.ai/martingratzer-organization/Renyi_Divergence_Sweep_Teacher</a><br/>Synced 5 W&B file(s), 0 media file(s), 0 artifact file(s) and 0 other file(s)"
      ]
     },
     "metadata": {},
     "output_type": "display_data"
    },
    {
     "data": {
      "text/plain": [
       "<IPython.core.display.HTML object>"
      ],
      "text/html": [
       "Find logs at: <code>.\\wandb\\run-20241021_184900-7hm60p1s\\logs</code>"
      ]
     },
     "metadata": {},
     "output_type": "display_data"
    },
    {
     "name": "stderr",
     "output_type": "stream",
     "text": [
      "wandb: Agent Starting Run: 4eoelfid with config:\n",
      "wandb: \tlearning_rate: 0.04811269101311195\n",
      "wandb: \tmomentum: 0.6510580791046789\n",
      "wandb: \tweight_decay: 0.0002495837257363249\n"
     ]
    },
    {
     "data": {
      "text/plain": [
       "<IPython.core.display.HTML object>"
      ],
      "text/html": [
       "Tracking run with wandb version 0.18.3"
      ]
     },
     "metadata": {},
     "output_type": "display_data"
    },
    {
     "data": {
      "text/plain": [
       "<IPython.core.display.HTML object>"
      ],
      "text/html": [
       "Run data is saved locally in <code>C:\\Users\\Martin\\Documents\\School\\Thesis\\Git Repository\\pytorch-image-models\\Jupyter Notebooks\\wandb\\run-20241021_185150-4eoelfid</code>"
      ]
     },
     "metadata": {},
     "output_type": "display_data"
    },
    {
     "data": {
      "text/plain": [
       "<IPython.core.display.HTML object>"
      ],
      "text/html": [
       "Syncing run <strong><a href='https://wandb.ai/martingratzer-organization/Renyi_Divergence_Sweep_Teacher/runs/4eoelfid' target=\"_blank\">frosty-sweep-5</a></strong> to <a href='https://wandb.ai/martingratzer-organization/Renyi_Divergence_Sweep_Teacher' target=\"_blank\">Weights & Biases</a> (<a href='https://wandb.me/run' target=\"_blank\">docs</a>)<br/>Sweep page: <a href='https://wandb.ai/martingratzer-organization/Renyi_Divergence_Sweep_Teacher/sweeps/cneq5azj' target=\"_blank\">https://wandb.ai/martingratzer-organization/Renyi_Divergence_Sweep_Teacher/sweeps/cneq5azj</a>"
      ]
     },
     "metadata": {},
     "output_type": "display_data"
    },
    {
     "data": {
      "text/plain": [
       "<IPython.core.display.HTML object>"
      ],
      "text/html": [
       " View project at <a href='https://wandb.ai/martingratzer-organization/Renyi_Divergence_Sweep_Teacher' target=\"_blank\">https://wandb.ai/martingratzer-organization/Renyi_Divergence_Sweep_Teacher</a>"
      ]
     },
     "metadata": {},
     "output_type": "display_data"
    },
    {
     "data": {
      "text/plain": [
       "<IPython.core.display.HTML object>"
      ],
      "text/html": [
       " View sweep at <a href='https://wandb.ai/martingratzer-organization/Renyi_Divergence_Sweep_Teacher/sweeps/cneq5azj' target=\"_blank\">https://wandb.ai/martingratzer-organization/Renyi_Divergence_Sweep_Teacher/sweeps/cneq5azj</a>"
      ]
     },
     "metadata": {},
     "output_type": "display_data"
    },
    {
     "data": {
      "text/plain": [
       "<IPython.core.display.HTML object>"
      ],
      "text/html": [
       " View run at <a href='https://wandb.ai/martingratzer-organization/Renyi_Divergence_Sweep_Teacher/runs/4eoelfid' target=\"_blank\">https://wandb.ai/martingratzer-organization/Renyi_Divergence_Sweep_Teacher/runs/4eoelfid</a>"
      ]
     },
     "metadata": {},
     "output_type": "display_data"
    },
    {
     "name": "stdout",
     "output_type": "stream",
     "text": [
      "Average Train Loss: 0.7426 \t \t Train Accuracy: 75.76%\n",
      "Average Validation Loss: 0.3631 \t Validation Accuracy: 89.03%\n",
      "Average Train Loss: 0.4166 \t \t Train Accuracy: 87.21%\n",
      "Average Validation Loss: 0.2008 \t Validation Accuracy: 93.97%\n",
      "Average Train Loss: 0.3510 \t \t Train Accuracy: 89.38%\n",
      "Average Validation Loss: 0.1860 \t Validation Accuracy: 94.27%\n",
      "Average Train Loss: 0.3200 \t \t Train Accuracy: 90.29%\n",
      "Average Validation Loss: 0.1722 \t Validation Accuracy: 94.87%\n",
      "Average Train Loss: 0.2981 \t \t Train Accuracy: 91.00%\n",
      "Average Validation Loss: 0.1463 \t Validation Accuracy: 95.67%\n",
      "Average Train Loss: 0.2838 \t \t Train Accuracy: 91.46%\n",
      "Average Validation Loss: 0.1641 \t Validation Accuracy: 95.40%\n",
      "Average Train Loss: 0.2722 \t \t Train Accuracy: 91.84%\n",
      "Average Validation Loss: 0.1355 \t Validation Accuracy: 95.63%\n",
      "Average Train Loss: 0.2654 \t \t Train Accuracy: 91.99%\n",
      "Average Validation Loss: 0.1508 \t Validation Accuracy: 95.13%\n",
      "Average Train Loss: 0.2569 \t \t Train Accuracy: 92.21%\n",
      "Average Validation Loss: 0.1412 \t Validation Accuracy: 95.70%\n",
      "Average Train Loss: 0.2452 \t \t Train Accuracy: 92.52%\n",
      "Average Validation Loss: 0.1421 \t Validation Accuracy: 95.63%\n"
     ]
    },
    {
     "data": {
      "text/plain": [
       "<IPython.core.display.HTML object>"
      ],
      "text/html": [
       "<style>\n",
       "    table.wandb td:nth-child(1) { padding: 0 10px; text-align: left ; width: auto;} td:nth-child(2) {text-align: left ; width: 100%}\n",
       "    .wandb-row { display: flex; flex-direction: row; flex-wrap: wrap; justify-content: flex-start; width: 100% }\n",
       "    .wandb-col { display: flex; flex-direction: column; flex-basis: 100%; flex: 1; padding: 10px; }\n",
       "    </style>\n",
       "<div class=\"wandb-row\"><div class=\"wandb-col\"><h3>Run history:</h3><br/><table class=\"wandb\"><tr><td>epoch</td><td>▁▂▃▃▄▅▆▆▇█</td></tr><tr><td>train_accuracy</td><td>▁▆▇▇▇█████</td></tr><tr><td>train_loss</td><td>█▃▂▂▂▂▁▁▁▁</td></tr><tr><td>val_accuracy</td><td>▁▆▆▇███▇██</td></tr><tr><td>val_loss</td><td>█▃▃▂▁▂▁▁▁▁</td></tr></table><br/></div><div class=\"wandb-col\"><h3>Run summary:</h3><br/><table class=\"wandb\"><tr><td>epoch</td><td>9</td></tr><tr><td>train_accuracy</td><td>92.52281</td></tr><tr><td>train_loss</td><td>0.24521</td></tr><tr><td>val_accuracy</td><td>95.63333</td></tr><tr><td>val_loss</td><td>0.14207</td></tr></table><br/></div></div>"
      ]
     },
     "metadata": {},
     "output_type": "display_data"
    },
    {
     "data": {
      "text/plain": [
       "<IPython.core.display.HTML object>"
      ],
      "text/html": [
       " View run <strong style=\"color:#cdcd00\">frosty-sweep-5</strong> at: <a href='https://wandb.ai/martingratzer-organization/Renyi_Divergence_Sweep_Teacher/runs/4eoelfid' target=\"_blank\">https://wandb.ai/martingratzer-organization/Renyi_Divergence_Sweep_Teacher/runs/4eoelfid</a><br/> View project at: <a href='https://wandb.ai/martingratzer-organization/Renyi_Divergence_Sweep_Teacher' target=\"_blank\">https://wandb.ai/martingratzer-organization/Renyi_Divergence_Sweep_Teacher</a><br/>Synced 5 W&B file(s), 0 media file(s), 0 artifact file(s) and 0 other file(s)"
      ]
     },
     "metadata": {},
     "output_type": "display_data"
    },
    {
     "data": {
      "text/plain": [
       "<IPython.core.display.HTML object>"
      ],
      "text/html": [
       "Find logs at: <code>.\\wandb\\run-20241021_185150-4eoelfid\\logs</code>"
      ]
     },
     "metadata": {},
     "output_type": "display_data"
    },
    {
     "name": "stderr",
     "output_type": "stream",
     "text": [
      "wandb: Agent Starting Run: ijqkc2iq with config:\n",
      "wandb: \tlearning_rate: 0.04693724702664251\n",
      "wandb: \tmomentum: 0.8194170601306214\n",
      "wandb: \tweight_decay: 0.0003992961886891582\n"
     ]
    },
    {
     "data": {
      "text/plain": [
       "<IPython.core.display.HTML object>"
      ],
      "text/html": [
       "Tracking run with wandb version 0.18.3"
      ]
     },
     "metadata": {},
     "output_type": "display_data"
    },
    {
     "data": {
      "text/plain": [
       "<IPython.core.display.HTML object>"
      ],
      "text/html": [
       "Run data is saved locally in <code>C:\\Users\\Martin\\Documents\\School\\Thesis\\Git Repository\\pytorch-image-models\\Jupyter Notebooks\\wandb\\run-20241021_185437-ijqkc2iq</code>"
      ]
     },
     "metadata": {},
     "output_type": "display_data"
    },
    {
     "data": {
      "text/plain": [
       "<IPython.core.display.HTML object>"
      ],
      "text/html": [
       "Syncing run <strong><a href='https://wandb.ai/martingratzer-organization/Renyi_Divergence_Sweep_Teacher/runs/ijqkc2iq' target=\"_blank\">swift-sweep-6</a></strong> to <a href='https://wandb.ai/martingratzer-organization/Renyi_Divergence_Sweep_Teacher' target=\"_blank\">Weights & Biases</a> (<a href='https://wandb.me/run' target=\"_blank\">docs</a>)<br/>Sweep page: <a href='https://wandb.ai/martingratzer-organization/Renyi_Divergence_Sweep_Teacher/sweeps/cneq5azj' target=\"_blank\">https://wandb.ai/martingratzer-organization/Renyi_Divergence_Sweep_Teacher/sweeps/cneq5azj</a>"
      ]
     },
     "metadata": {},
     "output_type": "display_data"
    },
    {
     "data": {
      "text/plain": [
       "<IPython.core.display.HTML object>"
      ],
      "text/html": [
       " View project at <a href='https://wandb.ai/martingratzer-organization/Renyi_Divergence_Sweep_Teacher' target=\"_blank\">https://wandb.ai/martingratzer-organization/Renyi_Divergence_Sweep_Teacher</a>"
      ]
     },
     "metadata": {},
     "output_type": "display_data"
    },
    {
     "data": {
      "text/plain": [
       "<IPython.core.display.HTML object>"
      ],
      "text/html": [
       " View sweep at <a href='https://wandb.ai/martingratzer-organization/Renyi_Divergence_Sweep_Teacher/sweeps/cneq5azj' target=\"_blank\">https://wandb.ai/martingratzer-organization/Renyi_Divergence_Sweep_Teacher/sweeps/cneq5azj</a>"
      ]
     },
     "metadata": {},
     "output_type": "display_data"
    },
    {
     "data": {
      "text/plain": [
       "<IPython.core.display.HTML object>"
      ],
      "text/html": [
       " View run at <a href='https://wandb.ai/martingratzer-organization/Renyi_Divergence_Sweep_Teacher/runs/ijqkc2iq' target=\"_blank\">https://wandb.ai/martingratzer-organization/Renyi_Divergence_Sweep_Teacher/runs/ijqkc2iq</a>"
      ]
     },
     "metadata": {},
     "output_type": "display_data"
    },
    {
     "name": "stdout",
     "output_type": "stream",
     "text": [
      "Average Train Loss: 0.6786 \t \t Train Accuracy: 78.06%\n",
      "Average Validation Loss: 0.3174 \t Validation Accuracy: 90.77%\n",
      "Average Train Loss: 0.4123 \t \t Train Accuracy: 87.22%\n",
      "Average Validation Loss: 0.2140 \t Validation Accuracy: 93.43%\n",
      "Average Train Loss: 0.3578 \t \t Train Accuracy: 89.01%\n",
      "Average Validation Loss: 0.1781 \t Validation Accuracy: 94.67%\n",
      "Average Train Loss: 0.3345 \t \t Train Accuracy: 89.70%\n",
      "Average Validation Loss: 0.1953 \t Validation Accuracy: 94.13%\n",
      "Average Train Loss: 0.3163 \t \t Train Accuracy: 90.32%\n",
      "Average Validation Loss: 0.1679 \t Validation Accuracy: 95.00%\n",
      "Average Train Loss: 0.3015 \t \t Train Accuracy: 90.84%\n",
      "Average Validation Loss: 0.1480 \t Validation Accuracy: 95.40%\n",
      "Average Train Loss: 0.2905 \t \t Train Accuracy: 91.16%\n",
      "Average Validation Loss: 0.1568 \t Validation Accuracy: 95.27%\n",
      "Average Train Loss: 0.2875 \t \t Train Accuracy: 91.27%\n",
      "Average Validation Loss: 0.1480 \t Validation Accuracy: 95.70%\n",
      "Average Train Loss: 0.2834 \t \t Train Accuracy: 91.29%\n",
      "Average Validation Loss: 0.1462 \t Validation Accuracy: 95.23%\n",
      "Average Train Loss: 0.2792 \t \t Train Accuracy: 91.56%\n",
      "Average Validation Loss: 0.1316 \t Validation Accuracy: 95.63%\n"
     ]
    },
    {
     "data": {
      "text/plain": [
       "<IPython.core.display.HTML object>"
      ],
      "text/html": [
       "<style>\n",
       "    table.wandb td:nth-child(1) { padding: 0 10px; text-align: left ; width: auto;} td:nth-child(2) {text-align: left ; width: 100%}\n",
       "    .wandb-row { display: flex; flex-direction: row; flex-wrap: wrap; justify-content: flex-start; width: 100% }\n",
       "    .wandb-col { display: flex; flex-direction: column; flex-basis: 100%; flex: 1; padding: 10px; }\n",
       "    </style>\n",
       "<div class=\"wandb-row\"><div class=\"wandb-col\"><h3>Run history:</h3><br/><table class=\"wandb\"><tr><td>epoch</td><td>▁▂▃▃▄▅▆▆▇█</td></tr><tr><td>train_accuracy</td><td>▁▆▇▇▇█████</td></tr><tr><td>train_loss</td><td>█▃▂▂▂▁▁▁▁▁</td></tr><tr><td>val_accuracy</td><td>▁▅▇▆▇█▇█▇█</td></tr><tr><td>val_loss</td><td>█▄▃▃▂▂▂▂▂▁</td></tr></table><br/></div><div class=\"wandb-col\"><h3>Run summary:</h3><br/><table class=\"wandb\"><tr><td>epoch</td><td>9</td></tr><tr><td>train_accuracy</td><td>91.55965</td></tr><tr><td>train_loss</td><td>0.2792</td></tr><tr><td>val_accuracy</td><td>95.63333</td></tr><tr><td>val_loss</td><td>0.1316</td></tr></table><br/></div></div>"
      ]
     },
     "metadata": {},
     "output_type": "display_data"
    },
    {
     "data": {
      "text/plain": [
       "<IPython.core.display.HTML object>"
      ],
      "text/html": [
       " View run <strong style=\"color:#cdcd00\">swift-sweep-6</strong> at: <a href='https://wandb.ai/martingratzer-organization/Renyi_Divergence_Sweep_Teacher/runs/ijqkc2iq' target=\"_blank\">https://wandb.ai/martingratzer-organization/Renyi_Divergence_Sweep_Teacher/runs/ijqkc2iq</a><br/> View project at: <a href='https://wandb.ai/martingratzer-organization/Renyi_Divergence_Sweep_Teacher' target=\"_blank\">https://wandb.ai/martingratzer-organization/Renyi_Divergence_Sweep_Teacher</a><br/>Synced 5 W&B file(s), 0 media file(s), 0 artifact file(s) and 0 other file(s)"
      ]
     },
     "metadata": {},
     "output_type": "display_data"
    },
    {
     "data": {
      "text/plain": [
       "<IPython.core.display.HTML object>"
      ],
      "text/html": [
       "Find logs at: <code>.\\wandb\\run-20241021_185437-ijqkc2iq\\logs</code>"
      ]
     },
     "metadata": {},
     "output_type": "display_data"
    },
    {
     "name": "stderr",
     "output_type": "stream",
     "text": [
      "wandb: Agent Starting Run: 2asgf29w with config:\n",
      "wandb: \tlearning_rate: 0.04709195025050357\n",
      "wandb: \tmomentum: 0.5353721101318052\n",
      "wandb: \tweight_decay: 0.0002159787795184012\n"
     ]
    },
    {
     "data": {
      "text/plain": [
       "<IPython.core.display.HTML object>"
      ],
      "text/html": [
       "Tracking run with wandb version 0.18.3"
      ]
     },
     "metadata": {},
     "output_type": "display_data"
    },
    {
     "data": {
      "text/plain": [
       "<IPython.core.display.HTML object>"
      ],
      "text/html": [
       "Run data is saved locally in <code>C:\\Users\\Martin\\Documents\\School\\Thesis\\Git Repository\\pytorch-image-models\\Jupyter Notebooks\\wandb\\run-20241021_185727-2asgf29w</code>"
      ]
     },
     "metadata": {},
     "output_type": "display_data"
    },
    {
     "data": {
      "text/plain": [
       "<IPython.core.display.HTML object>"
      ],
      "text/html": [
       "Syncing run <strong><a href='https://wandb.ai/martingratzer-organization/Renyi_Divergence_Sweep_Teacher/runs/2asgf29w' target=\"_blank\">rich-sweep-7</a></strong> to <a href='https://wandb.ai/martingratzer-organization/Renyi_Divergence_Sweep_Teacher' target=\"_blank\">Weights & Biases</a> (<a href='https://wandb.me/run' target=\"_blank\">docs</a>)<br/>Sweep page: <a href='https://wandb.ai/martingratzer-organization/Renyi_Divergence_Sweep_Teacher/sweeps/cneq5azj' target=\"_blank\">https://wandb.ai/martingratzer-organization/Renyi_Divergence_Sweep_Teacher/sweeps/cneq5azj</a>"
      ]
     },
     "metadata": {},
     "output_type": "display_data"
    },
    {
     "data": {
      "text/plain": [
       "<IPython.core.display.HTML object>"
      ],
      "text/html": [
       " View project at <a href='https://wandb.ai/martingratzer-organization/Renyi_Divergence_Sweep_Teacher' target=\"_blank\">https://wandb.ai/martingratzer-organization/Renyi_Divergence_Sweep_Teacher</a>"
      ]
     },
     "metadata": {},
     "output_type": "display_data"
    },
    {
     "data": {
      "text/plain": [
       "<IPython.core.display.HTML object>"
      ],
      "text/html": [
       " View sweep at <a href='https://wandb.ai/martingratzer-organization/Renyi_Divergence_Sweep_Teacher/sweeps/cneq5azj' target=\"_blank\">https://wandb.ai/martingratzer-organization/Renyi_Divergence_Sweep_Teacher/sweeps/cneq5azj</a>"
      ]
     },
     "metadata": {},
     "output_type": "display_data"
    },
    {
     "data": {
      "text/plain": [
       "<IPython.core.display.HTML object>"
      ],
      "text/html": [
       " View run at <a href='https://wandb.ai/martingratzer-organization/Renyi_Divergence_Sweep_Teacher/runs/2asgf29w' target=\"_blank\">https://wandb.ai/martingratzer-organization/Renyi_Divergence_Sweep_Teacher/runs/2asgf29w</a>"
      ]
     },
     "metadata": {},
     "output_type": "display_data"
    },
    {
     "name": "stdout",
     "output_type": "stream",
     "text": [
      "Average Train Loss: 0.8055 \t \t Train Accuracy: 73.89%\n",
      "Average Validation Loss: 0.3248 \t Validation Accuracy: 89.87%\n",
      "Average Train Loss: 0.4403 \t \t Train Accuracy: 86.39%\n",
      "Average Validation Loss: 0.2348 \t Validation Accuracy: 93.30%\n",
      "Average Train Loss: 0.3668 \t \t Train Accuracy: 88.82%\n",
      "Average Validation Loss: 0.2019 \t Validation Accuracy: 93.83%\n",
      "Average Train Loss: 0.3318 \t \t Train Accuracy: 89.88%\n",
      "Average Validation Loss: 0.1710 \t Validation Accuracy: 94.67%\n",
      "Average Train Loss: 0.3073 \t \t Train Accuracy: 90.68%\n",
      "Average Validation Loss: 0.1650 \t Validation Accuracy: 95.33%\n",
      "Average Train Loss: 0.2870 \t \t Train Accuracy: 91.32%\n",
      "Average Validation Loss: 0.1392 \t Validation Accuracy: 95.73%\n",
      "Average Train Loss: 0.2754 \t \t Train Accuracy: 91.61%\n",
      "Average Validation Loss: 0.1369 \t Validation Accuracy: 95.60%\n",
      "Average Train Loss: 0.2640 \t \t Train Accuracy: 92.03%\n",
      "Average Validation Loss: 0.1513 \t Validation Accuracy: 95.13%\n",
      "Average Train Loss: 0.2503 \t \t Train Accuracy: 92.47%\n",
      "Average Validation Loss: 0.1308 \t Validation Accuracy: 96.10%\n",
      "Average Train Loss: 0.2435 \t \t Train Accuracy: 92.65%\n",
      "Average Validation Loss: 0.1222 \t Validation Accuracy: 96.30%\n"
     ]
    },
    {
     "data": {
      "text/plain": [
       "<IPython.core.display.HTML object>"
      ],
      "text/html": [
       "<style>\n",
       "    table.wandb td:nth-child(1) { padding: 0 10px; text-align: left ; width: auto;} td:nth-child(2) {text-align: left ; width: 100%}\n",
       "    .wandb-row { display: flex; flex-direction: row; flex-wrap: wrap; justify-content: flex-start; width: 100% }\n",
       "    .wandb-col { display: flex; flex-direction: column; flex-basis: 100%; flex: 1; padding: 10px; }\n",
       "    </style>\n",
       "<div class=\"wandb-row\"><div class=\"wandb-col\"><h3>Run history:</h3><br/><table class=\"wandb\"><tr><td>epoch</td><td>▁▂▃▃▄▅▆▆▇█</td></tr><tr><td>train_accuracy</td><td>▁▆▇▇▇█████</td></tr><tr><td>train_loss</td><td>█▃▃▂▂▂▁▁▁▁</td></tr><tr><td>val_accuracy</td><td>▁▅▅▆▇▇▇▇██</td></tr><tr><td>val_loss</td><td>█▅▄▃▂▂▂▂▁▁</td></tr></table><br/></div><div class=\"wandb-col\"><h3>Run summary:</h3><br/><table class=\"wandb\"><tr><td>epoch</td><td>9</td></tr><tr><td>train_accuracy</td><td>92.64561</td></tr><tr><td>train_loss</td><td>0.24348</td></tr><tr><td>val_accuracy</td><td>96.3</td></tr><tr><td>val_loss</td><td>0.12225</td></tr></table><br/></div></div>"
      ]
     },
     "metadata": {},
     "output_type": "display_data"
    },
    {
     "data": {
      "text/plain": [
       "<IPython.core.display.HTML object>"
      ],
      "text/html": [
       " View run <strong style=\"color:#cdcd00\">rich-sweep-7</strong> at: <a href='https://wandb.ai/martingratzer-organization/Renyi_Divergence_Sweep_Teacher/runs/2asgf29w' target=\"_blank\">https://wandb.ai/martingratzer-organization/Renyi_Divergence_Sweep_Teacher/runs/2asgf29w</a><br/> View project at: <a href='https://wandb.ai/martingratzer-organization/Renyi_Divergence_Sweep_Teacher' target=\"_blank\">https://wandb.ai/martingratzer-organization/Renyi_Divergence_Sweep_Teacher</a><br/>Synced 5 W&B file(s), 0 media file(s), 0 artifact file(s) and 0 other file(s)"
      ]
     },
     "metadata": {},
     "output_type": "display_data"
    },
    {
     "data": {
      "text/plain": [
       "<IPython.core.display.HTML object>"
      ],
      "text/html": [
       "Find logs at: <code>.\\wandb\\run-20241021_185727-2asgf29w\\logs</code>"
      ]
     },
     "metadata": {},
     "output_type": "display_data"
    },
    {
     "name": "stderr",
     "output_type": "stream",
     "text": [
      "wandb: Agent Starting Run: 1ja4d8ta with config:\n",
      "wandb: \tlearning_rate: 0.04772914619114212\n",
      "wandb: \tmomentum: 0.5321883420386918\n",
      "wandb: \tweight_decay: 0.0004977511012173717\n"
     ]
    },
    {
     "data": {
      "text/plain": [
       "<IPython.core.display.HTML object>"
      ],
      "text/html": [
       "Tracking run with wandb version 0.18.3"
      ]
     },
     "metadata": {},
     "output_type": "display_data"
    },
    {
     "data": {
      "text/plain": [
       "<IPython.core.display.HTML object>"
      ],
      "text/html": [
       "Run data is saved locally in <code>C:\\Users\\Martin\\Documents\\School\\Thesis\\Git Repository\\pytorch-image-models\\Jupyter Notebooks\\wandb\\run-20241021_190019-1ja4d8ta</code>"
      ]
     },
     "metadata": {},
     "output_type": "display_data"
    },
    {
     "data": {
      "text/plain": [
       "<IPython.core.display.HTML object>"
      ],
      "text/html": [
       "Syncing run <strong><a href='https://wandb.ai/martingratzer-organization/Renyi_Divergence_Sweep_Teacher/runs/1ja4d8ta' target=\"_blank\">bright-sweep-8</a></strong> to <a href='https://wandb.ai/martingratzer-organization/Renyi_Divergence_Sweep_Teacher' target=\"_blank\">Weights & Biases</a> (<a href='https://wandb.me/run' target=\"_blank\">docs</a>)<br/>Sweep page: <a href='https://wandb.ai/martingratzer-organization/Renyi_Divergence_Sweep_Teacher/sweeps/cneq5azj' target=\"_blank\">https://wandb.ai/martingratzer-organization/Renyi_Divergence_Sweep_Teacher/sweeps/cneq5azj</a>"
      ]
     },
     "metadata": {},
     "output_type": "display_data"
    },
    {
     "data": {
      "text/plain": [
       "<IPython.core.display.HTML object>"
      ],
      "text/html": [
       " View project at <a href='https://wandb.ai/martingratzer-organization/Renyi_Divergence_Sweep_Teacher' target=\"_blank\">https://wandb.ai/martingratzer-organization/Renyi_Divergence_Sweep_Teacher</a>"
      ]
     },
     "metadata": {},
     "output_type": "display_data"
    },
    {
     "data": {
      "text/plain": [
       "<IPython.core.display.HTML object>"
      ],
      "text/html": [
       " View sweep at <a href='https://wandb.ai/martingratzer-organization/Renyi_Divergence_Sweep_Teacher/sweeps/cneq5azj' target=\"_blank\">https://wandb.ai/martingratzer-organization/Renyi_Divergence_Sweep_Teacher/sweeps/cneq5azj</a>"
      ]
     },
     "metadata": {},
     "output_type": "display_data"
    },
    {
     "data": {
      "text/plain": [
       "<IPython.core.display.HTML object>"
      ],
      "text/html": [
       " View run at <a href='https://wandb.ai/martingratzer-organization/Renyi_Divergence_Sweep_Teacher/runs/1ja4d8ta' target=\"_blank\">https://wandb.ai/martingratzer-organization/Renyi_Divergence_Sweep_Teacher/runs/1ja4d8ta</a>"
      ]
     },
     "metadata": {},
     "output_type": "display_data"
    },
    {
     "name": "stdout",
     "output_type": "stream",
     "text": [
      "Average Train Loss: 0.8024 \t \t Train Accuracy: 73.91%\n",
      "Average Validation Loss: 0.3217 \t Validation Accuracy: 90.13%\n",
      "Average Train Loss: 0.4404 \t \t Train Accuracy: 86.46%\n",
      "Average Validation Loss: 0.2243 \t Validation Accuracy: 93.10%\n",
      "Average Train Loss: 0.3710 \t \t Train Accuracy: 88.71%\n",
      "Average Validation Loss: 0.1791 \t Validation Accuracy: 94.37%\n",
      "Average Train Loss: 0.3304 \t \t Train Accuracy: 89.88%\n",
      "Average Validation Loss: 0.1700 \t Validation Accuracy: 95.20%\n",
      "Average Train Loss: 0.3092 \t \t Train Accuracy: 90.57%\n",
      "Average Validation Loss: 0.1714 \t Validation Accuracy: 94.97%\n",
      "Average Train Loss: 0.2865 \t \t Train Accuracy: 91.26%\n",
      "Average Validation Loss: 0.1441 \t Validation Accuracy: 95.60%\n",
      "Average Train Loss: 0.2808 \t \t Train Accuracy: 91.49%\n",
      "Average Validation Loss: 0.1388 \t Validation Accuracy: 96.23%\n",
      "Average Train Loss: 0.2696 \t \t Train Accuracy: 91.82%\n",
      "Average Validation Loss: 0.1337 \t Validation Accuracy: 95.97%\n",
      "Average Train Loss: 0.2604 \t \t Train Accuracy: 92.03%\n",
      "Average Validation Loss: 0.1365 \t Validation Accuracy: 95.57%\n",
      "Average Train Loss: 0.2550 \t \t Train Accuracy: 92.29%\n",
      "Average Validation Loss: 0.1207 \t Validation Accuracy: 96.17%\n"
     ]
    },
    {
     "data": {
      "text/plain": [
       "<IPython.core.display.HTML object>"
      ],
      "text/html": [
       "<style>\n",
       "    table.wandb td:nth-child(1) { padding: 0 10px; text-align: left ; width: auto;} td:nth-child(2) {text-align: left ; width: 100%}\n",
       "    .wandb-row { display: flex; flex-direction: row; flex-wrap: wrap; justify-content: flex-start; width: 100% }\n",
       "    .wandb-col { display: flex; flex-direction: column; flex-basis: 100%; flex: 1; padding: 10px; }\n",
       "    </style>\n",
       "<div class=\"wandb-row\"><div class=\"wandb-col\"><h3>Run history:</h3><br/><table class=\"wandb\"><tr><td>epoch</td><td>▁▂▃▃▄▅▆▆▇█</td></tr><tr><td>train_accuracy</td><td>▁▆▇▇▇█████</td></tr><tr><td>train_loss</td><td>█▃▂▂▂▁▁▁▁▁</td></tr><tr><td>val_accuracy</td><td>▁▄▆▇▇▇██▇█</td></tr><tr><td>val_loss</td><td>█▅▃▃▃▂▂▁▂▁</td></tr></table><br/></div><div class=\"wandb-col\"><h3>Run summary:</h3><br/><table class=\"wandb\"><tr><td>epoch</td><td>9</td></tr><tr><td>train_accuracy</td><td>92.28772</td></tr><tr><td>train_loss</td><td>0.25497</td></tr><tr><td>val_accuracy</td><td>96.16667</td></tr><tr><td>val_loss</td><td>0.1207</td></tr></table><br/></div></div>"
      ]
     },
     "metadata": {},
     "output_type": "display_data"
    },
    {
     "data": {
      "text/plain": [
       "<IPython.core.display.HTML object>"
      ],
      "text/html": [
       " View run <strong style=\"color:#cdcd00\">bright-sweep-8</strong> at: <a href='https://wandb.ai/martingratzer-organization/Renyi_Divergence_Sweep_Teacher/runs/1ja4d8ta' target=\"_blank\">https://wandb.ai/martingratzer-organization/Renyi_Divergence_Sweep_Teacher/runs/1ja4d8ta</a><br/> View project at: <a href='https://wandb.ai/martingratzer-organization/Renyi_Divergence_Sweep_Teacher' target=\"_blank\">https://wandb.ai/martingratzer-organization/Renyi_Divergence_Sweep_Teacher</a><br/>Synced 5 W&B file(s), 0 media file(s), 0 artifact file(s) and 0 other file(s)"
      ]
     },
     "metadata": {},
     "output_type": "display_data"
    },
    {
     "data": {
      "text/plain": [
       "<IPython.core.display.HTML object>"
      ],
      "text/html": [
       "Find logs at: <code>.\\wandb\\run-20241021_190019-1ja4d8ta\\logs</code>"
      ]
     },
     "metadata": {},
     "output_type": "display_data"
    },
    {
     "name": "stderr",
     "output_type": "stream",
     "text": [
      "wandb: Agent Starting Run: m5u2hmnv with config:\n",
      "wandb: \tlearning_rate: 0.04565494337396152\n",
      "wandb: \tmomentum: 0.5070802425154239\n",
      "wandb: \tweight_decay: 0.00025937879053174596\n"
     ]
    },
    {
     "data": {
      "text/plain": [
       "<IPython.core.display.HTML object>"
      ],
      "text/html": [
       "Tracking run with wandb version 0.18.3"
      ]
     },
     "metadata": {},
     "output_type": "display_data"
    },
    {
     "data": {
      "text/plain": [
       "<IPython.core.display.HTML object>"
      ],
      "text/html": [
       "Run data is saved locally in <code>C:\\Users\\Martin\\Documents\\School\\Thesis\\Git Repository\\pytorch-image-models\\Jupyter Notebooks\\wandb\\run-20241021_190310-m5u2hmnv</code>"
      ]
     },
     "metadata": {},
     "output_type": "display_data"
    },
    {
     "data": {
      "text/plain": [
       "<IPython.core.display.HTML object>"
      ],
      "text/html": [
       "Syncing run <strong><a href='https://wandb.ai/martingratzer-organization/Renyi_Divergence_Sweep_Teacher/runs/m5u2hmnv' target=\"_blank\">dashing-sweep-9</a></strong> to <a href='https://wandb.ai/martingratzer-organization/Renyi_Divergence_Sweep_Teacher' target=\"_blank\">Weights & Biases</a> (<a href='https://wandb.me/run' target=\"_blank\">docs</a>)<br/>Sweep page: <a href='https://wandb.ai/martingratzer-organization/Renyi_Divergence_Sweep_Teacher/sweeps/cneq5azj' target=\"_blank\">https://wandb.ai/martingratzer-organization/Renyi_Divergence_Sweep_Teacher/sweeps/cneq5azj</a>"
      ]
     },
     "metadata": {},
     "output_type": "display_data"
    },
    {
     "data": {
      "text/plain": [
       "<IPython.core.display.HTML object>"
      ],
      "text/html": [
       " View project at <a href='https://wandb.ai/martingratzer-organization/Renyi_Divergence_Sweep_Teacher' target=\"_blank\">https://wandb.ai/martingratzer-organization/Renyi_Divergence_Sweep_Teacher</a>"
      ]
     },
     "metadata": {},
     "output_type": "display_data"
    },
    {
     "data": {
      "text/plain": [
       "<IPython.core.display.HTML object>"
      ],
      "text/html": [
       " View sweep at <a href='https://wandb.ai/martingratzer-organization/Renyi_Divergence_Sweep_Teacher/sweeps/cneq5azj' target=\"_blank\">https://wandb.ai/martingratzer-organization/Renyi_Divergence_Sweep_Teacher/sweeps/cneq5azj</a>"
      ]
     },
     "metadata": {},
     "output_type": "display_data"
    },
    {
     "data": {
      "text/plain": [
       "<IPython.core.display.HTML object>"
      ],
      "text/html": [
       " View run at <a href='https://wandb.ai/martingratzer-organization/Renyi_Divergence_Sweep_Teacher/runs/m5u2hmnv' target=\"_blank\">https://wandb.ai/martingratzer-organization/Renyi_Divergence_Sweep_Teacher/runs/m5u2hmnv</a>"
      ]
     },
     "metadata": {},
     "output_type": "display_data"
    },
    {
     "name": "stdout",
     "output_type": "stream",
     "text": [
      "Average Train Loss: 0.8205 \t \t Train Accuracy: 73.25%\n",
      "Average Validation Loss: 0.3230 \t Validation Accuracy: 90.40%\n",
      "Average Train Loss: 0.4460 \t \t Train Accuracy: 86.32%\n",
      "Average Validation Loss: 0.2385 \t Validation Accuracy: 92.63%\n",
      "Average Train Loss: 0.3710 \t \t Train Accuracy: 88.73%\n",
      "Average Validation Loss: 0.1907 \t Validation Accuracy: 94.27%\n",
      "Average Train Loss: 0.3288 \t \t Train Accuracy: 90.04%\n",
      "Average Validation Loss: 0.1761 \t Validation Accuracy: 95.00%\n",
      "Average Train Loss: 0.3070 \t \t Train Accuracy: 90.78%\n",
      "Average Validation Loss: 0.1624 \t Validation Accuracy: 95.30%\n",
      "Average Train Loss: 0.2871 \t \t Train Accuracy: 91.34%\n",
      "Average Validation Loss: 0.1367 \t Validation Accuracy: 96.07%\n",
      "Average Train Loss: 0.2716 \t \t Train Accuracy: 91.68%\n",
      "Average Validation Loss: 0.1403 \t Validation Accuracy: 95.73%\n",
      "Average Train Loss: 0.2610 \t \t Train Accuracy: 92.12%\n",
      "Average Validation Loss: 0.1332 \t Validation Accuracy: 96.07%\n",
      "Average Train Loss: 0.2511 \t \t Train Accuracy: 92.38%\n",
      "Average Validation Loss: 0.1306 \t Validation Accuracy: 96.13%\n",
      "Average Train Loss: 0.2421 \t \t Train Accuracy: 92.65%\n",
      "Average Validation Loss: 0.1225 \t Validation Accuracy: 96.07%\n"
     ]
    },
    {
     "data": {
      "text/plain": [
       "<IPython.core.display.HTML object>"
      ],
      "text/html": [
       "<style>\n",
       "    table.wandb td:nth-child(1) { padding: 0 10px; text-align: left ; width: auto;} td:nth-child(2) {text-align: left ; width: 100%}\n",
       "    .wandb-row { display: flex; flex-direction: row; flex-wrap: wrap; justify-content: flex-start; width: 100% }\n",
       "    .wandb-col { display: flex; flex-direction: column; flex-basis: 100%; flex: 1; padding: 10px; }\n",
       "    </style>\n",
       "<div class=\"wandb-row\"><div class=\"wandb-col\"><h3>Run history:</h3><br/><table class=\"wandb\"><tr><td>epoch</td><td>▁▂▃▃▄▅▆▆▇█</td></tr><tr><td>train_accuracy</td><td>▁▆▇▇▇█████</td></tr><tr><td>train_loss</td><td>█▃▃▂▂▂▁▁▁▁</td></tr><tr><td>val_accuracy</td><td>▁▄▆▇▇█████</td></tr><tr><td>val_loss</td><td>█▅▃▃▂▁▂▁▁▁</td></tr></table><br/></div><div class=\"wandb-col\"><h3>Run summary:</h3><br/><table class=\"wandb\"><tr><td>epoch</td><td>9</td></tr><tr><td>train_accuracy</td><td>92.65263</td></tr><tr><td>train_loss</td><td>0.2421</td></tr><tr><td>val_accuracy</td><td>96.06667</td></tr><tr><td>val_loss</td><td>0.12249</td></tr></table><br/></div></div>"
      ]
     },
     "metadata": {},
     "output_type": "display_data"
    },
    {
     "data": {
      "text/plain": [
       "<IPython.core.display.HTML object>"
      ],
      "text/html": [
       " View run <strong style=\"color:#cdcd00\">dashing-sweep-9</strong> at: <a href='https://wandb.ai/martingratzer-organization/Renyi_Divergence_Sweep_Teacher/runs/m5u2hmnv' target=\"_blank\">https://wandb.ai/martingratzer-organization/Renyi_Divergence_Sweep_Teacher/runs/m5u2hmnv</a><br/> View project at: <a href='https://wandb.ai/martingratzer-organization/Renyi_Divergence_Sweep_Teacher' target=\"_blank\">https://wandb.ai/martingratzer-organization/Renyi_Divergence_Sweep_Teacher</a><br/>Synced 5 W&B file(s), 0 media file(s), 0 artifact file(s) and 0 other file(s)"
      ]
     },
     "metadata": {},
     "output_type": "display_data"
    },
    {
     "data": {
      "text/plain": [
       "<IPython.core.display.HTML object>"
      ],
      "text/html": [
       "Find logs at: <code>.\\wandb\\run-20241021_190310-m5u2hmnv\\logs</code>"
      ]
     },
     "metadata": {},
     "output_type": "display_data"
    },
    {
     "name": "stderr",
     "output_type": "stream",
     "text": [
      "wandb: Agent Starting Run: tng66m05 with config:\n",
      "wandb: \tlearning_rate: 0.005023325720067179\n",
      "wandb: \tmomentum: 0.9117247404916824\n",
      "wandb: \tweight_decay: 0.0003024943745512175\n"
     ]
    },
    {
     "data": {
      "text/plain": [
       "<IPython.core.display.HTML object>"
      ],
      "text/html": [
       "Tracking run with wandb version 0.18.3"
      ]
     },
     "metadata": {},
     "output_type": "display_data"
    },
    {
     "data": {
      "text/plain": [
       "<IPython.core.display.HTML object>"
      ],
      "text/html": [
       "Run data is saved locally in <code>C:\\Users\\Martin\\Documents\\School\\Thesis\\Git Repository\\pytorch-image-models\\Jupyter Notebooks\\wandb\\run-20241021_190600-tng66m05</code>"
      ]
     },
     "metadata": {},
     "output_type": "display_data"
    },
    {
     "data": {
      "text/plain": [
       "<IPython.core.display.HTML object>"
      ],
      "text/html": [
       "Syncing run <strong><a href='https://wandb.ai/martingratzer-organization/Renyi_Divergence_Sweep_Teacher/runs/tng66m05' target=\"_blank\">visionary-sweep-10</a></strong> to <a href='https://wandb.ai/martingratzer-organization/Renyi_Divergence_Sweep_Teacher' target=\"_blank\">Weights & Biases</a> (<a href='https://wandb.me/run' target=\"_blank\">docs</a>)<br/>Sweep page: <a href='https://wandb.ai/martingratzer-organization/Renyi_Divergence_Sweep_Teacher/sweeps/cneq5azj' target=\"_blank\">https://wandb.ai/martingratzer-organization/Renyi_Divergence_Sweep_Teacher/sweeps/cneq5azj</a>"
      ]
     },
     "metadata": {},
     "output_type": "display_data"
    },
    {
     "data": {
      "text/plain": [
       "<IPython.core.display.HTML object>"
      ],
      "text/html": [
       " View project at <a href='https://wandb.ai/martingratzer-organization/Renyi_Divergence_Sweep_Teacher' target=\"_blank\">https://wandb.ai/martingratzer-organization/Renyi_Divergence_Sweep_Teacher</a>"
      ]
     },
     "metadata": {},
     "output_type": "display_data"
    },
    {
     "data": {
      "text/plain": [
       "<IPython.core.display.HTML object>"
      ],
      "text/html": [
       " View sweep at <a href='https://wandb.ai/martingratzer-organization/Renyi_Divergence_Sweep_Teacher/sweeps/cneq5azj' target=\"_blank\">https://wandb.ai/martingratzer-organization/Renyi_Divergence_Sweep_Teacher/sweeps/cneq5azj</a>"
      ]
     },
     "metadata": {},
     "output_type": "display_data"
    },
    {
     "data": {
      "text/plain": [
       "<IPython.core.display.HTML object>"
      ],
      "text/html": [
       " View run at <a href='https://wandb.ai/martingratzer-organization/Renyi_Divergence_Sweep_Teacher/runs/tng66m05' target=\"_blank\">https://wandb.ai/martingratzer-organization/Renyi_Divergence_Sweep_Teacher/runs/tng66m05</a>"
      ]
     },
     "metadata": {},
     "output_type": "display_data"
    },
    {
     "name": "stdout",
     "output_type": "stream",
     "text": [
      "Average Train Loss: 1.0101 \t \t Train Accuracy: 66.39%\n",
      "Average Validation Loss: 0.3724 \t Validation Accuracy: 89.00%\n",
      "Average Train Loss: 0.5144 \t \t Train Accuracy: 84.08%\n",
      "Average Validation Loss: 0.2778 \t Validation Accuracy: 91.43%\n",
      "Average Train Loss: 0.4247 \t \t Train Accuracy: 87.09%\n",
      "Average Validation Loss: 0.2410 \t Validation Accuracy: 92.40%\n",
      "Average Train Loss: 0.3767 \t \t Train Accuracy: 88.53%\n",
      "Average Validation Loss: 0.2066 \t Validation Accuracy: 93.53%\n",
      "Average Train Loss: 0.3374 \t \t Train Accuracy: 89.71%\n",
      "Average Validation Loss: 0.1823 \t Validation Accuracy: 94.10%\n",
      "Average Train Loss: 0.3109 \t \t Train Accuracy: 90.57%\n",
      "Average Validation Loss: 0.1637 \t Validation Accuracy: 95.23%\n",
      "Average Train Loss: 0.2971 \t \t Train Accuracy: 91.06%\n",
      "Average Validation Loss: 0.1584 \t Validation Accuracy: 95.10%\n",
      "Average Train Loss: 0.2848 \t \t Train Accuracy: 91.46%\n",
      "Average Validation Loss: 0.1456 \t Validation Accuracy: 95.73%\n",
      "Average Train Loss: 0.2741 \t \t Train Accuracy: 91.74%\n",
      "Average Validation Loss: 0.1420 \t Validation Accuracy: 95.73%\n",
      "Average Train Loss: 0.2625 \t \t Train Accuracy: 92.14%\n",
      "Average Validation Loss: 0.1345 \t Validation Accuracy: 96.00%\n"
     ]
    },
    {
     "data": {
      "text/plain": [
       "<IPython.core.display.HTML object>"
      ],
      "text/html": [
       "<style>\n",
       "    table.wandb td:nth-child(1) { padding: 0 10px; text-align: left ; width: auto;} td:nth-child(2) {text-align: left ; width: 100%}\n",
       "    .wandb-row { display: flex; flex-direction: row; flex-wrap: wrap; justify-content: flex-start; width: 100% }\n",
       "    .wandb-col { display: flex; flex-direction: column; flex-basis: 100%; flex: 1; padding: 10px; }\n",
       "    </style>\n",
       "<div class=\"wandb-row\"><div class=\"wandb-col\"><h3>Run history:</h3><br/><table class=\"wandb\"><tr><td>epoch</td><td>▁▂▃▃▄▅▆▆▇█</td></tr><tr><td>train_accuracy</td><td>▁▆▇▇▇█████</td></tr><tr><td>train_loss</td><td>█▃▃▂▂▁▁▁▁▁</td></tr><tr><td>val_accuracy</td><td>▁▃▄▆▆▇▇███</td></tr><tr><td>val_loss</td><td>█▅▄▃▂▂▂▁▁▁</td></tr></table><br/></div><div class=\"wandb-col\"><h3>Run summary:</h3><br/><table class=\"wandb\"><tr><td>epoch</td><td>9</td></tr><tr><td>train_accuracy</td><td>92.1386</td></tr><tr><td>train_loss</td><td>0.2625</td></tr><tr><td>val_accuracy</td><td>96</td></tr><tr><td>val_loss</td><td>0.13449</td></tr></table><br/></div></div>"
      ]
     },
     "metadata": {},
     "output_type": "display_data"
    },
    {
     "data": {
      "text/plain": [
       "<IPython.core.display.HTML object>"
      ],
      "text/html": [
       " View run <strong style=\"color:#cdcd00\">visionary-sweep-10</strong> at: <a href='https://wandb.ai/martingratzer-organization/Renyi_Divergence_Sweep_Teacher/runs/tng66m05' target=\"_blank\">https://wandb.ai/martingratzer-organization/Renyi_Divergence_Sweep_Teacher/runs/tng66m05</a><br/> View project at: <a href='https://wandb.ai/martingratzer-organization/Renyi_Divergence_Sweep_Teacher' target=\"_blank\">https://wandb.ai/martingratzer-organization/Renyi_Divergence_Sweep_Teacher</a><br/>Synced 5 W&B file(s), 0 media file(s), 0 artifact file(s) and 0 other file(s)"
      ]
     },
     "metadata": {},
     "output_type": "display_data"
    },
    {
     "data": {
      "text/plain": [
       "<IPython.core.display.HTML object>"
      ],
      "text/html": [
       "Find logs at: <code>.\\wandb\\run-20241021_190600-tng66m05\\logs</code>"
      ]
     },
     "metadata": {},
     "output_type": "display_data"
    },
    {
     "name": "stderr",
     "output_type": "stream",
     "text": [
      "wandb: Agent Starting Run: lnra1wi7 with config:\n",
      "wandb: \tlearning_rate: 0.02885700611337015\n",
      "wandb: \tmomentum: 0.9495416566386876\n",
      "wandb: \tweight_decay: 0.00016111807583883315\n"
     ]
    },
    {
     "data": {
      "text/plain": [
       "<IPython.core.display.HTML object>"
      ],
      "text/html": [
       "Tracking run with wandb version 0.18.3"
      ]
     },
     "metadata": {},
     "output_type": "display_data"
    },
    {
     "data": {
      "text/plain": [
       "<IPython.core.display.HTML object>"
      ],
      "text/html": [
       "Run data is saved locally in <code>C:\\Users\\Martin\\Documents\\School\\Thesis\\Git Repository\\pytorch-image-models\\Jupyter Notebooks\\wandb\\run-20241021_190850-lnra1wi7</code>"
      ]
     },
     "metadata": {},
     "output_type": "display_data"
    },
    {
     "data": {
      "text/plain": [
       "<IPython.core.display.HTML object>"
      ],
      "text/html": [
       "Syncing run <strong><a href='https://wandb.ai/martingratzer-organization/Renyi_Divergence_Sweep_Teacher/runs/lnra1wi7' target=\"_blank\">azure-sweep-11</a></strong> to <a href='https://wandb.ai/martingratzer-organization/Renyi_Divergence_Sweep_Teacher' target=\"_blank\">Weights & Biases</a> (<a href='https://wandb.me/run' target=\"_blank\">docs</a>)<br/>Sweep page: <a href='https://wandb.ai/martingratzer-organization/Renyi_Divergence_Sweep_Teacher/sweeps/cneq5azj' target=\"_blank\">https://wandb.ai/martingratzer-organization/Renyi_Divergence_Sweep_Teacher/sweeps/cneq5azj</a>"
      ]
     },
     "metadata": {},
     "output_type": "display_data"
    },
    {
     "data": {
      "text/plain": [
       "<IPython.core.display.HTML object>"
      ],
      "text/html": [
       " View project at <a href='https://wandb.ai/martingratzer-organization/Renyi_Divergence_Sweep_Teacher' target=\"_blank\">https://wandb.ai/martingratzer-organization/Renyi_Divergence_Sweep_Teacher</a>"
      ]
     },
     "metadata": {},
     "output_type": "display_data"
    },
    {
     "data": {
      "text/plain": [
       "<IPython.core.display.HTML object>"
      ],
      "text/html": [
       " View sweep at <a href='https://wandb.ai/martingratzer-organization/Renyi_Divergence_Sweep_Teacher/sweeps/cneq5azj' target=\"_blank\">https://wandb.ai/martingratzer-organization/Renyi_Divergence_Sweep_Teacher/sweeps/cneq5azj</a>"
      ]
     },
     "metadata": {},
     "output_type": "display_data"
    },
    {
     "data": {
      "text/plain": [
       "<IPython.core.display.HTML object>"
      ],
      "text/html": [
       " View run at <a href='https://wandb.ai/martingratzer-organization/Renyi_Divergence_Sweep_Teacher/runs/lnra1wi7' target=\"_blank\">https://wandb.ai/martingratzer-organization/Renyi_Divergence_Sweep_Teacher/runs/lnra1wi7</a>"
      ]
     },
     "metadata": {},
     "output_type": "display_data"
    },
    {
     "name": "stdout",
     "output_type": "stream",
     "text": [
      "Average Train Loss: 0.8389 \t \t Train Accuracy: 72.91%\n",
      "Average Validation Loss: 0.4087 \t Validation Accuracy: 89.00%\n",
      "Average Train Loss: 0.6947 \t \t Train Accuracy: 78.39%\n",
      "Average Validation Loss: 0.3507 \t Validation Accuracy: 90.37%\n",
      "Average Train Loss: 0.6888 \t \t Train Accuracy: 78.66%\n",
      "Average Validation Loss: 0.3695 \t Validation Accuracy: 89.40%\n",
      "Average Train Loss: 0.6451 \t \t Train Accuracy: 80.49%\n",
      "Average Validation Loss: 0.3495 \t Validation Accuracy: 90.70%\n",
      "Average Train Loss: 0.6198 \t \t Train Accuracy: 81.72%\n",
      "Average Validation Loss: 0.3368 \t Validation Accuracy: 90.20%\n",
      "Average Train Loss: 0.5980 \t \t Train Accuracy: 82.52%\n",
      "Average Validation Loss: 0.2986 \t Validation Accuracy: 91.53%\n",
      "Average Train Loss: 0.5881 \t \t Train Accuracy: 82.50%\n",
      "Average Validation Loss: 0.2913 \t Validation Accuracy: 91.57%\n",
      "Average Train Loss: 0.5939 \t \t Train Accuracy: 82.66%\n",
      "Average Validation Loss: 0.3173 \t Validation Accuracy: 91.30%\n",
      "Average Train Loss: 0.5969 \t \t Train Accuracy: 82.47%\n",
      "Average Validation Loss: 0.2923 \t Validation Accuracy: 92.00%\n",
      "Average Train Loss: 0.5975 \t \t Train Accuracy: 82.70%\n",
      "Average Validation Loss: 0.2961 \t Validation Accuracy: 91.07%\n"
     ]
    },
    {
     "data": {
      "text/plain": [
       "<IPython.core.display.HTML object>"
      ],
      "text/html": [
       "<style>\n",
       "    table.wandb td:nth-child(1) { padding: 0 10px; text-align: left ; width: auto;} td:nth-child(2) {text-align: left ; width: 100%}\n",
       "    .wandb-row { display: flex; flex-direction: row; flex-wrap: wrap; justify-content: flex-start; width: 100% }\n",
       "    .wandb-col { display: flex; flex-direction: column; flex-basis: 100%; flex: 1; padding: 10px; }\n",
       "    </style>\n",
       "<div class=\"wandb-row\"><div class=\"wandb-col\"><h3>Run history:</h3><br/><table class=\"wandb\"><tr><td>epoch</td><td>▁▂▃▃▄▅▆▆▇█</td></tr><tr><td>train_accuracy</td><td>▁▅▅▆▇█████</td></tr><tr><td>train_loss</td><td>█▄▄▃▂▁▁▁▁▁</td></tr><tr><td>val_accuracy</td><td>▁▄▂▅▄▇▇▆█▆</td></tr><tr><td>val_loss</td><td>█▅▆▄▄▁▁▃▁▁</td></tr></table><br/></div><div class=\"wandb-col\"><h3>Run summary:</h3><br/><table class=\"wandb\"><tr><td>epoch</td><td>9</td></tr><tr><td>train_accuracy</td><td>82.70175</td></tr><tr><td>train_loss</td><td>0.59754</td></tr><tr><td>val_accuracy</td><td>91.06667</td></tr><tr><td>val_loss</td><td>0.29612</td></tr></table><br/></div></div>"
      ]
     },
     "metadata": {},
     "output_type": "display_data"
    },
    {
     "data": {
      "text/plain": [
       "<IPython.core.display.HTML object>"
      ],
      "text/html": [
       " View run <strong style=\"color:#cdcd00\">azure-sweep-11</strong> at: <a href='https://wandb.ai/martingratzer-organization/Renyi_Divergence_Sweep_Teacher/runs/lnra1wi7' target=\"_blank\">https://wandb.ai/martingratzer-organization/Renyi_Divergence_Sweep_Teacher/runs/lnra1wi7</a><br/> View project at: <a href='https://wandb.ai/martingratzer-organization/Renyi_Divergence_Sweep_Teacher' target=\"_blank\">https://wandb.ai/martingratzer-organization/Renyi_Divergence_Sweep_Teacher</a><br/>Synced 5 W&B file(s), 0 media file(s), 0 artifact file(s) and 0 other file(s)"
      ]
     },
     "metadata": {},
     "output_type": "display_data"
    },
    {
     "data": {
      "text/plain": [
       "<IPython.core.display.HTML object>"
      ],
      "text/html": [
       "Find logs at: <code>.\\wandb\\run-20241021_190850-lnra1wi7\\logs</code>"
      ]
     },
     "metadata": {},
     "output_type": "display_data"
    },
    {
     "name": "stderr",
     "output_type": "stream",
     "text": [
      "wandb: Agent Starting Run: nt3syr5m with config:\n",
      "wandb: \tlearning_rate: 0.02941231367410919\n",
      "wandb: \tmomentum: 0.5922637362778924\n",
      "wandb: \tweight_decay: 0.00036455848585521794\n"
     ]
    },
    {
     "data": {
      "text/plain": [
       "<IPython.core.display.HTML object>"
      ],
      "text/html": [
       "Tracking run with wandb version 0.18.3"
      ]
     },
     "metadata": {},
     "output_type": "display_data"
    },
    {
     "data": {
      "text/plain": [
       "<IPython.core.display.HTML object>"
      ],
      "text/html": [
       "Run data is saved locally in <code>C:\\Users\\Martin\\Documents\\School\\Thesis\\Git Repository\\pytorch-image-models\\Jupyter Notebooks\\wandb\\run-20241021_191141-nt3syr5m</code>"
      ]
     },
     "metadata": {},
     "output_type": "display_data"
    },
    {
     "data": {
      "text/plain": [
       "<IPython.core.display.HTML object>"
      ],
      "text/html": [
       "Syncing run <strong><a href='https://wandb.ai/martingratzer-organization/Renyi_Divergence_Sweep_Teacher/runs/nt3syr5m' target=\"_blank\">helpful-sweep-12</a></strong> to <a href='https://wandb.ai/martingratzer-organization/Renyi_Divergence_Sweep_Teacher' target=\"_blank\">Weights & Biases</a> (<a href='https://wandb.me/run' target=\"_blank\">docs</a>)<br/>Sweep page: <a href='https://wandb.ai/martingratzer-organization/Renyi_Divergence_Sweep_Teacher/sweeps/cneq5azj' target=\"_blank\">https://wandb.ai/martingratzer-organization/Renyi_Divergence_Sweep_Teacher/sweeps/cneq5azj</a>"
      ]
     },
     "metadata": {},
     "output_type": "display_data"
    },
    {
     "data": {
      "text/plain": [
       "<IPython.core.display.HTML object>"
      ],
      "text/html": [
       " View project at <a href='https://wandb.ai/martingratzer-organization/Renyi_Divergence_Sweep_Teacher' target=\"_blank\">https://wandb.ai/martingratzer-organization/Renyi_Divergence_Sweep_Teacher</a>"
      ]
     },
     "metadata": {},
     "output_type": "display_data"
    },
    {
     "data": {
      "text/plain": [
       "<IPython.core.display.HTML object>"
      ],
      "text/html": [
       " View sweep at <a href='https://wandb.ai/martingratzer-organization/Renyi_Divergence_Sweep_Teacher/sweeps/cneq5azj' target=\"_blank\">https://wandb.ai/martingratzer-organization/Renyi_Divergence_Sweep_Teacher/sweeps/cneq5azj</a>"
      ]
     },
     "metadata": {},
     "output_type": "display_data"
    },
    {
     "data": {
      "text/plain": [
       "<IPython.core.display.HTML object>"
      ],
      "text/html": [
       " View run at <a href='https://wandb.ai/martingratzer-organization/Renyi_Divergence_Sweep_Teacher/runs/nt3syr5m' target=\"_blank\">https://wandb.ai/martingratzer-organization/Renyi_Divergence_Sweep_Teacher/runs/nt3syr5m</a>"
      ]
     },
     "metadata": {},
     "output_type": "display_data"
    },
    {
     "name": "stdout",
     "output_type": "stream",
     "text": [
      "Average Train Loss: 0.9018 \t \t Train Accuracy: 69.99%\n",
      "Average Validation Loss: 0.3456 \t Validation Accuracy: 89.23%\n",
      "Average Train Loss: 0.4796 \t \t Train Accuracy: 85.07%\n",
      "Average Validation Loss: 0.2779 \t Validation Accuracy: 91.53%\n",
      "Average Train Loss: 0.3953 \t \t Train Accuracy: 88.00%\n",
      "Average Validation Loss: 0.2055 \t Validation Accuracy: 93.93%\n",
      "Average Train Loss: 0.3542 \t \t Train Accuracy: 89.28%\n",
      "Average Validation Loss: 0.1820 \t Validation Accuracy: 94.83%\n",
      "Average Train Loss: 0.3230 \t \t Train Accuracy: 90.16%\n",
      "Average Validation Loss: 0.1740 \t Validation Accuracy: 94.57%\n",
      "Average Train Loss: 0.3026 \t \t Train Accuracy: 90.82%\n",
      "Average Validation Loss: 0.1576 \t Validation Accuracy: 95.40%\n",
      "Average Train Loss: 0.2888 \t \t Train Accuracy: 91.23%\n",
      "Average Validation Loss: 0.1425 \t Validation Accuracy: 95.57%\n",
      "Average Train Loss: 0.2779 \t \t Train Accuracy: 91.61%\n",
      "Average Validation Loss: 0.1487 \t Validation Accuracy: 95.27%\n",
      "Average Train Loss: 0.2685 \t \t Train Accuracy: 91.81%\n",
      "Average Validation Loss: 0.1384 \t Validation Accuracy: 95.83%\n",
      "Average Train Loss: 0.2602 \t \t Train Accuracy: 92.20%\n",
      "Average Validation Loss: 0.1261 \t Validation Accuracy: 95.97%\n"
     ]
    },
    {
     "data": {
      "text/plain": [
       "<IPython.core.display.HTML object>"
      ],
      "text/html": [
       "<style>\n",
       "    table.wandb td:nth-child(1) { padding: 0 10px; text-align: left ; width: auto;} td:nth-child(2) {text-align: left ; width: 100%}\n",
       "    .wandb-row { display: flex; flex-direction: row; flex-wrap: wrap; justify-content: flex-start; width: 100% }\n",
       "    .wandb-col { display: flex; flex-direction: column; flex-basis: 100%; flex: 1; padding: 10px; }\n",
       "    </style>\n",
       "<div class=\"wandb-row\"><div class=\"wandb-col\"><h3>Run history:</h3><br/><table class=\"wandb\"><tr><td>epoch</td><td>▁▂▃▃▄▅▆▆▇█</td></tr><tr><td>train_accuracy</td><td>▁▆▇▇▇█████</td></tr><tr><td>train_loss</td><td>█▃▂▂▂▁▁▁▁▁</td></tr><tr><td>val_accuracy</td><td>▁▃▆▇▇▇█▇██</td></tr><tr><td>val_loss</td><td>█▆▄▃▃▂▂▂▁▁</td></tr></table><br/></div><div class=\"wandb-col\"><h3>Run summary:</h3><br/><table class=\"wandb\"><tr><td>epoch</td><td>9</td></tr><tr><td>train_accuracy</td><td>92.20175</td></tr><tr><td>train_loss</td><td>0.26021</td></tr><tr><td>val_accuracy</td><td>95.96667</td></tr><tr><td>val_loss</td><td>0.12608</td></tr></table><br/></div></div>"
      ]
     },
     "metadata": {},
     "output_type": "display_data"
    },
    {
     "data": {
      "text/plain": [
       "<IPython.core.display.HTML object>"
      ],
      "text/html": [
       " View run <strong style=\"color:#cdcd00\">helpful-sweep-12</strong> at: <a href='https://wandb.ai/martingratzer-organization/Renyi_Divergence_Sweep_Teacher/runs/nt3syr5m' target=\"_blank\">https://wandb.ai/martingratzer-organization/Renyi_Divergence_Sweep_Teacher/runs/nt3syr5m</a><br/> View project at: <a href='https://wandb.ai/martingratzer-organization/Renyi_Divergence_Sweep_Teacher' target=\"_blank\">https://wandb.ai/martingratzer-organization/Renyi_Divergence_Sweep_Teacher</a><br/>Synced 5 W&B file(s), 0 media file(s), 0 artifact file(s) and 0 other file(s)"
      ]
     },
     "metadata": {},
     "output_type": "display_data"
    },
    {
     "data": {
      "text/plain": [
       "<IPython.core.display.HTML object>"
      ],
      "text/html": [
       "Find logs at: <code>.\\wandb\\run-20241021_191141-nt3syr5m\\logs</code>"
      ]
     },
     "metadata": {},
     "output_type": "display_data"
    },
    {
     "name": "stderr",
     "output_type": "stream",
     "text": [
      "wandb: Agent Starting Run: 85reiv7i with config:\n",
      "wandb: \tlearning_rate: 0.049577721266898425\n",
      "wandb: \tmomentum: 0.5676528976737456\n",
      "wandb: \tweight_decay: 0.00033328986820636993\n"
     ]
    },
    {
     "data": {
      "text/plain": [
       "<IPython.core.display.HTML object>"
      ],
      "text/html": [
       "Tracking run with wandb version 0.18.3"
      ]
     },
     "metadata": {},
     "output_type": "display_data"
    },
    {
     "data": {
      "text/plain": [
       "<IPython.core.display.HTML object>"
      ],
      "text/html": [
       "Run data is saved locally in <code>C:\\Users\\Martin\\Documents\\School\\Thesis\\Git Repository\\pytorch-image-models\\Jupyter Notebooks\\wandb\\run-20241021_191431-85reiv7i</code>"
      ]
     },
     "metadata": {},
     "output_type": "display_data"
    },
    {
     "data": {
      "text/plain": [
       "<IPython.core.display.HTML object>"
      ],
      "text/html": [
       "Syncing run <strong><a href='https://wandb.ai/martingratzer-organization/Renyi_Divergence_Sweep_Teacher/runs/85reiv7i' target=\"_blank\">peach-sweep-13</a></strong> to <a href='https://wandb.ai/martingratzer-organization/Renyi_Divergence_Sweep_Teacher' target=\"_blank\">Weights & Biases</a> (<a href='https://wandb.me/run' target=\"_blank\">docs</a>)<br/>Sweep page: <a href='https://wandb.ai/martingratzer-organization/Renyi_Divergence_Sweep_Teacher/sweeps/cneq5azj' target=\"_blank\">https://wandb.ai/martingratzer-organization/Renyi_Divergence_Sweep_Teacher/sweeps/cneq5azj</a>"
      ]
     },
     "metadata": {},
     "output_type": "display_data"
    },
    {
     "data": {
      "text/plain": [
       "<IPython.core.display.HTML object>"
      ],
      "text/html": [
       " View project at <a href='https://wandb.ai/martingratzer-organization/Renyi_Divergence_Sweep_Teacher' target=\"_blank\">https://wandb.ai/martingratzer-organization/Renyi_Divergence_Sweep_Teacher</a>"
      ]
     },
     "metadata": {},
     "output_type": "display_data"
    },
    {
     "data": {
      "text/plain": [
       "<IPython.core.display.HTML object>"
      ],
      "text/html": [
       " View sweep at <a href='https://wandb.ai/martingratzer-organization/Renyi_Divergence_Sweep_Teacher/sweeps/cneq5azj' target=\"_blank\">https://wandb.ai/martingratzer-organization/Renyi_Divergence_Sweep_Teacher/sweeps/cneq5azj</a>"
      ]
     },
     "metadata": {},
     "output_type": "display_data"
    },
    {
     "data": {
      "text/plain": [
       "<IPython.core.display.HTML object>"
      ],
      "text/html": [
       " View run at <a href='https://wandb.ai/martingratzer-organization/Renyi_Divergence_Sweep_Teacher/runs/85reiv7i' target=\"_blank\">https://wandb.ai/martingratzer-organization/Renyi_Divergence_Sweep_Teacher/runs/85reiv7i</a>"
      ]
     },
     "metadata": {},
     "output_type": "display_data"
    },
    {
     "name": "stdout",
     "output_type": "stream",
     "text": [
      "Average Train Loss: 0.7745 \t \t Train Accuracy: 74.62%\n",
      "Average Validation Loss: 0.3232 \t Validation Accuracy: 89.80%\n",
      "Average Train Loss: 0.4320 \t \t Train Accuracy: 86.79%\n",
      "Average Validation Loss: 0.2072 \t Validation Accuracy: 93.63%\n",
      "Average Train Loss: 0.3634 \t \t Train Accuracy: 88.99%\n",
      "Average Validation Loss: 0.1763 \t Validation Accuracy: 94.73%\n",
      "Average Train Loss: 0.3255 \t \t Train Accuracy: 90.10%\n",
      "Average Validation Loss: 0.1668 \t Validation Accuracy: 95.23%\n",
      "Average Train Loss: 0.3032 \t \t Train Accuracy: 90.83%\n",
      "Average Validation Loss: 0.1621 \t Validation Accuracy: 95.20%\n",
      "Average Train Loss: 0.2913 \t \t Train Accuracy: 91.14%\n",
      "Average Validation Loss: 0.1432 \t Validation Accuracy: 95.63%\n",
      "Average Train Loss: 0.2773 \t \t Train Accuracy: 91.64%\n",
      "Average Validation Loss: 0.1382 \t Validation Accuracy: 95.67%\n",
      "Average Train Loss: 0.2695 \t \t Train Accuracy: 91.89%\n",
      "Average Validation Loss: 0.1423 \t Validation Accuracy: 95.67%\n",
      "Average Train Loss: 0.2620 \t \t Train Accuracy: 92.05%\n",
      "Average Validation Loss: 0.1306 \t Validation Accuracy: 96.07%\n",
      "Average Train Loss: 0.2549 \t \t Train Accuracy: 92.12%\n",
      "Average Validation Loss: 0.1239 \t Validation Accuracy: 96.50%\n"
     ]
    },
    {
     "data": {
      "text/plain": [
       "<IPython.core.display.HTML object>"
      ],
      "text/html": [
       "<style>\n",
       "    table.wandb td:nth-child(1) { padding: 0 10px; text-align: left ; width: auto;} td:nth-child(2) {text-align: left ; width: 100%}\n",
       "    .wandb-row { display: flex; flex-direction: row; flex-wrap: wrap; justify-content: flex-start; width: 100% }\n",
       "    .wandb-col { display: flex; flex-direction: column; flex-basis: 100%; flex: 1; padding: 10px; }\n",
       "    </style>\n",
       "<div class=\"wandb-row\"><div class=\"wandb-col\"><h3>Run history:</h3><br/><table class=\"wandb\"><tr><td>epoch</td><td>▁▂▃▃▄▅▆▆▇█</td></tr><tr><td>train_accuracy</td><td>▁▆▇▇▇█████</td></tr><tr><td>train_loss</td><td>█▃▂▂▂▁▁▁▁▁</td></tr><tr><td>val_accuracy</td><td>▁▅▆▇▇▇▇▇██</td></tr><tr><td>val_loss</td><td>█▄▃▃▂▂▂▂▁▁</td></tr></table><br/></div><div class=\"wandb-col\"><h3>Run summary:</h3><br/><table class=\"wandb\"><tr><td>epoch</td><td>9</td></tr><tr><td>train_accuracy</td><td>92.12281</td></tr><tr><td>train_loss</td><td>0.25493</td></tr><tr><td>val_accuracy</td><td>96.5</td></tr><tr><td>val_loss</td><td>0.12387</td></tr></table><br/></div></div>"
      ]
     },
     "metadata": {},
     "output_type": "display_data"
    },
    {
     "data": {
      "text/plain": [
       "<IPython.core.display.HTML object>"
      ],
      "text/html": [
       " View run <strong style=\"color:#cdcd00\">peach-sweep-13</strong> at: <a href='https://wandb.ai/martingratzer-organization/Renyi_Divergence_Sweep_Teacher/runs/85reiv7i' target=\"_blank\">https://wandb.ai/martingratzer-organization/Renyi_Divergence_Sweep_Teacher/runs/85reiv7i</a><br/> View project at: <a href='https://wandb.ai/martingratzer-organization/Renyi_Divergence_Sweep_Teacher' target=\"_blank\">https://wandb.ai/martingratzer-organization/Renyi_Divergence_Sweep_Teacher</a><br/>Synced 5 W&B file(s), 0 media file(s), 0 artifact file(s) and 0 other file(s)"
      ]
     },
     "metadata": {},
     "output_type": "display_data"
    },
    {
     "data": {
      "text/plain": [
       "<IPython.core.display.HTML object>"
      ],
      "text/html": [
       "Find logs at: <code>.\\wandb\\run-20241021_191431-85reiv7i\\logs</code>"
      ]
     },
     "metadata": {},
     "output_type": "display_data"
    },
    {
     "name": "stderr",
     "output_type": "stream",
     "text": [
      "wandb: Agent Starting Run: 3jd7vdbe with config:\n",
      "wandb: \tlearning_rate: 0.03613878016773305\n",
      "wandb: \tmomentum: 0.6309782668515367\n",
      "wandb: \tweight_decay: 5.3233677421643726e-05\n"
     ]
    },
    {
     "data": {
      "text/plain": [
       "<IPython.core.display.HTML object>"
      ],
      "text/html": [
       "Tracking run with wandb version 0.18.3"
      ]
     },
     "metadata": {},
     "output_type": "display_data"
    },
    {
     "data": {
      "text/plain": [
       "<IPython.core.display.HTML object>"
      ],
      "text/html": [
       "Run data is saved locally in <code>C:\\Users\\Martin\\Documents\\School\\Thesis\\Git Repository\\pytorch-image-models\\Jupyter Notebooks\\wandb\\run-20241021_191717-3jd7vdbe</code>"
      ]
     },
     "metadata": {},
     "output_type": "display_data"
    },
    {
     "data": {
      "text/plain": [
       "<IPython.core.display.HTML object>"
      ],
      "text/html": [
       "Syncing run <strong><a href='https://wandb.ai/martingratzer-organization/Renyi_Divergence_Sweep_Teacher/runs/3jd7vdbe' target=\"_blank\">celestial-sweep-14</a></strong> to <a href='https://wandb.ai/martingratzer-organization/Renyi_Divergence_Sweep_Teacher' target=\"_blank\">Weights & Biases</a> (<a href='https://wandb.me/run' target=\"_blank\">docs</a>)<br/>Sweep page: <a href='https://wandb.ai/martingratzer-organization/Renyi_Divergence_Sweep_Teacher/sweeps/cneq5azj' target=\"_blank\">https://wandb.ai/martingratzer-organization/Renyi_Divergence_Sweep_Teacher/sweeps/cneq5azj</a>"
      ]
     },
     "metadata": {},
     "output_type": "display_data"
    },
    {
     "data": {
      "text/plain": [
       "<IPython.core.display.HTML object>"
      ],
      "text/html": [
       " View project at <a href='https://wandb.ai/martingratzer-organization/Renyi_Divergence_Sweep_Teacher' target=\"_blank\">https://wandb.ai/martingratzer-organization/Renyi_Divergence_Sweep_Teacher</a>"
      ]
     },
     "metadata": {},
     "output_type": "display_data"
    },
    {
     "data": {
      "text/plain": [
       "<IPython.core.display.HTML object>"
      ],
      "text/html": [
       " View sweep at <a href='https://wandb.ai/martingratzer-organization/Renyi_Divergence_Sweep_Teacher/sweeps/cneq5azj' target=\"_blank\">https://wandb.ai/martingratzer-organization/Renyi_Divergence_Sweep_Teacher/sweeps/cneq5azj</a>"
      ]
     },
     "metadata": {},
     "output_type": "display_data"
    },
    {
     "data": {
      "text/plain": [
       "<IPython.core.display.HTML object>"
      ],
      "text/html": [
       " View run at <a href='https://wandb.ai/martingratzer-organization/Renyi_Divergence_Sweep_Teacher/runs/3jd7vdbe' target=\"_blank\">https://wandb.ai/martingratzer-organization/Renyi_Divergence_Sweep_Teacher/runs/3jd7vdbe</a>"
      ]
     },
     "metadata": {},
     "output_type": "display_data"
    },
    {
     "name": "stdout",
     "output_type": "stream",
     "text": [
      "Average Train Loss: 0.8158 \t \t Train Accuracy: 73.53%\n",
      "Average Validation Loss: 0.3214 \t Validation Accuracy: 90.20%\n",
      "Average Train Loss: 0.4454 \t \t Train Accuracy: 86.41%\n",
      "Average Validation Loss: 0.2325 \t Validation Accuracy: 93.03%\n",
      "Average Train Loss: 0.3668 \t \t Train Accuracy: 88.86%\n",
      "Average Validation Loss: 0.2010 \t Validation Accuracy: 94.27%\n",
      "Average Train Loss: 0.3255 \t \t Train Accuracy: 90.13%\n",
      "Average Validation Loss: 0.1820 \t Validation Accuracy: 94.63%\n",
      "Average Train Loss: 0.3018 \t \t Train Accuracy: 90.86%\n",
      "Average Validation Loss: 0.1695 \t Validation Accuracy: 94.97%\n",
      "Average Train Loss: 0.2842 \t \t Train Accuracy: 91.51%\n",
      "Average Validation Loss: 0.1451 \t Validation Accuracy: 95.53%\n",
      "Average Train Loss: 0.2736 \t \t Train Accuracy: 91.84%\n",
      "Average Validation Loss: 0.1384 \t Validation Accuracy: 95.83%\n",
      "Average Train Loss: 0.2596 \t \t Train Accuracy: 92.18%\n",
      "Average Validation Loss: 0.1415 \t Validation Accuracy: 96.03%\n",
      "Average Train Loss: 0.2542 \t \t Train Accuracy: 92.34%\n",
      "Average Validation Loss: 0.1312 \t Validation Accuracy: 95.83%\n",
      "Average Train Loss: 0.2472 \t \t Train Accuracy: 92.55%\n",
      "Average Validation Loss: 0.1170 \t Validation Accuracy: 96.47%\n"
     ]
    },
    {
     "data": {
      "text/plain": [
       "<IPython.core.display.HTML object>"
      ],
      "text/html": [
       "<style>\n",
       "    table.wandb td:nth-child(1) { padding: 0 10px; text-align: left ; width: auto;} td:nth-child(2) {text-align: left ; width: 100%}\n",
       "    .wandb-row { display: flex; flex-direction: row; flex-wrap: wrap; justify-content: flex-start; width: 100% }\n",
       "    .wandb-col { display: flex; flex-direction: column; flex-basis: 100%; flex: 1; padding: 10px; }\n",
       "    </style>\n",
       "<div class=\"wandb-row\"><div class=\"wandb-col\"><h3>Run history:</h3><br/><table class=\"wandb\"><tr><td>epoch</td><td>▁▂▃▃▄▅▆▆▇█</td></tr><tr><td>train_accuracy</td><td>▁▆▇▇▇█████</td></tr><tr><td>train_loss</td><td>█▃▂▂▂▁▁▁▁▁</td></tr><tr><td>val_accuracy</td><td>▁▄▆▆▆▇▇█▇█</td></tr><tr><td>val_loss</td><td>█▅▄▃▃▂▂▂▁▁</td></tr></table><br/></div><div class=\"wandb-col\"><h3>Run summary:</h3><br/><table class=\"wandb\"><tr><td>epoch</td><td>9</td></tr><tr><td>train_accuracy</td><td>92.54561</td></tr><tr><td>train_loss</td><td>0.24722</td></tr><tr><td>val_accuracy</td><td>96.46667</td></tr><tr><td>val_loss</td><td>0.11702</td></tr></table><br/></div></div>"
      ]
     },
     "metadata": {},
     "output_type": "display_data"
    },
    {
     "data": {
      "text/plain": [
       "<IPython.core.display.HTML object>"
      ],
      "text/html": [
       " View run <strong style=\"color:#cdcd00\">celestial-sweep-14</strong> at: <a href='https://wandb.ai/martingratzer-organization/Renyi_Divergence_Sweep_Teacher/runs/3jd7vdbe' target=\"_blank\">https://wandb.ai/martingratzer-organization/Renyi_Divergence_Sweep_Teacher/runs/3jd7vdbe</a><br/> View project at: <a href='https://wandb.ai/martingratzer-organization/Renyi_Divergence_Sweep_Teacher' target=\"_blank\">https://wandb.ai/martingratzer-organization/Renyi_Divergence_Sweep_Teacher</a><br/>Synced 5 W&B file(s), 0 media file(s), 0 artifact file(s) and 0 other file(s)"
      ]
     },
     "metadata": {},
     "output_type": "display_data"
    },
    {
     "data": {
      "text/plain": [
       "<IPython.core.display.HTML object>"
      ],
      "text/html": [
       "Find logs at: <code>.\\wandb\\run-20241021_191717-3jd7vdbe\\logs</code>"
      ]
     },
     "metadata": {},
     "output_type": "display_data"
    },
    {
     "name": "stderr",
     "output_type": "stream",
     "text": [
      "wandb: Sweep Agent: Waiting for job.\n",
      "wandb: Job received.\n",
      "wandb: Agent Starting Run: z25buds7 with config:\n",
      "wandb: \tlearning_rate: 0.008479528902716044\n",
      "wandb: \tmomentum: 0.665742161554547\n",
      "wandb: \tweight_decay: 0.0002356494938373405\n"
     ]
    },
    {
     "data": {
      "text/plain": [
       "<IPython.core.display.HTML object>"
      ],
      "text/html": [
       "Tracking run with wandb version 0.18.3"
      ]
     },
     "metadata": {},
     "output_type": "display_data"
    },
    {
     "data": {
      "text/plain": [
       "<IPython.core.display.HTML object>"
      ],
      "text/html": [
       "Run data is saved locally in <code>C:\\Users\\Martin\\Documents\\School\\Thesis\\Git Repository\\pytorch-image-models\\Jupyter Notebooks\\wandb\\run-20241021_192012-z25buds7</code>"
      ]
     },
     "metadata": {},
     "output_type": "display_data"
    },
    {
     "data": {
      "text/plain": [
       "<IPython.core.display.HTML object>"
      ],
      "text/html": [
       "Syncing run <strong><a href='https://wandb.ai/martingratzer-organization/Renyi_Divergence_Sweep_Teacher/runs/z25buds7' target=\"_blank\">clean-sweep-15</a></strong> to <a href='https://wandb.ai/martingratzer-organization/Renyi_Divergence_Sweep_Teacher' target=\"_blank\">Weights & Biases</a> (<a href='https://wandb.me/run' target=\"_blank\">docs</a>)<br/>Sweep page: <a href='https://wandb.ai/martingratzer-organization/Renyi_Divergence_Sweep_Teacher/sweeps/cneq5azj' target=\"_blank\">https://wandb.ai/martingratzer-organization/Renyi_Divergence_Sweep_Teacher/sweeps/cneq5azj</a>"
      ]
     },
     "metadata": {},
     "output_type": "display_data"
    },
    {
     "data": {
      "text/plain": [
       "<IPython.core.display.HTML object>"
      ],
      "text/html": [
       " View project at <a href='https://wandb.ai/martingratzer-organization/Renyi_Divergence_Sweep_Teacher' target=\"_blank\">https://wandb.ai/martingratzer-organization/Renyi_Divergence_Sweep_Teacher</a>"
      ]
     },
     "metadata": {},
     "output_type": "display_data"
    },
    {
     "data": {
      "text/plain": [
       "<IPython.core.display.HTML object>"
      ],
      "text/html": [
       " View sweep at <a href='https://wandb.ai/martingratzer-organization/Renyi_Divergence_Sweep_Teacher/sweeps/cneq5azj' target=\"_blank\">https://wandb.ai/martingratzer-organization/Renyi_Divergence_Sweep_Teacher/sweeps/cneq5azj</a>"
      ]
     },
     "metadata": {},
     "output_type": "display_data"
    },
    {
     "data": {
      "text/plain": [
       "<IPython.core.display.HTML object>"
      ],
      "text/html": [
       " View run at <a href='https://wandb.ai/martingratzer-organization/Renyi_Divergence_Sweep_Teacher/runs/z25buds7' target=\"_blank\">https://wandb.ai/martingratzer-organization/Renyi_Divergence_Sweep_Teacher/runs/z25buds7</a>"
      ]
     },
     "metadata": {},
     "output_type": "display_data"
    },
    {
     "name": "stdout",
     "output_type": "stream",
     "text": [
      "Average Train Loss: 1.3519 \t \t Train Accuracy: 55.43%\n",
      "Average Validation Loss: 0.5105 \t Validation Accuracy: 85.70%\n",
      "Average Train Loss: 0.6363 \t \t Train Accuracy: 79.85%\n",
      "Average Validation Loss: 0.3617 \t Validation Accuracy: 89.57%\n",
      "Average Train Loss: 0.5262 \t \t Train Accuracy: 83.84%\n",
      "Average Validation Loss: 0.3063 \t Validation Accuracy: 90.90%\n",
      "Average Train Loss: 0.4658 \t \t Train Accuracy: 85.83%\n",
      "Average Validation Loss: 0.2712 \t Validation Accuracy: 92.23%\n",
      "Average Train Loss: 0.4235 \t \t Train Accuracy: 87.13%\n",
      "Average Validation Loss: 0.2544 \t Validation Accuracy: 92.43%\n",
      "Average Train Loss: 0.3937 \t \t Train Accuracy: 87.99%\n",
      "Average Validation Loss: 0.2182 \t Validation Accuracy: 93.63%\n",
      "Average Train Loss: 0.3650 \t \t Train Accuracy: 88.99%\n",
      "Average Validation Loss: 0.2056 \t Validation Accuracy: 93.93%\n",
      "Average Train Loss: 0.3440 \t \t Train Accuracy: 89.56%\n",
      "Average Validation Loss: 0.1964 \t Validation Accuracy: 94.33%\n",
      "Average Train Loss: 0.3299 \t \t Train Accuracy: 90.16%\n",
      "Average Validation Loss: 0.1787 \t Validation Accuracy: 94.53%\n",
      "Average Train Loss: 0.3153 \t \t Train Accuracy: 90.51%\n",
      "Average Validation Loss: 0.1731 \t Validation Accuracy: 94.87%\n"
     ]
    },
    {
     "data": {
      "text/plain": [
       "<IPython.core.display.HTML object>"
      ],
      "text/html": [
       "<style>\n",
       "    table.wandb td:nth-child(1) { padding: 0 10px; text-align: left ; width: auto;} td:nth-child(2) {text-align: left ; width: 100%}\n",
       "    .wandb-row { display: flex; flex-direction: row; flex-wrap: wrap; justify-content: flex-start; width: 100% }\n",
       "    .wandb-col { display: flex; flex-direction: column; flex-basis: 100%; flex: 1; padding: 10px; }\n",
       "    </style>\n",
       "<div class=\"wandb-row\"><div class=\"wandb-col\"><h3>Run history:</h3><br/><table class=\"wandb\"><tr><td>epoch</td><td>▁▂▃▃▄▅▆▆▇█</td></tr><tr><td>train_accuracy</td><td>▁▆▇▇▇▇████</td></tr><tr><td>train_loss</td><td>█▃▂▂▂▂▁▁▁▁</td></tr><tr><td>val_accuracy</td><td>▁▄▅▆▆▇▇███</td></tr><tr><td>val_loss</td><td>█▅▄▃▃▂▂▁▁▁</td></tr></table><br/></div><div class=\"wandb-col\"><h3>Run summary:</h3><br/><table class=\"wandb\"><tr><td>epoch</td><td>9</td></tr><tr><td>train_accuracy</td><td>90.50526</td></tr><tr><td>train_loss</td><td>0.31526</td></tr><tr><td>val_accuracy</td><td>94.86667</td></tr><tr><td>val_loss</td><td>0.17312</td></tr></table><br/></div></div>"
      ]
     },
     "metadata": {},
     "output_type": "display_data"
    },
    {
     "data": {
      "text/plain": [
       "<IPython.core.display.HTML object>"
      ],
      "text/html": [
       " View run <strong style=\"color:#cdcd00\">clean-sweep-15</strong> at: <a href='https://wandb.ai/martingratzer-organization/Renyi_Divergence_Sweep_Teacher/runs/z25buds7' target=\"_blank\">https://wandb.ai/martingratzer-organization/Renyi_Divergence_Sweep_Teacher/runs/z25buds7</a><br/> View project at: <a href='https://wandb.ai/martingratzer-organization/Renyi_Divergence_Sweep_Teacher' target=\"_blank\">https://wandb.ai/martingratzer-organization/Renyi_Divergence_Sweep_Teacher</a><br/>Synced 5 W&B file(s), 0 media file(s), 0 artifact file(s) and 0 other file(s)"
      ]
     },
     "metadata": {},
     "output_type": "display_data"
    },
    {
     "data": {
      "text/plain": [
       "<IPython.core.display.HTML object>"
      ],
      "text/html": [
       "Find logs at: <code>.\\wandb\\run-20241021_192012-z25buds7\\logs</code>"
      ]
     },
     "metadata": {},
     "output_type": "display_data"
    },
    {
     "name": "stderr",
     "output_type": "stream",
     "text": [
      "wandb: Agent Starting Run: 1intyn5a with config:\n",
      "wandb: \tlearning_rate: 0.044072062880662205\n",
      "wandb: \tmomentum: 0.6255355154503687\n",
      "wandb: \tweight_decay: 0.00034022604959086766\n"
     ]
    },
    {
     "data": {
      "text/plain": [
       "<IPython.core.display.HTML object>"
      ],
      "text/html": [
       "Tracking run with wandb version 0.18.3"
      ]
     },
     "metadata": {},
     "output_type": "display_data"
    },
    {
     "data": {
      "text/plain": [
       "<IPython.core.display.HTML object>"
      ],
      "text/html": [
       "Run data is saved locally in <code>C:\\Users\\Martin\\Documents\\School\\Thesis\\Git Repository\\pytorch-image-models\\Jupyter Notebooks\\wandb\\run-20241021_192303-1intyn5a</code>"
      ]
     },
     "metadata": {},
     "output_type": "display_data"
    },
    {
     "data": {
      "text/plain": [
       "<IPython.core.display.HTML object>"
      ],
      "text/html": [
       "Syncing run <strong><a href='https://wandb.ai/martingratzer-organization/Renyi_Divergence_Sweep_Teacher/runs/1intyn5a' target=\"_blank\">honest-sweep-16</a></strong> to <a href='https://wandb.ai/martingratzer-organization/Renyi_Divergence_Sweep_Teacher' target=\"_blank\">Weights & Biases</a> (<a href='https://wandb.me/run' target=\"_blank\">docs</a>)<br/>Sweep page: <a href='https://wandb.ai/martingratzer-organization/Renyi_Divergence_Sweep_Teacher/sweeps/cneq5azj' target=\"_blank\">https://wandb.ai/martingratzer-organization/Renyi_Divergence_Sweep_Teacher/sweeps/cneq5azj</a>"
      ]
     },
     "metadata": {},
     "output_type": "display_data"
    },
    {
     "data": {
      "text/plain": [
       "<IPython.core.display.HTML object>"
      ],
      "text/html": [
       " View project at <a href='https://wandb.ai/martingratzer-organization/Renyi_Divergence_Sweep_Teacher' target=\"_blank\">https://wandb.ai/martingratzer-organization/Renyi_Divergence_Sweep_Teacher</a>"
      ]
     },
     "metadata": {},
     "output_type": "display_data"
    },
    {
     "data": {
      "text/plain": [
       "<IPython.core.display.HTML object>"
      ],
      "text/html": [
       " View sweep at <a href='https://wandb.ai/martingratzer-organization/Renyi_Divergence_Sweep_Teacher/sweeps/cneq5azj' target=\"_blank\">https://wandb.ai/martingratzer-organization/Renyi_Divergence_Sweep_Teacher/sweeps/cneq5azj</a>"
      ]
     },
     "metadata": {},
     "output_type": "display_data"
    },
    {
     "data": {
      "text/plain": [
       "<IPython.core.display.HTML object>"
      ],
      "text/html": [
       " View run at <a href='https://wandb.ai/martingratzer-organization/Renyi_Divergence_Sweep_Teacher/runs/1intyn5a' target=\"_blank\">https://wandb.ai/martingratzer-organization/Renyi_Divergence_Sweep_Teacher/runs/1intyn5a</a>"
      ]
     },
     "metadata": {},
     "output_type": "display_data"
    },
    {
     "name": "stdout",
     "output_type": "stream",
     "text": [
      "Average Train Loss: 0.7592 \t \t Train Accuracy: 75.24%\n",
      "Average Validation Loss: 0.3032 \t Validation Accuracy: 90.27%\n",
      "Average Train Loss: 0.4273 \t \t Train Accuracy: 86.77%\n",
      "Average Validation Loss: 0.2136 \t Validation Accuracy: 93.33%\n",
      "Average Train Loss: 0.3541 \t \t Train Accuracy: 89.26%\n",
      "Average Validation Loss: 0.1757 \t Validation Accuracy: 94.63%\n",
      "Average Train Loss: 0.3224 \t \t Train Accuracy: 90.15%\n",
      "Average Validation Loss: 0.1705 \t Validation Accuracy: 95.13%\n",
      "Average Train Loss: 0.3019 \t \t Train Accuracy: 90.86%\n",
      "Average Validation Loss: 0.1532 \t Validation Accuracy: 95.50%\n",
      "Average Train Loss: 0.2887 \t \t Train Accuracy: 91.36%\n",
      "Average Validation Loss: 0.1504 \t Validation Accuracy: 95.47%\n",
      "Average Train Loss: 0.2718 \t \t Train Accuracy: 91.79%\n",
      "Average Validation Loss: 0.1398 \t Validation Accuracy: 95.87%\n",
      "Average Train Loss: 0.2687 \t \t Train Accuracy: 91.94%\n",
      "Average Validation Loss: 0.1424 \t Validation Accuracy: 95.60%\n",
      "Average Train Loss: 0.2577 \t \t Train Accuracy: 92.16%\n",
      "Average Validation Loss: 0.1510 \t Validation Accuracy: 95.70%\n",
      "Average Train Loss: 0.2546 \t \t Train Accuracy: 92.28%\n",
      "Average Validation Loss: 0.1193 \t Validation Accuracy: 96.47%\n"
     ]
    },
    {
     "data": {
      "text/plain": [
       "<IPython.core.display.HTML object>"
      ],
      "text/html": [
       "<style>\n",
       "    table.wandb td:nth-child(1) { padding: 0 10px; text-align: left ; width: auto;} td:nth-child(2) {text-align: left ; width: 100%}\n",
       "    .wandb-row { display: flex; flex-direction: row; flex-wrap: wrap; justify-content: flex-start; width: 100% }\n",
       "    .wandb-col { display: flex; flex-direction: column; flex-basis: 100%; flex: 1; padding: 10px; }\n",
       "    </style>\n",
       "<div class=\"wandb-row\"><div class=\"wandb-col\"><h3>Run history:</h3><br/><table class=\"wandb\"><tr><td>epoch</td><td>▁▂▃▃▄▅▆▆▇█</td></tr><tr><td>train_accuracy</td><td>▁▆▇▇▇█████</td></tr><tr><td>train_loss</td><td>█▃▂▂▂▁▁▁▁▁</td></tr><tr><td>val_accuracy</td><td>▁▄▆▆▇▇▇▇▇█</td></tr><tr><td>val_loss</td><td>█▅▃▃▂▂▂▂▂▁</td></tr></table><br/></div><div class=\"wandb-col\"><h3>Run summary:</h3><br/><table class=\"wandb\"><tr><td>epoch</td><td>9</td></tr><tr><td>train_accuracy</td><td>92.27544</td></tr><tr><td>train_loss</td><td>0.25462</td></tr><tr><td>val_accuracy</td><td>96.46667</td></tr><tr><td>val_loss</td><td>0.11931</td></tr></table><br/></div></div>"
      ]
     },
     "metadata": {},
     "output_type": "display_data"
    },
    {
     "data": {
      "text/plain": [
       "<IPython.core.display.HTML object>"
      ],
      "text/html": [
       " View run <strong style=\"color:#cdcd00\">honest-sweep-16</strong> at: <a href='https://wandb.ai/martingratzer-organization/Renyi_Divergence_Sweep_Teacher/runs/1intyn5a' target=\"_blank\">https://wandb.ai/martingratzer-organization/Renyi_Divergence_Sweep_Teacher/runs/1intyn5a</a><br/> View project at: <a href='https://wandb.ai/martingratzer-organization/Renyi_Divergence_Sweep_Teacher' target=\"_blank\">https://wandb.ai/martingratzer-organization/Renyi_Divergence_Sweep_Teacher</a><br/>Synced 5 W&B file(s), 0 media file(s), 0 artifact file(s) and 0 other file(s)"
      ]
     },
     "metadata": {},
     "output_type": "display_data"
    },
    {
     "data": {
      "text/plain": [
       "<IPython.core.display.HTML object>"
      ],
      "text/html": [
       "Find logs at: <code>.\\wandb\\run-20241021_192303-1intyn5a\\logs</code>"
      ]
     },
     "metadata": {},
     "output_type": "display_data"
    },
    {
     "name": "stderr",
     "output_type": "stream",
     "text": [
      "wandb: Agent Starting Run: yy0o1mp9 with config:\n",
      "wandb: \tlearning_rate: 0.030292438551433223\n",
      "wandb: \tmomentum: 0.9331360860239885\n",
      "wandb: \tweight_decay: 0.00017173620866110938\n"
     ]
    },
    {
     "data": {
      "text/plain": [
       "<IPython.core.display.HTML object>"
      ],
      "text/html": [
       "Tracking run with wandb version 0.18.3"
      ]
     },
     "metadata": {},
     "output_type": "display_data"
    },
    {
     "data": {
      "text/plain": [
       "<IPython.core.display.HTML object>"
      ],
      "text/html": [
       "Run data is saved locally in <code>C:\\Users\\Martin\\Documents\\School\\Thesis\\Git Repository\\pytorch-image-models\\Jupyter Notebooks\\wandb\\run-20241021_192549-yy0o1mp9</code>"
      ]
     },
     "metadata": {},
     "output_type": "display_data"
    },
    {
     "data": {
      "text/plain": [
       "<IPython.core.display.HTML object>"
      ],
      "text/html": [
       "Syncing run <strong><a href='https://wandb.ai/martingratzer-organization/Renyi_Divergence_Sweep_Teacher/runs/yy0o1mp9' target=\"_blank\">usual-sweep-17</a></strong> to <a href='https://wandb.ai/martingratzer-organization/Renyi_Divergence_Sweep_Teacher' target=\"_blank\">Weights & Biases</a> (<a href='https://wandb.me/run' target=\"_blank\">docs</a>)<br/>Sweep page: <a href='https://wandb.ai/martingratzer-organization/Renyi_Divergence_Sweep_Teacher/sweeps/cneq5azj' target=\"_blank\">https://wandb.ai/martingratzer-organization/Renyi_Divergence_Sweep_Teacher/sweeps/cneq5azj</a>"
      ]
     },
     "metadata": {},
     "output_type": "display_data"
    },
    {
     "data": {
      "text/plain": [
       "<IPython.core.display.HTML object>"
      ],
      "text/html": [
       " View project at <a href='https://wandb.ai/martingratzer-organization/Renyi_Divergence_Sweep_Teacher' target=\"_blank\">https://wandb.ai/martingratzer-organization/Renyi_Divergence_Sweep_Teacher</a>"
      ]
     },
     "metadata": {},
     "output_type": "display_data"
    },
    {
     "data": {
      "text/plain": [
       "<IPython.core.display.HTML object>"
      ],
      "text/html": [
       " View sweep at <a href='https://wandb.ai/martingratzer-organization/Renyi_Divergence_Sweep_Teacher/sweeps/cneq5azj' target=\"_blank\">https://wandb.ai/martingratzer-organization/Renyi_Divergence_Sweep_Teacher/sweeps/cneq5azj</a>"
      ]
     },
     "metadata": {},
     "output_type": "display_data"
    },
    {
     "data": {
      "text/plain": [
       "<IPython.core.display.HTML object>"
      ],
      "text/html": [
       " View run at <a href='https://wandb.ai/martingratzer-organization/Renyi_Divergence_Sweep_Teacher/runs/yy0o1mp9' target=\"_blank\">https://wandb.ai/martingratzer-organization/Renyi_Divergence_Sweep_Teacher/runs/yy0o1mp9</a>"
      ]
     },
     "metadata": {},
     "output_type": "display_data"
    },
    {
     "name": "stdout",
     "output_type": "stream",
     "text": [
      "Average Train Loss: 0.7789 \t \t Train Accuracy: 74.56%\n",
      "Average Validation Loss: 0.3193 \t Validation Accuracy: 90.47%\n",
      "Average Train Loss: 0.5670 \t \t Train Accuracy: 82.35%\n",
      "Average Validation Loss: 0.2832 \t Validation Accuracy: 91.70%\n",
      "Average Train Loss: 0.4950 \t \t Train Accuracy: 84.94%\n",
      "Average Validation Loss: 0.2693 \t Validation Accuracy: 92.13%\n",
      "Average Train Loss: 0.4828 \t \t Train Accuracy: 85.34%\n",
      "Average Validation Loss: 0.2538 \t Validation Accuracy: 92.23%\n",
      "Average Train Loss: 0.4689 \t \t Train Accuracy: 85.90%\n",
      "Average Validation Loss: 0.2711 \t Validation Accuracy: 92.10%\n",
      "Average Train Loss: 0.4494 \t \t Train Accuracy: 86.45%\n",
      "Average Validation Loss: 0.1991 \t Validation Accuracy: 93.93%\n",
      "Average Train Loss: 0.4339 \t \t Train Accuracy: 86.78%\n",
      "Average Validation Loss: 0.2116 \t Validation Accuracy: 93.83%\n",
      "Average Train Loss: 0.4148 \t \t Train Accuracy: 87.64%\n",
      "Average Validation Loss: 0.2199 \t Validation Accuracy: 94.00%\n",
      "Average Train Loss: 0.4143 \t \t Train Accuracy: 87.68%\n",
      "Average Validation Loss: 0.2079 \t Validation Accuracy: 93.57%\n",
      "Average Train Loss: 0.4053 \t \t Train Accuracy: 87.77%\n",
      "Average Validation Loss: 0.1819 \t Validation Accuracy: 94.70%\n"
     ]
    },
    {
     "data": {
      "text/plain": [
       "<IPython.core.display.HTML object>"
      ],
      "text/html": [
       "<style>\n",
       "    table.wandb td:nth-child(1) { padding: 0 10px; text-align: left ; width: auto;} td:nth-child(2) {text-align: left ; width: 100%}\n",
       "    .wandb-row { display: flex; flex-direction: row; flex-wrap: wrap; justify-content: flex-start; width: 100% }\n",
       "    .wandb-col { display: flex; flex-direction: column; flex-basis: 100%; flex: 1; padding: 10px; }\n",
       "    </style>\n",
       "<div class=\"wandb-row\"><div class=\"wandb-col\"><h3>Run history:</h3><br/><table class=\"wandb\"><tr><td>epoch</td><td>▁▂▃▃▄▅▆▆▇█</td></tr><tr><td>train_accuracy</td><td>▁▅▆▇▇▇▇███</td></tr><tr><td>train_loss</td><td>█▄▃▂▂▂▂▁▁▁</td></tr><tr><td>val_accuracy</td><td>▁▃▄▄▄▇▇▇▆█</td></tr><tr><td>val_loss</td><td>█▆▅▅▆▂▃▃▂▁</td></tr></table><br/></div><div class=\"wandb-col\"><h3>Run summary:</h3><br/><table class=\"wandb\"><tr><td>epoch</td><td>9</td></tr><tr><td>train_accuracy</td><td>87.77193</td></tr><tr><td>train_loss</td><td>0.40528</td></tr><tr><td>val_accuracy</td><td>94.7</td></tr><tr><td>val_loss</td><td>0.18191</td></tr></table><br/></div></div>"
      ]
     },
     "metadata": {},
     "output_type": "display_data"
    },
    {
     "data": {
      "text/plain": [
       "<IPython.core.display.HTML object>"
      ],
      "text/html": [
       " View run <strong style=\"color:#cdcd00\">usual-sweep-17</strong> at: <a href='https://wandb.ai/martingratzer-organization/Renyi_Divergence_Sweep_Teacher/runs/yy0o1mp9' target=\"_blank\">https://wandb.ai/martingratzer-organization/Renyi_Divergence_Sweep_Teacher/runs/yy0o1mp9</a><br/> View project at: <a href='https://wandb.ai/martingratzer-organization/Renyi_Divergence_Sweep_Teacher' target=\"_blank\">https://wandb.ai/martingratzer-organization/Renyi_Divergence_Sweep_Teacher</a><br/>Synced 5 W&B file(s), 0 media file(s), 0 artifact file(s) and 0 other file(s)"
      ]
     },
     "metadata": {},
     "output_type": "display_data"
    },
    {
     "data": {
      "text/plain": [
       "<IPython.core.display.HTML object>"
      ],
      "text/html": [
       "Find logs at: <code>.\\wandb\\run-20241021_192549-yy0o1mp9\\logs</code>"
      ]
     },
     "metadata": {},
     "output_type": "display_data"
    },
    {
     "name": "stderr",
     "output_type": "stream",
     "text": [
      "wandb: Agent Starting Run: tffgvu57 with config:\n",
      "wandb: \tlearning_rate: 0.034163509617069\n",
      "wandb: \tmomentum: 0.9270765262192018\n",
      "wandb: \tweight_decay: 0.0004387663823293114\n"
     ]
    },
    {
     "data": {
      "text/plain": [
       "<IPython.core.display.HTML object>"
      ],
      "text/html": [
       "Tracking run with wandb version 0.18.3"
      ]
     },
     "metadata": {},
     "output_type": "display_data"
    },
    {
     "data": {
      "text/plain": [
       "<IPython.core.display.HTML object>"
      ],
      "text/html": [
       "Run data is saved locally in <code>C:\\Users\\Martin\\Documents\\School\\Thesis\\Git Repository\\pytorch-image-models\\Jupyter Notebooks\\wandb\\run-20241021_192835-tffgvu57</code>"
      ]
     },
     "metadata": {},
     "output_type": "display_data"
    },
    {
     "data": {
      "text/plain": [
       "<IPython.core.display.HTML object>"
      ],
      "text/html": [
       "Syncing run <strong><a href='https://wandb.ai/martingratzer-organization/Renyi_Divergence_Sweep_Teacher/runs/tffgvu57' target=\"_blank\">toasty-sweep-18</a></strong> to <a href='https://wandb.ai/martingratzer-organization/Renyi_Divergence_Sweep_Teacher' target=\"_blank\">Weights & Biases</a> (<a href='https://wandb.me/run' target=\"_blank\">docs</a>)<br/>Sweep page: <a href='https://wandb.ai/martingratzer-organization/Renyi_Divergence_Sweep_Teacher/sweeps/cneq5azj' target=\"_blank\">https://wandb.ai/martingratzer-organization/Renyi_Divergence_Sweep_Teacher/sweeps/cneq5azj</a>"
      ]
     },
     "metadata": {},
     "output_type": "display_data"
    },
    {
     "data": {
      "text/plain": [
       "<IPython.core.display.HTML object>"
      ],
      "text/html": [
       " View project at <a href='https://wandb.ai/martingratzer-organization/Renyi_Divergence_Sweep_Teacher' target=\"_blank\">https://wandb.ai/martingratzer-organization/Renyi_Divergence_Sweep_Teacher</a>"
      ]
     },
     "metadata": {},
     "output_type": "display_data"
    },
    {
     "data": {
      "text/plain": [
       "<IPython.core.display.HTML object>"
      ],
      "text/html": [
       " View sweep at <a href='https://wandb.ai/martingratzer-organization/Renyi_Divergence_Sweep_Teacher/sweeps/cneq5azj' target=\"_blank\">https://wandb.ai/martingratzer-organization/Renyi_Divergence_Sweep_Teacher/sweeps/cneq5azj</a>"
      ]
     },
     "metadata": {},
     "output_type": "display_data"
    },
    {
     "data": {
      "text/plain": [
       "<IPython.core.display.HTML object>"
      ],
      "text/html": [
       " View run at <a href='https://wandb.ai/martingratzer-organization/Renyi_Divergence_Sweep_Teacher/runs/tffgvu57' target=\"_blank\">https://wandb.ai/martingratzer-organization/Renyi_Divergence_Sweep_Teacher/runs/tffgvu57</a>"
      ]
     },
     "metadata": {},
     "output_type": "display_data"
    },
    {
     "name": "stdout",
     "output_type": "stream",
     "text": [
      "Average Train Loss: 0.7838 \t \t Train Accuracy: 74.31%\n",
      "Average Validation Loss: 0.3500 \t Validation Accuracy: 89.70%\n",
      "Average Train Loss: 0.5742 \t \t Train Accuracy: 82.22%\n",
      "Average Validation Loss: 0.3131 \t Validation Accuracy: 90.40%\n",
      "Average Train Loss: 0.5107 \t \t Train Accuracy: 84.28%\n",
      "Average Validation Loss: 0.2719 \t Validation Accuracy: 91.70%\n",
      "Average Train Loss: 0.5045 \t \t Train Accuracy: 84.64%\n",
      "Average Validation Loss: 0.2689 \t Validation Accuracy: 92.30%\n",
      "Average Train Loss: 0.4858 \t \t Train Accuracy: 85.15%\n",
      "Average Validation Loss: 0.2628 \t Validation Accuracy: 91.93%\n",
      "Average Train Loss: 0.4718 \t \t Train Accuracy: 85.79%\n",
      "Average Validation Loss: 0.2223 \t Validation Accuracy: 93.23%\n",
      "Average Train Loss: 0.4700 \t \t Train Accuracy: 85.84%\n",
      "Average Validation Loss: 0.2607 \t Validation Accuracy: 91.33%\n",
      "Average Train Loss: 0.4733 \t \t Train Accuracy: 85.68%\n",
      "Average Validation Loss: 0.2360 \t Validation Accuracy: 93.20%\n",
      "Average Train Loss: 0.4903 \t \t Train Accuracy: 85.08%\n",
      "Average Validation Loss: 0.2627 \t Validation Accuracy: 92.60%\n",
      "Average Train Loss: 0.4947 \t \t Train Accuracy: 85.11%\n",
      "Average Validation Loss: 0.2337 \t Validation Accuracy: 92.33%\n"
     ]
    },
    {
     "data": {
      "text/plain": [
       "<IPython.core.display.HTML object>"
      ],
      "text/html": [
       "<style>\n",
       "    table.wandb td:nth-child(1) { padding: 0 10px; text-align: left ; width: auto;} td:nth-child(2) {text-align: left ; width: 100%}\n",
       "    .wandb-row { display: flex; flex-direction: row; flex-wrap: wrap; justify-content: flex-start; width: 100% }\n",
       "    .wandb-col { display: flex; flex-direction: column; flex-basis: 100%; flex: 1; padding: 10px; }\n",
       "    </style>\n",
       "<div class=\"wandb-row\"><div class=\"wandb-col\"><h3>Run history:</h3><br/><table class=\"wandb\"><tr><td>epoch</td><td>▁▂▃▃▄▅▆▆▇█</td></tr><tr><td>train_accuracy</td><td>▁▆▇▇██████</td></tr><tr><td>train_loss</td><td>█▃▂▂▁▁▁▁▁▂</td></tr><tr><td>val_accuracy</td><td>▁▂▅▆▅█▄█▇▆</td></tr><tr><td>val_loss</td><td>█▆▄▄▃▁▃▂▃▂</td></tr></table><br/></div><div class=\"wandb-col\"><h3>Run summary:</h3><br/><table class=\"wandb\"><tr><td>epoch</td><td>9</td></tr><tr><td>train_accuracy</td><td>85.11053</td></tr><tr><td>train_loss</td><td>0.49465</td></tr><tr><td>val_accuracy</td><td>92.33333</td></tr><tr><td>val_loss</td><td>0.23368</td></tr></table><br/></div></div>"
      ]
     },
     "metadata": {},
     "output_type": "display_data"
    },
    {
     "data": {
      "text/plain": [
       "<IPython.core.display.HTML object>"
      ],
      "text/html": [
       " View run <strong style=\"color:#cdcd00\">toasty-sweep-18</strong> at: <a href='https://wandb.ai/martingratzer-organization/Renyi_Divergence_Sweep_Teacher/runs/tffgvu57' target=\"_blank\">https://wandb.ai/martingratzer-organization/Renyi_Divergence_Sweep_Teacher/runs/tffgvu57</a><br/> View project at: <a href='https://wandb.ai/martingratzer-organization/Renyi_Divergence_Sweep_Teacher' target=\"_blank\">https://wandb.ai/martingratzer-organization/Renyi_Divergence_Sweep_Teacher</a><br/>Synced 5 W&B file(s), 0 media file(s), 0 artifact file(s) and 0 other file(s)"
      ]
     },
     "metadata": {},
     "output_type": "display_data"
    },
    {
     "data": {
      "text/plain": [
       "<IPython.core.display.HTML object>"
      ],
      "text/html": [
       "Find logs at: <code>.\\wandb\\run-20241021_192835-tffgvu57\\logs</code>"
      ]
     },
     "metadata": {},
     "output_type": "display_data"
    },
    {
     "name": "stderr",
     "output_type": "stream",
     "text": [
      "wandb: Agent Starting Run: l2ypkwlw with config:\n",
      "wandb: \tlearning_rate: 0.007461495909320999\n",
      "wandb: \tmomentum: 0.8268745192145214\n",
      "wandb: \tweight_decay: 0.0001442803863898464\n"
     ]
    },
    {
     "data": {
      "text/plain": [
       "<IPython.core.display.HTML object>"
      ],
      "text/html": [
       "Tracking run with wandb version 0.18.3"
      ]
     },
     "metadata": {},
     "output_type": "display_data"
    },
    {
     "data": {
      "text/plain": [
       "<IPython.core.display.HTML object>"
      ],
      "text/html": [
       "Run data is saved locally in <code>C:\\Users\\Martin\\Documents\\School\\Thesis\\Git Repository\\pytorch-image-models\\Jupyter Notebooks\\wandb\\run-20241021_193125-l2ypkwlw</code>"
      ]
     },
     "metadata": {},
     "output_type": "display_data"
    },
    {
     "data": {
      "text/plain": [
       "<IPython.core.display.HTML object>"
      ],
      "text/html": [
       "Syncing run <strong><a href='https://wandb.ai/martingratzer-organization/Renyi_Divergence_Sweep_Teacher/runs/l2ypkwlw' target=\"_blank\">noble-sweep-19</a></strong> to <a href='https://wandb.ai/martingratzer-organization/Renyi_Divergence_Sweep_Teacher' target=\"_blank\">Weights & Biases</a> (<a href='https://wandb.me/run' target=\"_blank\">docs</a>)<br/>Sweep page: <a href='https://wandb.ai/martingratzer-organization/Renyi_Divergence_Sweep_Teacher/sweeps/cneq5azj' target=\"_blank\">https://wandb.ai/martingratzer-organization/Renyi_Divergence_Sweep_Teacher/sweeps/cneq5azj</a>"
      ]
     },
     "metadata": {},
     "output_type": "display_data"
    },
    {
     "data": {
      "text/plain": [
       "<IPython.core.display.HTML object>"
      ],
      "text/html": [
       " View project at <a href='https://wandb.ai/martingratzer-organization/Renyi_Divergence_Sweep_Teacher' target=\"_blank\">https://wandb.ai/martingratzer-organization/Renyi_Divergence_Sweep_Teacher</a>"
      ]
     },
     "metadata": {},
     "output_type": "display_data"
    },
    {
     "data": {
      "text/plain": [
       "<IPython.core.display.HTML object>"
      ],
      "text/html": [
       " View sweep at <a href='https://wandb.ai/martingratzer-organization/Renyi_Divergence_Sweep_Teacher/sweeps/cneq5azj' target=\"_blank\">https://wandb.ai/martingratzer-organization/Renyi_Divergence_Sweep_Teacher/sweeps/cneq5azj</a>"
      ]
     },
     "metadata": {},
     "output_type": "display_data"
    },
    {
     "data": {
      "text/plain": [
       "<IPython.core.display.HTML object>"
      ],
      "text/html": [
       " View run at <a href='https://wandb.ai/martingratzer-organization/Renyi_Divergence_Sweep_Teacher/runs/l2ypkwlw' target=\"_blank\">https://wandb.ai/martingratzer-organization/Renyi_Divergence_Sweep_Teacher/runs/l2ypkwlw</a>"
      ]
     },
     "metadata": {},
     "output_type": "display_data"
    },
    {
     "name": "stdout",
     "output_type": "stream",
     "text": [
      "Average Train Loss: 1.1076 \t \t Train Accuracy: 63.58%\n",
      "Average Validation Loss: 0.4231 \t Validation Accuracy: 87.87%\n",
      "Average Train Loss: 0.5477 \t \t Train Accuracy: 82.90%\n",
      "Average Validation Loss: 0.3057 \t Validation Accuracy: 90.73%\n",
      "Average Train Loss: 0.4502 \t \t Train Accuracy: 86.24%\n",
      "Average Validation Loss: 0.2506 \t Validation Accuracy: 92.50%\n",
      "Average Train Loss: 0.3985 \t \t Train Accuracy: 87.97%\n",
      "Average Validation Loss: 0.2186 \t Validation Accuracy: 93.57%\n",
      "Average Train Loss: 0.3659 \t \t Train Accuracy: 88.98%\n",
      "Average Validation Loss: 0.2073 \t Validation Accuracy: 93.43%\n",
      "Average Train Loss: 0.3400 \t \t Train Accuracy: 89.80%\n",
      "Average Validation Loss: 0.1780 \t Validation Accuracy: 95.07%\n",
      "Average Train Loss: 0.3222 \t \t Train Accuracy: 90.27%\n",
      "Average Validation Loss: 0.1771 \t Validation Accuracy: 94.83%\n",
      "Average Train Loss: 0.2984 \t \t Train Accuracy: 91.08%\n",
      "Average Validation Loss: 0.1608 \t Validation Accuracy: 95.47%\n",
      "Average Train Loss: 0.2952 \t \t Train Accuracy: 91.15%\n",
      "Average Validation Loss: 0.1524 \t Validation Accuracy: 95.30%\n",
      "Average Train Loss: 0.2835 \t \t Train Accuracy: 91.45%\n",
      "Average Validation Loss: 0.1436 \t Validation Accuracy: 95.77%\n"
     ]
    },
    {
     "data": {
      "text/plain": [
       "<IPython.core.display.HTML object>"
      ],
      "text/html": [
       "<style>\n",
       "    table.wandb td:nth-child(1) { padding: 0 10px; text-align: left ; width: auto;} td:nth-child(2) {text-align: left ; width: 100%}\n",
       "    .wandb-row { display: flex; flex-direction: row; flex-wrap: wrap; justify-content: flex-start; width: 100% }\n",
       "    .wandb-col { display: flex; flex-direction: column; flex-basis: 100%; flex: 1; padding: 10px; }\n",
       "    </style>\n",
       "<div class=\"wandb-row\"><div class=\"wandb-col\"><h3>Run history:</h3><br/><table class=\"wandb\"><tr><td>epoch</td><td>▁▂▃▃▄▅▆▆▇█</td></tr><tr><td>train_accuracy</td><td>▁▆▇▇▇█████</td></tr><tr><td>train_loss</td><td>█▃▂▂▂▁▁▁▁▁</td></tr><tr><td>val_accuracy</td><td>▁▄▅▆▆▇▇███</td></tr><tr><td>val_loss</td><td>█▅▄▃▃▂▂▁▁▁</td></tr></table><br/></div><div class=\"wandb-col\"><h3>Run summary:</h3><br/><table class=\"wandb\"><tr><td>epoch</td><td>9</td></tr><tr><td>train_accuracy</td><td>91.45263</td></tr><tr><td>train_loss</td><td>0.28353</td></tr><tr><td>val_accuracy</td><td>95.76667</td></tr><tr><td>val_loss</td><td>0.14359</td></tr></table><br/></div></div>"
      ]
     },
     "metadata": {},
     "output_type": "display_data"
    },
    {
     "data": {
      "text/plain": [
       "<IPython.core.display.HTML object>"
      ],
      "text/html": [
       " View run <strong style=\"color:#cdcd00\">noble-sweep-19</strong> at: <a href='https://wandb.ai/martingratzer-organization/Renyi_Divergence_Sweep_Teacher/runs/l2ypkwlw' target=\"_blank\">https://wandb.ai/martingratzer-organization/Renyi_Divergence_Sweep_Teacher/runs/l2ypkwlw</a><br/> View project at: <a href='https://wandb.ai/martingratzer-organization/Renyi_Divergence_Sweep_Teacher' target=\"_blank\">https://wandb.ai/martingratzer-organization/Renyi_Divergence_Sweep_Teacher</a><br/>Synced 5 W&B file(s), 0 media file(s), 0 artifact file(s) and 0 other file(s)"
      ]
     },
     "metadata": {},
     "output_type": "display_data"
    },
    {
     "data": {
      "text/plain": [
       "<IPython.core.display.HTML object>"
      ],
      "text/html": [
       "Find logs at: <code>.\\wandb\\run-20241021_193125-l2ypkwlw\\logs</code>"
      ]
     },
     "metadata": {},
     "output_type": "display_data"
    },
    {
     "name": "stderr",
     "output_type": "stream",
     "text": [
      "wandb: Sweep Agent: Waiting for job.\n",
      "wandb: Job received.\n",
      "wandb: Agent Starting Run: vjj7otah with config:\n",
      "wandb: \tlearning_rate: 0.014691488508703467\n",
      "wandb: \tmomentum: 0.5365032428358141\n",
      "wandb: \tweight_decay: 0.00029174422432274845\n"
     ]
    },
    {
     "data": {
      "text/plain": [
       "<IPython.core.display.HTML object>"
      ],
      "text/html": [
       "Tracking run with wandb version 0.18.3"
      ]
     },
     "metadata": {},
     "output_type": "display_data"
    },
    {
     "data": {
      "text/plain": [
       "<IPython.core.display.HTML object>"
      ],
      "text/html": [
       "Run data is saved locally in <code>C:\\Users\\Martin\\Documents\\School\\Thesis\\Git Repository\\pytorch-image-models\\Jupyter Notebooks\\wandb\\run-20241021_193420-vjj7otah</code>"
      ]
     },
     "metadata": {},
     "output_type": "display_data"
    },
    {
     "data": {
      "text/plain": [
       "<IPython.core.display.HTML object>"
      ],
      "text/html": [
       "Syncing run <strong><a href='https://wandb.ai/martingratzer-organization/Renyi_Divergence_Sweep_Teacher/runs/vjj7otah' target=\"_blank\">dainty-sweep-20</a></strong> to <a href='https://wandb.ai/martingratzer-organization/Renyi_Divergence_Sweep_Teacher' target=\"_blank\">Weights & Biases</a> (<a href='https://wandb.me/run' target=\"_blank\">docs</a>)<br/>Sweep page: <a href='https://wandb.ai/martingratzer-organization/Renyi_Divergence_Sweep_Teacher/sweeps/cneq5azj' target=\"_blank\">https://wandb.ai/martingratzer-organization/Renyi_Divergence_Sweep_Teacher/sweeps/cneq5azj</a>"
      ]
     },
     "metadata": {},
     "output_type": "display_data"
    },
    {
     "data": {
      "text/plain": [
       "<IPython.core.display.HTML object>"
      ],
      "text/html": [
       " View project at <a href='https://wandb.ai/martingratzer-organization/Renyi_Divergence_Sweep_Teacher' target=\"_blank\">https://wandb.ai/martingratzer-organization/Renyi_Divergence_Sweep_Teacher</a>"
      ]
     },
     "metadata": {},
     "output_type": "display_data"
    },
    {
     "data": {
      "text/plain": [
       "<IPython.core.display.HTML object>"
      ],
      "text/html": [
       " View sweep at <a href='https://wandb.ai/martingratzer-organization/Renyi_Divergence_Sweep_Teacher/sweeps/cneq5azj' target=\"_blank\">https://wandb.ai/martingratzer-organization/Renyi_Divergence_Sweep_Teacher/sweeps/cneq5azj</a>"
      ]
     },
     "metadata": {},
     "output_type": "display_data"
    },
    {
     "data": {
      "text/plain": [
       "<IPython.core.display.HTML object>"
      ],
      "text/html": [
       " View run at <a href='https://wandb.ai/martingratzer-organization/Renyi_Divergence_Sweep_Teacher/runs/vjj7otah' target=\"_blank\">https://wandb.ai/martingratzer-organization/Renyi_Divergence_Sweep_Teacher/runs/vjj7otah</a>"
      ]
     },
     "metadata": {},
     "output_type": "display_data"
    },
    {
     "name": "stdout",
     "output_type": "stream",
     "text": [
      "Average Train Loss: 1.2339 \t \t Train Accuracy: 59.09%\n",
      "Average Validation Loss: 0.4611 \t Validation Accuracy: 86.83%\n",
      "Average Train Loss: 0.6034 \t \t Train Accuracy: 81.04%\n",
      "Average Validation Loss: 0.3446 \t Validation Accuracy: 89.40%\n",
      "Average Train Loss: 0.5048 \t \t Train Accuracy: 84.55%\n",
      "Average Validation Loss: 0.2910 \t Validation Accuracy: 90.93%\n",
      "Average Train Loss: 0.4444 \t \t Train Accuracy: 86.39%\n",
      "Average Validation Loss: 0.2537 \t Validation Accuracy: 92.33%\n",
      "Average Train Loss: 0.4074 \t \t Train Accuracy: 87.69%\n",
      "Average Validation Loss: 0.2329 \t Validation Accuracy: 92.50%\n",
      "Average Train Loss: 0.3762 \t \t Train Accuracy: 88.73%\n",
      "Average Validation Loss: 0.2095 \t Validation Accuracy: 93.67%\n",
      "Average Train Loss: 0.3541 \t \t Train Accuracy: 89.44%\n",
      "Average Validation Loss: 0.1916 \t Validation Accuracy: 94.23%\n",
      "Average Train Loss: 0.3308 \t \t Train Accuracy: 90.01%\n",
      "Average Validation Loss: 0.1867 \t Validation Accuracy: 94.30%\n",
      "Average Train Loss: 0.3176 \t \t Train Accuracy: 90.56%\n",
      "Average Validation Loss: 0.1742 \t Validation Accuracy: 94.83%\n",
      "Average Train Loss: 0.3055 \t \t Train Accuracy: 90.89%\n",
      "Average Validation Loss: 0.1625 \t Validation Accuracy: 95.20%\n"
     ]
    },
    {
     "data": {
      "text/plain": [
       "<IPython.core.display.HTML object>"
      ],
      "text/html": [
       "<style>\n",
       "    table.wandb td:nth-child(1) { padding: 0 10px; text-align: left ; width: auto;} td:nth-child(2) {text-align: left ; width: 100%}\n",
       "    .wandb-row { display: flex; flex-direction: row; flex-wrap: wrap; justify-content: flex-start; width: 100% }\n",
       "    .wandb-col { display: flex; flex-direction: column; flex-basis: 100%; flex: 1; padding: 10px; }\n",
       "    </style>\n",
       "<div class=\"wandb-row\"><div class=\"wandb-col\"><h3>Run history:</h3><br/><table class=\"wandb\"><tr><td>epoch</td><td>▁▂▃▃▄▅▆▆▇█</td></tr><tr><td>train_accuracy</td><td>▁▆▇▇▇█████</td></tr><tr><td>train_loss</td><td>█▃▃▂▂▂▁▁▁▁</td></tr><tr><td>val_accuracy</td><td>▁▃▄▆▆▇▇▇██</td></tr><tr><td>val_loss</td><td>█▅▄▃▃▂▂▂▁▁</td></tr></table><br/></div><div class=\"wandb-col\"><h3>Run summary:</h3><br/><table class=\"wandb\"><tr><td>epoch</td><td>9</td></tr><tr><td>train_accuracy</td><td>90.88947</td></tr><tr><td>train_loss</td><td>0.30546</td></tr><tr><td>val_accuracy</td><td>95.2</td></tr><tr><td>val_loss</td><td>0.16255</td></tr></table><br/></div></div>"
      ]
     },
     "metadata": {},
     "output_type": "display_data"
    },
    {
     "data": {
      "text/plain": [
       "<IPython.core.display.HTML object>"
      ],
      "text/html": [
       " View run <strong style=\"color:#cdcd00\">dainty-sweep-20</strong> at: <a href='https://wandb.ai/martingratzer-organization/Renyi_Divergence_Sweep_Teacher/runs/vjj7otah' target=\"_blank\">https://wandb.ai/martingratzer-organization/Renyi_Divergence_Sweep_Teacher/runs/vjj7otah</a><br/> View project at: <a href='https://wandb.ai/martingratzer-organization/Renyi_Divergence_Sweep_Teacher' target=\"_blank\">https://wandb.ai/martingratzer-organization/Renyi_Divergence_Sweep_Teacher</a><br/>Synced 5 W&B file(s), 0 media file(s), 0 artifact file(s) and 0 other file(s)"
      ]
     },
     "metadata": {},
     "output_type": "display_data"
    },
    {
     "data": {
      "text/plain": [
       "<IPython.core.display.HTML object>"
      ],
      "text/html": [
       "Find logs at: <code>.\\wandb\\run-20241021_193420-vjj7otah\\logs</code>"
      ]
     },
     "metadata": {},
     "output_type": "display_data"
    }
   ],
   "execution_count": 170
  },
  {
   "metadata": {},
   "cell_type": "code",
   "outputs": [],
   "execution_count": null,
   "source": "",
   "id": "f097539581877885"
  },
  {
   "metadata": {},
   "cell_type": "code",
   "outputs": [],
   "execution_count": null,
   "source": "",
   "id": "abdc04c6bec870af"
  },
  {
   "metadata": {},
   "cell_type": "code",
   "outputs": [],
   "execution_count": null,
   "source": "## Some more testing with temperature",
   "id": "3e67dc8aed93e4d8"
  },
  {
   "metadata": {
    "ExecuteTime": {
     "end_time": "2024-10-20T16:05:26.067006Z",
     "start_time": "2024-10-20T16:05:25.879469Z"
    }
   },
   "cell_type": "code",
   "source": [
    "for batch_idx, (data, target) in enumerate(train_loader):\n",
    "    student_model.eval()\n",
    "    with torch.no_grad():\n",
    "        output = student_model(data[0].to(device))\n",
    "        teacher_model_output = model(data[0].to(device))\n",
    "    break"
   ],
   "id": "f793aab98ccc874b",
   "outputs": [],
   "execution_count": 73
  },
  {
   "metadata": {
    "ExecuteTime": {
     "end_time": "2024-10-20T16:05:36.806575Z",
     "start_time": "2024-10-20T16:05:36.696216Z"
    }
   },
   "cell_type": "code",
   "source": [
    "plt.bar(np.arange(10), np.squeeze(output.cpu().numpy()), width=0.35, color='blue', label='Student Model Logits')\n",
    "plt.bar(np.arange(10)+0.35, np.squeeze(teacher_model_output.cpu().numpy()), width=0.35, color='green', label='Teacher Model Logits')\n",
    "plt.legend()\n",
    "plt.title(\"Logits\")\n",
    "plt.show()"
   ],
   "id": "3c26656e86577298",
   "outputs": [
    {
     "data": {
      "text/plain": [
       "<Figure size 640x480 with 1 Axes>"
      ],
      "image/png": "[encoded data removed]"
     },
     "metadata": {},
     "output_type": "display_data"
    }
   ],
   "execution_count": 76
  },
  {
   "metadata": {
    "ExecuteTime": {
     "end_time": "2024-10-20T16:05:42.159508Z",
     "start_time": "2024-10-20T16:05:41.874172Z"
    }
   },
   "cell_type": "code",
   "source": [
    "plt.bar(np.arange(10), np.squeeze(torch.softmax(output,dim=1).cpu().numpy()), width=0.35, color='blue', label='Student Model Logits')\n",
    "plt.bar(np.arange(10)+0.35, np.squeeze(torch.softmax(teacher_model_output,dim=1).cpu().numpy()), width=0.35, color='green', label='Teacher Model Logits')\n",
    "plt.legend()\n",
    "plt.title(\"Sotmax without temperature\")\n",
    "plt.show()"
   ],
   "id": "8a3889f13e507ccd",
   "outputs": [
    {
     "data": {
      "text/plain": [
       "<Figure size 640x480 with 1 Axes>"
      ],
      "image/png": "[encoded data removed]"
     },
     "metadata": {},
     "output_type": "display_data"
    }
   ],
   "execution_count": 77
  },
  {
   "metadata": {
    "ExecuteTime": {
     "end_time": "2024-10-20T16:05:46.765876Z",
     "start_time": "2024-10-20T16:05:46.645279Z"
    }
   },
   "cell_type": "code",
   "source": [
    "temperature = 5\n",
    "\n",
    "plt.bar(np.arange(10), np.squeeze(torch.softmax(output/temperature,dim=1).cpu().numpy()), width=0.35, color='blue', label='Student Model Logits')\n",
    "plt.bar(np.arange(10)+0.35, np.squeeze(torch.softmax(teacher_model_output/temperature,dim=1).cpu().numpy()), width=0.35, color='green', label='Teacher Model Logits')\n",
    "plt.legend()\n",
    "plt.title(\"Sotmax with temperature\")\n",
    "plt.show()"
   ],
   "id": "4f1a4a772dd7dbf8",
   "outputs": [
    {
     "data": {
      "text/plain": [
       "<Figure size 640x480 with 1 Axes>"
      ],
      "image/png": "[encoded data removed]"
     },
     "metadata": {},
     "output_type": "display_data"
    }
   ],
   "execution_count": 78
  },
  {
   "metadata": {},
   "cell_type": "code",
   "outputs": [],
   "execution_count": null,
   "source": "",
   "id": "52319566f262e453"
  },
  {
   "metadata": {},
   "cell_type": "code",
   "outputs": [],
   "execution_count": null,
   "source": "",
   "id": "5ee8875ecfe3a82e"
  },
  {
   "metadata": {},
   "cell_type": "code",
   "outputs": [],
   "execution_count": null,
   "source": "",
   "id": "a5dadfa4f11f0fd2"
  },
  {
   "metadata": {},
   "cell_type": "code",
   "outputs": [],
   "execution_count": null,
   "source": "",
   "id": "280f44431061664"
  },
  {
   "metadata": {},
   "cell_type": "code",
   "outputs": [],
   "execution_count": null,
   "source": "",
   "id": "3805be82372b1826"
  }
 ],
 "metadata": {
  "kernelspec": {
   "display_name": "Python 3",
   "language": "python",
   "name": "python3"
  },
  "language_info": {
   "codemirror_mode": {
    "name": "ipython",
    "version": 2
   },
   "file_extension": ".py",
   "mimetype": "text/x-python",
   "name": "python",
   "nbconvert_exporter": "python",
   "pygments_lexer": "ipython2",
   "version": "2.7.6"
  }
 },
 "nbformat": 4,
 "nbformat_minor": 5
}
