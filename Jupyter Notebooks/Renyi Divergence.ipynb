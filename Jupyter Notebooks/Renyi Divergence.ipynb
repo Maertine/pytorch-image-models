{
 "cells": [
  {
   "cell_type": "code",
   "id": "initial_id",
   "metadata": {
    "collapsed": true,
    "ExecuteTime": {
     "end_time": "2024-10-19T16:31:54.955507Z",
     "start_time": "2024-10-19T16:31:54.949500Z"
    }
   },
   "source": [
    "# Imports\n",
    "import torch\n",
    "import torch.nn as nn\n",
    "import torch.optim as optim\n",
    "import torch.nn.functional as F\n",
    "from torchvision import datasets, transforms\n",
    "from torch.utils.data import DataLoader\n",
    "import wandb"
   ],
   "outputs": [],
   "execution_count": 24
  },
  {
   "metadata": {
    "ExecuteTime": {
     "end_time": "2024-10-19T16:31:55.610133Z",
     "start_time": "2024-10-19T16:31:55.600125Z"
    }
   },
   "cell_type": "code",
   "source": [
    "# Example values for the probabilities\n",
    "x = torch.tensor([[9/25,12/25,4/25],[2.,1/4,1/5]],requires_grad=True)\n",
    "y = torch.tensor([[1/3,1/3,1/3],[2.,5/4,1/5]])\n",
    "print(x)\n",
    "print(y)"
   ],
   "id": "5f572b6e4ab33904",
   "outputs": [
    {
     "name": "stdout",
     "output_type": "stream",
     "text": [
      "tensor([[0.3600, 0.4800, 0.1600],\n",
      "        [2.0000, 0.2500, 0.2000]], requires_grad=True)\n",
      "tensor([[0.3333, 0.3333, 0.3333],\n",
      "        [2.0000, 1.2500, 0.2000]])\n"
     ]
    }
   ],
   "execution_count": 25
  },
  {
   "metadata": {
    "ExecuteTime": {
     "end_time": "2024-10-19T16:31:56.722917Z",
     "start_time": "2024-10-19T16:31:56.707789Z"
    }
   },
   "cell_type": "code",
   "source": [
    "# Example of divergence being infinity\n",
    "#x = torch.tensor([[-0.7753, -0.7236, -0.6072, -0.8284, -0.8085, -0.8923, -0.6853, -0.8315,-0.8302, -0.7934]])\n",
    "#y = torch.tensor([[-9.7151e+00, -7.6585e+00, -7.3228e+00, -7.9473e-08, -1.0569e+01,-6.7095e+00, -1.1969e+01, -7.1102e+00, -5.1660e+00, -6.2902e+00]])\n",
    "#print(x)\n",
    "#print(y)"
   ],
   "id": "aff0480a2c3b2339",
   "outputs": [],
   "execution_count": 26
  },
  {
   "metadata": {
    "ExecuteTime": {
     "end_time": "2024-10-19T16:31:57.643399Z",
     "start_time": "2024-10-19T16:31:57.634416Z"
    }
   },
   "cell_type": "code",
   "source": [
    "# Definition of Renyi Divergence with logits as input\n",
    "class RenyiDivergence(nn.Module):\n",
    "    def __init__(self, alpha=0.5):\n",
    "        super(RenyiDivergence, self).__init__()\n",
    "        self.alpha = alpha\n",
    "\n",
    "    def forward(self, logits_p, logits_q):\n",
    "        if self.alpha == 1.0: # KL Divergence\n",
    "            log_sums = torch.logsumexp(logits_q, dim=1)-torch.logsumexp(logits_p, dim=1)\n",
    "            \n",
    "            exp_logits_p = torch.exp(logits_p)\n",
    "            sum_exp_p = exp_logits_p.sum(dim=1, keepdim=True)\n",
    "            \n",
    "            loss = torch.sum((exp_logits_p / sum_exp_p) * (logits_p - logits_q + log_sums.unsqueeze(1)), dim=1)\n",
    "            \n",
    "            return loss.mean()\n",
    "        \n",
    "        exp_p = torch.exp(logits_p)\n",
    "        exp_q = torch.exp(logits_q)\n",
    "        \n",
    "        power_p = exp_p.pow(self.alpha)\n",
    "        power_q = exp_q.pow(1-self.alpha)\n",
    "        \n",
    "        sum_exp_p = torch.sum(exp_p,dim=1)\n",
    "        sum_exp_q = torch.sum(exp_q,dim=1)\n",
    "        \n",
    "        loss = 1/(self.alpha-1) * (torch.log(torch.sum(power_p*power_q,dim=1)) - self.alpha*torch.log(sum_exp_p) + (self.alpha-1)*torch.log(sum_exp_q))\n",
    "        \n",
    "        return loss.mean()"
   ],
   "id": "4130e895be638180",
   "outputs": [],
   "execution_count": 27
  },
  {
   "metadata": {
    "ExecuteTime": {
     "end_time": "2024-10-19T16:31:59.547495Z",
     "start_time": "2024-10-19T16:31:59.540487Z"
    }
   },
   "cell_type": "code",
   "source": [
    "# Test\n",
    "output = RenyiDivergence(alpha=10)(x,y)\n",
    "print(output)\n",
    "output.backward()"
   ],
   "id": "f5085ca5437ce909",
   "outputs": [
    {
     "name": "stdout",
     "output_type": "stream",
     "text": [
      "tensor(0.1249, grad_fn=<MeanBackward0>)\n"
     ]
    }
   ],
   "execution_count": 28
  },
  {
   "metadata": {
    "ExecuteTime": {
     "end_time": "2024-10-19T16:32:00.677605Z",
     "start_time": "2024-10-19T16:32:00.520141Z"
    }
   },
   "cell_type": "code",
   "source": [
    "## Preparation for plot creation\n",
    "Q = torch.tensor([[1/3,2/3]])\n",
    "Q = torch.log(Q)\n",
    "lists = []\n",
    "for alpha in [0.5,1,2,10]:\n",
    "    list = []\n",
    "    for p in range(501):\n",
    "        P = torch.tensor([[p/500,1-p/500]])\n",
    "        P = torch.log(P)\n",
    "        divergence = RenyiDivergence(alpha=alpha)(P,Q)\n",
    "        list.append(divergence)\n",
    "    lists.append(list)\n",
    "    \n",
    "for p in range(501):\n",
    "    list = []\n",
    "    P = torch.tensor([[p/500,1-p/500]])"
   ],
   "id": "f52a2eccdcf7ad68",
   "outputs": [],
   "execution_count": 29
  },
  {
   "metadata": {
    "ExecuteTime": {
     "end_time": "2024-10-19T16:32:02.143602Z",
     "start_time": "2024-10-19T16:32:02.004018Z"
    }
   },
   "cell_type": "code",
   "source": [
    "## Ploting\n",
    "import matplotlib.pyplot as plt\n",
    "import numpy as np\n",
    "\n",
    "fig, ax = plt.subplots()\n",
    "\n",
    "\n",
    "ax.plot(np.array(range(501)) / 500, np.transpose(np.array(lists[0])), color='blue', linestyle='-', label=r'$\\alpha = 1/2$')\n",
    "ax.plot(np.array(range(501)) / 500, np.transpose(np.array(lists[1])), color='red', linestyle='--', label=r'$\\alpha = 1$')\n",
    "ax.plot(np.array(range(501)) / 500, np.transpose(np.array(lists[2])), color='orange', linestyle=':', label=r'$\\alpha = 2$')\n",
    "ax.plot(np.array(range(501)) / 500, np.transpose(np.array(lists[3])), color='green', linestyle='-.', label=r'$\\alpha = 10$')\n",
    "\n",
    "ax.spines['top'].set_visible(False)\n",
    "ax.spines['right'].set_visible(False)\n",
    "\n",
    "ax.annotate(r'$p$', xy=(1.05, 0), xytext=(10, -20), \n",
    "            textcoords='offset points', ha='center', va='center', fontsize=12)\n",
    "\n",
    "ax.annotate(r'$D_\\alpha(P \\| Q)$', xy=(0, 1.05), xytext=(-40, 10), \n",
    "            textcoords='offset points', ha='center', va='center', fontsize=12)\n",
    "\n",
    "ax.xaxis.set_ticks_position('bottom')\n",
    "ax.yaxis.set_ticks_position('left')\n",
    "\n",
    "\n",
    "ax.legend()\n",
    "\n",
    "fig.savefig('Renyi_Divergence.png')\n",
    "\n",
    "plt.show()"
   ],
   "id": "43d0d92a4b387087",
   "outputs": [
    {
     "data": {
      "text/plain": [
       "<Figure size 640x480 with 1 Axes>"
      ],
      "image/png": "[encoded data removed]"
     },
     "metadata": {},
     "output_type": "display_data"
    }
   ],
   "execution_count": 30
  },
  {
   "metadata": {
    "ExecuteTime": {
     "end_time": "2024-10-19T16:36:54.167953Z",
     "start_time": "2024-10-19T16:36:54.114320Z"
    }
   },
   "cell_type": "code",
   "source": [
    "# Define transforms for the training and test sets\n",
    "transform = transforms.Compose([\n",
    "    transforms.Resize((14, 14)),\n",
    "    transforms.ToTensor(),\n",
    "    transforms.Normalize((0.5,), (0.5,))\n",
    "])\n",
    "\n",
    "# Load the datasets\n",
    "train_dataset = datasets.MNIST(root='./data', train=True, download=True, transform=transform)\n",
    "test_dataset = datasets.MNIST(root='./data', train=False, download=True, transform=transform)\n",
    "\n",
    "# Create DataLoader for batching\n",
    "train_loader = DataLoader(train_dataset, batch_size=64, shuffle=True)\n",
    "test_loader = DataLoader(test_dataset, batch_size=1000, shuffle=False)\n"
   ],
   "id": "16d43d390489c715",
   "outputs": [],
   "execution_count": 33
  },
  {
   "metadata": {
    "ExecuteTime": {
     "end_time": "2024-10-19T16:37:06.953075Z",
     "start_time": "2024-10-19T16:37:06.947569Z"
    }
   },
   "cell_type": "code",
   "source": [
    "class Net(nn.Module):\n",
    "    def __init__(self):\n",
    "        super(Net, self).__init__()\n",
    "        self.fc1 = nn.Linear(14*14, 256)  # First fully connected layer (28*28 input to 128 neurons)\n",
    "        self.fc2 = nn.Linear(256, 128)     # Second fully connected layer (128 input to 64 neurons)\n",
    "        self.fc3 = nn.Linear(128, 10)      # Output layer (64 input to 10 output neurons)\n",
    "\n",
    "    def forward(self, x):\n",
    "        x = x.view(-1, 14*14)  # Flatten the image\n",
    "        x = F.relu(self.fc1(x)) # Apply ReLU activation\n",
    "        x = F.relu(self.fc2(x)) # Apply ReLU activation\n",
    "        x = self.fc3(x)         # Output logits\n",
    "        return F.log_softmax(x, dim=1)  # Apply log_softmax for classification\n"
   ],
   "id": "a3332e4361c31eda",
   "outputs": [],
   "execution_count": 34
  },
  {
   "metadata": {
    "ExecuteTime": {
     "end_time": "2024-10-19T16:39:38.335537Z",
     "start_time": "2024-10-19T16:39:38.318532Z"
    }
   },
   "cell_type": "code",
   "source": [
    "def train(model, device, train_loader, optimizer, epoch):\n",
    "    model.train()\n",
    "    for batch_idx, (data, target) in enumerate(train_loader):\n",
    "        data, target = data.to(device), target.to(device)\n",
    "        optimizer.zero_grad()  # Reset gradients\n",
    "        output = model(data)   # Forward pass\n",
    "        loss = nn.CrossEntropyLoss()(output, target)  # Compute loss\n",
    "        loss.backward()  # Backpropagation\n",
    "        optimizer.step()  # Update weights\n",
    "        if batch_idx % 100 == 0:\n",
    "            print(f'Train Epoch: {epoch} [{batch_idx * len(data)}/{len(train_loader.dataset)} ({100. * batch_idx / len(train_loader):.0f}%)]\\tLoss: {loss.item():.6f}')\n"
   ],
   "id": "66200a2e581dbfa9",
   "outputs": [],
   "execution_count": 39
  },
  {
   "metadata": {
    "ExecuteTime": {
     "end_time": "2024-10-19T16:42:30.629841Z",
     "start_time": "2024-10-19T16:42:30.616837Z"
    }
   },
   "cell_type": "code",
   "source": [
    "def test(model, device, test_loader):\n",
    "    model.eval()\n",
    "    test_loss = 0\n",
    "    correct = 0\n",
    "    with torch.no_grad():\n",
    "        for data, target in test_loader:\n",
    "            data, target = data.to(device), target.to(device)\n",
    "            output = model(data)\n",
    "            test_loss += nn.CrossEntropyLoss(reduction = \"sum\")(output, target).item()  # Sum up batch loss\n",
    "            pred = output.argmax(dim=1, keepdim=True)  # Get the index of the max log-probability\n",
    "            correct += pred.eq(target.view_as(pred)).sum().item()\n",
    "\n",
    "    test_loss /= len(test_loader.dataset)\n",
    "    accuracy = 100. * correct / len(test_loader.dataset)\n",
    "    print(f'\\nTest set: Average loss: {test_loss:.4f}, Accuracy: {correct}/{len(test_loader.dataset)} ({accuracy:.2f}%)\\n')"
   ],
   "id": "b95368d34da81baf",
   "outputs": [],
   "execution_count": 47
  },
  {
   "metadata": {
    "ExecuteTime": {
     "end_time": "2024-10-19T16:43:49.206409Z",
     "start_time": "2024-10-19T16:42:32.703579Z"
    }
   },
   "cell_type": "code",
   "source": [
    "## Train the teacher model\n",
    "device = torch.device(\"cuda\" if torch.cuda.is_available() else \"cpu\")\n",
    "model = Net().to(device)\n",
    "optimizer = optim.SGD(model.parameters(), lr=0.01, momentum=0.9, weight_decay=5e-4)\n",
    "\n",
    "for epoch in range(1, 8):\n",
    "    train(model, device, train_loader, optimizer, epoch)\n",
    "    test(model, device, test_loader)"
   ],
   "id": "4134d813728828ca",
   "outputs": [
    {
     "name": "stdout",
     "output_type": "stream",
     "text": [
      "Train Epoch: 1 [0/60000 (0%)]\tLoss: 2.307327\n",
      "Train Epoch: 1 [6400/60000 (11%)]\tLoss: 0.692099\n",
      "Train Epoch: 1 [12800/60000 (21%)]\tLoss: 0.628599\n",
      "Train Epoch: 1 [19200/60000 (32%)]\tLoss: 0.556331\n",
      "Train Epoch: 1 [25600/60000 (43%)]\tLoss: 0.541220\n",
      "Train Epoch: 1 [32000/60000 (53%)]\tLoss: 0.201423\n",
      "Train Epoch: 1 [38400/60000 (64%)]\tLoss: 0.441957\n",
      "Train Epoch: 1 [44800/60000 (75%)]\tLoss: 0.639612\n",
      "Train Epoch: 1 [51200/60000 (85%)]\tLoss: 0.184885\n",
      "Train Epoch: 1 [57600/60000 (96%)]\tLoss: 0.276810\n",
      "\n",
      "Test set: Average loss: 0.2710, Accuracy: 9211/10000 (92.11%)\n",
      "\n",
      "Train Epoch: 2 [0/60000 (0%)]\tLoss: 0.232634\n",
      "Train Epoch: 2 [6400/60000 (11%)]\tLoss: 0.258434\n",
      "Train Epoch: 2 [12800/60000 (21%)]\tLoss: 0.293327\n",
      "Train Epoch: 2 [19200/60000 (32%)]\tLoss: 0.126490\n",
      "Train Epoch: 2 [25600/60000 (43%)]\tLoss: 0.255422\n",
      "Train Epoch: 2 [32000/60000 (53%)]\tLoss: 0.307425\n",
      "Train Epoch: 2 [38400/60000 (64%)]\tLoss: 0.319550\n",
      "Train Epoch: 2 [44800/60000 (75%)]\tLoss: 0.156756\n",
      "Train Epoch: 2 [51200/60000 (85%)]\tLoss: 0.227455\n",
      "Train Epoch: 2 [57600/60000 (96%)]\tLoss: 0.226353\n",
      "\n",
      "Test set: Average loss: 0.1795, Accuracy: 9479/10000 (94.79%)\n",
      "\n",
      "Train Epoch: 3 [0/60000 (0%)]\tLoss: 0.159709\n",
      "Train Epoch: 3 [6400/60000 (11%)]\tLoss: 0.192272\n",
      "Train Epoch: 3 [12800/60000 (21%)]\tLoss: 0.168292\n",
      "Train Epoch: 3 [19200/60000 (32%)]\tLoss: 0.178930\n",
      "Train Epoch: 3 [25600/60000 (43%)]\tLoss: 0.056113\n",
      "Train Epoch: 3 [32000/60000 (53%)]\tLoss: 0.236557\n",
      "Train Epoch: 3 [38400/60000 (64%)]\tLoss: 0.166353\n",
      "Train Epoch: 3 [44800/60000 (75%)]\tLoss: 0.351256\n",
      "Train Epoch: 3 [51200/60000 (85%)]\tLoss: 0.181811\n",
      "Train Epoch: 3 [57600/60000 (96%)]\tLoss: 0.066458\n",
      "\n",
      "Test set: Average loss: 0.1432, Accuracy: 9555/10000 (95.55%)\n",
      "\n",
      "Train Epoch: 4 [0/60000 (0%)]\tLoss: 0.180779\n",
      "Train Epoch: 4 [6400/60000 (11%)]\tLoss: 0.140133\n",
      "Train Epoch: 4 [12800/60000 (21%)]\tLoss: 0.232570\n",
      "Train Epoch: 4 [19200/60000 (32%)]\tLoss: 0.075820\n",
      "Train Epoch: 4 [25600/60000 (43%)]\tLoss: 0.070168\n",
      "Train Epoch: 4 [32000/60000 (53%)]\tLoss: 0.248298\n",
      "Train Epoch: 4 [38400/60000 (64%)]\tLoss: 0.525013\n",
      "Train Epoch: 4 [44800/60000 (75%)]\tLoss: 0.087846\n",
      "Train Epoch: 4 [51200/60000 (85%)]\tLoss: 0.060388\n",
      "Train Epoch: 4 [57600/60000 (96%)]\tLoss: 0.086094\n",
      "\n",
      "Test set: Average loss: 0.1296, Accuracy: 9618/10000 (96.18%)\n",
      "\n",
      "Train Epoch: 5 [0/60000 (0%)]\tLoss: 0.082245\n",
      "Train Epoch: 5 [6400/60000 (11%)]\tLoss: 0.100027\n",
      "Train Epoch: 5 [12800/60000 (21%)]\tLoss: 0.079904\n",
      "Train Epoch: 5 [19200/60000 (32%)]\tLoss: 0.168326\n",
      "Train Epoch: 5 [25600/60000 (43%)]\tLoss: 0.067273\n",
      "Train Epoch: 5 [32000/60000 (53%)]\tLoss: 0.151612\n",
      "Train Epoch: 5 [38400/60000 (64%)]\tLoss: 0.106647\n",
      "Train Epoch: 5 [44800/60000 (75%)]\tLoss: 0.065938\n",
      "Train Epoch: 5 [51200/60000 (85%)]\tLoss: 0.027329\n",
      "Train Epoch: 5 [57600/60000 (96%)]\tLoss: 0.092920\n",
      "\n",
      "Test set: Average loss: 0.1184, Accuracy: 9637/10000 (96.37%)\n",
      "\n",
      "Train Epoch: 6 [0/60000 (0%)]\tLoss: 0.066322\n",
      "Train Epoch: 6 [6400/60000 (11%)]\tLoss: 0.062575\n",
      "Train Epoch: 6 [12800/60000 (21%)]\tLoss: 0.100276\n",
      "Train Epoch: 6 [19200/60000 (32%)]\tLoss: 0.083148\n",
      "Train Epoch: 6 [25600/60000 (43%)]\tLoss: 0.079658\n",
      "Train Epoch: 6 [32000/60000 (53%)]\tLoss: 0.025019\n",
      "Train Epoch: 6 [38400/60000 (64%)]\tLoss: 0.185491\n",
      "Train Epoch: 6 [44800/60000 (75%)]\tLoss: 0.026826\n",
      "Train Epoch: 6 [51200/60000 (85%)]\tLoss: 0.117743\n",
      "Train Epoch: 6 [57600/60000 (96%)]\tLoss: 0.183543\n",
      "\n",
      "Test set: Average loss: 0.1130, Accuracy: 9657/10000 (96.57%)\n",
      "\n",
      "Train Epoch: 7 [0/60000 (0%)]\tLoss: 0.088242\n",
      "Train Epoch: 7 [6400/60000 (11%)]\tLoss: 0.164835\n",
      "Train Epoch: 7 [12800/60000 (21%)]\tLoss: 0.125114\n",
      "Train Epoch: 7 [19200/60000 (32%)]\tLoss: 0.066946\n",
      "Train Epoch: 7 [25600/60000 (43%)]\tLoss: 0.091947\n",
      "Train Epoch: 7 [32000/60000 (53%)]\tLoss: 0.104972\n",
      "Train Epoch: 7 [38400/60000 (64%)]\tLoss: 0.119575\n",
      "Train Epoch: 7 [44800/60000 (75%)]\tLoss: 0.084863\n",
      "Train Epoch: 7 [51200/60000 (85%)]\tLoss: 0.098008\n",
      "Train Epoch: 7 [57600/60000 (96%)]\tLoss: 0.164481\n",
      "\n",
      "Test set: Average loss: 0.0971, Accuracy: 9693/10000 (96.93%)\n",
      "\n"
     ]
    }
   ],
   "execution_count": 48
  },
  {
   "metadata": {
    "ExecuteTime": {
     "end_time": "2024-10-19T16:43:53.493038Z",
     "start_time": "2024-10-19T16:43:53.482957Z"
    }
   },
   "cell_type": "code",
   "source": [
    "class Reduced_Net(nn.Module):\n",
    "    def __init__(self):\n",
    "        super(Reduced_Net, self).__init__()\n",
    "        self.pool = nn.MaxPool2d(2, 2)\n",
    "        self.fc1 = nn.Linear(7*7, 8)  # First fully connected layer (28*28 input to 8 neurons)\n",
    "        self.fc2 = nn.Linear(8, 6)     # Second fully connected layer (8 input to 6 neurons)\n",
    "        self.fc3 = nn.Linear(6, 10)      # Output layer (6 input to 10 output neurons)\n",
    "\n",
    "    def forward(self, x):\n",
    "        x = self.pool(x)\n",
    "        x = x.view(-1, 7*7)  # Flatten the image\n",
    "        x = F.relu(self.fc1(x)) # Apply ReLU activation\n",
    "        x = F.relu(self.fc2(x)) # Apply ReLU activation\n",
    "        x = self.fc3(x)         # Output logits\n",
    "        return F.log_softmax(x, dim=1)  # Apply log_softmax for classification\n"
   ],
   "id": "783935955c5c1254",
   "outputs": [],
   "execution_count": 49
  },
  {
   "metadata": {
    "ExecuteTime": {
     "end_time": "2024-10-19T16:43:54.936653Z",
     "start_time": "2024-10-19T16:43:54.919655Z"
    }
   },
   "cell_type": "code",
   "source": [
    "def destilation_train_and_test(student_model, teacher_model, device, train_loader, test_loader, optimizer, epoch, beta, temperature, alpha):\n",
    "    student_model.train()\n",
    "    for batch_idx, (data, target) in enumerate(train_loader):\n",
    "        data, target = data.to(device), target.to(device)\n",
    "        optimizer.zero_grad()  # Reset gradients\n",
    "        with torch.no_grad():\n",
    "            teacher_model_output = teacher_model(data)\n",
    "        output = student_model(data)   # Forward pass\n",
    "        loss = beta * RenyiDivergence(alpha=alpha)(output/temperature, teacher_model_output/temperature) + nn.CrossEntropyLoss()(output, target)\n",
    "        loss.backward()  # Backpropagation\n",
    "        optimizer.step()  # Update weights\n",
    "        if batch_idx % 100 == 0:\n",
    "            print(f'Train Epoch: {epoch} [{batch_idx * len(data)}/{len(train_loader.dataset)} ({100. * batch_idx / len(train_loader):.0f}%)]\\tLoss: {loss.item():.6f}')\n",
    "            \n",
    "            \n",
    "            \n",
    "            student_model.eval()\n",
    "            test_loss = 0\n",
    "            correct = 0\n",
    "            with torch.no_grad():\n",
    "                for data, target in test_loader:\n",
    "                    data, target = data.to(device), target.to(device)\n",
    "                    output = student_model(data)\n",
    "                    teacher_model_output = teacher_model(data)\n",
    "                    test_loss += beta * RenyiDivergence(alpha)(output/temperature, teacher_model_output/temperature) + nn.CrossEntropyLoss(reduction=\"sum\")(output, target)\n",
    "                    pred = output.argmax(dim=1, keepdim=True)  # Get the index of the max log-probability\n",
    "                    correct += pred.eq(target.view_as(pred)).sum().item()\n",
    "        \n",
    "            test_loss /= len(test_loader.dataset)\n",
    "            accuracy = 100. * correct / len(test_loader.dataset)\n",
    "            print(f'\\tValidation loss: {test_loss:.4f}, Accuracy: {correct}/{len(test_loader.dataset)} ({accuracy:.2f}%)\\n')\n",
    "            wandb.log({\"loss\": loss.item(),\"val_loss\": test_loss, \"val_accuracy\": accuracy,\"epoch\": epoch})\n",
    "            student_model.train()\n",
    "            \n",
    "def train_and_test(model, device, train_loader, test_loader, optimizer, epoch):\n",
    "    model.train()\n",
    "    for batch_idx, (data, target) in enumerate(train_loader):\n",
    "        data, target = data.to(device), target.to(device)\n",
    "        optimizer.zero_grad()  # Reset gradients\n",
    "        output = model(data)   # Forward pass\n",
    "        loss = nn.CrossEntropyLoss()(output, target)\n",
    "        loss.backward()  # Backpropagation\n",
    "        optimizer.step()  # Update weights\n",
    "        if batch_idx % 100 == 0:\n",
    "            print(f'Train Epoch: {epoch} [{batch_idx * len(data)}/{len(train_loader.dataset)} ({100. * batch_idx / len(train_loader):.0f}%)]\\tLoss: {loss.item():.6f}')\n",
    "            \n",
    "            \n",
    "            \n",
    "            model.eval()\n",
    "            test_loss = 0\n",
    "            correct = 0\n",
    "            with torch.no_grad():\n",
    "                for data, target in test_loader:\n",
    "                    data, target = data.to(device), target.to(device)\n",
    "                    output = model(data)\n",
    "                    test_loss += nn.CrossEntropyLoss(reduction=\"sum\")(output, target)\n",
    "                    pred = output.argmax(dim=1, keepdim=True)  # Get the index of the max log-probability\n",
    "                    correct += pred.eq(target.view_as(pred)).sum().item()\n",
    "        \n",
    "            test_loss /= len(test_loader.dataset)\n",
    "            accuracy = 100. * correct / len(test_loader.dataset)\n",
    "            print(f'\\tValidation loss: {test_loss:.4f}, Accuracy: {correct}/{len(test_loader.dataset)} ({accuracy:.2f}%)\\n')\n",
    "            wandb.log({\"loss\": loss.item(),\"val_loss\": test_loss, \"val_accuracy\": accuracy,\"epoch\": epoch})\n",
    "            model.train()\n",
    "    "
   ],
   "id": "ff7f36243ff954e8",
   "outputs": [],
   "execution_count": 50
  },
  {
   "metadata": {
    "ExecuteTime": {
     "end_time": "2024-10-19T17:02:42.807737Z",
     "start_time": "2024-10-19T17:01:56.505389Z"
    }
   },
   "cell_type": "code",
   "source": [
    "reduced_model = Reduced_Net().to(device)\n",
    "optimizer = optim.SGD(reduced_model.parameters(), lr=0.01, momentum=0.9, weight_decay=5e-4)\n",
    "\n",
    "wandb.init(\n",
    "    project=\"Renyi_Divergence_MNIST\",\n",
    "    name = \"Reduced Model\",\n",
    "    config={}\n",
    ")\n",
    "\n",
    "for epoch in range(1, 3):\n",
    "    train_and_test(reduced_model, device, train_loader, test_loader, optimizer, epoch)\n",
    "    test(reduced_model, device, test_loader)\n",
    "    \n",
    "wandb.finish()"
   ],
   "id": "c32a178407c496ca",
   "outputs": [
    {
     "data": {
      "text/plain": [
       "<IPython.core.display.HTML object>"
      ],
      "text/html": [
       "Tracking run with wandb version 0.18.3"
      ]
     },
     "metadata": {},
     "output_type": "display_data"
    },
    {
     "data": {
      "text/plain": [
       "<IPython.core.display.HTML object>"
      ],
      "text/html": [
       "Run data is saved locally in <code>C:\\Users\\Martin\\Documents\\School\\Thesis\\Git Repository\\pytorch-image-models\\Jupyter Notebooks\\wandb\\run-20241019_190156-u972pvk9</code>"
      ]
     },
     "metadata": {},
     "output_type": "display_data"
    },
    {
     "data": {
      "text/plain": [
       "<IPython.core.display.HTML object>"
      ],
      "text/html": [
       "Syncing run <strong><a href='https://wandb.ai/martingratzer-organization/Renyi_Divergence_MNIST/runs/u972pvk9' target=\"_blank\">Reduced Model</a></strong> to <a href='https://wandb.ai/martingratzer-organization/Renyi_Divergence_MNIST' target=\"_blank\">Weights & Biases</a> (<a href='https://wandb.me/run' target=\"_blank\">docs</a>)<br/>"
      ]
     },
     "metadata": {},
     "output_type": "display_data"
    },
    {
     "data": {
      "text/plain": [
       "<IPython.core.display.HTML object>"
      ],
      "text/html": [
       " View project at <a href='https://wandb.ai/martingratzer-organization/Renyi_Divergence_MNIST' target=\"_blank\">https://wandb.ai/martingratzer-organization/Renyi_Divergence_MNIST</a>"
      ]
     },
     "metadata": {},
     "output_type": "display_data"
    },
    {
     "data": {
      "text/plain": [
       "<IPython.core.display.HTML object>"
      ],
      "text/html": [
       " View run at <a href='https://wandb.ai/martingratzer-organization/Renyi_Divergence_MNIST/runs/u972pvk9' target=\"_blank\">https://wandb.ai/martingratzer-organization/Renyi_Divergence_MNIST/runs/u972pvk9</a>"
      ]
     },
     "metadata": {},
     "output_type": "display_data"
    },
    {
     "name": "stdout",
     "output_type": "stream",
     "text": [
      "Train Epoch: 1 [0/60000 (0%)]\tLoss: 2.312280\n",
      "\tValidation loss: 2.3743, Accuracy: 971/10000 (9.71%)\n",
      "\n",
      "Train Epoch: 1 [6400/60000 (11%)]\tLoss: 2.144859\n",
      "\tValidation loss: 2.1645, Accuracy: 3462/10000 (34.62%)\n",
      "\n",
      "Train Epoch: 1 [12800/60000 (21%)]\tLoss: 1.514390\n",
      "\tValidation loss: 1.4349, Accuracy: 4972/10000 (49.72%)\n",
      "\n",
      "Train Epoch: 1 [19200/60000 (32%)]\tLoss: 1.311840\n",
      "\tValidation loss: 1.0306, Accuracy: 6065/10000 (60.65%)\n",
      "\n",
      "Train Epoch: 1 [25600/60000 (43%)]\tLoss: 0.641097\n",
      "\tValidation loss: 0.8422, Accuracy: 6830/10000 (68.30%)\n",
      "\n",
      "Train Epoch: 1 [32000/60000 (53%)]\tLoss: 0.808447\n",
      "\tValidation loss: 0.7174, Accuracy: 7455/10000 (74.55%)\n",
      "\n",
      "Train Epoch: 1 [38400/60000 (64%)]\tLoss: 0.632243\n",
      "\tValidation loss: 0.6461, Accuracy: 7807/10000 (78.07%)\n",
      "\n",
      "Train Epoch: 1 [44800/60000 (75%)]\tLoss: 0.581435\n",
      "\tValidation loss: 0.6489, Accuracy: 7829/10000 (78.29%)\n",
      "\n",
      "Train Epoch: 1 [51200/60000 (85%)]\tLoss: 0.498133\n",
      "\tValidation loss: 0.6290, Accuracy: 7860/10000 (78.60%)\n",
      "\n",
      "Train Epoch: 1 [57600/60000 (96%)]\tLoss: 0.354954\n",
      "\tValidation loss: 0.5994, Accuracy: 8074/10000 (80.74%)\n",
      "\n",
      "\n",
      "Test set: Average loss: 0.6292, Accuracy: 7916/10000 (79.16%)\n",
      "\n",
      "Train Epoch: 2 [0/60000 (0%)]\tLoss: 0.533034\n",
      "\tValidation loss: 0.6214, Accuracy: 7946/10000 (79.46%)\n",
      "\n",
      "Train Epoch: 2 [6400/60000 (11%)]\tLoss: 0.715526\n",
      "\tValidation loss: 0.5922, Accuracy: 8079/10000 (80.79%)\n",
      "\n",
      "Train Epoch: 2 [12800/60000 (21%)]\tLoss: 0.574758\n",
      "\tValidation loss: 0.5758, Accuracy: 8088/10000 (80.88%)\n",
      "\n",
      "Train Epoch: 2 [19200/60000 (32%)]\tLoss: 0.387867\n",
      "\tValidation loss: 0.5568, Accuracy: 8193/10000 (81.93%)\n",
      "\n",
      "Train Epoch: 2 [25600/60000 (43%)]\tLoss: 0.560255\n",
      "\tValidation loss: 0.5551, Accuracy: 8275/10000 (82.75%)\n",
      "\n",
      "Train Epoch: 2 [32000/60000 (53%)]\tLoss: 0.506375\n",
      "\tValidation loss: 0.5308, Accuracy: 8284/10000 (82.84%)\n",
      "\n",
      "Train Epoch: 2 [38400/60000 (64%)]\tLoss: 0.884062\n",
      "\tValidation loss: 0.5308, Accuracy: 8326/10000 (83.26%)\n",
      "\n",
      "Train Epoch: 2 [44800/60000 (75%)]\tLoss: 0.404868\n",
      "\tValidation loss: 0.5298, Accuracy: 8259/10000 (82.59%)\n",
      "\n",
      "Train Epoch: 2 [51200/60000 (85%)]\tLoss: 0.581735\n",
      "\tValidation loss: 0.5258, Accuracy: 8363/10000 (83.63%)\n",
      "\n",
      "Train Epoch: 2 [57600/60000 (96%)]\tLoss: 0.372268\n",
      "\tValidation loss: 0.5034, Accuracy: 8300/10000 (83.00%)\n",
      "\n",
      "\n",
      "Test set: Average loss: 0.4895, Accuracy: 8423/10000 (84.23%)\n",
      "\n"
     ]
    },
    {
     "data": {
      "text/plain": [
       "<IPython.core.display.HTML object>"
      ],
      "text/html": [
       "<style>\n",
       "    table.wandb td:nth-child(1) { padding: 0 10px; text-align: left ; width: auto;} td:nth-child(2) {text-align: left ; width: 100%}\n",
       "    .wandb-row { display: flex; flex-direction: row; flex-wrap: wrap; justify-content: flex-start; width: 100% }\n",
       "    .wandb-col { display: flex; flex-direction: column; flex-basis: 100%; flex: 1; padding: 10px; }\n",
       "    </style>\n",
       "<div class=\"wandb-row\"><div class=\"wandb-col\"><h3>Run history:</h3><br/><table class=\"wandb\"><tr><td>epoch</td><td>▁▁▁▁▁▁▁▁▁▁██████████</td></tr><tr><td>loss</td><td>█▇▅▄▂▃▂▂▂▁▂▂▂▁▂▂▃▁▂▁</td></tr><tr><td>val_accuracy</td><td>▁▃▅▆▇▇▇▇████████████</td></tr><tr><td>val_loss</td><td>█▇▄▃▂▂▂▂▁▁▁▁▁▁▁▁▁▁▁▁</td></tr></table><br/></div><div class=\"wandb-col\"><h3>Run summary:</h3><br/><table class=\"wandb\"><tr><td>epoch</td><td>2</td></tr><tr><td>loss</td><td>0.37227</td></tr><tr><td>val_accuracy</td><td>83</td></tr><tr><td>val_loss</td><td>0.50344</td></tr></table><br/></div></div>"
      ]
     },
     "metadata": {},
     "output_type": "display_data"
    },
    {
     "data": {
      "text/plain": [
       "<IPython.core.display.HTML object>"
      ],
      "text/html": [
       " View run <strong style=\"color:#cdcd00\">Reduced Model</strong> at: <a href='https://wandb.ai/martingratzer-organization/Renyi_Divergence_MNIST/runs/u972pvk9' target=\"_blank\">https://wandb.ai/martingratzer-organization/Renyi_Divergence_MNIST/runs/u972pvk9</a><br/> View project at: <a href='https://wandb.ai/martingratzer-organization/Renyi_Divergence_MNIST' target=\"_blank\">https://wandb.ai/martingratzer-organization/Renyi_Divergence_MNIST</a><br/>Synced 5 W&B file(s), 0 media file(s), 0 artifact file(s) and 0 other file(s)"
      ]
     },
     "metadata": {},
     "output_type": "display_data"
    },
    {
     "data": {
      "text/plain": [
       "<IPython.core.display.HTML object>"
      ],
      "text/html": [
       "Find logs at: <code>.\\wandb\\run-20241019_190156-u972pvk9\\logs</code>"
      ]
     },
     "metadata": {},
     "output_type": "display_data"
    }
   ],
   "execution_count": 57
  },
  {
   "metadata": {
    "ExecuteTime": {
     "end_time": "2024-10-19T17:03:29.031609Z",
     "start_time": "2024-10-19T17:02:42.818628Z"
    }
   },
   "cell_type": "code",
   "source": [
    "beta = 5\n",
    "temperature = 10\n",
    "alpha = 0.5\n",
    "\n",
    "student_model = Reduced_Net().to(device)\n",
    "optimizer = optim.SGD(student_model.parameters(), lr=0.01, momentum=0.9, weight_decay=5e-4)\n",
    "\n",
    "wandb.init(\n",
    "    project=\"Renyi_Divergence_MNIST\",\n",
    "    name = \"Distilled Model\",\n",
    "    config={\n",
    "        \"beta\": beta,\n",
    "        \"temperature\": temperature,\n",
    "        \"alpha\": alpha\n",
    "    }\n",
    ")\n",
    "\n",
    "for epoch in range(1, 3):\n",
    "    destilation_train_and_test(student_model, model, device, train_loader, test_loader, optimizer, epoch, beta, temperature, alpha)\n",
    "    test(student_model, device, test_loader)\n",
    "    \n",
    "wandb.finish()\n"
   ],
   "id": "889d7b05b9642534",
   "outputs": [
    {
     "data": {
      "text/plain": [
       "<IPython.core.display.HTML object>"
      ],
      "text/html": [
       "Tracking run with wandb version 0.18.3"
      ]
     },
     "metadata": {},
     "output_type": "display_data"
    },
    {
     "data": {
      "text/plain": [
       "<IPython.core.display.HTML object>"
      ],
      "text/html": [
       "Run data is saved locally in <code>C:\\Users\\Martin\\Documents\\School\\Thesis\\Git Repository\\pytorch-image-models\\Jupyter Notebooks\\wandb\\run-20241019_190242-xcxq4sp0</code>"
      ]
     },
     "metadata": {},
     "output_type": "display_data"
    },
    {
     "data": {
      "text/plain": [
       "<IPython.core.display.HTML object>"
      ],
      "text/html": [
       "Syncing run <strong><a href='https://wandb.ai/martingratzer-organization/Renyi_Divergence_MNIST/runs/xcxq4sp0' target=\"_blank\">Distilled Model</a></strong> to <a href='https://wandb.ai/martingratzer-organization/Renyi_Divergence_MNIST' target=\"_blank\">Weights & Biases</a> (<a href='https://wandb.me/run' target=\"_blank\">docs</a>)<br/>"
      ]
     },
     "metadata": {},
     "output_type": "display_data"
    },
    {
     "data": {
      "text/plain": [
       "<IPython.core.display.HTML object>"
      ],
      "text/html": [
       " View project at <a href='https://wandb.ai/martingratzer-organization/Renyi_Divergence_MNIST' target=\"_blank\">https://wandb.ai/martingratzer-organization/Renyi_Divergence_MNIST</a>"
      ]
     },
     "metadata": {},
     "output_type": "display_data"
    },
    {
     "data": {
      "text/plain": [
       "<IPython.core.display.HTML object>"
      ],
      "text/html": [
       " View run at <a href='https://wandb.ai/martingratzer-organization/Renyi_Divergence_MNIST/runs/xcxq4sp0' target=\"_blank\">https://wandb.ai/martingratzer-organization/Renyi_Divergence_MNIST/runs/xcxq4sp0</a>"
      ]
     },
     "metadata": {},
     "output_type": "display_data"
    },
    {
     "name": "stdout",
     "output_type": "stream",
     "text": [
      "Train Epoch: 1 [0/60000 (0%)]\tLoss: 2.635585\n",
      "\tValidation loss: 2.3196, Accuracy: 1091/10000 (10.91%)\n",
      "\n",
      "Train Epoch: 1 [6400/60000 (11%)]\tLoss: 2.435403\n",
      "\tValidation loss: 2.0626, Accuracy: 2342/10000 (23.42%)\n",
      "\n",
      "Train Epoch: 1 [12800/60000 (21%)]\tLoss: 2.025367\n",
      "\tValidation loss: 1.6595, Accuracy: 3821/10000 (38.21%)\n",
      "\n",
      "Train Epoch: 1 [19200/60000 (32%)]\tLoss: 1.690081\n",
      "\tValidation loss: 1.4170, Accuracy: 4864/10000 (48.64%)\n",
      "\n",
      "Train Epoch: 1 [25600/60000 (43%)]\tLoss: 1.260876\n",
      "\tValidation loss: 1.2121, Accuracy: 5488/10000 (54.88%)\n",
      "\n",
      "Train Epoch: 1 [32000/60000 (53%)]\tLoss: 1.209274\n",
      "\tValidation loss: 1.0643, Accuracy: 6195/10000 (61.95%)\n",
      "\n",
      "Train Epoch: 1 [38400/60000 (64%)]\tLoss: 1.079097\n",
      "\tValidation loss: 0.9826, Accuracy: 6587/10000 (65.87%)\n",
      "\n",
      "Train Epoch: 1 [44800/60000 (75%)]\tLoss: 0.952281\n",
      "\tValidation loss: 0.9151, Accuracy: 6648/10000 (66.48%)\n",
      "\n",
      "Train Epoch: 1 [51200/60000 (85%)]\tLoss: 1.009228\n",
      "\tValidation loss: 0.8374, Accuracy: 7259/10000 (72.59%)\n",
      "\n",
      "Train Epoch: 1 [57600/60000 (96%)]\tLoss: 1.051217\n",
      "\tValidation loss: 0.7563, Accuracy: 7447/10000 (74.47%)\n",
      "\n",
      "\n",
      "Test set: Average loss: 0.7484, Accuracy: 7591/10000 (75.91%)\n",
      "\n",
      "Train Epoch: 2 [0/60000 (0%)]\tLoss: 0.816961\n",
      "\tValidation loss: 0.7646, Accuracy: 7532/10000 (75.32%)\n",
      "\n",
      "Train Epoch: 2 [6400/60000 (11%)]\tLoss: 0.843626\n",
      "\tValidation loss: 0.6812, Accuracy: 7853/10000 (78.53%)\n",
      "\n",
      "Train Epoch: 2 [12800/60000 (21%)]\tLoss: 0.716990\n",
      "\tValidation loss: 0.6324, Accuracy: 7975/10000 (79.75%)\n",
      "\n",
      "Train Epoch: 2 [19200/60000 (32%)]\tLoss: 0.749487\n",
      "\tValidation loss: 0.5873, Accuracy: 8123/10000 (81.23%)\n",
      "\n",
      "Train Epoch: 2 [25600/60000 (43%)]\tLoss: 0.641271\n",
      "\tValidation loss: 0.6170, Accuracy: 8007/10000 (80.07%)\n",
      "\n",
      "Train Epoch: 2 [32000/60000 (53%)]\tLoss: 0.739520\n",
      "\tValidation loss: 0.5853, Accuracy: 8112/10000 (81.12%)\n",
      "\n",
      "Train Epoch: 2 [38400/60000 (64%)]\tLoss: 0.531207\n",
      "\tValidation loss: 0.5761, Accuracy: 8117/10000 (81.17%)\n",
      "\n",
      "Train Epoch: 2 [44800/60000 (75%)]\tLoss: 0.981627\n",
      "\tValidation loss: 0.5474, Accuracy: 8270/10000 (82.70%)\n",
      "\n",
      "Train Epoch: 2 [51200/60000 (85%)]\tLoss: 0.705684\n",
      "\tValidation loss: 0.5349, Accuracy: 8335/10000 (83.35%)\n",
      "\n",
      "Train Epoch: 2 [57600/60000 (96%)]\tLoss: 0.453253\n",
      "\tValidation loss: 0.5292, Accuracy: 8310/10000 (83.10%)\n",
      "\n",
      "\n",
      "Test set: Average loss: 0.5321, Accuracy: 8329/10000 (83.29%)\n",
      "\n"
     ]
    },
    {
     "data": {
      "text/plain": [
       "<IPython.core.display.HTML object>"
      ],
      "text/html": [
       "<style>\n",
       "    table.wandb td:nth-child(1) { padding: 0 10px; text-align: left ; width: auto;} td:nth-child(2) {text-align: left ; width: 100%}\n",
       "    .wandb-row { display: flex; flex-direction: row; flex-wrap: wrap; justify-content: flex-start; width: 100% }\n",
       "    .wandb-col { display: flex; flex-direction: column; flex-basis: 100%; flex: 1; padding: 10px; }\n",
       "    </style>\n",
       "<div class=\"wandb-row\"><div class=\"wandb-col\"><h3>Run history:</h3><br/><table class=\"wandb\"><tr><td>epoch</td><td>▁▁▁▁▁▁▁▁▁▁██████████</td></tr><tr><td>loss</td><td>█▇▆▅▄▃▃▃▃▃▂▂▂▂▂▂▁▃▂▁</td></tr><tr><td>val_accuracy</td><td>▁▂▄▅▅▆▆▆▇▇▇█████████</td></tr><tr><td>val_loss</td><td>█▇▅▄▄▃▃▃▂▂▂▂▁▁▁▁▁▁▁▁</td></tr></table><br/></div><div class=\"wandb-col\"><h3>Run summary:</h3><br/><table class=\"wandb\"><tr><td>epoch</td><td>2</td></tr><tr><td>loss</td><td>0.45325</td></tr><tr><td>val_accuracy</td><td>83.1</td></tr><tr><td>val_loss</td><td>0.52921</td></tr></table><br/></div></div>"
      ]
     },
     "metadata": {},
     "output_type": "display_data"
    },
    {
     "data": {
      "text/plain": [
       "<IPython.core.display.HTML object>"
      ],
      "text/html": [
       " View run <strong style=\"color:#cdcd00\">Distilled Model</strong> at: <a href='https://wandb.ai/martingratzer-organization/Renyi_Divergence_MNIST/runs/xcxq4sp0' target=\"_blank\">https://wandb.ai/martingratzer-organization/Renyi_Divergence_MNIST/runs/xcxq4sp0</a><br/> View project at: <a href='https://wandb.ai/martingratzer-organization/Renyi_Divergence_MNIST' target=\"_blank\">https://wandb.ai/martingratzer-organization/Renyi_Divergence_MNIST</a><br/>Synced 5 W&B file(s), 0 media file(s), 0 artifact file(s) and 0 other file(s)"
      ]
     },
     "metadata": {},
     "output_type": "display_data"
    },
    {
     "data": {
      "text/plain": [
       "<IPython.core.display.HTML object>"
      ],
      "text/html": [
       "Find logs at: <code>.\\wandb\\run-20241019_190242-xcxq4sp0\\logs</code>"
      ]
     },
     "metadata": {},
     "output_type": "display_data"
    }
   ],
   "execution_count": 58
  },
  {
   "metadata": {},
   "cell_type": "code",
   "outputs": [],
   "execution_count": null,
   "source": "",
   "id": "ad9d14df25d6da2e"
  },
  {
   "metadata": {},
   "cell_type": "code",
   "outputs": [],
   "execution_count": null,
   "source": "## Some more testing with temperature",
   "id": "3e67dc8aed93e4d8"
  },
  {
   "metadata": {
    "ExecuteTime": {
     "end_time": "2024-10-16T19:00:23.807578Z",
     "start_time": "2024-10-16T19:00:23.785448Z"
    }
   },
   "cell_type": "code",
   "source": [
    "for batch_idx, (data, target) in enumerate(train_loader):\n",
    "    student_model.eval()\n",
    "    with torch.no_grad():\n",
    "        output = student_model(data[0].to(device))\n",
    "        teacher_model_output = model(data[0].to(device))\n",
    "    break"
   ],
   "id": "f793aab98ccc874b",
   "outputs": [],
   "execution_count": 194
  },
  {
   "metadata": {
    "ExecuteTime": {
     "end_time": "2024-10-16T19:00:26.420748Z",
     "start_time": "2024-10-16T19:00:26.289402Z"
    }
   },
   "cell_type": "code",
   "source": [
    "plt.bar(np.arange(10), np.squeeze(output.cpu().numpy()), width=0.35, color='blue', label='Student Model Logits')\n",
    "plt.bar(np.arange(10)+0.35, np.squeeze(teacher_model_output.cpu().numpy()), width=0.35, color='green', label='Teacher Model Logits')\n",
    "plt.legend()\n",
    "plt.title(\"Logits\")"
   ],
   "id": "3c26656e86577298",
   "outputs": [
    {
     "data": {
      "text/plain": [
       "Text(0.5, 1.0, 'Logits')"
      ]
     },
     "execution_count": 195,
     "metadata": {},
     "output_type": "execute_result"
    },
    {
     "data": {
      "text/plain": [
       "<Figure size 640x480 with 1 Axes>"
      ],
      "image/png": "[encoded data removed]"
     },
     "metadata": {},
     "output_type": "display_data"
    }
   ],
   "execution_count": 195
  },
  {
   "metadata": {
    "ExecuteTime": {
     "end_time": "2024-10-16T19:00:38.224653Z",
     "start_time": "2024-10-16T19:00:38.078993Z"
    }
   },
   "cell_type": "code",
   "source": [
    "plt.bar(np.arange(10), np.squeeze(torch.softmax(output,dim=1).cpu().numpy()), width=0.35, color='blue', label='Student Model Logits')\n",
    "plt.bar(np.arange(10)+0.35, np.squeeze(torch.softmax(teacher_model_output,dim=1).cpu().numpy()), width=0.35, color='green', label='Teacher Model Logits')\n",
    "plt.legend()\n",
    "plt.title(\"Sotmax without temperature\")"
   ],
   "id": "8a3889f13e507ccd",
   "outputs": [
    {
     "data": {
      "text/plain": [
       "Text(0.5, 1.0, 'Sotmax without temperature')"
      ]
     },
     "execution_count": 196,
     "metadata": {},
     "output_type": "execute_result"
    },
    {
     "data": {
      "text/plain": [
       "<Figure size 640x480 with 1 Axes>"
      ],
      "image/png": "[encoded data removed]"
     },
     "metadata": {},
     "output_type": "display_data"
    }
   ],
   "execution_count": 196
  },
  {
   "metadata": {
    "ExecuteTime": {
     "end_time": "2024-10-16T19:16:49.080391Z",
     "start_time": "2024-10-16T19:16:48.948825Z"
    }
   },
   "cell_type": "code",
   "source": [
    "temperature = 2\n",
    "\n",
    "plt.bar(np.arange(10), np.squeeze(torch.softmax(output/temperature,dim=1).cpu().numpy()), width=0.35, color='blue', label='Student Model Logits')\n",
    "plt.bar(np.arange(10)+0.35, np.squeeze(torch.softmax(teacher_model_output/temperature,dim=1).cpu().numpy()), width=0.35, color='green', label='Teacher Model Logits')\n",
    "plt.legend()\n",
    "plt.title(\"Sotmax with temperature\")"
   ],
   "id": "4f1a4a772dd7dbf8",
   "outputs": [
    {
     "data": {
      "text/plain": [
       "Text(0.5, 1.0, 'Sotmax with temperature')"
      ]
     },
     "execution_count": 200,
     "metadata": {},
     "output_type": "execute_result"
    },
    {
     "data": {
      "text/plain": [
       "<Figure size 640x480 with 1 Axes>"
      ],
      "image/png": "[encoded data removed]"
     },
     "metadata": {},
     "output_type": "display_data"
    }
   ],
   "execution_count": 200
  },
  {
   "metadata": {},
   "cell_type": "code",
   "outputs": [],
   "execution_count": null,
   "source": "",
   "id": "52319566f262e453"
  },
  {
   "metadata": {},
   "cell_type": "code",
   "outputs": [],
   "execution_count": null,
   "source": "",
   "id": "5ee8875ecfe3a82e"
  },
  {
   "metadata": {},
   "cell_type": "code",
   "outputs": [],
   "execution_count": null,
   "source": "",
   "id": "a5dadfa4f11f0fd2"
  },
  {
   "metadata": {},
   "cell_type": "code",
   "outputs": [],
   "execution_count": null,
   "source": "",
   "id": "280f44431061664"
  },
  {
   "metadata": {},
   "cell_type": "code",
   "outputs": [],
   "execution_count": null,
   "source": "",
   "id": "3805be82372b1826"
  }
 ],
 "metadata": {
  "kernelspec": {
   "display_name": "Python 3",
   "language": "python",
   "name": "python3"
  },
  "language_info": {
   "codemirror_mode": {
    "name": "ipython",
    "version": 2
   },
   "file_extension": ".py",
   "mimetype": "text/x-python",
   "name": "python",
   "nbconvert_exporter": "python",
   "pygments_lexer": "ipython2",
   "version": "2.7.6"
  }
 },
 "nbformat": 4,
 "nbformat_minor": 5
}
