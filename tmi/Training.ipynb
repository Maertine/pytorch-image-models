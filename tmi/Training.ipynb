{
 "cells": [
  {
   "cell_type": "code",
   "id": "initial_id",
   "metadata": {
    "collapsed": true,
    "ExecuteTime": {
     "end_time": "2024-11-06T11:40:21.743450Z",
     "start_time": "2024-11-06T11:40:13.654901Z"
    }
   },
   "source": [
    "# Imports\n",
    "import torch\n",
    "import torch.nn as nn\n",
    "import torch.optim as optim\n",
    "import torch.nn.functional as F\n",
    "from torchvision import datasets, transforms\n",
    "from torch.utils.data import DataLoader\n",
    "import wandb\n",
    "from utils import *\n",
    "from networks import *"
   ],
   "outputs": [],
   "execution_count": 1
  },
  {
   "metadata": {
    "ExecuteTime": {
     "end_time": "2024-11-06T11:40:43.440341Z",
     "start_time": "2024-11-06T11:40:43.391158Z"
    }
   },
   "cell_type": "code",
   "source": [
    "# Define transforms for the training and test sets\n",
    "transform = transforms.Compose([\n",
    "    transforms.ToTensor(),\n",
    "    transforms.Normalize((0.5,), (0.5,))\n",
    "])\n",
    "\n",
    "# Load the datasets\n",
    "train_dataset = datasets.MNIST(root='./data', train=True, download=True, transform=transform)\n",
    "test_dataset = datasets.MNIST(root='./data', train=False, download=True, transform=transform)\n",
    "\n",
    "train_dataset, val_dataset = torch.utils.data.random_split(train_dataset, [0.95,0.05], generator=torch.Generator().manual_seed(872))\n",
    "\n",
    "# Create DataLoader for batching\n",
    "train_loader = DataLoader(train_dataset, batch_size=64, shuffle=True, generator=torch.Generator().manual_seed(872))\n",
    "val_loader = DataLoader(val_dataset, batch_size=64, shuffle=True, generator=torch.Generator().manual_seed(872))\n",
    "test_loader = DataLoader(test_dataset, batch_size=1000, shuffle=False)"
   ],
   "id": "869c0524d97f1cc9",
   "outputs": [],
   "execution_count": 2
  },
  {
   "metadata": {
    "ExecuteTime": {
     "end_time": "2024-11-06T11:45:08.981078Z",
     "start_time": "2024-11-06T11:40:45.708569Z"
    }
   },
   "cell_type": "code",
   "source": [
    "device = torch.device(\"cuda\" if torch.cuda.is_available() else \"cpu\")\n",
    "teacher_model = TeacherNetwork().to(device)\n",
    "optimizer = optim.SGD(teacher_model.parameters(), lr=1e-2, momentum=0.9, weight_decay=1e-5)\n",
    "num_epochs = 20\n",
    "\n",
    "wandb.init(\n",
    "    project=\"Renyi_Divergence_MNIST\",\n",
    "    name = \"Teacher Model\",\n",
    "    config={}\n",
    ")\n",
    "\n",
    "print(\"Starting training...\")\n",
    "\n",
    "for epoch in range(num_epochs):\n",
    "    print(f'---Epoch {epoch+1}---')\n",
    "    \n",
    "    train_loss, train_accuracy, size = 0, 0, 0\n",
    "    for i, (data, targets) in enumerate(train_loader):\n",
    "        data, targets = data.to(device), targets.to(device)\n",
    "        optimizer.zero_grad()\n",
    "        outputs = teacher_model(data)\n",
    "        loss = nn.CrossEntropyLoss()(outputs, targets)\n",
    "        loss.backward()\n",
    "        optimizer.step()\n",
    "        train_loss += loss.item() * targets.size(0)\n",
    "        train_accuracy += torch.sum(torch.argmax(outputs, dim=1) == targets).item()\n",
    "        size += targets.size(0)\n",
    "        \n",
    "    train_loss = train_loss/size\n",
    "    train_accuracy = train_accuracy/size\n",
    "    \n",
    "    print(f'Average Train Loss: {train_loss:.4f} \\t \\t Train Accuracy: {100*train_accuracy:.2f}%')\n",
    "    \n",
    "    teacher_model.is_training = False\n",
    "    \n",
    "    val_loss, val_accuracy, size = 0, 0, 0\n",
    "    for i, (data, targets) in enumerate(val_loader):\n",
    "        data, targets = data.to(device), targets.to(device)\n",
    "        with torch.no_grad():\n",
    "            pred = teacher_model(data)\n",
    "            val_loss += nn.CrossEntropyLoss()(pred, targets) * targets.shape[0]\n",
    "            val_accuracy += torch.sum(torch.argmax(pred, dim=1) == targets).item()\n",
    "        size += targets.shape[0]\n",
    "    \n",
    "    val_loss, val_accuracy = val_loss / size, val_accuracy / size\n",
    "    \n",
    "    print(f'Average Validation Loss: {val_loss:.4f} \\t Validation Accuracy: {100*val_accuracy:.2f}%')\n",
    "    \n",
    "    wandb.log({\"train_ce_loss\": train_loss,\n",
    "               \"val_ce_loss\": val_loss,\n",
    "               \"train_accuracy\": 100*train_accuracy,\n",
    "               \"val_accuracy\": 100*val_accuracy,\n",
    "               \"epoch\": epoch\n",
    "               }\n",
    "    )\n",
    "    \n",
    "    teacher_model.is_training = True\n",
    "\n",
    "teacher_model.is_training = False\n",
    "test_loss, test_accuracy, size = 0, 0, 0\n",
    "\n",
    "for i, (data, targets) in enumerate(test_loader):\n",
    "        data, targets = data.to(device), targets.to(device)\n",
    "        with torch.no_grad():\n",
    "            pred = teacher_model(data)\n",
    "            test_loss += nn.CrossEntropyLoss()(pred, targets) * targets.shape[0]\n",
    "            test_accuracy += torch.sum(torch.argmax(pred, dim=1) == targets).item()\n",
    "        size += targets.shape[0]\n",
    "\n",
    "test_loss, test_accuracy = test_loss / size, test_accuracy / size\n",
    "\n",
    "print(f'Training finished.')\n",
    "print(f'Average Validation Loss: {test_loss:.4f}\\t Validation Accuracy: {100*test_accuracy:.2f}%')\n",
    "\n",
    "wandb.finish()"
   ],
   "id": "c270df094d7c4223",
   "outputs": [
    {
     "name": "stderr",
     "output_type": "stream",
     "text": [
      "wandb: Using wandb-core as the SDK backend. Please refer to https://wandb.me/wandb-core for more information.\n",
      "wandb: Currently logged in as: martingratzer (martingratzer-organization). Use `wandb login --relogin` to force relogin\n"
     ]
    },
    {
     "data": {
      "text/plain": [
       "<IPython.core.display.HTML object>"
      ],
      "text/html": [
       "Tracking run with wandb version 0.18.3"
      ]
     },
     "metadata": {},
     "output_type": "display_data"
    },
    {
     "data": {
      "text/plain": [
       "<IPython.core.display.HTML object>"
      ],
      "text/html": [
       "Run data is saved locally in <code>C:\\Users\\Martin\\Documents\\School\\Thesis\\Git Repository\\pytorch-image-models\\own work directory\\wandb\\run-20241106_124047-j1h3qtes</code>"
      ]
     },
     "metadata": {},
     "output_type": "display_data"
    },
    {
     "data": {
      "text/plain": [
       "<IPython.core.display.HTML object>"
      ],
      "text/html": [
       "Syncing run <strong><a href='https://wandb.ai/martingratzer-organization/Renyi_Divergence_MNIST/runs/j1h3qtes' target=\"_blank\">Teacher Model</a></strong> to <a href='https://wandb.ai/martingratzer-organization/Renyi_Divergence_MNIST' target=\"_blank\">Weights & Biases</a> (<a href='https://wandb.me/run' target=\"_blank\">docs</a>)<br/>"
      ]
     },
     "metadata": {},
     "output_type": "display_data"
    },
    {
     "data": {
      "text/plain": [
       "<IPython.core.display.HTML object>"
      ],
      "text/html": [
       " View project at <a href='https://wandb.ai/martingratzer-organization/Renyi_Divergence_MNIST' target=\"_blank\">https://wandb.ai/martingratzer-organization/Renyi_Divergence_MNIST</a>"
      ]
     },
     "metadata": {},
     "output_type": "display_data"
    },
    {
     "data": {
      "text/plain": [
       "<IPython.core.display.HTML object>"
      ],
      "text/html": [
       " View run at <a href='https://wandb.ai/martingratzer-organization/Renyi_Divergence_MNIST/runs/j1h3qtes' target=\"_blank\">https://wandb.ai/martingratzer-organization/Renyi_Divergence_MNIST/runs/j1h3qtes</a>"
      ]
     },
     "metadata": {},
     "output_type": "display_data"
    },
    {
     "name": "stdout",
     "output_type": "stream",
     "text": [
      "Starting training...\n",
      "---Epoch 1---\n",
      "Average Train Loss: 0.5390 \t \t Train Accuracy: 82.60%\n",
      "Average Validation Loss: 0.2158 \t Validation Accuracy: 93.47%\n",
      "---Epoch 2---\n",
      "Average Train Loss: 0.2882 \t \t Train Accuracy: 90.90%\n",
      "Average Validation Loss: 0.1445 \t Validation Accuracy: 95.40%\n",
      "---Epoch 3---\n",
      "Average Train Loss: 0.2284 \t \t Train Accuracy: 92.86%\n",
      "Average Validation Loss: 0.1337 \t Validation Accuracy: 95.60%\n",
      "---Epoch 4---\n",
      "Average Train Loss: 0.2021 \t \t Train Accuracy: 93.74%\n",
      "Average Validation Loss: 0.1054 \t Validation Accuracy: 97.13%\n",
      "---Epoch 5---\n",
      "Average Train Loss: 0.1805 \t \t Train Accuracy: 94.42%\n",
      "Average Validation Loss: 0.1165 \t Validation Accuracy: 96.37%\n",
      "---Epoch 6---\n",
      "Average Train Loss: 0.1662 \t \t Train Accuracy: 94.91%\n",
      "Average Validation Loss: 0.0982 \t Validation Accuracy: 97.23%\n",
      "---Epoch 7---\n",
      "Average Train Loss: 0.1550 \t \t Train Accuracy: 95.14%\n",
      "Average Validation Loss: 0.0848 \t Validation Accuracy: 97.60%\n",
      "---Epoch 8---\n",
      "Average Train Loss: 0.1485 \t \t Train Accuracy: 95.33%\n",
      "Average Validation Loss: 0.0845 \t Validation Accuracy: 97.50%\n",
      "---Epoch 9---\n",
      "Average Train Loss: 0.1359 \t \t Train Accuracy: 95.76%\n",
      "Average Validation Loss: 0.0825 \t Validation Accuracy: 97.27%\n",
      "---Epoch 10---\n",
      "Average Train Loss: 0.1271 \t \t Train Accuracy: 96.02%\n",
      "Average Validation Loss: 0.0746 \t Validation Accuracy: 97.90%\n",
      "---Epoch 11---\n",
      "Average Train Loss: 0.1227 \t \t Train Accuracy: 96.12%\n",
      "Average Validation Loss: 0.0828 \t Validation Accuracy: 97.57%\n",
      "---Epoch 12---\n",
      "Average Train Loss: 0.1198 \t \t Train Accuracy: 96.23%\n",
      "Average Validation Loss: 0.0705 \t Validation Accuracy: 97.83%\n",
      "---Epoch 13---\n",
      "Average Train Loss: 0.1151 \t \t Train Accuracy: 96.36%\n",
      "Average Validation Loss: 0.0713 \t Validation Accuracy: 97.93%\n",
      "---Epoch 14---\n",
      "Average Train Loss: 0.1049 \t \t Train Accuracy: 96.74%\n",
      "Average Validation Loss: 0.0662 \t Validation Accuracy: 98.00%\n",
      "---Epoch 15---\n",
      "Average Train Loss: 0.1043 \t \t Train Accuracy: 96.67%\n",
      "Average Validation Loss: 0.0661 \t Validation Accuracy: 98.00%\n",
      "---Epoch 16---\n",
      "Average Train Loss: 0.1004 \t \t Train Accuracy: 96.76%\n",
      "Average Validation Loss: 0.0667 \t Validation Accuracy: 98.17%\n",
      "---Epoch 17---\n",
      "Average Train Loss: 0.0970 \t \t Train Accuracy: 96.86%\n",
      "Average Validation Loss: 0.0599 \t Validation Accuracy: 98.30%\n",
      "---Epoch 18---\n",
      "Average Train Loss: 0.0955 \t \t Train Accuracy: 96.95%\n",
      "Average Validation Loss: 0.0624 \t Validation Accuracy: 98.30%\n",
      "---Epoch 19---\n",
      "Average Train Loss: 0.0927 \t \t Train Accuracy: 97.01%\n",
      "Average Validation Loss: 0.0629 \t Validation Accuracy: 98.00%\n",
      "---Epoch 20---\n",
      "Average Train Loss: 0.0888 \t \t Train Accuracy: 97.18%\n",
      "Average Validation Loss: 0.0650 \t Validation Accuracy: 98.03%\n",
      "Training finished.\n",
      "Average Validation Loss: 0.0636\t Validation Accuracy: 97.95%\n"
     ]
    },
    {
     "data": {
      "text/plain": [
       "<IPython.core.display.HTML object>"
      ],
      "text/html": [
       "<style>\n",
       "    table.wandb td:nth-child(1) { padding: 0 10px; text-align: left ; width: auto;} td:nth-child(2) {text-align: left ; width: 100%}\n",
       "    .wandb-row { display: flex; flex-direction: row; flex-wrap: wrap; justify-content: flex-start; width: 100% }\n",
       "    .wandb-col { display: flex; flex-direction: column; flex-basis: 100%; flex: 1; padding: 10px; }\n",
       "    </style>\n",
       "<div class=\"wandb-row\"><div class=\"wandb-col\"><h3>Run history:</h3><br/><table class=\"wandb\"><tr><td>epoch</td><td>▁▁▂▂▂▃▃▄▄▄▅▅▅▆▆▇▇▇██</td></tr><tr><td>train_accuracy</td><td>▁▅▆▆▇▇▇▇▇▇▇█████████</td></tr><tr><td>train_ce_loss</td><td>█▄▃▃▂▂▂▂▂▂▂▁▁▁▁▁▁▁▁▁</td></tr><tr><td>val_accuracy</td><td>▁▄▄▆▅▆▇▇▇▇▇▇▇███████</td></tr><tr><td>val_ce_loss</td><td>█▅▄▃▄▃▂▂▂▂▂▁▂▁▁▁▁▁▁▁</td></tr></table><br/></div><div class=\"wandb-col\"><h3>Run summary:</h3><br/><table class=\"wandb\"><tr><td>epoch</td><td>19</td></tr><tr><td>train_accuracy</td><td>97.17544</td></tr><tr><td>train_ce_loss</td><td>0.08879</td></tr><tr><td>val_accuracy</td><td>98.03333</td></tr><tr><td>val_ce_loss</td><td>0.065</td></tr></table><br/></div></div>"
      ]
     },
     "metadata": {},
     "output_type": "display_data"
    },
    {
     "data": {
      "text/plain": [
       "<IPython.core.display.HTML object>"
      ],
      "text/html": [
       " View run <strong style=\"color:#cdcd00\">Teacher Model</strong> at: <a href='https://wandb.ai/martingratzer-organization/Renyi_Divergence_MNIST/runs/j1h3qtes' target=\"_blank\">https://wandb.ai/martingratzer-organization/Renyi_Divergence_MNIST/runs/j1h3qtes</a><br/> View project at: <a href='https://wandb.ai/martingratzer-organization/Renyi_Divergence_MNIST' target=\"_blank\">https://wandb.ai/martingratzer-organization/Renyi_Divergence_MNIST</a><br/>Synced 5 W&B file(s), 0 media file(s), 2 artifact file(s) and 0 other file(s)"
      ]
     },
     "metadata": {},
     "output_type": "display_data"
    },
    {
     "data": {
      "text/plain": [
       "<IPython.core.display.HTML object>"
      ],
      "text/html": [
       "Find logs at: <code>.\\wandb\\run-20241106_124047-j1h3qtes\\logs</code>"
      ]
     },
     "metadata": {},
     "output_type": "display_data"
    }
   ],
   "execution_count": 3
  },
  {
   "metadata": {
    "ExecuteTime": {
     "end_time": "2024-11-05T22:17:43.753388Z",
     "start_time": "2024-11-05T22:17:25.441946Z"
    }
   },
   "cell_type": "code",
   "source": [
    "device = torch.device(\"cuda\" if torch.cuda.is_available() else \"cpu\")\n",
    "vanilla_model = StudentNetwork().to(device)\n",
    "optimizer = optim.SGD(vanilla_model.parameters(), lr=0.02, momentum=0.7, weight_decay=1e-4)\n",
    "num_epochs = 10\n",
    "\n",
    "wandb.init(\n",
    "    project=\"Renyi_Divergence_MNIST\",\n",
    "    name = \"Vanilla Model\",\n",
    "    config={}\n",
    ")\n",
    "\n",
    "print(\"Starting training...\")\n",
    "\n",
    "for epoch in range(num_epochs):\n",
    "    print(f'---Epoch {epoch+1}---')\n",
    "    \n",
    "    train_loss, train_accuracy, size = 0, 0, 0\n",
    "    for i, (data, targets) in enumerate(train_loader):\n",
    "        data, targets = data.to(device), targets.to(device)\n",
    "        optimizer.zero_grad()\n",
    "        outputs = vanilla_model(data)\n",
    "        loss = nn.CrossEntropyLoss()(outputs, targets)\n",
    "        loss.backward()\n",
    "        optimizer.step()\n",
    "        train_loss += loss.item() * targets.size(0)\n",
    "        train_accuracy += torch.sum(torch.argmax(outputs, dim=1) == targets).item()\n",
    "        size += targets.size(0)\n",
    "        \n",
    "    train_loss = train_loss/size\n",
    "    train_accuracy = train_accuracy/size\n",
    "    \n",
    "    print(f'Average Train Loss: {train_loss:.4f} \\t \\t Train Accuracy: {100*train_accuracy:.2f}%')\n",
    "    \n",
    "    vanilla_model.is_training = False\n",
    "    \n",
    "    val_loss, val_accuracy, size = 0, 0, 0\n",
    "    for i, (data, targets) in enumerate(val_loader):\n",
    "        data, targets = data.to(device), targets.to(device)\n",
    "        with torch.no_grad():\n",
    "            pred = vanilla_model(data)\n",
    "            val_loss += nn.CrossEntropyLoss()(pred, targets) * targets.shape[0]\n",
    "            val_accuracy += torch.sum(torch.argmax(pred, dim=1) == targets).item()\n",
    "        size += targets.shape[0]\n",
    "    \n",
    "    val_loss, val_accuracy = val_loss / size, val_accuracy / size\n",
    "    \n",
    "    print(f'Average Validation Loss: {val_loss:.4f} \\t Validation Accuracy: {100*val_accuracy:.2f}%')\n",
    "    \n",
    "    wandb.log({\"train_ce_loss\": train_loss,\n",
    "               \"val_ce_loss\": val_loss,\n",
    "               \"train_accuracy\": 100*train_accuracy,\n",
    "               \"val_accuracy\": 100*val_accuracy,\n",
    "               \"epoch\": epoch\n",
    "               }\n",
    "    )\n",
    "    \n",
    "    vanilla_model.is_training = True\n",
    "\n",
    "vanilla_model.is_training = False\n",
    "test_loss, test_accuracy, size = 0, 0, 0\n",
    "\n",
    "for i, (data, targets) in enumerate(test_loader):\n",
    "        data, targets = data.to(device), targets.to(device)\n",
    "        with torch.no_grad():\n",
    "            pred = vanilla_model(data)\n",
    "            test_loss += nn.CrossEntropyLoss()(pred, targets) * targets.shape[0]\n",
    "            test_accuracy += torch.sum(torch.argmax(pred, dim=1) == targets).item()\n",
    "        size += targets.shape[0]\n",
    "\n",
    "test_loss, test_accuracy = test_loss / size, test_accuracy / size\n",
    "\n",
    "print(f'Training finished.')\n",
    "print(f'Average Validation Loss: {test_loss:.4f}\\t Validation Accuracy: {100*test_accuracy:.2f}%')\n",
    "\n",
    "wandb.finish()"
   ],
   "id": "99558709dbf14b01",
   "outputs": [
    {
     "name": "stderr",
     "output_type": "stream",
     "text": [
      "\n",
      "KeyboardInterrupt\n",
      "\n"
     ]
    }
   ],
   "execution_count": 26
  },
  {
   "metadata": {
    "ExecuteTime": {
     "end_time": "2024-11-05T13:22:50.524902Z",
     "start_time": "2024-11-05T13:22:16.910918Z"
    }
   },
   "cell_type": "code",
   "source": [
    "device = torch.device(\"cuda\" if torch.cuda.is_available() else \"cpu\")\n",
    "student_model = StudentNetwork().to(device)\n",
    "optimizer = optim.SGD(student_model.parameters(), lr=0.045, momentum=0.65, weight_decay=1e-4)\n",
    "num_epochs = 10\n",
    "temperature = 2.2\n",
    "beta = 0.55\n",
    "alpha = 1\n",
    "\n",
    "wandb.init(\n",
    "    project=\"Renyi_Divergence_MNIST\",\n",
    "    name = \"Student Model\",\n",
    "    config={\n",
    "        \"beta\": beta,\n",
    "        \"temperature\": temperature,\n",
    "        \"alpha\": alpha\n",
    "    }\n",
    ")\n",
    "\n",
    "print(\"Starting training...\")\n",
    "\n",
    "for epoch in range(num_epochs):\n",
    "    print(f'---Epoch {epoch+1}---')\n",
    "    \n",
    "    train_loss, train_accuracy, size, train_CE_loss = 0, 0, 0, 0\n",
    "    for i, (data, targets) in enumerate(train_loader):\n",
    "        data, targets = data.to(device), targets.to(device)\n",
    "        optimizer.zero_grad()\n",
    "        outputs = student_model(data)\n",
    "        with torch.no_grad():\n",
    "            teacher_outputs = teacher_model(data)\n",
    "        loss = (1-beta) * nn.CrossEntropyLoss()(outputs, targets) + beta * RenyiDivergence(alpha=alpha)(outputs/temperature, teacher_outputs/temperature) * (temperature**2) / alpha\n",
    "        CE_loss = nn.CrossEntropyLoss()(outputs, targets)     \n",
    "        loss.backward()\n",
    "        \n",
    "        optimizer.step()\n",
    "        train_loss += loss.item() * targets.size(0)\n",
    "        train_CE_loss += CE_loss.item() * targets.size(0)\n",
    "        train_accuracy += torch.sum(torch.argmax(outputs, dim=1) == targets).item()\n",
    "        size += targets.size(0)\n",
    "        \n",
    "    train_loss = train_loss/size\n",
    "    train_CE_loss = train_CE_loss/size\n",
    "    train_accuracy = train_accuracy/size\n",
    "    \n",
    "    print(f'Average Train Loss: {train_loss:.4f} \\t \\t Average Train CE Loss: {train_CE_loss:.4f} \\t \\t Train Accuracy: {100*train_accuracy:.2f}%')\n",
    "    \n",
    "    student_model.is_training = False\n",
    "    \n",
    "    val_loss, val_accuracy, size, val_CE_loss = 0, 0, 0, 0\n",
    "    for i, (data, targets) in enumerate(val_loader):\n",
    "        data, targets = data.to(device), targets.to(device)\n",
    "        with torch.no_grad():\n",
    "            pred = student_model(data)\n",
    "            teacher_pred = teacher_model(data)\n",
    "            val_loss += ((1-beta) * nn.CrossEntropyLoss()(pred, targets) + beta * RenyiDivergence(alpha=alpha)(pred/temperature, teacher_pred/temperature) * (temperature**2) / alpha) * targets.shape[0]\n",
    "            val_CE_loss += nn.CrossEntropyLoss()(pred, targets) * targets.shape[0]\n",
    "            val_accuracy += torch.sum(torch.argmax(pred, dim=1) == targets).item()\n",
    "        size += targets.shape[0]\n",
    "    \n",
    "    val_loss, val_accuracy, val_CE_loss = val_loss / size, val_accuracy / size, val_CE_loss/size\n",
    "    \n",
    "    print(f'Average Validation Loss: {val_loss:.4f} \\t Average Validation CE Loss: {val_CE_loss:.4f} \\t Validation Accuracy: {100*val_accuracy:.2f}%')\n",
    "    \n",
    "    wandb.log({\"train_loss\": train_loss,\n",
    "               \"train_ce_loss\": train_CE_loss,\n",
    "               \"val_loss\": val_loss,\n",
    "               \"val_ce_loss\": val_CE_loss,\n",
    "               \"train_accuracy\": 100*train_accuracy,\n",
    "               \"val_accuracy\": 100*val_accuracy,\n",
    "               \"epoch\": epoch\n",
    "               }\n",
    "    )\n",
    "    \n",
    "    student_model.is_training = True\n",
    "\n",
    "student_model.is_training = False\n",
    "test_loss, test_accuracy, size = 0, 0, 0\n",
    "\n",
    "for i, (data, targets) in enumerate(test_loader):\n",
    "        data, targets = data.to(device), targets.to(device)\n",
    "        with torch.no_grad():\n",
    "            pred = student_model(data)\n",
    "            test_loss += nn.CrossEntropyLoss()(pred, targets) * targets.shape[0]\n",
    "            test_accuracy += torch.sum(torch.argmax(pred, dim=1) == targets).item()\n",
    "        size += targets.shape[0]\n",
    "\n",
    "test_loss, test_accuracy = test_loss / size, test_accuracy / size\n",
    "\n",
    "print(f'Training finished.')\n",
    "print(f'Average Validation Loss: {test_loss:.4f}\\t Validation Accuracy: {100*test_accuracy:.2f}%')\n",
    "\n",
    "wandb.finish()"
   ],
   "id": "a969b4c78c42f9ec",
   "outputs": [
    {
     "data": {
      "text/plain": [
       "<IPython.core.display.HTML object>"
      ],
      "text/html": [
       "Finishing last run (ID:ag9jclhv) before initializing another..."
      ]
     },
     "metadata": {},
     "output_type": "display_data"
    },
    {
     "data": {
      "text/plain": [
       "<IPython.core.display.HTML object>"
      ],
      "text/html": [
       "<style>\n",
       "    table.wandb td:nth-child(1) { padding: 0 10px; text-align: left ; width: auto;} td:nth-child(2) {text-align: left ; width: 100%}\n",
       "    .wandb-row { display: flex; flex-direction: row; flex-wrap: wrap; justify-content: flex-start; width: 100% }\n",
       "    .wandb-col { display: flex; flex-direction: column; flex-basis: 100%; flex: 1; padding: 10px; }\n",
       "    </style>\n",
       "<div class=\"wandb-row\"><div class=\"wandb-col\"><h3>Run history:</h3><br/><table class=\"wandb\"><tr><td>epoch</td><td>▁</td></tr><tr><td>train_accuracy</td><td>▁</td></tr><tr><td>train_ce_loss</td><td>▁</td></tr><tr><td>val_accuracy</td><td>▁</td></tr><tr><td>val_ce_loss</td><td>▁</td></tr></table><br/></div><div class=\"wandb-col\"><h3>Run summary:</h3><br/><table class=\"wandb\"><tr><td>epoch</td><td>0</td></tr><tr><td>train_accuracy</td><td>82.58947</td></tr><tr><td>train_ce_loss</td><td>0.53911</td></tr><tr><td>val_accuracy</td><td>93.7</td></tr><tr><td>val_ce_loss</td><td>0.20564</td></tr></table><br/></div></div>"
      ]
     },
     "metadata": {},
     "output_type": "display_data"
    },
    {
     "data": {
      "text/plain": [
       "<IPython.core.display.HTML object>"
      ],
      "text/html": [
       " View run <strong style=\"color:#cdcd00\">Teacher Model</strong> at: <a href='https://wandb.ai/martingratzer-organization/Renyi_Divergence_MNIST/runs/ag9jclhv' target=\"_blank\">https://wandb.ai/martingratzer-organization/Renyi_Divergence_MNIST/runs/ag9jclhv</a><br/> View project at: <a href='https://wandb.ai/martingratzer-organization/Renyi_Divergence_MNIST' target=\"_blank\">https://wandb.ai/martingratzer-organization/Renyi_Divergence_MNIST</a><br/>Synced 4 W&B file(s), 0 media file(s), 3 artifact file(s) and 0 other file(s)"
      ]
     },
     "metadata": {},
     "output_type": "display_data"
    },
    {
     "data": {
      "text/plain": [
       "<IPython.core.display.HTML object>"
      ],
      "text/html": [
       "Find logs at: <code>.\\wandb\\run-20241105_142141-ag9jclhv\\logs</code>"
      ]
     },
     "metadata": {},
     "output_type": "display_data"
    },
    {
     "data": {
      "text/plain": [
       "<IPython.core.display.HTML object>"
      ],
      "text/html": [
       "Successfully finished last run (ID:ag9jclhv). Initializing new run:<br/>"
      ]
     },
     "metadata": {},
     "output_type": "display_data"
    },
    {
     "data": {
      "text/plain": [
       "<IPython.core.display.HTML object>"
      ],
      "text/html": [
       "Tracking run with wandb version 0.18.3"
      ]
     },
     "metadata": {},
     "output_type": "display_data"
    },
    {
     "data": {
      "text/plain": [
       "<IPython.core.display.HTML object>"
      ],
      "text/html": [
       "Run data is saved locally in <code>C:\\Users\\Martin\\Documents\\School\\Thesis\\Git Repository\\pytorch-image-models\\own work directory\\wandb\\run-20241105_142216-dvmfwsiv</code>"
      ]
     },
     "metadata": {},
     "output_type": "display_data"
    },
    {
     "data": {
      "text/plain": [
       "<IPython.core.display.HTML object>"
      ],
      "text/html": [
       "Syncing run <strong><a href='https://wandb.ai/martingratzer-organization/Renyi_Divergence_MNIST/runs/dvmfwsiv' target=\"_blank\">Student Model</a></strong> to <a href='https://wandb.ai/martingratzer-organization/Renyi_Divergence_MNIST' target=\"_blank\">Weights & Biases</a> (<a href='https://wandb.me/run' target=\"_blank\">docs</a>)<br/>"
      ]
     },
     "metadata": {},
     "output_type": "display_data"
    },
    {
     "data": {
      "text/plain": [
       "<IPython.core.display.HTML object>"
      ],
      "text/html": [
       " View project at <a href='https://wandb.ai/martingratzer-organization/Renyi_Divergence_MNIST' target=\"_blank\">https://wandb.ai/martingratzer-organization/Renyi_Divergence_MNIST</a>"
      ]
     },
     "metadata": {},
     "output_type": "display_data"
    },
    {
     "data": {
      "text/plain": [
       "<IPython.core.display.HTML object>"
      ],
      "text/html": [
       " View run at <a href='https://wandb.ai/martingratzer-organization/Renyi_Divergence_MNIST/runs/dvmfwsiv' target=\"_blank\">https://wandb.ai/martingratzer-organization/Renyi_Divergence_MNIST/runs/dvmfwsiv</a>"
      ]
     },
     "metadata": {},
     "output_type": "display_data"
    },
    {
     "name": "stdout",
     "output_type": "stream",
     "text": [
      "Starting training...\n",
      "---Epoch 1---\n",
      "Average Train Loss: 0.5658 \t \t Average Train CE Loss: 0.3549 \t \t Train Accuracy: 89.16%\n",
      "Average Validation Loss: 0.3301 \t Average Validation CE Loss: 0.2183 \t Validation Accuracy: 94.23%\n",
      "---Epoch 2---\n"
     ]
    },
    {
     "ename": "KeyboardInterrupt",
     "evalue": "",
     "output_type": "error",
     "traceback": [
      "\u001B[1;31m---------------------------------------------------------------------------\u001B[0m",
      "\u001B[1;31mKeyboardInterrupt\u001B[0m                         Traceback (most recent call last)",
      "Cell \u001B[1;32mIn[6], line 25\u001B[0m\n\u001B[0;32m     22\u001B[0m \u001B[38;5;28mprint\u001B[39m(\u001B[38;5;124mf\u001B[39m\u001B[38;5;124m'\u001B[39m\u001B[38;5;124m---Epoch \u001B[39m\u001B[38;5;132;01m{\u001B[39;00mepoch\u001B[38;5;241m+\u001B[39m\u001B[38;5;241m1\u001B[39m\u001B[38;5;132;01m}\u001B[39;00m\u001B[38;5;124m---\u001B[39m\u001B[38;5;124m'\u001B[39m)\n\u001B[0;32m     24\u001B[0m train_loss, train_accuracy, size, train_CE_loss \u001B[38;5;241m=\u001B[39m \u001B[38;5;241m0\u001B[39m, \u001B[38;5;241m0\u001B[39m, \u001B[38;5;241m0\u001B[39m, \u001B[38;5;241m0\u001B[39m\n\u001B[1;32m---> 25\u001B[0m \u001B[38;5;28;01mfor\u001B[39;00m i, (data, targets) \u001B[38;5;129;01min\u001B[39;00m \u001B[38;5;28menumerate\u001B[39m(train_loader):\n\u001B[0;32m     26\u001B[0m     data, targets \u001B[38;5;241m=\u001B[39m data\u001B[38;5;241m.\u001B[39mto(device), targets\u001B[38;5;241m.\u001B[39mto(device)\n\u001B[0;32m     27\u001B[0m     optimizer\u001B[38;5;241m.\u001B[39mzero_grad()\n",
      "File \u001B[1;32m~\\Documents\\School\\Thesis\\Git Repository\\pytorch-image-models\\.venv\\lib\\site-packages\\torch\\utils\\data\\dataloader.py:630\u001B[0m, in \u001B[0;36m_BaseDataLoaderIter.__next__\u001B[1;34m(self)\u001B[0m\n\u001B[0;32m    627\u001B[0m \u001B[38;5;28;01mif\u001B[39;00m \u001B[38;5;28mself\u001B[39m\u001B[38;5;241m.\u001B[39m_sampler_iter \u001B[38;5;129;01mis\u001B[39;00m \u001B[38;5;28;01mNone\u001B[39;00m:\n\u001B[0;32m    628\u001B[0m     \u001B[38;5;66;03m# TODO(https://github.com/pytorch/pytorch/issues/76750)\u001B[39;00m\n\u001B[0;32m    629\u001B[0m     \u001B[38;5;28mself\u001B[39m\u001B[38;5;241m.\u001B[39m_reset()  \u001B[38;5;66;03m# type: ignore[call-arg]\u001B[39;00m\n\u001B[1;32m--> 630\u001B[0m data \u001B[38;5;241m=\u001B[39m \u001B[38;5;28;43mself\u001B[39;49m\u001B[38;5;241;43m.\u001B[39;49m\u001B[43m_next_data\u001B[49m\u001B[43m(\u001B[49m\u001B[43m)\u001B[49m\n\u001B[0;32m    631\u001B[0m \u001B[38;5;28mself\u001B[39m\u001B[38;5;241m.\u001B[39m_num_yielded \u001B[38;5;241m+\u001B[39m\u001B[38;5;241m=\u001B[39m \u001B[38;5;241m1\u001B[39m\n\u001B[0;32m    632\u001B[0m \u001B[38;5;28;01mif\u001B[39;00m \u001B[38;5;28mself\u001B[39m\u001B[38;5;241m.\u001B[39m_dataset_kind \u001B[38;5;241m==\u001B[39m _DatasetKind\u001B[38;5;241m.\u001B[39mIterable \u001B[38;5;129;01mand\u001B[39;00m \\\n\u001B[0;32m    633\u001B[0m         \u001B[38;5;28mself\u001B[39m\u001B[38;5;241m.\u001B[39m_IterableDataset_len_called \u001B[38;5;129;01mis\u001B[39;00m \u001B[38;5;129;01mnot\u001B[39;00m \u001B[38;5;28;01mNone\u001B[39;00m \u001B[38;5;129;01mand\u001B[39;00m \\\n\u001B[0;32m    634\u001B[0m         \u001B[38;5;28mself\u001B[39m\u001B[38;5;241m.\u001B[39m_num_yielded \u001B[38;5;241m>\u001B[39m \u001B[38;5;28mself\u001B[39m\u001B[38;5;241m.\u001B[39m_IterableDataset_len_called:\n",
      "File \u001B[1;32m~\\Documents\\School\\Thesis\\Git Repository\\pytorch-image-models\\.venv\\lib\\site-packages\\torch\\utils\\data\\dataloader.py:673\u001B[0m, in \u001B[0;36m_SingleProcessDataLoaderIter._next_data\u001B[1;34m(self)\u001B[0m\n\u001B[0;32m    671\u001B[0m \u001B[38;5;28;01mdef\u001B[39;00m \u001B[38;5;21m_next_data\u001B[39m(\u001B[38;5;28mself\u001B[39m):\n\u001B[0;32m    672\u001B[0m     index \u001B[38;5;241m=\u001B[39m \u001B[38;5;28mself\u001B[39m\u001B[38;5;241m.\u001B[39m_next_index()  \u001B[38;5;66;03m# may raise StopIteration\u001B[39;00m\n\u001B[1;32m--> 673\u001B[0m     data \u001B[38;5;241m=\u001B[39m \u001B[38;5;28;43mself\u001B[39;49m\u001B[38;5;241;43m.\u001B[39;49m\u001B[43m_dataset_fetcher\u001B[49m\u001B[38;5;241;43m.\u001B[39;49m\u001B[43mfetch\u001B[49m\u001B[43m(\u001B[49m\u001B[43mindex\u001B[49m\u001B[43m)\u001B[49m  \u001B[38;5;66;03m# may raise StopIteration\u001B[39;00m\n\u001B[0;32m    674\u001B[0m     \u001B[38;5;28;01mif\u001B[39;00m \u001B[38;5;28mself\u001B[39m\u001B[38;5;241m.\u001B[39m_pin_memory:\n\u001B[0;32m    675\u001B[0m         data \u001B[38;5;241m=\u001B[39m _utils\u001B[38;5;241m.\u001B[39mpin_memory\u001B[38;5;241m.\u001B[39mpin_memory(data, \u001B[38;5;28mself\u001B[39m\u001B[38;5;241m.\u001B[39m_pin_memory_device)\n",
      "File \u001B[1;32m~\\Documents\\School\\Thesis\\Git Repository\\pytorch-image-models\\.venv\\lib\\site-packages\\torch\\utils\\data\\_utils\\fetch.py:50\u001B[0m, in \u001B[0;36m_MapDatasetFetcher.fetch\u001B[1;34m(self, possibly_batched_index)\u001B[0m\n\u001B[0;32m     48\u001B[0m \u001B[38;5;28;01mif\u001B[39;00m \u001B[38;5;28mself\u001B[39m\u001B[38;5;241m.\u001B[39mauto_collation:\n\u001B[0;32m     49\u001B[0m     \u001B[38;5;28;01mif\u001B[39;00m \u001B[38;5;28mhasattr\u001B[39m(\u001B[38;5;28mself\u001B[39m\u001B[38;5;241m.\u001B[39mdataset, \u001B[38;5;124m\"\u001B[39m\u001B[38;5;124m__getitems__\u001B[39m\u001B[38;5;124m\"\u001B[39m) \u001B[38;5;129;01mand\u001B[39;00m \u001B[38;5;28mself\u001B[39m\u001B[38;5;241m.\u001B[39mdataset\u001B[38;5;241m.\u001B[39m__getitems__:\n\u001B[1;32m---> 50\u001B[0m         data \u001B[38;5;241m=\u001B[39m \u001B[38;5;28;43mself\u001B[39;49m\u001B[38;5;241;43m.\u001B[39;49m\u001B[43mdataset\u001B[49m\u001B[38;5;241;43m.\u001B[39;49m\u001B[43m__getitems__\u001B[49m\u001B[43m(\u001B[49m\u001B[43mpossibly_batched_index\u001B[49m\u001B[43m)\u001B[49m\n\u001B[0;32m     51\u001B[0m     \u001B[38;5;28;01melse\u001B[39;00m:\n\u001B[0;32m     52\u001B[0m         data \u001B[38;5;241m=\u001B[39m [\u001B[38;5;28mself\u001B[39m\u001B[38;5;241m.\u001B[39mdataset[idx] \u001B[38;5;28;01mfor\u001B[39;00m idx \u001B[38;5;129;01min\u001B[39;00m possibly_batched_index]\n",
      "File \u001B[1;32m~\\Documents\\School\\Thesis\\Git Repository\\pytorch-image-models\\.venv\\lib\\site-packages\\torch\\utils\\data\\dataset.py:420\u001B[0m, in \u001B[0;36mSubset.__getitems__\u001B[1;34m(self, indices)\u001B[0m\n\u001B[0;32m    418\u001B[0m     \u001B[38;5;28;01mreturn\u001B[39;00m \u001B[38;5;28mself\u001B[39m\u001B[38;5;241m.\u001B[39mdataset\u001B[38;5;241m.\u001B[39m__getitems__([\u001B[38;5;28mself\u001B[39m\u001B[38;5;241m.\u001B[39mindices[idx] \u001B[38;5;28;01mfor\u001B[39;00m idx \u001B[38;5;129;01min\u001B[39;00m indices])  \u001B[38;5;66;03m# type: ignore[attr-defined]\u001B[39;00m\n\u001B[0;32m    419\u001B[0m \u001B[38;5;28;01melse\u001B[39;00m:\n\u001B[1;32m--> 420\u001B[0m     \u001B[38;5;28;01mreturn\u001B[39;00m [\u001B[38;5;28mself\u001B[39m\u001B[38;5;241m.\u001B[39mdataset[\u001B[38;5;28mself\u001B[39m\u001B[38;5;241m.\u001B[39mindices[idx]] \u001B[38;5;28;01mfor\u001B[39;00m idx \u001B[38;5;129;01min\u001B[39;00m indices]\n",
      "File \u001B[1;32m~\\Documents\\School\\Thesis\\Git Repository\\pytorch-image-models\\.venv\\lib\\site-packages\\torch\\utils\\data\\dataset.py:420\u001B[0m, in \u001B[0;36m<listcomp>\u001B[1;34m(.0)\u001B[0m\n\u001B[0;32m    418\u001B[0m     \u001B[38;5;28;01mreturn\u001B[39;00m \u001B[38;5;28mself\u001B[39m\u001B[38;5;241m.\u001B[39mdataset\u001B[38;5;241m.\u001B[39m__getitems__([\u001B[38;5;28mself\u001B[39m\u001B[38;5;241m.\u001B[39mindices[idx] \u001B[38;5;28;01mfor\u001B[39;00m idx \u001B[38;5;129;01min\u001B[39;00m indices])  \u001B[38;5;66;03m# type: ignore[attr-defined]\u001B[39;00m\n\u001B[0;32m    419\u001B[0m \u001B[38;5;28;01melse\u001B[39;00m:\n\u001B[1;32m--> 420\u001B[0m     \u001B[38;5;28;01mreturn\u001B[39;00m [\u001B[38;5;28;43mself\u001B[39;49m\u001B[38;5;241;43m.\u001B[39;49m\u001B[43mdataset\u001B[49m\u001B[43m[\u001B[49m\u001B[38;5;28;43mself\u001B[39;49m\u001B[38;5;241;43m.\u001B[39;49m\u001B[43mindices\u001B[49m\u001B[43m[\u001B[49m\u001B[43midx\u001B[49m\u001B[43m]\u001B[49m\u001B[43m]\u001B[49m \u001B[38;5;28;01mfor\u001B[39;00m idx \u001B[38;5;129;01min\u001B[39;00m indices]\n",
      "File \u001B[1;32m~\\Documents\\School\\Thesis\\Git Repository\\pytorch-image-models\\.venv\\lib\\site-packages\\torchvision\\datasets\\mnist.py:146\u001B[0m, in \u001B[0;36mMNIST.__getitem__\u001B[1;34m(self, index)\u001B[0m\n\u001B[0;32m    143\u001B[0m img \u001B[38;5;241m=\u001B[39m Image\u001B[38;5;241m.\u001B[39mfromarray(img\u001B[38;5;241m.\u001B[39mnumpy(), mode\u001B[38;5;241m=\u001B[39m\u001B[38;5;124m\"\u001B[39m\u001B[38;5;124mL\u001B[39m\u001B[38;5;124m\"\u001B[39m)\n\u001B[0;32m    145\u001B[0m \u001B[38;5;28;01mif\u001B[39;00m \u001B[38;5;28mself\u001B[39m\u001B[38;5;241m.\u001B[39mtransform \u001B[38;5;129;01mis\u001B[39;00m \u001B[38;5;129;01mnot\u001B[39;00m \u001B[38;5;28;01mNone\u001B[39;00m:\n\u001B[1;32m--> 146\u001B[0m     img \u001B[38;5;241m=\u001B[39m \u001B[38;5;28;43mself\u001B[39;49m\u001B[38;5;241;43m.\u001B[39;49m\u001B[43mtransform\u001B[49m\u001B[43m(\u001B[49m\u001B[43mimg\u001B[49m\u001B[43m)\u001B[49m\n\u001B[0;32m    148\u001B[0m \u001B[38;5;28;01mif\u001B[39;00m \u001B[38;5;28mself\u001B[39m\u001B[38;5;241m.\u001B[39mtarget_transform \u001B[38;5;129;01mis\u001B[39;00m \u001B[38;5;129;01mnot\u001B[39;00m \u001B[38;5;28;01mNone\u001B[39;00m:\n\u001B[0;32m    149\u001B[0m     target \u001B[38;5;241m=\u001B[39m \u001B[38;5;28mself\u001B[39m\u001B[38;5;241m.\u001B[39mtarget_transform(target)\n",
      "File \u001B[1;32m~\\Documents\\School\\Thesis\\Git Repository\\pytorch-image-models\\.venv\\lib\\site-packages\\torchvision\\transforms\\transforms.py:95\u001B[0m, in \u001B[0;36mCompose.__call__\u001B[1;34m(self, img)\u001B[0m\n\u001B[0;32m     93\u001B[0m \u001B[38;5;28;01mdef\u001B[39;00m \u001B[38;5;21m__call__\u001B[39m(\u001B[38;5;28mself\u001B[39m, img):\n\u001B[0;32m     94\u001B[0m     \u001B[38;5;28;01mfor\u001B[39;00m t \u001B[38;5;129;01min\u001B[39;00m \u001B[38;5;28mself\u001B[39m\u001B[38;5;241m.\u001B[39mtransforms:\n\u001B[1;32m---> 95\u001B[0m         img \u001B[38;5;241m=\u001B[39m \u001B[43mt\u001B[49m\u001B[43m(\u001B[49m\u001B[43mimg\u001B[49m\u001B[43m)\u001B[49m\n\u001B[0;32m     96\u001B[0m     \u001B[38;5;28;01mreturn\u001B[39;00m img\n",
      "File \u001B[1;32m~\\Documents\\School\\Thesis\\Git Repository\\pytorch-image-models\\.venv\\lib\\site-packages\\torchvision\\transforms\\transforms.py:137\u001B[0m, in \u001B[0;36mToTensor.__call__\u001B[1;34m(self, pic)\u001B[0m\n\u001B[0;32m    129\u001B[0m \u001B[38;5;28;01mdef\u001B[39;00m \u001B[38;5;21m__call__\u001B[39m(\u001B[38;5;28mself\u001B[39m, pic):\n\u001B[0;32m    130\u001B[0m \u001B[38;5;250m    \u001B[39m\u001B[38;5;124;03m\"\"\"\u001B[39;00m\n\u001B[0;32m    131\u001B[0m \u001B[38;5;124;03m    Args:\u001B[39;00m\n\u001B[0;32m    132\u001B[0m \u001B[38;5;124;03m        pic (PIL Image or numpy.ndarray): Image to be converted to tensor.\u001B[39;00m\n\u001B[1;32m   (...)\u001B[0m\n\u001B[0;32m    135\u001B[0m \u001B[38;5;124;03m        Tensor: Converted image.\u001B[39;00m\n\u001B[0;32m    136\u001B[0m \u001B[38;5;124;03m    \"\"\"\u001B[39;00m\n\u001B[1;32m--> 137\u001B[0m     \u001B[38;5;28;01mreturn\u001B[39;00m \u001B[43mF\u001B[49m\u001B[38;5;241;43m.\u001B[39;49m\u001B[43mto_tensor\u001B[49m\u001B[43m(\u001B[49m\u001B[43mpic\u001B[49m\u001B[43m)\u001B[49m\n",
      "File \u001B[1;32m~\\Documents\\School\\Thesis\\Git Repository\\pytorch-image-models\\.venv\\lib\\site-packages\\torchvision\\transforms\\functional.py:176\u001B[0m, in \u001B[0;36mto_tensor\u001B[1;34m(pic)\u001B[0m\n\u001B[0;32m    174\u001B[0m img \u001B[38;5;241m=\u001B[39m img\u001B[38;5;241m.\u001B[39mpermute((\u001B[38;5;241m2\u001B[39m, \u001B[38;5;241m0\u001B[39m, \u001B[38;5;241m1\u001B[39m))\u001B[38;5;241m.\u001B[39mcontiguous()\n\u001B[0;32m    175\u001B[0m \u001B[38;5;28;01mif\u001B[39;00m \u001B[38;5;28misinstance\u001B[39m(img, torch\u001B[38;5;241m.\u001B[39mByteTensor):\n\u001B[1;32m--> 176\u001B[0m     \u001B[38;5;28;01mreturn\u001B[39;00m \u001B[43mimg\u001B[49m\u001B[38;5;241;43m.\u001B[39;49m\u001B[43mto\u001B[49m\u001B[43m(\u001B[49m\u001B[43mdtype\u001B[49m\u001B[38;5;241;43m=\u001B[39;49m\u001B[43mdefault_float_dtype\u001B[49m\u001B[43m)\u001B[49m\u001B[38;5;241m.\u001B[39mdiv(\u001B[38;5;241m255\u001B[39m)\n\u001B[0;32m    177\u001B[0m \u001B[38;5;28;01melse\u001B[39;00m:\n\u001B[0;32m    178\u001B[0m     \u001B[38;5;28;01mreturn\u001B[39;00m img\n",
      "\u001B[1;31mKeyboardInterrupt\u001B[0m: "
     ]
    }
   ],
   "execution_count": 6
  },
  {
   "metadata": {},
   "cell_type": "code",
   "outputs": [],
   "execution_count": null,
   "source": [
    "def train(config=None,lr=None,momentum=None,weight_decay=None,temperature=None,beta=None,alpha=None,destilation=False,teacher_model=None):\n",
    "    with wandb.init(config=config):\n",
    "        config = wandb.config\n",
    "        device = torch.device(\"cuda\" if torch.cuda.is_available() else \"cpu\")\n",
    "        #network = TeacherNetwork().to(device)\n",
    "        network = StudentNetwork().to(device)\n",
    "        epochs = 20\n",
    "        \n",
    "        train_loader, val_loader, test_loader = build_dataset()\n",
    "        \n",
    "        if lr is not None:\n",
    "            config.lr = lr\n",
    "        if momentum is not None:\n",
    "            config.momentum = momentum\n",
    "        if weight_decay is not None:\n",
    "            config.weight_decay = weight_decay\n",
    "        if temperature is not None:\n",
    "            config.temperature = temperature\n",
    "        if beta is not None:\n",
    "            config.beta = beta\n",
    "        if alpha is not None:\n",
    "            config.alpha = alpha\n",
    "        \n",
    "        optimizer = optim.SGD(network.parameters(), lr=config.lr, momentum=config.momentum, weight_decay=config.weight_decay)\n",
    "        \n",
    "        for epoch in range(epochs):\n",
    "            train_epoch(epoch, network, train_loader, val_loader, optimizer, device, destilation, teacher_model, config)"
   ],
   "id": "d4cb39d4bbbde8ee"
  },
  {
   "metadata": {},
   "cell_type": "code",
   "outputs": [],
   "execution_count": null,
   "source": [
    "def build_dataset():\n",
    "    transform = transforms.Compose([\n",
    "        transforms.ToTensor(),\n",
    "        transforms.Normalize((0.5,), (0.5,))])\n",
    "    train_dataset = datasets.MNIST(root='./data', train=True, download=True, transform=transform)\n",
    "    test_dataset = datasets.MNIST(root='./data', train=False, download=True, transform=transform)\n",
    "    train_dataset, val_dataset = torch.utils.data.random_split(train_dataset, [0.95,0.05], generator=torch.Generator().manual_seed(872))\n",
    "\n",
    "    train_loader = DataLoader(train_dataset, batch_size=64, shuffle=True, generator=torch.Generator().manual_seed(872))\n",
    "    val_loader = DataLoader(val_dataset, batch_size=64, shuffle=True, generator=torch.Generator().manual_seed(872))\n",
    "    test_loader = DataLoader(test_dataset, batch_size=1000, shuffle=False)\n",
    "\n",
    "    return train_loader, val_loader, test_loader\n",
    "    \n",
    "def train_epoch(epoch, network, train_loader, val_loader, optimizer, device, destilation, teacher_model, config):\n",
    "    train_loss, train_accuracy, size, train_CE_loss = 0, 0, 0, 0\n",
    "    for i, (data, targets) in enumerate(train_loader):\n",
    "        data, targets = data.to(device), targets.to(device)\n",
    "        optimizer.zero_grad()\n",
    "        outputs = network(data)\n",
    "        if destilation:\n",
    "            with torch.no_grad():\n",
    "                teacher_outputs = teacher_model(data)\n",
    "            loss = (1-config.beta) * nn.CrossEntropyLoss()(outputs, targets) + config.beta * RenyiDivergence(alpha=config.alpha)(outputs/config.temperature, teacher_outputs/config.temperature) * (config.temperature**2) / config.alpha\n",
    "        else:\n",
    "            loss = nn.CrossEntropyLoss()(outputs, targets)\n",
    "        CE_loss = nn.CrossEntropyLoss()(outputs, targets)\n",
    "        loss.backward()\n",
    "        optimizer.step()\n",
    "        train_loss += loss.item() * targets.size(0)\n",
    "        train_CE_loss += CE_loss.item() * targets.size(0)\n",
    "        train_accuracy += torch.sum(torch.argmax(outputs, dim=1) == targets).item()\n",
    "        size += targets.size(0)\n",
    "        \n",
    "    if destilation:\n",
    "        train_loss,train_CE_loss,train_accuracy = train_loss/size, train_CE_loss/size, train_accuracy/size\n",
    "        print(f'Average Train Loss: {train_loss:.4f} \\t \\t Average Train CE Loss: {train_CE_loss:.4f} \\t \\t Train Accuracy: {100*train_accuracy:.2f}%')\n",
    "    else:\n",
    "        train_CE_loss,train_accuracy = train_CE_loss/size, train_accuracy/size\n",
    "        print(f'Average Train CE Loss: {train_CE_loss:.4f} \\t \\t Train Accuracy: {100*train_accuracy:.2f}%')\n",
    "    \n",
    "    network.is_training = False\n",
    "    \n",
    "    val_loss, val_accuracy, size, val_CE_loss = 0, 0, 0, 0\n",
    "    for i, (data, targets) in enumerate(val_loader):\n",
    "        data, targets = data.to(device), targets.to(device)\n",
    "        with torch.no_grad():\n",
    "            pred = network(data)\n",
    "            if destilation:\n",
    "                teacher_pred = teacher_model(data)\n",
    "            if destilation:\n",
    "                teacher_pred = teacher_model(data)\n",
    "                val_loss += ((1-config.beta) * nn.CrossEntropyLoss()(pred, targets) + config.beta * RenyiDivergence(alpha=config.alpha)(pred/config.temperature, teacher_pred/config.temperature) * (config.temperature**2) / config.alpha) * targets.shape[0]\n",
    "            val_CE_loss += nn.CrossEntropyLoss()(pred, targets) * targets.shape[0]\n",
    "            val_accuracy += torch.sum(torch.argmax(pred, dim=1) == targets).item()\n",
    "        size += targets.shape[0]\n",
    "    \n",
    "    if destilation:\n",
    "        val_loss, val_accuracy, val_CE_loss = val_loss / size, val_accuracy / size, val_CE_loss/size\n",
    "        print(f'Average Validation Loss: {val_loss:.4f} \\t Average Validation CE Loss: {val_CE_loss:.4f} \\t Validation Accuracy: {100*val_accuracy:.2f}%')\n",
    "    else:\n",
    "        val_accuracy, val_CE_loss = val_accuracy / size, val_CE_loss/size\n",
    "        print(f'Average Validation CE Loss: {val_CE_loss:.4f} \\t Validation Accuracy: {100*val_accuracy:.2f}%')\n",
    "    \n",
    "    if destilation:\n",
    "        wandb.log({\"train_loss\": train_loss,\n",
    "                   \"train_ce_loss\": train_CE_loss,\n",
    "                   \"val_loss\": val_loss,\n",
    "                   \"val_ce_loss\": val_CE_loss,\n",
    "                   \"train_accuracy\": 100*train_accuracy,\n",
    "                   \"val_accuracy\": 100*val_accuracy,\n",
    "                   \"epoch\": epoch\n",
    "                   }\n",
    "        )\n",
    "    else:\n",
    "        wandb.log({\"train_ce_loss\": train_CE_loss,\n",
    "                   \"val_ce_loss\": val_CE_loss,\n",
    "                   \"train_accuracy\": 100*train_accuracy,\n",
    "                   \"val_accuracy\": 100*val_accuracy,\n",
    "                   \"epoch\": epoch\n",
    "                   }\n",
    "        )\n",
    "    \n",
    "    network.is_training = True"
   ],
   "id": "8b47ad2737845e5f"
  },
  {
   "metadata": {},
   "cell_type": "code",
   "outputs": [],
   "execution_count": null,
   "source": [
    "sweep_config = {\n",
    "    'method': 'bayes',\n",
    "    'metric': {'name': 'val_accuracy', 'goal': 'maximize'},\n",
    "    'parameters': {\n",
    "        'beta': {'distribution': 'uniform', 'min': 0.5, 'max': 1},\n",
    "        'temperature': {'distribution': 'uniform', 'min': 2, 'max': 6},\n",
    "        'lr': {'distribution': 'uniform', 'min': 0.01, 'max': 0.05},\n",
    "        'momentum': {'distribution': 'uniform', 'min': 0.6, 'max': 0.9},\n",
    "        'weight_decay': {'distribution': 'uniform', 'min': 1e-4, 'max': 1e-3},\n",
    "    }\n",
    "}"
   ],
   "id": "b0ad9fbc3932586e"
  },
  {
   "metadata": {},
   "cell_type": "code",
   "outputs": [],
   "execution_count": null,
   "source": "sweep_id = wandb.sweep(sweep_config, project=\"Renyi_Divergence_Sweep_Student\")",
   "id": "40a11b61903c15ef"
  },
  {
   "metadata": {},
   "cell_type": "code",
   "outputs": [],
   "execution_count": null,
   "source": "wandb.agent(sweep_id, function=lambda: train(alpha=1,destilation=True,teacher_model=teacher_model), count=30)",
   "id": "b4c5b2e792d33258"
  },
  {
   "metadata": {},
   "cell_type": "code",
   "outputs": [],
   "execution_count": null,
   "source": "",
   "id": "6675704dd1eaf390"
  },
  {
   "metadata": {
    "ExecuteTime": {
     "end_time": "2024-11-05T21:38:26.753444Z",
     "start_time": "2024-11-05T21:38:24.152426Z"
    }
   },
   "cell_type": "code",
   "source": [
    "device = torch.device(\"cuda\" if torch.cuda.is_available() else \"cpu\")\n",
    "student_model = StudentNetwork().to(device)\n",
    "optimizer = optim.SGD(student_model.parameters(), lr=0.045, momentum=0.65, weight_decay=1e-4)\n",
    "num_epochs = 10\n",
    "temperature = 2.2\n",
    "beta = 0.5\n",
    "alpha = 0.5\n",
    "zeta = 0.5\n",
    "\n",
    "wandb.init(\n",
    "    project=\"Renyi_Divergence_MNIST\",\n",
    "    name = \"Student Model using DKD\",\n",
    "    config={\n",
    "        \"beta\": beta,\n",
    "        \"temperature\": temperature,\n",
    "        \"alpha\": alpha,\n",
    "        \"zeta\": zeta\n",
    "    }\n",
    ")\n",
    "\n",
    "print(\"Starting training...\")\n",
    "\n",
    "for epoch in range(num_epochs):\n",
    "    print(f'---Epoch {epoch+1}---')\n",
    "    \n",
    "    train_loss, train_accuracy, size, train_CE_loss = 0, 0, 0, 0\n",
    "    for i, (data, targets) in enumerate(train_loader):\n",
    "        data, targets = data.to(device), targets.to(device)\n",
    "        optimizer.zero_grad()\n",
    "        outputs = student_model(data)\n",
    "        with torch.no_grad():\n",
    "            teacher_outputs = teacher_model(data)\n",
    "        loss = (1-zeta) * nn.CrossEntropyLoss()(outputs, targets) + zeta * DKD(alpha=alpha,beta=beta)(outputs/temperature, teacher_outputs/temperature,targets) * (temperature**2)\n",
    "        CE_loss = nn.CrossEntropyLoss()(outputs, targets)     \n",
    "        loss.backward()\n",
    "        \n",
    "        optimizer.step()\n",
    "        train_loss += loss.item() * targets.size(0)\n",
    "        train_CE_loss += CE_loss.item() * targets.size(0)\n",
    "        train_accuracy += torch.sum(torch.argmax(outputs, dim=1) == targets).item()\n",
    "        size += targets.size(0)\n",
    "        \n",
    "    train_loss = train_loss/size\n",
    "    train_CE_loss = train_CE_loss/size\n",
    "    train_accuracy = train_accuracy/size\n",
    "    \n",
    "    print(f'Average Train Loss: {train_loss:.4f} \\t \\t Average Train CE Loss: {train_CE_loss:.4f} \\t \\t Train Accuracy: {100*train_accuracy:.2f}%')\n",
    "    \n",
    "    student_model.is_training = False\n",
    "    \n",
    "    val_loss, val_accuracy, size, val_CE_loss = 0, 0, 0, 0\n",
    "    for i, (data, targets) in enumerate(val_loader):\n",
    "        data, targets = data.to(device), targets.to(device)\n",
    "        with torch.no_grad():\n",
    "            pred = student_model(data)\n",
    "            teacher_pred = teacher_model(data)\n",
    "            val_loss += ((1-zeta) * nn.CrossEntropyLoss()(pred, targets) + zeta * DKD(alpha=alpha,beta=beta)(pred/temperature, teacher_pred/temperature,targets) * (temperature**2)) * targets.shape[0]\n",
    "            val_CE_loss += nn.CrossEntropyLoss()(pred, targets) * targets.shape[0]\n",
    "            val_accuracy += torch.sum(torch.argmax(pred, dim=1) == targets).item()\n",
    "        size += targets.shape[0]\n",
    "    \n",
    "    val_loss, val_accuracy, val_CE_loss = val_loss / size, val_accuracy / size, val_CE_loss/size\n",
    "    \n",
    "    print(f'Average Validation Loss: {val_loss:.4f} \\t Average Validation CE Loss: {val_CE_loss:.4f} \\t Validation Accuracy: {100*val_accuracy:.2f}%')\n",
    "    \n",
    "    wandb.log({\"train_loss\": train_loss,\n",
    "               \"train_ce_loss\": train_CE_loss,\n",
    "               \"val_loss\": val_loss,\n",
    "               \"val_ce_loss\": val_CE_loss,\n",
    "               \"train_accuracy\": 100*train_accuracy,\n",
    "               \"val_accuracy\": 100*val_accuracy,\n",
    "               \"epoch\": epoch\n",
    "               }\n",
    "    )\n",
    "    \n",
    "    student_model.is_training = True\n",
    "\n",
    "student_model.is_training = False\n",
    "test_loss, test_accuracy, size = 0, 0, 0\n",
    "\n",
    "for i, (data, targets) in enumerate(test_loader):\n",
    "        data, targets = data.to(device), targets.to(device)\n",
    "        with torch.no_grad():\n",
    "            pred = student_model(data)\n",
    "            test_loss += nn.CrossEntropyLoss()(pred, targets) * targets.shape[0]\n",
    "            test_accuracy += torch.sum(torch.argmax(pred, dim=1) == targets).item()\n",
    "        size += targets.shape[0]\n",
    "\n",
    "test_loss, test_accuracy = test_loss / size, test_accuracy / size\n",
    "\n",
    "print(f'Training finished.')\n",
    "print(f'Average Validation Loss: {test_loss:.4f}\\t Validation Accuracy: {100*test_accuracy:.2f}%')\n",
    "\n",
    "wandb.finish()"
   ],
   "id": "e1670dbb1cd35678",
   "outputs": [
    {
     "ename": "KeyboardInterrupt",
     "evalue": "",
     "output_type": "error",
     "traceback": [
      "\u001B[1;31m---------------------------------------------------------------------------\u001B[0m",
      "\u001B[1;31mKeyboardInterrupt\u001B[0m                         Traceback (most recent call last)",
      "Cell \u001B[1;32mIn[10], line 10\u001B[0m\n\u001B[0;32m      7\u001B[0m alpha \u001B[38;5;241m=\u001B[39m \u001B[38;5;241m0.5\u001B[39m\n\u001B[0;32m      8\u001B[0m zeta \u001B[38;5;241m=\u001B[39m \u001B[38;5;241m0.5\u001B[39m\n\u001B[1;32m---> 10\u001B[0m \u001B[43mwandb\u001B[49m\u001B[38;5;241;43m.\u001B[39;49m\u001B[43minit\u001B[49m\u001B[43m(\u001B[49m\n\u001B[0;32m     11\u001B[0m \u001B[43m    \u001B[49m\u001B[43mproject\u001B[49m\u001B[38;5;241;43m=\u001B[39;49m\u001B[38;5;124;43m\"\u001B[39;49m\u001B[38;5;124;43mRenyi_Divergence_MNIST\u001B[39;49m\u001B[38;5;124;43m\"\u001B[39;49m\u001B[43m,\u001B[49m\n\u001B[0;32m     12\u001B[0m \u001B[43m    \u001B[49m\u001B[43mname\u001B[49m\u001B[43m \u001B[49m\u001B[38;5;241;43m=\u001B[39;49m\u001B[43m \u001B[49m\u001B[38;5;124;43m\"\u001B[39;49m\u001B[38;5;124;43mStudent Model using DKD\u001B[39;49m\u001B[38;5;124;43m\"\u001B[39;49m\u001B[43m,\u001B[49m\n\u001B[0;32m     13\u001B[0m \u001B[43m    \u001B[49m\u001B[43mconfig\u001B[49m\u001B[38;5;241;43m=\u001B[39;49m\u001B[43m{\u001B[49m\n\u001B[0;32m     14\u001B[0m \u001B[43m        \u001B[49m\u001B[38;5;124;43m\"\u001B[39;49m\u001B[38;5;124;43mbeta\u001B[39;49m\u001B[38;5;124;43m\"\u001B[39;49m\u001B[43m:\u001B[49m\u001B[43m \u001B[49m\u001B[43mbeta\u001B[49m\u001B[43m,\u001B[49m\n\u001B[0;32m     15\u001B[0m \u001B[43m        \u001B[49m\u001B[38;5;124;43m\"\u001B[39;49m\u001B[38;5;124;43mtemperature\u001B[39;49m\u001B[38;5;124;43m\"\u001B[39;49m\u001B[43m:\u001B[49m\u001B[43m \u001B[49m\u001B[43mtemperature\u001B[49m\u001B[43m,\u001B[49m\n\u001B[0;32m     16\u001B[0m \u001B[43m        \u001B[49m\u001B[38;5;124;43m\"\u001B[39;49m\u001B[38;5;124;43malpha\u001B[39;49m\u001B[38;5;124;43m\"\u001B[39;49m\u001B[43m:\u001B[49m\u001B[43m \u001B[49m\u001B[43malpha\u001B[49m\u001B[43m,\u001B[49m\n\u001B[0;32m     17\u001B[0m \u001B[43m        \u001B[49m\u001B[38;5;124;43m\"\u001B[39;49m\u001B[38;5;124;43mzeta\u001B[39;49m\u001B[38;5;124;43m\"\u001B[39;49m\u001B[43m:\u001B[49m\u001B[43m \u001B[49m\u001B[43mzeta\u001B[49m\n\u001B[0;32m     18\u001B[0m \u001B[43m    \u001B[49m\u001B[43m}\u001B[49m\n\u001B[0;32m     19\u001B[0m \u001B[43m)\u001B[49m\n\u001B[0;32m     21\u001B[0m \u001B[38;5;28mprint\u001B[39m(\u001B[38;5;124m\"\u001B[39m\u001B[38;5;124mStarting training...\u001B[39m\u001B[38;5;124m\"\u001B[39m)\n\u001B[0;32m     23\u001B[0m \u001B[38;5;28;01mfor\u001B[39;00m epoch \u001B[38;5;129;01min\u001B[39;00m \u001B[38;5;28mrange\u001B[39m(num_epochs):\n",
      "File \u001B[1;32m~\\Documents\\School\\Thesis\\Git Repository\\pytorch-image-models\\.venv\\lib\\site-packages\\wandb\\sdk\\wandb_init.py:1252\u001B[0m, in \u001B[0;36minit\u001B[1;34m(job_type, dir, config, project, entity, reinit, tags, group, name, notes, magic, config_exclude_keys, config_include_keys, anonymous, mode, allow_val_change, resume, force, tensorboard, sync_tensorboard, monitor_gym, save_code, id, fork_from, resume_from, settings)\u001B[0m\n\u001B[0;32m   1250\u001B[0m     wi \u001B[38;5;241m=\u001B[39m _WandbInit()\n\u001B[0;32m   1251\u001B[0m     wi\u001B[38;5;241m.\u001B[39msetup(kwargs)\n\u001B[1;32m-> 1252\u001B[0m     \u001B[38;5;28;01mreturn\u001B[39;00m \u001B[43mwi\u001B[49m\u001B[38;5;241;43m.\u001B[39;49m\u001B[43minit\u001B[49m\u001B[43m(\u001B[49m\u001B[43m)\u001B[49m\n\u001B[0;32m   1254\u001B[0m \u001B[38;5;28;01mexcept\u001B[39;00m \u001B[38;5;167;01mKeyboardInterrupt\u001B[39;00m \u001B[38;5;28;01mas\u001B[39;00m e:\n\u001B[0;32m   1255\u001B[0m     \u001B[38;5;28;01mif\u001B[39;00m logger \u001B[38;5;129;01mis\u001B[39;00m \u001B[38;5;129;01mnot\u001B[39;00m \u001B[38;5;28;01mNone\u001B[39;00m:\n",
      "File \u001B[1;32m~\\Documents\\School\\Thesis\\Git Repository\\pytorch-image-models\\.venv\\lib\\site-packages\\wandb\\sdk\\wandb_init.py:815\u001B[0m, in \u001B[0;36m_WandbInit.init\u001B[1;34m(self)\u001B[0m\n\u001B[0;32m    812\u001B[0m logger\u001B[38;5;241m.\u001B[39minfo(\u001B[38;5;124mf\u001B[39m\u001B[38;5;124m\"\u001B[39m\u001B[38;5;124mcommunicating run to backend with \u001B[39m\u001B[38;5;132;01m{\u001B[39;00mtimeout\u001B[38;5;132;01m}\u001B[39;00m\u001B[38;5;124m second timeout\u001B[39m\u001B[38;5;124m\"\u001B[39m)\n\u001B[0;32m    814\u001B[0m run_init_handle \u001B[38;5;241m=\u001B[39m backend\u001B[38;5;241m.\u001B[39minterface\u001B[38;5;241m.\u001B[39mdeliver_run(run)\n\u001B[1;32m--> 815\u001B[0m result \u001B[38;5;241m=\u001B[39m \u001B[43mrun_init_handle\u001B[49m\u001B[38;5;241;43m.\u001B[39;49m\u001B[43mwait\u001B[49m\u001B[43m(\u001B[49m\n\u001B[0;32m    816\u001B[0m \u001B[43m    \u001B[49m\u001B[43mtimeout\u001B[49m\u001B[38;5;241;43m=\u001B[39;49m\u001B[43mtimeout\u001B[49m\u001B[43m,\u001B[49m\n\u001B[0;32m    817\u001B[0m \u001B[43m    \u001B[49m\u001B[43mon_progress\u001B[49m\u001B[38;5;241;43m=\u001B[39;49m\u001B[38;5;28;43mself\u001B[39;49m\u001B[38;5;241;43m.\u001B[39;49m\u001B[43m_on_progress_init\u001B[49m\u001B[43m,\u001B[49m\n\u001B[0;32m    818\u001B[0m \u001B[43m    \u001B[49m\u001B[43mcancel\u001B[49m\u001B[38;5;241;43m=\u001B[39;49m\u001B[38;5;28;43;01mTrue\u001B[39;49;00m\u001B[43m,\u001B[49m\n\u001B[0;32m    819\u001B[0m \u001B[43m\u001B[49m\u001B[43m)\u001B[49m\n\u001B[0;32m    820\u001B[0m \u001B[38;5;28;01mif\u001B[39;00m result:\n\u001B[0;32m    821\u001B[0m     run_result \u001B[38;5;241m=\u001B[39m result\u001B[38;5;241m.\u001B[39mrun_result\n",
      "File \u001B[1;32m~\\Documents\\School\\Thesis\\Git Repository\\pytorch-image-models\\.venv\\lib\\site-packages\\wandb\\sdk\\lib\\mailbox.py:283\u001B[0m, in \u001B[0;36mMailboxHandle.wait\u001B[1;34m(self, timeout, on_probe, on_progress, release, cancel)\u001B[0m\n\u001B[0;32m    280\u001B[0m     \u001B[38;5;28;01mif\u001B[39;00m \u001B[38;5;28mself\u001B[39m\u001B[38;5;241m.\u001B[39m_interface\u001B[38;5;241m.\u001B[39m_transport_keepalive_failed():\n\u001B[0;32m    281\u001B[0m         \u001B[38;5;28;01mraise\u001B[39;00m MailboxError(\u001B[38;5;124m\"\u001B[39m\u001B[38;5;124mtransport failed\u001B[39m\u001B[38;5;124m\"\u001B[39m)\n\u001B[1;32m--> 283\u001B[0m found, abandoned \u001B[38;5;241m=\u001B[39m \u001B[38;5;28;43mself\u001B[39;49m\u001B[38;5;241;43m.\u001B[39;49m\u001B[43m_slot\u001B[49m\u001B[38;5;241;43m.\u001B[39;49m\u001B[43m_get_and_clear\u001B[49m\u001B[43m(\u001B[49m\u001B[43mtimeout\u001B[49m\u001B[38;5;241;43m=\u001B[39;49m\u001B[43mwait_timeout\u001B[49m\u001B[43m)\u001B[49m\n\u001B[0;32m    284\u001B[0m \u001B[38;5;28;01mif\u001B[39;00m found:\n\u001B[0;32m    285\u001B[0m     \u001B[38;5;66;03m# Always update progress to 100% when done\u001B[39;00m\n\u001B[0;32m    286\u001B[0m     \u001B[38;5;28;01mif\u001B[39;00m on_progress \u001B[38;5;129;01mand\u001B[39;00m progress_handle \u001B[38;5;129;01mand\u001B[39;00m progress_sent:\n",
      "File \u001B[1;32m~\\Documents\\School\\Thesis\\Git Repository\\pytorch-image-models\\.venv\\lib\\site-packages\\wandb\\sdk\\lib\\mailbox.py:130\u001B[0m, in \u001B[0;36m_MailboxSlot._get_and_clear\u001B[1;34m(self, timeout)\u001B[0m\n\u001B[0;32m    128\u001B[0m \u001B[38;5;28;01mdef\u001B[39;00m \u001B[38;5;21m_get_and_clear\u001B[39m(\u001B[38;5;28mself\u001B[39m, timeout: \u001B[38;5;28mfloat\u001B[39m) \u001B[38;5;241m-\u001B[39m\u001B[38;5;241m>\u001B[39m Tuple[Optional[pb\u001B[38;5;241m.\u001B[39mResult], \u001B[38;5;28mbool\u001B[39m]:\n\u001B[0;32m    129\u001B[0m     found \u001B[38;5;241m=\u001B[39m \u001B[38;5;28;01mNone\u001B[39;00m\n\u001B[1;32m--> 130\u001B[0m     \u001B[38;5;28;01mif\u001B[39;00m \u001B[38;5;28;43mself\u001B[39;49m\u001B[38;5;241;43m.\u001B[39;49m\u001B[43m_wait\u001B[49m\u001B[43m(\u001B[49m\u001B[43mtimeout\u001B[49m\u001B[38;5;241;43m=\u001B[39;49m\u001B[43mtimeout\u001B[49m\u001B[43m)\u001B[49m:\n\u001B[0;32m    131\u001B[0m         \u001B[38;5;28;01mwith\u001B[39;00m \u001B[38;5;28mself\u001B[39m\u001B[38;5;241m.\u001B[39m_lock:\n\u001B[0;32m    132\u001B[0m             found \u001B[38;5;241m=\u001B[39m \u001B[38;5;28mself\u001B[39m\u001B[38;5;241m.\u001B[39m_result\n",
      "File \u001B[1;32m~\\Documents\\School\\Thesis\\Git Repository\\pytorch-image-models\\.venv\\lib\\site-packages\\wandb\\sdk\\lib\\mailbox.py:126\u001B[0m, in \u001B[0;36m_MailboxSlot._wait\u001B[1;34m(self, timeout)\u001B[0m\n\u001B[0;32m    125\u001B[0m \u001B[38;5;28;01mdef\u001B[39;00m \u001B[38;5;21m_wait\u001B[39m(\u001B[38;5;28mself\u001B[39m, timeout: \u001B[38;5;28mfloat\u001B[39m) \u001B[38;5;241m-\u001B[39m\u001B[38;5;241m>\u001B[39m \u001B[38;5;28mbool\u001B[39m:\n\u001B[1;32m--> 126\u001B[0m     \u001B[38;5;28;01mreturn\u001B[39;00m \u001B[38;5;28;43mself\u001B[39;49m\u001B[38;5;241;43m.\u001B[39;49m\u001B[43m_event\u001B[49m\u001B[38;5;241;43m.\u001B[39;49m\u001B[43mwait\u001B[49m\u001B[43m(\u001B[49m\u001B[43mtimeout\u001B[49m\u001B[38;5;241;43m=\u001B[39;49m\u001B[43mtimeout\u001B[49m\u001B[43m)\u001B[49m\n",
      "File \u001B[1;32m~\\AppData\\Local\\Programs\\Python\\Python38\\lib\\threading.py:558\u001B[0m, in \u001B[0;36mEvent.wait\u001B[1;34m(self, timeout)\u001B[0m\n\u001B[0;32m    556\u001B[0m signaled \u001B[38;5;241m=\u001B[39m \u001B[38;5;28mself\u001B[39m\u001B[38;5;241m.\u001B[39m_flag\n\u001B[0;32m    557\u001B[0m \u001B[38;5;28;01mif\u001B[39;00m \u001B[38;5;129;01mnot\u001B[39;00m signaled:\n\u001B[1;32m--> 558\u001B[0m     signaled \u001B[38;5;241m=\u001B[39m \u001B[38;5;28;43mself\u001B[39;49m\u001B[38;5;241;43m.\u001B[39;49m\u001B[43m_cond\u001B[49m\u001B[38;5;241;43m.\u001B[39;49m\u001B[43mwait\u001B[49m\u001B[43m(\u001B[49m\u001B[43mtimeout\u001B[49m\u001B[43m)\u001B[49m\n\u001B[0;32m    559\u001B[0m \u001B[38;5;28;01mreturn\u001B[39;00m signaled\n",
      "File \u001B[1;32m~\\AppData\\Local\\Programs\\Python\\Python38\\lib\\threading.py:306\u001B[0m, in \u001B[0;36mCondition.wait\u001B[1;34m(self, timeout)\u001B[0m\n\u001B[0;32m    304\u001B[0m \u001B[38;5;28;01melse\u001B[39;00m:\n\u001B[0;32m    305\u001B[0m     \u001B[38;5;28;01mif\u001B[39;00m timeout \u001B[38;5;241m>\u001B[39m \u001B[38;5;241m0\u001B[39m:\n\u001B[1;32m--> 306\u001B[0m         gotit \u001B[38;5;241m=\u001B[39m \u001B[43mwaiter\u001B[49m\u001B[38;5;241;43m.\u001B[39;49m\u001B[43macquire\u001B[49m\u001B[43m(\u001B[49m\u001B[38;5;28;43;01mTrue\u001B[39;49;00m\u001B[43m,\u001B[49m\u001B[43m \u001B[49m\u001B[43mtimeout\u001B[49m\u001B[43m)\u001B[49m\n\u001B[0;32m    307\u001B[0m     \u001B[38;5;28;01melse\u001B[39;00m:\n\u001B[0;32m    308\u001B[0m         gotit \u001B[38;5;241m=\u001B[39m waiter\u001B[38;5;241m.\u001B[39macquire(\u001B[38;5;28;01mFalse\u001B[39;00m)\n",
      "\u001B[1;31mKeyboardInterrupt\u001B[0m: "
     ]
    }
   ],
   "execution_count": 10
  },
  {
   "metadata": {
    "ExecuteTime": {
     "end_time": "2024-11-05T20:19:30.806537Z",
     "start_time": "2024-11-05T20:14:18.020455Z"
    }
   },
   "cell_type": "code",
   "source": [
    "device = torch.device(\"cuda\" if torch.cuda.is_available() else \"cpu\")\n",
    "student_model = StudentNetwork().to(device)\n",
    "optimizer = optim.SGD(student_model.parameters(), lr=0.045, momentum=0.65, weight_decay=1e-4)\n",
    "num_epochs = 10\n",
    "temperature = 2.2\n",
    "alpha=0.5\n",
    "zeta = 0.5\n",
    "delta=0.5\n",
    "gamma=0.5\n",
    "\n",
    "wandb.init(\n",
    "    project=\"Renyi_Divergence_MNIST\",\n",
    "    name = \"Student Model using GDKD\",\n",
    "    config={\n",
    "        \"temperature\": temperature,\n",
    "        \"alpha\": alpha,\n",
    "        \"zeta\": zeta,\n",
    "        \"delta\": delta,\n",
    "        \"gamma\": gamma\n",
    "    }\n",
    ")\n",
    "\n",
    "print(\"Starting training...\")\n",
    "\n",
    "for epoch in range(num_epochs):\n",
    "    print(f'---Epoch {epoch+1}---')\n",
    "    \n",
    "    train_loss, train_accuracy, size, train_CE_loss = 0, 0, 0, 0\n",
    "    for i, (data, targets) in enumerate(train_loader):\n",
    "        data, targets = data.to(device), targets.to(device)\n",
    "        optimizer.zero_grad()\n",
    "        outputs = student_model(data)\n",
    "        with torch.no_grad():\n",
    "            teacher_outputs = teacher_model(data)\n",
    "        loss = (1-zeta) * nn.CrossEntropyLoss()(outputs, targets) + zeta * GDKD(alpha=alpha,delta=delta,gamma=gamma)(outputs/temperature, teacher_outputs/temperature,targets) * (temperature**2) / alpha\n",
    "        CE_loss = nn.CrossEntropyLoss()(outputs, targets)     \n",
    "        loss.backward()\n",
    "        \n",
    "        optimizer.step()\n",
    "        train_loss += loss.item() * targets.size(0)\n",
    "        train_CE_loss += CE_loss.item() * targets.size(0)\n",
    "        train_accuracy += torch.sum(torch.argmax(outputs, dim=1) == targets).item()\n",
    "        size += targets.size(0)\n",
    "        \n",
    "    train_loss = train_loss/size\n",
    "    train_CE_loss = train_CE_loss/size\n",
    "    train_accuracy = train_accuracy/size\n",
    "    \n",
    "    print(f'Average Train Loss: {train_loss:.4f} \\t \\t Average Train CE Loss: {train_CE_loss:.4f} \\t \\t Train Accuracy: {100*train_accuracy:.2f}%')\n",
    "    \n",
    "    student_model.is_training = False\n",
    "    \n",
    "    val_loss, val_accuracy, size, val_CE_loss = 0, 0, 0, 0\n",
    "    for i, (data, targets) in enumerate(val_loader):\n",
    "        data, targets = data.to(device), targets.to(device)\n",
    "        with torch.no_grad():\n",
    "            pred = student_model(data)\n",
    "            teacher_pred = teacher_model(data)\n",
    "            val_loss += ((1-zeta) * nn.CrossEntropyLoss()(pred, targets) + zeta * GDKD(alpha=alpha,delta=delta,gamma=gamma)(pred/temperature, teacher_pred/temperature,targets) * (temperature**2) / alpha) * targets.shape[0]\n",
    "            val_CE_loss += nn.CrossEntropyLoss()(pred, targets) * targets.shape[0]\n",
    "            val_accuracy += torch.sum(torch.argmax(pred, dim=1) == targets).item()\n",
    "        size += targets.shape[0]\n",
    "    \n",
    "    val_loss, val_accuracy, val_CE_loss = val_loss / size, val_accuracy / size, val_CE_loss/size\n",
    "    \n",
    "    print(f'Average Validation Loss: {val_loss:.4f} \\t Average Validation CE Loss: {val_CE_loss:.4f} \\t Validation Accuracy: {100*val_accuracy:.2f}%')\n",
    "    \n",
    "    wandb.log({\"train_loss\": train_loss,\n",
    "               \"train_ce_loss\": train_CE_loss,\n",
    "               \"val_loss\": val_loss,\n",
    "               \"val_ce_loss\": val_CE_loss,\n",
    "               \"train_accuracy\": 100*train_accuracy,\n",
    "               \"val_accuracy\": 100*val_accuracy,\n",
    "               \"epoch\": epoch\n",
    "               }\n",
    "    )\n",
    "    \n",
    "    student_model.is_training = True\n",
    "\n",
    "student_model.is_training = False\n",
    "test_loss, test_accuracy, size = 0, 0, 0\n",
    "\n",
    "for i, (data, targets) in enumerate(test_loader):\n",
    "        data, targets = data.to(device), targets.to(device)\n",
    "        with torch.no_grad():\n",
    "            pred = student_model(data)\n",
    "            test_loss += nn.CrossEntropyLoss()(pred, targets) * targets.shape[0]\n",
    "            test_accuracy += torch.sum(torch.argmax(pred, dim=1) == targets).item()\n",
    "        size += targets.shape[0]\n",
    "\n",
    "test_loss, test_accuracy = test_loss / size, test_accuracy / size\n",
    "\n",
    "print(f'Training finished.')\n",
    "print(f'Average Validation Loss: {test_loss:.4f}\\t Validation Accuracy: {100*test_accuracy:.2f}%')\n",
    "\n",
    "wandb.finish()"
   ],
   "id": "11f70b7d2b54f1a0",
   "outputs": [
    {
     "data": {
      "text/plain": [
       "<IPython.core.display.HTML object>"
      ],
      "text/html": [
       "Tracking run with wandb version 0.18.3"
      ]
     },
     "metadata": {},
     "output_type": "display_data"
    },
    {
     "data": {
      "text/plain": [
       "<IPython.core.display.HTML object>"
      ],
      "text/html": [
       "Run data is saved locally in <code>C:\\Users\\Martin\\Documents\\School\\Thesis\\Git Repository\\pytorch-image-models\\own work directory\\wandb\\run-20241105_211418-nw3dtbyp</code>"
      ]
     },
     "metadata": {},
     "output_type": "display_data"
    },
    {
     "data": {
      "text/plain": [
       "<IPython.core.display.HTML object>"
      ],
      "text/html": [
       "Syncing run <strong><a href='https://wandb.ai/martingratzer-organization/Renyi_Divergence_MNIST/runs/nw3dtbyp' target=\"_blank\">Student Model using GDKD</a></strong> to <a href='https://wandb.ai/martingratzer-organization/Renyi_Divergence_MNIST' target=\"_blank\">Weights & Biases</a> (<a href='https://wandb.me/run' target=\"_blank\">docs</a>)<br/>"
      ]
     },
     "metadata": {},
     "output_type": "display_data"
    },
    {
     "data": {
      "text/plain": [
       "<IPython.core.display.HTML object>"
      ],
      "text/html": [
       " View project at <a href='https://wandb.ai/martingratzer-organization/Renyi_Divergence_MNIST' target=\"_blank\">https://wandb.ai/martingratzer-organization/Renyi_Divergence_MNIST</a>"
      ]
     },
     "metadata": {},
     "output_type": "display_data"
    },
    {
     "data": {
      "text/plain": [
       "<IPython.core.display.HTML object>"
      ],
      "text/html": [
       " View run at <a href='https://wandb.ai/martingratzer-organization/Renyi_Divergence_MNIST/runs/nw3dtbyp' target=\"_blank\">https://wandb.ai/martingratzer-organization/Renyi_Divergence_MNIST/runs/nw3dtbyp</a>"
      ]
     },
     "metadata": {},
     "output_type": "display_data"
    },
    {
     "name": "stdout",
     "output_type": "stream",
     "text": [
      "Starting training...\n",
      "---Epoch 1---\n",
      "Average Train Loss: 0.8538 \t \t Average Train CE Loss: 0.3278 \t \t Train Accuracy: 90.01%\n",
      "Average Validation Loss: 0.5063 \t Average Validation CE Loss: 0.1341 \t Validation Accuracy: 96.13%\n",
      "---Epoch 2---\n",
      "Average Train Loss: 0.3737 \t \t Average Train CE Loss: 0.1525 \t \t Train Accuracy: 95.48%\n",
      "Average Validation Loss: 0.3292 \t Average Validation CE Loss: 0.1022 \t Validation Accuracy: 96.77%\n",
      "---Epoch 3---\n",
      "Average Train Loss: 0.3078 \t \t Average Train CE Loss: 0.1223 \t \t Train Accuracy: 96.28%\n",
      "Average Validation Loss: 0.2746 \t Average Validation CE Loss: 0.0932 \t Validation Accuracy: 96.97%\n",
      "---Epoch 4---\n",
      "Average Train Loss: 0.2790 \t \t Average Train CE Loss: 0.1096 \t \t Train Accuracy: 96.65%\n",
      "Average Validation Loss: 0.2928 \t Average Validation CE Loss: 0.1075 \t Validation Accuracy: 96.50%\n",
      "---Epoch 5---\n",
      "Average Train Loss: 0.2610 \t \t Average Train CE Loss: 0.1009 \t \t Train Accuracy: 96.85%\n",
      "Average Validation Loss: 0.2133 \t Average Validation CE Loss: 0.0877 \t Validation Accuracy: 97.33%\n",
      "---Epoch 6---\n",
      "Average Train Loss: 0.2472 \t \t Average Train CE Loss: 0.0963 \t \t Train Accuracy: 97.07%\n",
      "Average Validation Loss: 0.2102 \t Average Validation CE Loss: 0.0818 \t Validation Accuracy: 97.57%\n",
      "---Epoch 7---\n",
      "Average Train Loss: 0.2382 \t \t Average Train CE Loss: 0.0911 \t \t Train Accuracy: 97.23%\n",
      "Average Validation Loss: 0.2233 \t Average Validation CE Loss: 0.0809 \t Validation Accuracy: 97.70%\n",
      "---Epoch 8---\n",
      "Average Train Loss: 0.2315 \t \t Average Train CE Loss: 0.0874 \t \t Train Accuracy: 97.27%\n",
      "Average Validation Loss: 0.2070 \t Average Validation CE Loss: 0.0838 \t Validation Accuracy: 97.70%\n",
      "---Epoch 9---\n",
      "Average Train Loss: 0.2259 \t \t Average Train CE Loss: 0.0842 \t \t Train Accuracy: 97.41%\n",
      "Average Validation Loss: 0.1994 \t Average Validation CE Loss: 0.0794 \t Validation Accuracy: 97.67%\n",
      "---Epoch 10---\n",
      "Average Train Loss: 0.2244 \t \t Average Train CE Loss: 0.0837 \t \t Train Accuracy: 97.40%\n",
      "Average Validation Loss: 0.1850 \t Average Validation CE Loss: 0.0774 \t Validation Accuracy: 97.73%\n",
      "Training finished.\n",
      "Average Validation Loss: 0.0769\t Validation Accuracy: 97.71%\n"
     ]
    },
    {
     "data": {
      "text/plain": [
       "<IPython.core.display.HTML object>"
      ],
      "text/html": [
       "<style>\n",
       "    table.wandb td:nth-child(1) { padding: 0 10px; text-align: left ; width: auto;} td:nth-child(2) {text-align: left ; width: 100%}\n",
       "    .wandb-row { display: flex; flex-direction: row; flex-wrap: wrap; justify-content: flex-start; width: 100% }\n",
       "    .wandb-col { display: flex; flex-direction: column; flex-basis: 100%; flex: 1; padding: 10px; }\n",
       "    </style>\n",
       "<div class=\"wandb-row\"><div class=\"wandb-col\"><h3>Run history:</h3><br/><table class=\"wandb\"><tr><td>epoch</td><td>▁▂▃▃▄▅▆▆▇█</td></tr><tr><td>train_accuracy</td><td>▁▆▇▇▇█████</td></tr><tr><td>train_ce_loss</td><td>█▃▂▂▁▁▁▁▁▁</td></tr><tr><td>train_loss</td><td>█▃▂▂▁▁▁▁▁▁</td></tr><tr><td>val_accuracy</td><td>▁▄▅▃▆▇████</td></tr><tr><td>val_ce_loss</td><td>█▄▃▅▂▂▁▂▁▁</td></tr><tr><td>val_loss</td><td>█▄▃▃▂▂▂▁▁▁</td></tr></table><br/></div><div class=\"wandb-col\"><h3>Run summary:</h3><br/><table class=\"wandb\"><tr><td>epoch</td><td>9</td></tr><tr><td>train_accuracy</td><td>97.39649</td></tr><tr><td>train_ce_loss</td><td>0.08372</td></tr><tr><td>train_loss</td><td>0.22438</td></tr><tr><td>val_accuracy</td><td>97.73333</td></tr><tr><td>val_ce_loss</td><td>0.07737</td></tr><tr><td>val_loss</td><td>0.18496</td></tr></table><br/></div></div>"
      ]
     },
     "metadata": {},
     "output_type": "display_data"
    },
    {
     "data": {
      "text/plain": [
       "<IPython.core.display.HTML object>"
      ],
      "text/html": [
       " View run <strong style=\"color:#cdcd00\">Student Model using GDKD</strong> at: <a href='https://wandb.ai/martingratzer-organization/Renyi_Divergence_MNIST/runs/nw3dtbyp' target=\"_blank\">https://wandb.ai/martingratzer-organization/Renyi_Divergence_MNIST/runs/nw3dtbyp</a><br/> View project at: <a href='https://wandb.ai/martingratzer-organization/Renyi_Divergence_MNIST' target=\"_blank\">https://wandb.ai/martingratzer-organization/Renyi_Divergence_MNIST</a><br/>Synced 5 W&B file(s), 0 media file(s), 2 artifact file(s) and 0 other file(s)"
      ]
     },
     "metadata": {},
     "output_type": "display_data"
    },
    {
     "data": {
      "text/plain": [
       "<IPython.core.display.HTML object>"
      ],
      "text/html": [
       "Find logs at: <code>.\\wandb\\run-20241105_211418-nw3dtbyp\\logs</code>"
      ]
     },
     "metadata": {},
     "output_type": "display_data"
    }
   ],
   "execution_count": 8
  },
  {
   "metadata": {
    "ExecuteTime": {
     "end_time": "2024-11-05T22:15:20.698155Z",
     "start_time": "2024-11-05T21:41:52.685668Z"
    }
   },
   "cell_type": "code",
   "source": [
    "device = torch.device(\"cuda\" if torch.cuda.is_available() else \"cpu\")\n",
    "student_model = StudentNetwork().to(device)\n",
    "optimizer = optim.SGD(student_model.parameters(), lr=0.045, momentum=0.65, weight_decay=1e-4)\n",
    "num_epochs = 10\n",
    "temperature = 2.2\n",
    "alpha = 1.5\n",
    "zeta = 0.5\n",
    "\n",
    "wandb.init(\n",
    "    project=\"Renyi_Divergence_MNIST\",\n",
    "    name = \"Student Model using NKD\",\n",
    "    config={\n",
    "        \"temperature\": temperature,\n",
    "        \"alpha\": alpha,\n",
    "        \"zeta\": zeta\n",
    "    }\n",
    ")\n",
    "\n",
    "print(\"Starting training...\")\n",
    "\n",
    "for epoch in range(num_epochs):\n",
    "    print(f'---Epoch {epoch+1}---')\n",
    "    \n",
    "    train_loss, train_accuracy, size, train_CE_loss = 0, 0, 0, 0\n",
    "    for i, (data, targets) in enumerate(train_loader):\n",
    "        data, targets = data.to(device), targets.to(device)\n",
    "        optimizer.zero_grad()\n",
    "        outputs = student_model(data)\n",
    "        with torch.no_grad():\n",
    "            teacher_outputs = teacher_model(data)\n",
    "        loss = (1-zeta) * nn.CrossEntropyLoss()(outputs, targets) + zeta * NKD(alpha=alpha)(outputs/temperature, teacher_outputs/temperature,targets) * (temperature**2) / alpha\n",
    "        CE_loss = nn.CrossEntropyLoss()(outputs, targets)     \n",
    "        loss.backward()\n",
    "        \n",
    "        optimizer.step()\n",
    "        train_loss += loss.item() * targets.size(0)\n",
    "        train_CE_loss += CE_loss.item() * targets.size(0)\n",
    "        train_accuracy += torch.sum(torch.argmax(outputs, dim=1) == targets).item()\n",
    "        size += targets.size(0)\n",
    "        \n",
    "    train_loss = train_loss/size\n",
    "    train_CE_loss = train_CE_loss/size\n",
    "    train_accuracy = train_accuracy/size\n",
    "    \n",
    "    print(f'Average Train Loss: {train_loss:.4f} \\t \\t Average Train CE Loss: {train_CE_loss:.4f} \\t \\t Train Accuracy: {100*train_accuracy:.2f}%')\n",
    "    \n",
    "    student_model.is_training = False\n",
    "    \n",
    "    val_loss, val_accuracy, size, val_CE_loss = 0, 0, 0, 0\n",
    "    for i, (data, targets) in enumerate(val_loader):\n",
    "        data, targets = data.to(device), targets.to(device)\n",
    "        with torch.no_grad():\n",
    "            pred = student_model(data)\n",
    "            teacher_pred = teacher_model(data)\n",
    "            val_loss += ((1-zeta) * nn.CrossEntropyLoss()(pred, targets) + zeta * NKD(alpha=alpha)(pred/temperature, teacher_pred/temperature,targets) * (temperature**2) / alpha) * targets.shape[0]\n",
    "            val_CE_loss += nn.CrossEntropyLoss()(pred, targets) * targets.shape[0]\n",
    "            val_accuracy += torch.sum(torch.argmax(pred, dim=1) == targets).item()\n",
    "        size += targets.shape[0]\n",
    "    \n",
    "    val_loss, val_accuracy, val_CE_loss = val_loss / size, val_accuracy / size, val_CE_loss/size\n",
    "    \n",
    "    print(f'Average Validation Loss: {val_loss:.4f} \\t Average Validation CE Loss: {val_CE_loss:.4f} \\t Validation Accuracy: {100*val_accuracy:.2f}%')\n",
    "    \n",
    "    wandb.log({\"train_loss\": train_loss,\n",
    "               \"train_ce_loss\": train_CE_loss,\n",
    "               \"val_loss\": val_loss,\n",
    "               \"val_ce_loss\": val_CE_loss,\n",
    "               \"train_accuracy\": 100*train_accuracy,\n",
    "               \"val_accuracy\": 100*val_accuracy,\n",
    "               \"epoch\": epoch\n",
    "               }\n",
    "    )\n",
    "    \n",
    "    student_model.is_training = True\n",
    "\n",
    "student_model.is_training = False\n",
    "test_loss, test_accuracy, size = 0, 0, 0\n",
    "\n",
    "for i, (data, targets) in enumerate(test_loader):\n",
    "        data, targets = data.to(device), targets.to(device)\n",
    "        with torch.no_grad():\n",
    "            pred = student_model(data)\n",
    "            test_loss += nn.CrossEntropyLoss()(pred, targets) * targets.shape[0]\n",
    "            test_accuracy += torch.sum(torch.argmax(pred, dim=1) == targets).item()\n",
    "        size += targets.shape[0]\n",
    "\n",
    "test_loss, test_accuracy = test_loss / size, test_accuracy / size\n",
    "\n",
    "print(f'Training finished.')\n",
    "print(f'Average Validation Loss: {test_loss:.4f}\\t Validation Accuracy: {100*test_accuracy:.2f}%')\n",
    "\n",
    "wandb.finish()"
   ],
   "id": "b51f16a044e249b",
   "outputs": [
    {
     "data": {
      "text/plain": [
       "<IPython.core.display.HTML object>"
      ],
      "text/html": [
       "Tracking run with wandb version 0.18.3"
      ]
     },
     "metadata": {},
     "output_type": "display_data"
    },
    {
     "data": {
      "text/plain": [
       "<IPython.core.display.HTML object>"
      ],
      "text/html": [
       "Run data is saved locally in <code>C:\\Users\\Martin\\Documents\\School\\Thesis\\Git Repository\\pytorch-image-models\\own work directory\\wandb\\run-20241105_224152-2w8maes2</code>"
      ]
     },
     "metadata": {},
     "output_type": "display_data"
    },
    {
     "data": {
      "text/plain": [
       "<IPython.core.display.HTML object>"
      ],
      "text/html": [
       "Syncing run <strong><a href='https://wandb.ai/martingratzer-organization/Renyi_Divergence_MNIST/runs/2w8maes2' target=\"_blank\">Student Model using GDKD</a></strong> to <a href='https://wandb.ai/martingratzer-organization/Renyi_Divergence_MNIST' target=\"_blank\">Weights & Biases</a> (<a href='https://wandb.me/run' target=\"_blank\">docs</a>)<br/>"
      ]
     },
     "metadata": {},
     "output_type": "display_data"
    },
    {
     "data": {
      "text/plain": [
       "<IPython.core.display.HTML object>"
      ],
      "text/html": [
       " View project at <a href='https://wandb.ai/martingratzer-organization/Renyi_Divergence_MNIST' target=\"_blank\">https://wandb.ai/martingratzer-organization/Renyi_Divergence_MNIST</a>"
      ]
     },
     "metadata": {},
     "output_type": "display_data"
    },
    {
     "data": {
      "text/plain": [
       "<IPython.core.display.HTML object>"
      ],
      "text/html": [
       " View run at <a href='https://wandb.ai/martingratzer-organization/Renyi_Divergence_MNIST/runs/2w8maes2' target=\"_blank\">https://wandb.ai/martingratzer-organization/Renyi_Divergence_MNIST/runs/2w8maes2</a>"
      ]
     },
     "metadata": {},
     "output_type": "display_data"
    },
    {
     "name": "stdout",
     "output_type": "stream",
     "text": [
      "Starting training...\n",
      "---Epoch 1---\n",
      "Average Train Loss: 5.1549 \t \t Average Train CE Loss: 0.3809 \t \t Train Accuracy: 88.74%\n",
      "Average Validation Loss: 3.8960 \t Average Validation CE Loss: 0.1651 \t Validation Accuracy: 95.30%\n",
      "---Epoch 2---\n",
      "Average Train Loss: 4.2405 \t \t Average Train CE Loss: 0.1963 \t \t Train Accuracy: 94.62%\n",
      "Average Validation Loss: 3.7661 \t Average Validation CE Loss: 0.1347 \t Validation Accuracy: 95.90%\n",
      "---Epoch 3---\n",
      "Average Train Loss: 4.0978 \t \t Average Train CE Loss: 0.1678 \t \t Train Accuracy: 95.35%\n",
      "Average Validation Loss: 3.6441 \t Average Validation CE Loss: 0.1230 \t Validation Accuracy: 96.67%\n",
      "---Epoch 4---\n",
      "Average Train Loss: 4.0184 \t \t Average Train CE Loss: 0.1524 \t \t Train Accuracy: 95.75%\n",
      "Average Validation Loss: 3.5770 \t Average Validation CE Loss: 0.1049 \t Validation Accuracy: 97.13%\n",
      "---Epoch 5---\n",
      "Average Train Loss: 3.9673 \t \t Average Train CE Loss: 0.1411 \t \t Train Accuracy: 96.04%\n",
      "Average Validation Loss: 3.5788 \t Average Validation CE Loss: 0.1125 \t Validation Accuracy: 96.97%\n",
      "---Epoch 6---\n",
      "Average Train Loss: 3.9362 \t \t Average Train CE Loss: 0.1362 \t \t Train Accuracy: 96.27%\n",
      "Average Validation Loss: 3.5506 \t Average Validation CE Loss: 0.1043 \t Validation Accuracy: 97.10%\n",
      "---Epoch 7---\n",
      "Average Train Loss: 3.9030 \t \t Average Train CE Loss: 0.1304 \t \t Train Accuracy: 96.38%\n",
      "Average Validation Loss: 3.5476 \t Average Validation CE Loss: 0.1050 \t Validation Accuracy: 96.87%\n",
      "---Epoch 8---\n",
      "Average Train Loss: 3.8848 \t \t Average Train CE Loss: 0.1271 \t \t Train Accuracy: 96.41%\n",
      "Average Validation Loss: 3.5098 \t Average Validation CE Loss: 0.0981 \t Validation Accuracy: 97.13%\n",
      "---Epoch 9---\n",
      "Average Train Loss: 3.8676 \t \t Average Train CE Loss: 0.1236 \t \t Train Accuracy: 96.46%\n",
      "Average Validation Loss: 3.5037 \t Average Validation CE Loss: 0.0977 \t Validation Accuracy: 97.10%\n",
      "---Epoch 10---\n",
      "Average Train Loss: 3.8506 \t \t Average Train CE Loss: 0.1188 \t \t Train Accuracy: 96.66%\n",
      "Average Validation Loss: 3.5243 \t Average Validation CE Loss: 0.1179 \t Validation Accuracy: 96.90%\n",
      "Training finished.\n",
      "Average Validation Loss: 0.1090\t Validation Accuracy: 97.14%\n"
     ]
    },
    {
     "name": "stderr",
     "output_type": "stream",
     "text": [
      "wandb: ERROR Control-C detected -- Run data was not synced\n"
     ]
    },
    {
     "ename": "KeyboardInterrupt",
     "evalue": "",
     "output_type": "error",
     "traceback": [
      "\u001B[1;31m---------------------------------------------------------------------------\u001B[0m",
      "\u001B[1;31mKeyboardInterrupt\u001B[0m                         Traceback (most recent call last)",
      "Cell \u001B[1;32mIn[24], line 94\u001B[0m\n\u001B[0;32m     91\u001B[0m \u001B[38;5;28mprint\u001B[39m(\u001B[38;5;124mf\u001B[39m\u001B[38;5;124m'\u001B[39m\u001B[38;5;124mTraining finished.\u001B[39m\u001B[38;5;124m'\u001B[39m)\n\u001B[0;32m     92\u001B[0m \u001B[38;5;28mprint\u001B[39m(\u001B[38;5;124mf\u001B[39m\u001B[38;5;124m'\u001B[39m\u001B[38;5;124mAverage Validation Loss: \u001B[39m\u001B[38;5;132;01m{\u001B[39;00mtest_loss\u001B[38;5;132;01m:\u001B[39;00m\u001B[38;5;124m.4f\u001B[39m\u001B[38;5;132;01m}\u001B[39;00m\u001B[38;5;130;01m\\t\u001B[39;00m\u001B[38;5;124m Validation Accuracy: \u001B[39m\u001B[38;5;132;01m{\u001B[39;00m\u001B[38;5;241m100\u001B[39m\u001B[38;5;241m*\u001B[39mtest_accuracy\u001B[38;5;132;01m:\u001B[39;00m\u001B[38;5;124m.2f\u001B[39m\u001B[38;5;132;01m}\u001B[39;00m\u001B[38;5;124m%\u001B[39m\u001B[38;5;124m'\u001B[39m)\n\u001B[1;32m---> 94\u001B[0m \u001B[43mwandb\u001B[49m\u001B[38;5;241;43m.\u001B[39;49m\u001B[43mfinish\u001B[49m\u001B[43m(\u001B[49m\u001B[43m)\u001B[49m\n",
      "File \u001B[1;32m~\\Documents\\School\\Thesis\\Git Repository\\pytorch-image-models\\.venv\\lib\\site-packages\\wandb\\sdk\\wandb_run.py:4243\u001B[0m, in \u001B[0;36mfinish\u001B[1;34m(exit_code, quiet)\u001B[0m\n\u001B[0;32m   4233\u001B[0m \u001B[38;5;250m\u001B[39m\u001B[38;5;124;03m\"\"\"Mark a run as finished, and finish uploading all data.\u001B[39;00m\n\u001B[0;32m   4234\u001B[0m \n\u001B[0;32m   4235\u001B[0m \u001B[38;5;124;03mThis is used when creating multiple runs in the same process.\u001B[39;00m\n\u001B[1;32m   (...)\u001B[0m\n\u001B[0;32m   4240\u001B[0m \u001B[38;5;124;03m    quiet: Set to true to minimize log output\u001B[39;00m\n\u001B[0;32m   4241\u001B[0m \u001B[38;5;124;03m\"\"\"\u001B[39;00m\n\u001B[0;32m   4242\u001B[0m \u001B[38;5;28;01mif\u001B[39;00m wandb\u001B[38;5;241m.\u001B[39mrun:\n\u001B[1;32m-> 4243\u001B[0m     \u001B[43mwandb\u001B[49m\u001B[38;5;241;43m.\u001B[39;49m\u001B[43mrun\u001B[49m\u001B[38;5;241;43m.\u001B[39;49m\u001B[43mfinish\u001B[49m\u001B[43m(\u001B[49m\u001B[43mexit_code\u001B[49m\u001B[38;5;241;43m=\u001B[39;49m\u001B[43mexit_code\u001B[49m\u001B[43m,\u001B[49m\u001B[43m \u001B[49m\u001B[43mquiet\u001B[49m\u001B[38;5;241;43m=\u001B[39;49m\u001B[43mquiet\u001B[49m\u001B[43m)\u001B[49m\n",
      "File \u001B[1;32m~\\Documents\\School\\Thesis\\Git Repository\\pytorch-image-models\\.venv\\lib\\site-packages\\wandb\\sdk\\wandb_run.py:452\u001B[0m, in \u001B[0;36m_run_decorator._noop.<locals>.wrapper\u001B[1;34m(self, *args, **kwargs)\u001B[0m\n\u001B[0;32m    449\u001B[0m         wandb\u001B[38;5;241m.\u001B[39mtermwarn(message, repeat\u001B[38;5;241m=\u001B[39m\u001B[38;5;28;01mFalse\u001B[39;00m)\n\u001B[0;32m    450\u001B[0m         \u001B[38;5;28;01mreturn\u001B[39;00m \u001B[38;5;28mcls\u001B[39m\u001B[38;5;241m.\u001B[39mDummy()\n\u001B[1;32m--> 452\u001B[0m \u001B[38;5;28;01mreturn\u001B[39;00m \u001B[43mfunc\u001B[49m\u001B[43m(\u001B[49m\u001B[38;5;28;43mself\u001B[39;49m\u001B[43m,\u001B[49m\u001B[43m \u001B[49m\u001B[38;5;241;43m*\u001B[39;49m\u001B[43margs\u001B[49m\u001B[43m,\u001B[49m\u001B[43m \u001B[49m\u001B[38;5;241;43m*\u001B[39;49m\u001B[38;5;241;43m*\u001B[39;49m\u001B[43mkwargs\u001B[49m\u001B[43m)\u001B[49m\n",
      "File \u001B[1;32m~\\Documents\\School\\Thesis\\Git Repository\\pytorch-image-models\\.venv\\lib\\site-packages\\wandb\\sdk\\wandb_run.py:393\u001B[0m, in \u001B[0;36m_run_decorator._attach.<locals>.wrapper\u001B[1;34m(self, *args, **kwargs)\u001B[0m\n\u001B[0;32m    391\u001B[0m         \u001B[38;5;28;01mraise\u001B[39;00m e\n\u001B[0;32m    392\u001B[0m     \u001B[38;5;28mcls\u001B[39m\u001B[38;5;241m.\u001B[39m_is_attaching \u001B[38;5;241m=\u001B[39m \u001B[38;5;124m\"\u001B[39m\u001B[38;5;124m\"\u001B[39m\n\u001B[1;32m--> 393\u001B[0m \u001B[38;5;28;01mreturn\u001B[39;00m \u001B[43mfunc\u001B[49m\u001B[43m(\u001B[49m\u001B[38;5;28;43mself\u001B[39;49m\u001B[43m,\u001B[49m\u001B[43m \u001B[49m\u001B[38;5;241;43m*\u001B[39;49m\u001B[43margs\u001B[49m\u001B[43m,\u001B[49m\u001B[43m \u001B[49m\u001B[38;5;241;43m*\u001B[39;49m\u001B[38;5;241;43m*\u001B[39;49m\u001B[43mkwargs\u001B[49m\u001B[43m)\u001B[49m\n",
      "File \u001B[1;32m~\\Documents\\School\\Thesis\\Git Repository\\pytorch-image-models\\.venv\\lib\\site-packages\\wandb\\sdk\\wandb_run.py:2157\u001B[0m, in \u001B[0;36mRun.finish\u001B[1;34m(self, exit_code, quiet)\u001B[0m\n\u001B[0;32m   2143\u001B[0m \u001B[38;5;129m@_run_decorator\u001B[39m\u001B[38;5;241m.\u001B[39m_noop\n\u001B[0;32m   2144\u001B[0m \u001B[38;5;129m@_run_decorator\u001B[39m\u001B[38;5;241m.\u001B[39m_attach\n\u001B[0;32m   2145\u001B[0m \u001B[38;5;28;01mdef\u001B[39;00m \u001B[38;5;21mfinish\u001B[39m(\n\u001B[0;32m   2146\u001B[0m     \u001B[38;5;28mself\u001B[39m, exit_code: Optional[\u001B[38;5;28mint\u001B[39m] \u001B[38;5;241m=\u001B[39m \u001B[38;5;28;01mNone\u001B[39;00m, quiet: Optional[\u001B[38;5;28mbool\u001B[39m] \u001B[38;5;241m=\u001B[39m \u001B[38;5;28;01mNone\u001B[39;00m\n\u001B[0;32m   2147\u001B[0m ) \u001B[38;5;241m-\u001B[39m\u001B[38;5;241m>\u001B[39m \u001B[38;5;28;01mNone\u001B[39;00m:\n\u001B[0;32m   2148\u001B[0m \u001B[38;5;250m    \u001B[39m\u001B[38;5;124;03m\"\"\"Mark a run as finished, and finish uploading all data.\u001B[39;00m\n\u001B[0;32m   2149\u001B[0m \n\u001B[0;32m   2150\u001B[0m \u001B[38;5;124;03m    This is used when creating multiple runs in the same process. We automatically\u001B[39;00m\n\u001B[1;32m   (...)\u001B[0m\n\u001B[0;32m   2155\u001B[0m \u001B[38;5;124;03m        quiet: Set to true to minimize log output\u001B[39;00m\n\u001B[0;32m   2156\u001B[0m \u001B[38;5;124;03m    \"\"\"\u001B[39;00m\n\u001B[1;32m-> 2157\u001B[0m     \u001B[38;5;28;01mreturn\u001B[39;00m \u001B[38;5;28;43mself\u001B[39;49m\u001B[38;5;241;43m.\u001B[39;49m\u001B[43m_finish\u001B[49m\u001B[43m(\u001B[49m\u001B[43mexit_code\u001B[49m\u001B[43m,\u001B[49m\u001B[43m \u001B[49m\u001B[43mquiet\u001B[49m\u001B[43m)\u001B[49m\n",
      "File \u001B[1;32m~\\Documents\\School\\Thesis\\Git Repository\\pytorch-image-models\\.venv\\lib\\site-packages\\wandb\\sdk\\wandb_run.py:2191\u001B[0m, in \u001B[0;36mRun._finish\u001B[1;34m(self, exit_code, quiet)\u001B[0m\n\u001B[0;32m   2188\u001B[0m \u001B[38;5;28mself\u001B[39m\u001B[38;5;241m.\u001B[39m_is_finished \u001B[38;5;241m=\u001B[39m \u001B[38;5;28;01mTrue\u001B[39;00m\n\u001B[0;32m   2190\u001B[0m \u001B[38;5;28;01mtry\u001B[39;00m:\n\u001B[1;32m-> 2191\u001B[0m     \u001B[38;5;28;43mself\u001B[39;49m\u001B[38;5;241;43m.\u001B[39;49m\u001B[43m_atexit_cleanup\u001B[49m\u001B[43m(\u001B[49m\u001B[43mexit_code\u001B[49m\u001B[38;5;241;43m=\u001B[39;49m\u001B[43mexit_code\u001B[49m\u001B[43m)\u001B[49m\n\u001B[0;32m   2193\u001B[0m     \u001B[38;5;66;03m# Run hooks that should happen after the last messages to the\u001B[39;00m\n\u001B[0;32m   2194\u001B[0m     \u001B[38;5;66;03m# internal service, like detaching the logger.\u001B[39;00m\n\u001B[0;32m   2195\u001B[0m     \u001B[38;5;28;01mfor\u001B[39;00m hook \u001B[38;5;129;01min\u001B[39;00m \u001B[38;5;28mself\u001B[39m\u001B[38;5;241m.\u001B[39m_teardown_hooks:\n",
      "File \u001B[1;32m~\\Documents\\School\\Thesis\\Git Repository\\pytorch-image-models\\.venv\\lib\\site-packages\\wandb\\sdk\\wandb_run.py:2440\u001B[0m, in \u001B[0;36mRun._atexit_cleanup\u001B[1;34m(self, exit_code)\u001B[0m\n\u001B[0;32m   2437\u001B[0m         os\u001B[38;5;241m.\u001B[39mremove(\u001B[38;5;28mself\u001B[39m\u001B[38;5;241m.\u001B[39m_settings\u001B[38;5;241m.\u001B[39mresume_fname)\n\u001B[0;32m   2439\u001B[0m \u001B[38;5;28;01mtry\u001B[39;00m:\n\u001B[1;32m-> 2440\u001B[0m     \u001B[38;5;28;43mself\u001B[39;49m\u001B[38;5;241;43m.\u001B[39;49m\u001B[43m_on_finish\u001B[49m\u001B[43m(\u001B[49m\u001B[43m)\u001B[49m\n\u001B[0;32m   2442\u001B[0m \u001B[38;5;28;01mexcept\u001B[39;00m \u001B[38;5;167;01mKeyboardInterrupt\u001B[39;00m:\n\u001B[0;32m   2443\u001B[0m     \u001B[38;5;28;01mif\u001B[39;00m \u001B[38;5;129;01mnot\u001B[39;00m wandb\u001B[38;5;241m.\u001B[39mwandb_agent\u001B[38;5;241m.\u001B[39m_is_running():  \u001B[38;5;66;03m# type: ignore\u001B[39;00m\n",
      "File \u001B[1;32m~\\Documents\\School\\Thesis\\Git Repository\\pytorch-image-models\\.venv\\lib\\site-packages\\wandb\\sdk\\wandb_run.py:2693\u001B[0m, in \u001B[0;36mRun._on_finish\u001B[1;34m(self)\u001B[0m\n\u001B[0;32m   2691\u001B[0m \u001B[38;5;28mself\u001B[39m\u001B[38;5;241m.\u001B[39m_poll_exit_response \u001B[38;5;241m=\u001B[39m result\u001B[38;5;241m.\u001B[39mresponse\u001B[38;5;241m.\u001B[39mpoll_exit_response\n\u001B[0;32m   2692\u001B[0m internal_messages_handle \u001B[38;5;241m=\u001B[39m \u001B[38;5;28mself\u001B[39m\u001B[38;5;241m.\u001B[39m_backend\u001B[38;5;241m.\u001B[39minterface\u001B[38;5;241m.\u001B[39mdeliver_internal_messages()\n\u001B[1;32m-> 2693\u001B[0m result \u001B[38;5;241m=\u001B[39m \u001B[43minternal_messages_handle\u001B[49m\u001B[38;5;241;43m.\u001B[39;49m\u001B[43mwait\u001B[49m\u001B[43m(\u001B[49m\u001B[43mtimeout\u001B[49m\u001B[38;5;241;43m=\u001B[39;49m\u001B[38;5;241;43m-\u001B[39;49m\u001B[38;5;241;43m1\u001B[39;49m\u001B[43m)\u001B[49m\n\u001B[0;32m   2694\u001B[0m \u001B[38;5;28;01massert\u001B[39;00m result\n\u001B[0;32m   2695\u001B[0m \u001B[38;5;28mself\u001B[39m\u001B[38;5;241m.\u001B[39m_internal_messages_response \u001B[38;5;241m=\u001B[39m result\u001B[38;5;241m.\u001B[39mresponse\u001B[38;5;241m.\u001B[39minternal_messages_response\n",
      "File \u001B[1;32m~\\Documents\\School\\Thesis\\Git Repository\\pytorch-image-models\\.venv\\lib\\site-packages\\wandb\\sdk\\lib\\mailbox.py:283\u001B[0m, in \u001B[0;36mMailboxHandle.wait\u001B[1;34m(self, timeout, on_probe, on_progress, release, cancel)\u001B[0m\n\u001B[0;32m    280\u001B[0m     \u001B[38;5;28;01mif\u001B[39;00m \u001B[38;5;28mself\u001B[39m\u001B[38;5;241m.\u001B[39m_interface\u001B[38;5;241m.\u001B[39m_transport_keepalive_failed():\n\u001B[0;32m    281\u001B[0m         \u001B[38;5;28;01mraise\u001B[39;00m MailboxError(\u001B[38;5;124m\"\u001B[39m\u001B[38;5;124mtransport failed\u001B[39m\u001B[38;5;124m\"\u001B[39m)\n\u001B[1;32m--> 283\u001B[0m found, abandoned \u001B[38;5;241m=\u001B[39m \u001B[38;5;28;43mself\u001B[39;49m\u001B[38;5;241;43m.\u001B[39;49m\u001B[43m_slot\u001B[49m\u001B[38;5;241;43m.\u001B[39;49m\u001B[43m_get_and_clear\u001B[49m\u001B[43m(\u001B[49m\u001B[43mtimeout\u001B[49m\u001B[38;5;241;43m=\u001B[39;49m\u001B[43mwait_timeout\u001B[49m\u001B[43m)\u001B[49m\n\u001B[0;32m    284\u001B[0m \u001B[38;5;28;01mif\u001B[39;00m found:\n\u001B[0;32m    285\u001B[0m     \u001B[38;5;66;03m# Always update progress to 100% when done\u001B[39;00m\n\u001B[0;32m    286\u001B[0m     \u001B[38;5;28;01mif\u001B[39;00m on_progress \u001B[38;5;129;01mand\u001B[39;00m progress_handle \u001B[38;5;129;01mand\u001B[39;00m progress_sent:\n",
      "File \u001B[1;32m~\\Documents\\School\\Thesis\\Git Repository\\pytorch-image-models\\.venv\\lib\\site-packages\\wandb\\sdk\\lib\\mailbox.py:130\u001B[0m, in \u001B[0;36m_MailboxSlot._get_and_clear\u001B[1;34m(self, timeout)\u001B[0m\n\u001B[0;32m    128\u001B[0m \u001B[38;5;28;01mdef\u001B[39;00m \u001B[38;5;21m_get_and_clear\u001B[39m(\u001B[38;5;28mself\u001B[39m, timeout: \u001B[38;5;28mfloat\u001B[39m) \u001B[38;5;241m-\u001B[39m\u001B[38;5;241m>\u001B[39m Tuple[Optional[pb\u001B[38;5;241m.\u001B[39mResult], \u001B[38;5;28mbool\u001B[39m]:\n\u001B[0;32m    129\u001B[0m     found \u001B[38;5;241m=\u001B[39m \u001B[38;5;28;01mNone\u001B[39;00m\n\u001B[1;32m--> 130\u001B[0m     \u001B[38;5;28;01mif\u001B[39;00m \u001B[38;5;28;43mself\u001B[39;49m\u001B[38;5;241;43m.\u001B[39;49m\u001B[43m_wait\u001B[49m\u001B[43m(\u001B[49m\u001B[43mtimeout\u001B[49m\u001B[38;5;241;43m=\u001B[39;49m\u001B[43mtimeout\u001B[49m\u001B[43m)\u001B[49m:\n\u001B[0;32m    131\u001B[0m         \u001B[38;5;28;01mwith\u001B[39;00m \u001B[38;5;28mself\u001B[39m\u001B[38;5;241m.\u001B[39m_lock:\n\u001B[0;32m    132\u001B[0m             found \u001B[38;5;241m=\u001B[39m \u001B[38;5;28mself\u001B[39m\u001B[38;5;241m.\u001B[39m_result\n",
      "File \u001B[1;32m~\\Documents\\School\\Thesis\\Git Repository\\pytorch-image-models\\.venv\\lib\\site-packages\\wandb\\sdk\\lib\\mailbox.py:126\u001B[0m, in \u001B[0;36m_MailboxSlot._wait\u001B[1;34m(self, timeout)\u001B[0m\n\u001B[0;32m    125\u001B[0m \u001B[38;5;28;01mdef\u001B[39;00m \u001B[38;5;21m_wait\u001B[39m(\u001B[38;5;28mself\u001B[39m, timeout: \u001B[38;5;28mfloat\u001B[39m) \u001B[38;5;241m-\u001B[39m\u001B[38;5;241m>\u001B[39m \u001B[38;5;28mbool\u001B[39m:\n\u001B[1;32m--> 126\u001B[0m     \u001B[38;5;28;01mreturn\u001B[39;00m \u001B[38;5;28;43mself\u001B[39;49m\u001B[38;5;241;43m.\u001B[39;49m\u001B[43m_event\u001B[49m\u001B[38;5;241;43m.\u001B[39;49m\u001B[43mwait\u001B[49m\u001B[43m(\u001B[49m\u001B[43mtimeout\u001B[49m\u001B[38;5;241;43m=\u001B[39;49m\u001B[43mtimeout\u001B[49m\u001B[43m)\u001B[49m\n",
      "File \u001B[1;32m~\\AppData\\Local\\Programs\\Python\\Python38\\lib\\threading.py:558\u001B[0m, in \u001B[0;36mEvent.wait\u001B[1;34m(self, timeout)\u001B[0m\n\u001B[0;32m    556\u001B[0m signaled \u001B[38;5;241m=\u001B[39m \u001B[38;5;28mself\u001B[39m\u001B[38;5;241m.\u001B[39m_flag\n\u001B[0;32m    557\u001B[0m \u001B[38;5;28;01mif\u001B[39;00m \u001B[38;5;129;01mnot\u001B[39;00m signaled:\n\u001B[1;32m--> 558\u001B[0m     signaled \u001B[38;5;241m=\u001B[39m \u001B[38;5;28;43mself\u001B[39;49m\u001B[38;5;241;43m.\u001B[39;49m\u001B[43m_cond\u001B[49m\u001B[38;5;241;43m.\u001B[39;49m\u001B[43mwait\u001B[49m\u001B[43m(\u001B[49m\u001B[43mtimeout\u001B[49m\u001B[43m)\u001B[49m\n\u001B[0;32m    559\u001B[0m \u001B[38;5;28;01mreturn\u001B[39;00m signaled\n",
      "File \u001B[1;32m~\\AppData\\Local\\Programs\\Python\\Python38\\lib\\threading.py:306\u001B[0m, in \u001B[0;36mCondition.wait\u001B[1;34m(self, timeout)\u001B[0m\n\u001B[0;32m    304\u001B[0m \u001B[38;5;28;01melse\u001B[39;00m:\n\u001B[0;32m    305\u001B[0m     \u001B[38;5;28;01mif\u001B[39;00m timeout \u001B[38;5;241m>\u001B[39m \u001B[38;5;241m0\u001B[39m:\n\u001B[1;32m--> 306\u001B[0m         gotit \u001B[38;5;241m=\u001B[39m \u001B[43mwaiter\u001B[49m\u001B[38;5;241;43m.\u001B[39;49m\u001B[43macquire\u001B[49m\u001B[43m(\u001B[49m\u001B[38;5;28;43;01mTrue\u001B[39;49;00m\u001B[43m,\u001B[49m\u001B[43m \u001B[49m\u001B[43mtimeout\u001B[49m\u001B[43m)\u001B[49m\n\u001B[0;32m    307\u001B[0m     \u001B[38;5;28;01melse\u001B[39;00m:\n\u001B[0;32m    308\u001B[0m         gotit \u001B[38;5;241m=\u001B[39m waiter\u001B[38;5;241m.\u001B[39macquire(\u001B[38;5;28;01mFalse\u001B[39;00m)\n",
      "\u001B[1;31mKeyboardInterrupt\u001B[0m: "
     ]
    }
   ],
   "execution_count": 24
  },
  {
   "metadata": {
    "ExecuteTime": {
     "end_time": "2024-11-06T12:25:52.549692Z",
     "start_time": "2024-11-06T12:23:28.143243Z"
    }
   },
   "cell_type": "code",
   "source": [
    "### Filtering out all 3s\n",
    "device = torch.device(\"cuda\" if torch.cuda.is_available() else \"cpu\")\n",
    "vanilla_model = StudentNetwork().to(device)\n",
    "optimizer = optim.SGD(vanilla_model.parameters(), lr=0.02, momentum=0.7, weight_decay=1e-4)\n",
    "num_epochs = 10\n",
    "\n",
    "print(\"Starting training...\")\n",
    "\n",
    "for epoch in range(num_epochs):\n",
    "    print(f'---Epoch {epoch+1}---')\n",
    "    \n",
    "    train_loss, train_accuracy, size = 0, 0, 0\n",
    "    for i, (data, targets) in enumerate(train_loader):\n",
    "        mask = targets != 3\n",
    "        data, targets = data[mask], targets[mask]\n",
    "        data, targets = data.to(device), targets.to(device)\n",
    "        optimizer.zero_grad()\n",
    "        outputs = vanilla_model(data)\n",
    "        loss = nn.CrossEntropyLoss()(outputs, targets)\n",
    "        loss.backward()\n",
    "        optimizer.step()\n",
    "        train_loss += loss.item() * targets.size(0)\n",
    "        train_accuracy += torch.sum(torch.argmax(outputs, dim=1) == targets).item()\n",
    "        size += targets.size(0)\n",
    "        \n",
    "    train_loss = train_loss/size\n",
    "    train_accuracy = train_accuracy/size\n",
    "    \n",
    "    print(f'Average Train Loss: {train_loss:.4f} \\t \\t Train Accuracy: {100*train_accuracy:.2f}%')\n",
    "    \n",
    "    vanilla_model.is_training = False\n",
    "    \n",
    "    val_loss, val_accuracy, size = 0, 0, 0\n",
    "    for i, (data, targets) in enumerate(val_loader):\n",
    "        data, targets = data.to(device), targets.to(device)\n",
    "        with torch.no_grad():\n",
    "            pred = vanilla_model(data)\n",
    "            val_loss += nn.CrossEntropyLoss()(pred, targets) * targets.shape[0]\n",
    "            val_accuracy += torch.sum(torch.argmax(pred, dim=1) == targets).item()\n",
    "        size += targets.shape[0]\n",
    "    \n",
    "    val_loss, val_accuracy = val_loss / size, val_accuracy / size\n",
    "    \n",
    "    print(f'Average Validation Loss: {val_loss:.4f} \\t Validation Accuracy: {100*val_accuracy:.2f}%')\n",
    "    \n",
    "    vanilla_model.is_training = True\n",
    "\n",
    "vanilla_model.is_training = False\n",
    "test_loss, test_accuracy, size = 0, 0, 0\n",
    "\n",
    "for i, (data, targets) in enumerate(test_loader):\n",
    "    data, targets = data.to(device), targets.to(device)\n",
    "    with torch.no_grad():\n",
    "        pred = vanilla_model(data)\n",
    "        test_loss += nn.CrossEntropyLoss()(pred, targets) * targets.shape[0]\n",
    "        test_accuracy += torch.sum(torch.argmax(pred, dim=1) == targets).item()\n",
    "    size += targets.shape[0]\n",
    "\n",
    "test_loss, test_accuracy = test_loss / size, test_accuracy / size\n",
    "\n",
    "print(f'Training finished.')\n",
    "print(f'Average Validation Loss: {test_loss:.4f}\\t Validation Accuracy: {100*test_accuracy:.2f}%')\n",
    "\n",
    "test_accuracy, size = 0, 0\n",
    "for i, (data, targets) in enumerate(test_loader):\n",
    "    mask = targets == 3\n",
    "    data, targets = data[mask], targets[mask]\n",
    "    data, targets = data.to(device), targets.to(device)\n",
    "    with torch.no_grad():\n",
    "        pred = vanilla_model(data)\n",
    "        test_accuracy += torch.sum(torch.argmax(pred, dim=1) == targets).item()\n",
    "    size += targets.shape[0]\n",
    "\n",
    "print(f'Test Accuracy on 3s only: {100*test_accuracy/size:.2f}%')"
   ],
   "id": "a683250570d785b4",
   "outputs": [
    {
     "name": "stdout",
     "output_type": "stream",
     "text": [
      "Starting training...\n",
      "---Epoch 1---\n",
      "Average Train Loss: 0.3957 \t \t Train Accuracy: 87.95%\n",
      "Average Validation Loss: 1.0994 \t Validation Accuracy: 83.53%\n",
      "---Epoch 2---\n",
      "Average Train Loss: 0.2107 \t \t Train Accuracy: 93.65%\n",
      "Average Validation Loss: 1.0710 \t Validation Accuracy: 85.63%\n",
      "---Epoch 3---\n",
      "Average Train Loss: 0.1634 \t \t Train Accuracy: 95.08%\n",
      "Average Validation Loss: 1.1186 \t Validation Accuracy: 86.63%\n",
      "---Epoch 4---\n",
      "Average Train Loss: 0.1373 \t \t Train Accuracy: 95.90%\n",
      "Average Validation Loss: 1.1318 \t Validation Accuracy: 86.70%\n",
      "---Epoch 5---\n",
      "Average Train Loss: 0.1219 \t \t Train Accuracy: 96.30%\n",
      "Average Validation Loss: 1.2347 \t Validation Accuracy: 87.07%\n",
      "---Epoch 6---\n",
      "Average Train Loss: 0.1067 \t \t Train Accuracy: 96.74%\n",
      "Average Validation Loss: 1.2117 \t Validation Accuracy: 86.83%\n",
      "---Epoch 7---\n",
      "Average Train Loss: 0.1010 \t \t Train Accuracy: 96.90%\n",
      "Average Validation Loss: 1.2052 \t Validation Accuracy: 86.97%\n",
      "---Epoch 8---\n",
      "Average Train Loss: 0.0912 \t \t Train Accuracy: 97.12%\n",
      "Average Validation Loss: 1.3351 \t Validation Accuracy: 87.47%\n",
      "---Epoch 9---\n",
      "Average Train Loss: 0.0858 \t \t Train Accuracy: 97.34%\n",
      "Average Validation Loss: 1.3601 \t Validation Accuracy: 87.13%\n",
      "---Epoch 10---\n",
      "Average Train Loss: 0.0805 \t \t Train Accuracy: 97.56%\n",
      "Average Validation Loss: 1.3174 \t Validation Accuracy: 87.47%\n",
      "Training finished.\n",
      "Average Validation Loss: 1.3010\t Validation Accuracy: 87.81%\n",
      "Test Accuracy on 3s only: 0.00%\n"
     ]
    }
   ],
   "execution_count": 50
  },
  {
   "metadata": {
    "ExecuteTime": {
     "end_time": "2024-11-06T12:29:00.111942Z",
     "start_time": "2024-11-06T12:25:52.556496Z"
    }
   },
   "cell_type": "code",
   "source": [
    "device = torch.device(\"cuda\" if torch.cuda.is_available() else \"cpu\")\n",
    "student_model = StudentNetwork().to(device)\n",
    "optimizer = optim.SGD(student_model.parameters(), lr=0.045, momentum=0.65, weight_decay=1e-4)\n",
    "num_epochs = 10\n",
    "temperature = 2.2\n",
    "beta = 0.55\n",
    "alpha = 1\n",
    "\n",
    "print(\"Starting training...\")\n",
    "\n",
    "for epoch in range(num_epochs):\n",
    "    print(f'---Epoch {epoch+1}---')\n",
    "    \n",
    "    train_loss, train_accuracy, size, train_CE_loss = 0, 0, 0, 0\n",
    "    for i, (data, targets) in enumerate(train_loader):\n",
    "        mask = targets != 3\n",
    "        data, targets = data[mask], targets[mask]\n",
    "        data, targets = data.to(device), targets.to(device)\n",
    "        optimizer.zero_grad()\n",
    "        outputs = student_model(data)\n",
    "        with torch.no_grad():\n",
    "            teacher_outputs = teacher_model(data)\n",
    "        loss = (1-beta) * nn.CrossEntropyLoss()(outputs, targets) + beta * RenyiDivergence(alpha=alpha)(outputs/temperature, teacher_outputs/temperature) * (temperature**2) / alpha\n",
    "        CE_loss = nn.CrossEntropyLoss()(outputs, targets)     \n",
    "        loss.backward()\n",
    "        \n",
    "        optimizer.step()\n",
    "        train_loss += loss.item() * targets.size(0)\n",
    "        train_CE_loss += CE_loss.item() * targets.size(0)\n",
    "        train_accuracy += torch.sum(torch.argmax(outputs, dim=1) == targets).item()\n",
    "        size += targets.size(0)\n",
    "        \n",
    "    train_loss = train_loss/size\n",
    "    train_CE_loss = train_CE_loss/size\n",
    "    train_accuracy = train_accuracy/size\n",
    "    \n",
    "    print(f'Average Train Loss: {train_loss:.4f} \\t \\t Average Train CE Loss: {train_CE_loss:.4f} \\t \\t Train Accuracy: {100*train_accuracy:.2f}%')\n",
    "    \n",
    "    student_model.is_training = False\n",
    "    \n",
    "    val_loss, val_accuracy, size, val_CE_loss = 0, 0, 0, 0\n",
    "    for i, (data, targets) in enumerate(val_loader):\n",
    "        data, targets = data.to(device), targets.to(device)\n",
    "        with torch.no_grad():\n",
    "            pred = student_model(data)\n",
    "            teacher_pred = teacher_model(data)\n",
    "            val_loss += ((1-beta) * nn.CrossEntropyLoss()(pred, targets) + beta * RenyiDivergence(alpha=alpha)(pred/temperature, teacher_pred/temperature) * (temperature**2) / alpha) * targets.shape[0]\n",
    "            val_CE_loss += nn.CrossEntropyLoss()(pred, targets) * targets.shape[0]\n",
    "            val_accuracy += torch.sum(torch.argmax(pred, dim=1) == targets).item()\n",
    "        size += targets.shape[0]\n",
    "    \n",
    "    val_loss, val_accuracy, val_CE_loss = val_loss / size, val_accuracy / size, val_CE_loss/size\n",
    "    \n",
    "    print(f'Average Validation Loss: {val_loss:.4f} \\t Average Validation CE Loss: {val_CE_loss:.4f} \\t Validation Accuracy: {100*val_accuracy:.2f}%')\n",
    "    \n",
    "    student_model.is_training = True\n",
    "\n",
    "student_model.is_training = False\n",
    "test_loss, test_accuracy, size = 0, 0, 0\n",
    "\n",
    "for i, (data, targets) in enumerate(test_loader):\n",
    "    data, targets = data.to(device), targets.to(device)\n",
    "    with torch.no_grad():\n",
    "        pred = student_model(data)\n",
    "        test_loss += nn.CrossEntropyLoss()(pred, targets) * targets.shape[0]\n",
    "        test_accuracy += torch.sum(torch.argmax(pred, dim=1) == targets).item()\n",
    "    size += targets.shape[0]\n",
    "\n",
    "test_loss, test_accuracy = test_loss / size, test_accuracy / size\n",
    "\n",
    "print(f'Training finished.')\n",
    "print(f'Average Validation Loss: {test_loss:.4f}\\t Validation Accuracy: {100*test_accuracy:.2f}%')\n",
    "\n",
    "test_accuracy, size = 0, 0\n",
    "for i, (data, targets) in enumerate(test_loader):\n",
    "    mask = targets == 3\n",
    "    data, targets = data[mask], targets[mask]\n",
    "    data, targets = data.to(device), targets.to(device)\n",
    "    with torch.no_grad():\n",
    "        pred = student_model(data)\n",
    "        test_accuracy += torch.sum(torch.argmax(pred, dim=1) == targets).item()\n",
    "    size += targets.shape[0]\n",
    "\n",
    "print(f'Test Accuracy on 3s only: {100*test_accuracy/size:.2f}%')"
   ],
   "id": "b64e40c5d44d72f1",
   "outputs": [
    {
     "name": "stdout",
     "output_type": "stream",
     "text": [
      "Starting training...\n",
      "---Epoch 1---\n",
      "Average Train Loss: 0.7010 \t \t Average Train CE Loss: 0.3275 \t \t Train Accuracy: 90.54%\n",
      "Average Validation Loss: 0.9244 \t Average Validation CE Loss: 0.5447 \t Validation Accuracy: 85.97%\n",
      "---Epoch 2---\n",
      "Average Train Loss: 0.2754 \t \t Average Train CE Loss: 0.1457 \t \t Train Accuracy: 95.71%\n",
      "Average Validation Loss: 0.7525 \t Average Validation CE Loss: 0.4755 \t Validation Accuracy: 87.63%\n",
      "---Epoch 3---\n",
      "Average Train Loss: 0.2106 \t \t Average Train CE Loss: 0.1113 \t \t Train Accuracy: 96.68%\n",
      "Average Validation Loss: 0.6263 \t Average Validation CE Loss: 0.3947 \t Validation Accuracy: 88.63%\n",
      "---Epoch 4---\n",
      "Average Train Loss: 0.1778 \t \t Average Train CE Loss: 0.0943 \t \t Train Accuracy: 97.20%\n",
      "Average Validation Loss: 0.6247 \t Average Validation CE Loss: 0.3845 \t Validation Accuracy: 88.77%\n",
      "---Epoch 5---\n",
      "Average Train Loss: 0.1600 \t \t Average Train CE Loss: 0.0850 \t \t Train Accuracy: 97.37%\n",
      "Average Validation Loss: 0.5398 \t Average Validation CE Loss: 0.3303 \t Validation Accuracy: 89.87%\n",
      "---Epoch 6---\n",
      "Average Train Loss: 0.1517 \t \t Average Train CE Loss: 0.0799 \t \t Train Accuracy: 97.60%\n",
      "Average Validation Loss: 0.5149 \t Average Validation CE Loss: 0.3254 \t Validation Accuracy: 90.03%\n",
      "---Epoch 7---\n",
      "Average Train Loss: 0.1404 \t \t Average Train CE Loss: 0.0727 \t \t Train Accuracy: 97.74%\n",
      "Average Validation Loss: 0.4581 \t Average Validation CE Loss: 0.2812 \t Validation Accuracy: 90.77%\n",
      "---Epoch 8---\n",
      "Average Train Loss: 0.1341 \t \t Average Train CE Loss: 0.0698 \t \t Train Accuracy: 97.87%\n",
      "Average Validation Loss: 0.4401 \t Average Validation CE Loss: 0.2688 \t Validation Accuracy: 91.03%\n",
      "---Epoch 9---\n",
      "Average Train Loss: 0.1280 \t \t Average Train CE Loss: 0.0644 \t \t Train Accuracy: 97.96%\n",
      "Average Validation Loss: 0.4963 \t Average Validation CE Loss: 0.3127 \t Validation Accuracy: 90.20%\n",
      "---Epoch 10---\n",
      "Average Train Loss: 0.1255 \t \t Average Train CE Loss: 0.0642 \t \t Train Accuracy: 98.04%\n",
      "Average Validation Loss: 0.4901 \t Average Validation CE Loss: 0.3086 \t Validation Accuracy: 90.50%\n",
      "Training finished.\n",
      "Average Validation Loss: 0.3080\t Validation Accuracy: 90.61%\n",
      "Test Accuracy on 3s only: 25.74%\n"
     ]
    }
   ],
   "execution_count": 51
  }
 ],
 "metadata": {
  "kernelspec": {
   "display_name": "Python 3",
   "language": "python",
   "name": "python3"
  },
  "language_info": {
   "codemirror_mode": {
    "name": "ipython",
    "version": 2
   },
   "file_extension": ".py",
   "mimetype": "text/x-python",
   "name": "python",
   "nbconvert_exporter": "python",
   "pygments_lexer": "ipython2",
   "version": "2.7.6"
  }
 },
 "nbformat": 4,
 "nbformat_minor": 5
}
